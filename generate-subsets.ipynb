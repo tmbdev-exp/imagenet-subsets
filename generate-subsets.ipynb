{
 "cells": [
  {
   "cell_type": "code",
   "execution_count": 1,
   "metadata": {},
   "outputs": [],
   "source": [
    "from robustness import datasets\n",
    "from robustness.tools.imagenet_helpers import common_superclass_wnid, ImageNetHierarchy\n",
    "import webdataset as wds\n",
    "import numpy as np\n",
    "import sys, os"
   ]
  },
  {
   "cell_type": "code",
   "execution_count": 2,
   "metadata": {},
   "outputs": [],
   "source": [
    "subsets = \"living_9 mixed_10 mixed_13 geirhos_16 big_12\".split()"
   ]
  },
  {
   "cell_type": "code",
   "execution_count": 3,
   "metadata": {},
   "outputs": [],
   "source": [
    "def make_loaders_for(which=\"living_9\", balanced=True, augment=False, shuffle=True):\n",
    "    in_hier = ImageNetHierarchy(\"/imagenet\", \"./imagenet-meta\")\n",
    "    superclass_wnid = common_superclass_wnid(which)\n",
    "    class_ranges, label_map = in_hier.get_subclasses(superclass_wnid, balanced=balanced)\n",
    "    custom_dataset = datasets.CustomImageNet(\n",
    "        \"/imagenet\",\n",
    "        class_ranges,\n",
    "        data_aug=augment,\n",
    "        shuffle_train=shuffle,\n",
    "        shuffle_val=shuffle,\n",
    "        subset_type=\"rand\")\n",
    "    train_loader, test_loader = custom_dataset.make_loaders(workers=8, batch_size=16)\n",
    "    return train_loader, test_loader"
   ]
  },
  {
   "cell_type": "code",
   "execution_count": 4,
   "metadata": {},
   "outputs": [],
   "source": [
    "def write_subset(which, balanced=True):\n",
    "    train_loader, test_loader = make_loaders_for(which=which)\n",
    "    total = 0\n",
    "    name = \"subsets/\" + which\n",
    "    if not balanced:\n",
    "        name += \"-unbal\"\n",
    "    with wds.ShardWriter(name+\"-%06d.tar\", maxsize=1e9) as sink:\n",
    "        for images, classes in train_loader:\n",
    "            for i in range(len(images)):\n",
    "                image = np.array(images[i]).transpose(1, 2, 0)\n",
    "                cls = int(classes[i])\n",
    "                image = np.clip(image, 0, 1)\n",
    "                sample = dict(__key__=\"%09d\"%total, ppm=image, cls=cls)\n",
    "                sink.write(sample)\n",
    "                total += 1\n",
    "                if total%1000==0: print(total, file=sys.stderr)"
   ]
  },
  {
   "cell_type": "code",
   "execution_count": 5,
   "metadata": {},
   "outputs": [],
   "source": [
    "def write_subset_aug(which, augments=20, balanced=True):\n",
    "    train_loader, test_loader = make_loaders_for(which=which)\n",
    "    total = 0\n",
    "    name = \"subsets/\" + which\n",
    "    if not balanced:\n",
    "        name += \"-unbal\"\n",
    "    for aug in range(augments):\n",
    "        base = name + \"-%03d\" % aug\n",
    "        with wds.ShardWriter(base+\"-%06d.tar\", maxsize=1e9) as sink:\n",
    "            for images, classes in train_loader:\n",
    "                for i in range(len(images)):\n",
    "                    image = np.array(images[i]).transpose(1, 2, 0)\n",
    "                    cls = int(classes[i])\n",
    "                    image = np.clip(image, 0, 1)\n",
    "                    sample = dict(__key__=\"%09d\"%total, ppm=image, cls=cls)\n",
    "                    sink.write(sample)\n",
    "                    total += 1\n",
    "                    if total%1000==0: print(total, file=sys.stderr)"
   ]
  },
  {
   "cell_type": "code",
   "execution_count": 7,
   "metadata": {},
   "outputs": [
    {
     "name": "stdout",
     "output_type": "stream",
     "text": [
      "==> Preparing dataset custom_imagenet..\n",
      "# writing subsets/living_9-000-000000.tar 0 0.0 GB 0\n"
     ]
    },
    {
     "name": "stderr",
     "output_type": "stream",
     "text": [
      "1000\n",
      "2000\n",
      "3000\n",
      "4000\n",
      "5000\n",
      "6000\n"
     ]
    },
    {
     "name": "stdout",
     "output_type": "stream",
     "text": [
      "# writing subsets/living_9-000-000001.tar 6643 1.0 GB 6643\n"
     ]
    },
    {
     "name": "stderr",
     "output_type": "stream",
     "text": [
      "7000\n",
      "8000\n",
      "9000\n",
      "10000\n",
      "11000\n",
      "12000\n",
      "13000\n"
     ]
    },
    {
     "name": "stdout",
     "output_type": "stream",
     "text": [
      "# writing subsets/living_9-000-000002.tar 6643 1.0 GB 13286\n"
     ]
    },
    {
     "name": "stderr",
     "output_type": "stream",
     "text": [
      "14000\n",
      "15000\n",
      "16000\n",
      "17000\n",
      "18000\n",
      "19000\n"
     ]
    },
    {
     "name": "stdout",
     "output_type": "stream",
     "text": [
      "# writing subsets/living_9-000-000003.tar 6643 1.0 GB 19929\n"
     ]
    },
    {
     "name": "stderr",
     "output_type": "stream",
     "text": [
      "20000\n",
      "21000\n",
      "22000\n",
      "23000\n",
      "24000\n",
      "25000\n",
      "26000\n"
     ]
    },
    {
     "name": "stdout",
     "output_type": "stream",
     "text": [
      "# writing subsets/living_9-000-000004.tar 6643 1.0 GB 26572\n"
     ]
    },
    {
     "name": "stderr",
     "output_type": "stream",
     "text": [
      "27000\n",
      "28000\n",
      "29000\n",
      "30000\n",
      "31000\n",
      "32000\n",
      "33000\n"
     ]
    },
    {
     "name": "stdout",
     "output_type": "stream",
     "text": [
      "# writing subsets/living_9-000-000005.tar 6643 1.0 GB 33215\n"
     ]
    },
    {
     "name": "stderr",
     "output_type": "stream",
     "text": [
      "34000\n",
      "35000\n",
      "36000\n",
      "37000\n",
      "38000\n",
      "39000\n"
     ]
    },
    {
     "name": "stdout",
     "output_type": "stream",
     "text": [
      "# writing subsets/living_9-000-000006.tar 6643 1.0 GB 39858\n"
     ]
    },
    {
     "name": "stderr",
     "output_type": "stream",
     "text": [
      "40000\n",
      "41000\n",
      "42000\n",
      "43000\n",
      "44000\n",
      "45000\n",
      "46000\n"
     ]
    },
    {
     "name": "stdout",
     "output_type": "stream",
     "text": [
      "# writing subsets/living_9-000-000007.tar 6643 1.0 GB 46501\n"
     ]
    },
    {
     "name": "stderr",
     "output_type": "stream",
     "text": [
      "47000\n",
      "48000\n",
      "49000\n",
      "50000\n",
      "51000\n",
      "52000\n",
      "53000\n"
     ]
    },
    {
     "name": "stdout",
     "output_type": "stream",
     "text": [
      "# writing subsets/living_9-000-000008.tar 6643 1.0 GB 53144\n"
     ]
    },
    {
     "name": "stderr",
     "output_type": "stream",
     "text": [
      "54000\n",
      "55000\n",
      "56000\n",
      "57000\n",
      "58000\n",
      "59000\n"
     ]
    },
    {
     "name": "stdout",
     "output_type": "stream",
     "text": [
      "# writing subsets/living_9-000-000009.tar 6643 1.0 GB 59787\n"
     ]
    },
    {
     "name": "stderr",
     "output_type": "stream",
     "text": [
      "60000\n",
      "61000\n",
      "62000\n",
      "63000\n",
      "64000\n",
      "65000\n",
      "66000\n"
     ]
    },
    {
     "name": "stdout",
     "output_type": "stream",
     "text": [
      "# writing subsets/living_9-000-000010.tar 6643 1.0 GB 66430\n"
     ]
    },
    {
     "name": "stderr",
     "output_type": "stream",
     "text": [
      "67000\n",
      "68000\n",
      "69000\n",
      "70000\n",
      "71000\n",
      "72000\n",
      "73000\n"
     ]
    },
    {
     "name": "stdout",
     "output_type": "stream",
     "text": [
      "# writing subsets/living_9-000-000011.tar 6643 1.0 GB 73073\n"
     ]
    },
    {
     "name": "stderr",
     "output_type": "stream",
     "text": [
      "74000\n",
      "75000\n",
      "76000\n",
      "77000\n",
      "78000\n",
      "79000\n"
     ]
    },
    {
     "name": "stdout",
     "output_type": "stream",
     "text": [
      "# writing subsets/living_9-000-000012.tar 6643 1.0 GB 79716\n"
     ]
    },
    {
     "name": "stderr",
     "output_type": "stream",
     "text": [
      "80000\n",
      "81000\n",
      "82000\n",
      "83000\n",
      "84000\n",
      "85000\n",
      "86000\n"
     ]
    },
    {
     "name": "stdout",
     "output_type": "stream",
     "text": [
      "# writing subsets/living_9-000-000013.tar 6643 1.0 GB 86359\n"
     ]
    },
    {
     "name": "stderr",
     "output_type": "stream",
     "text": [
      "87000\n",
      "88000\n",
      "89000\n",
      "90000\n",
      "91000\n",
      "92000\n"
     ]
    },
    {
     "name": "stdout",
     "output_type": "stream",
     "text": [
      "# writing subsets/living_9-001-000000.tar 0 0.0 GB 0\n"
     ]
    },
    {
     "name": "stderr",
     "output_type": "stream",
     "text": [
      "93000\n",
      "94000\n",
      "95000\n",
      "96000\n",
      "97000\n",
      "98000\n",
      "99000\n"
     ]
    },
    {
     "name": "stdout",
     "output_type": "stream",
     "text": [
      "# writing subsets/living_9-001-000001.tar 6643 1.0 GB 6643\n"
     ]
    },
    {
     "name": "stderr",
     "output_type": "stream",
     "text": [
      "100000\n",
      "101000\n",
      "102000\n",
      "103000\n",
      "104000\n",
      "105000\n"
     ]
    },
    {
     "name": "stdout",
     "output_type": "stream",
     "text": [
      "# writing subsets/living_9-001-000002.tar 6643 1.0 GB 13286\n"
     ]
    },
    {
     "name": "stderr",
     "output_type": "stream",
     "text": [
      "106000\n",
      "107000\n",
      "108000\n",
      "109000\n",
      "110000\n",
      "111000\n",
      "112000\n"
     ]
    },
    {
     "name": "stdout",
     "output_type": "stream",
     "text": [
      "# writing subsets/living_9-001-000003.tar 6643 1.0 GB 19929\n"
     ]
    },
    {
     "name": "stderr",
     "output_type": "stream",
     "text": [
      "113000\n",
      "114000\n",
      "115000\n",
      "116000\n",
      "117000\n",
      "118000\n",
      "119000\n"
     ]
    },
    {
     "name": "stdout",
     "output_type": "stream",
     "text": [
      "# writing subsets/living_9-001-000004.tar 6643 1.0 GB 26572\n"
     ]
    },
    {
     "name": "stderr",
     "output_type": "stream",
     "text": [
      "120000\n",
      "121000\n",
      "122000\n",
      "123000\n",
      "124000\n",
      "125000\n"
     ]
    },
    {
     "name": "stdout",
     "output_type": "stream",
     "text": [
      "# writing subsets/living_9-001-000005.tar 6643 1.0 GB 33215\n"
     ]
    },
    {
     "name": "stderr",
     "output_type": "stream",
     "text": [
      "126000\n",
      "127000\n",
      "128000\n",
      "129000\n",
      "130000\n",
      "131000\n",
      "132000\n"
     ]
    },
    {
     "name": "stdout",
     "output_type": "stream",
     "text": [
      "# writing subsets/living_9-001-000006.tar 6643 1.0 GB 39858\n"
     ]
    },
    {
     "name": "stderr",
     "output_type": "stream",
     "text": [
      "133000\n",
      "134000\n",
      "135000\n",
      "136000\n",
      "137000\n",
      "138000\n",
      "139000\n"
     ]
    },
    {
     "name": "stdout",
     "output_type": "stream",
     "text": [
      "# writing subsets/living_9-001-000007.tar 6643 1.0 GB 46501\n"
     ]
    },
    {
     "name": "stderr",
     "output_type": "stream",
     "text": [
      "140000\n",
      "141000\n",
      "142000\n",
      "143000\n",
      "144000\n",
      "145000\n"
     ]
    },
    {
     "name": "stdout",
     "output_type": "stream",
     "text": [
      "# writing subsets/living_9-001-000008.tar 6643 1.0 GB 53144\n"
     ]
    },
    {
     "name": "stderr",
     "output_type": "stream",
     "text": [
      "146000\n",
      "147000\n",
      "148000\n",
      "149000\n",
      "150000\n",
      "151000\n",
      "152000\n"
     ]
    },
    {
     "name": "stdout",
     "output_type": "stream",
     "text": [
      "# writing subsets/living_9-001-000009.tar 6643 1.0 GB 59787\n"
     ]
    },
    {
     "name": "stderr",
     "output_type": "stream",
     "text": [
      "153000\n",
      "154000\n",
      "155000\n",
      "156000\n",
      "157000\n",
      "158000\n",
      "159000\n"
     ]
    },
    {
     "name": "stdout",
     "output_type": "stream",
     "text": [
      "# writing subsets/living_9-001-000010.tar 6643 1.0 GB 66430\n"
     ]
    },
    {
     "name": "stderr",
     "output_type": "stream",
     "text": [
      "160000\n",
      "161000\n",
      "162000\n",
      "163000\n",
      "164000\n",
      "165000\n"
     ]
    },
    {
     "name": "stdout",
     "output_type": "stream",
     "text": [
      "# writing subsets/living_9-001-000011.tar 6643 1.0 GB 73073\n"
     ]
    },
    {
     "name": "stderr",
     "output_type": "stream",
     "text": [
      "166000\n",
      "167000\n",
      "168000\n",
      "169000\n",
      "170000\n",
      "171000\n",
      "172000\n"
     ]
    },
    {
     "name": "stdout",
     "output_type": "stream",
     "text": [
      "# writing subsets/living_9-001-000012.tar 6643 1.0 GB 79716\n"
     ]
    },
    {
     "name": "stderr",
     "output_type": "stream",
     "text": [
      "173000\n",
      "174000\n",
      "175000\n",
      "176000\n",
      "177000\n",
      "178000\n"
     ]
    },
    {
     "name": "stdout",
     "output_type": "stream",
     "text": [
      "# writing subsets/living_9-001-000013.tar 6643 1.0 GB 86359\n"
     ]
    },
    {
     "name": "stderr",
     "output_type": "stream",
     "text": [
      "179000\n",
      "180000\n",
      "181000\n",
      "182000\n",
      "183000\n",
      "184000\n",
      "185000\n"
     ]
    },
    {
     "name": "stdout",
     "output_type": "stream",
     "text": [
      "# writing subsets/living_9-002-000000.tar 0 0.0 GB 0\n"
     ]
    },
    {
     "name": "stderr",
     "output_type": "stream",
     "text": [
      "186000\n",
      "187000\n",
      "188000\n",
      "189000\n",
      "190000\n",
      "191000\n"
     ]
    },
    {
     "name": "stdout",
     "output_type": "stream",
     "text": [
      "# writing subsets/living_9-002-000001.tar 6643 1.0 GB 6643\n"
     ]
    },
    {
     "name": "stderr",
     "output_type": "stream",
     "text": [
      "192000\n",
      "193000\n",
      "194000\n",
      "195000\n",
      "196000\n",
      "197000\n",
      "198000\n"
     ]
    },
    {
     "name": "stdout",
     "output_type": "stream",
     "text": [
      "# writing subsets/living_9-002-000002.tar 6643 1.0 GB 13286\n"
     ]
    },
    {
     "name": "stderr",
     "output_type": "stream",
     "text": [
      "199000\n",
      "200000\n",
      "201000\n",
      "202000\n",
      "203000\n",
      "204000\n",
      "205000\n"
     ]
    },
    {
     "name": "stdout",
     "output_type": "stream",
     "text": [
      "# writing subsets/living_9-002-000003.tar 6643 1.0 GB 19929\n"
     ]
    },
    {
     "name": "stderr",
     "output_type": "stream",
     "text": [
      "206000\n",
      "207000\n",
      "208000\n",
      "209000\n",
      "210000\n",
      "211000\n"
     ]
    },
    {
     "name": "stdout",
     "output_type": "stream",
     "text": [
      "# writing subsets/living_9-002-000004.tar 6643 1.0 GB 26572\n"
     ]
    },
    {
     "name": "stderr",
     "output_type": "stream",
     "text": [
      "212000\n",
      "213000\n",
      "214000\n",
      "215000\n",
      "216000\n",
      "217000\n",
      "218000\n"
     ]
    },
    {
     "name": "stdout",
     "output_type": "stream",
     "text": [
      "# writing subsets/living_9-002-000005.tar 6643 1.0 GB 33215\n"
     ]
    },
    {
     "name": "stderr",
     "output_type": "stream",
     "text": [
      "219000\n",
      "220000\n",
      "221000\n",
      "222000\n",
      "223000\n",
      "224000\n",
      "225000\n"
     ]
    },
    {
     "name": "stdout",
     "output_type": "stream",
     "text": [
      "# writing subsets/living_9-002-000006.tar 6643 1.0 GB 39858\n"
     ]
    },
    {
     "name": "stderr",
     "output_type": "stream",
     "text": [
      "226000\n",
      "227000\n",
      "228000\n",
      "229000\n",
      "230000\n",
      "231000\n"
     ]
    },
    {
     "name": "stdout",
     "output_type": "stream",
     "text": [
      "# writing subsets/living_9-002-000007.tar 6643 1.0 GB 46501\n"
     ]
    },
    {
     "name": "stderr",
     "output_type": "stream",
     "text": [
      "232000\n",
      "233000\n",
      "234000\n",
      "235000\n",
      "236000\n",
      "237000\n",
      "238000\n"
     ]
    },
    {
     "name": "stdout",
     "output_type": "stream",
     "text": [
      "# writing subsets/living_9-002-000008.tar 6643 1.0 GB 53144\n"
     ]
    },
    {
     "name": "stderr",
     "output_type": "stream",
     "text": [
      "239000\n",
      "240000\n",
      "241000\n",
      "242000\n",
      "243000\n",
      "244000\n",
      "245000\n"
     ]
    },
    {
     "name": "stdout",
     "output_type": "stream",
     "text": [
      "# writing subsets/living_9-002-000009.tar 6643 1.0 GB 59787\n"
     ]
    },
    {
     "name": "stderr",
     "output_type": "stream",
     "text": [
      "246000\n",
      "247000\n",
      "248000\n",
      "249000\n",
      "250000\n",
      "251000\n"
     ]
    },
    {
     "name": "stdout",
     "output_type": "stream",
     "text": [
      "# writing subsets/living_9-002-000010.tar 6643 1.0 GB 66430\n"
     ]
    },
    {
     "name": "stderr",
     "output_type": "stream",
     "text": [
      "252000\n",
      "253000\n",
      "254000\n",
      "255000\n",
      "256000\n",
      "257000\n",
      "258000\n"
     ]
    },
    {
     "name": "stdout",
     "output_type": "stream",
     "text": [
      "# writing subsets/living_9-002-000011.tar 6643 1.0 GB 73073\n"
     ]
    },
    {
     "name": "stderr",
     "output_type": "stream",
     "text": [
      "259000\n",
      "260000\n",
      "261000\n",
      "262000\n",
      "263000\n",
      "264000\n"
     ]
    },
    {
     "name": "stdout",
     "output_type": "stream",
     "text": [
      "# writing subsets/living_9-002-000012.tar 6643 1.0 GB 79716\n"
     ]
    },
    {
     "name": "stderr",
     "output_type": "stream",
     "text": [
      "265000\n",
      "266000\n",
      "267000\n",
      "268000\n",
      "269000\n",
      "270000\n",
      "271000\n"
     ]
    },
    {
     "name": "stdout",
     "output_type": "stream",
     "text": [
      "# writing subsets/living_9-002-000013.tar 6643 1.0 GB 86359\n"
     ]
    },
    {
     "name": "stderr",
     "output_type": "stream",
     "text": [
      "272000\n",
      "273000\n",
      "274000\n",
      "275000\n",
      "276000\n",
      "277000\n"
     ]
    },
    {
     "name": "stdout",
     "output_type": "stream",
     "text": [
      "# writing subsets/living_9-003-000000.tar 0 0.0 GB 0\n"
     ]
    },
    {
     "name": "stderr",
     "output_type": "stream",
     "text": [
      "278000\n",
      "279000\n",
      "280000\n",
      "281000\n",
      "282000\n",
      "283000\n",
      "284000\n"
     ]
    },
    {
     "name": "stdout",
     "output_type": "stream",
     "text": [
      "# writing subsets/living_9-003-000001.tar 6643 1.0 GB 6643\n"
     ]
    },
    {
     "name": "stderr",
     "output_type": "stream",
     "text": [
      "285000\n",
      "286000\n",
      "287000\n",
      "288000\n",
      "289000\n",
      "290000\n",
      "291000\n"
     ]
    },
    {
     "name": "stdout",
     "output_type": "stream",
     "text": [
      "# writing subsets/living_9-003-000002.tar 6643 1.0 GB 13286\n"
     ]
    },
    {
     "name": "stderr",
     "output_type": "stream",
     "text": [
      "292000\n",
      "293000\n",
      "294000\n",
      "295000\n",
      "296000\n",
      "297000\n"
     ]
    },
    {
     "name": "stdout",
     "output_type": "stream",
     "text": [
      "# writing subsets/living_9-003-000003.tar 6643 1.0 GB 19929\n"
     ]
    },
    {
     "name": "stderr",
     "output_type": "stream",
     "text": [
      "298000\n",
      "299000\n",
      "300000\n",
      "301000\n",
      "302000\n",
      "303000\n",
      "304000\n"
     ]
    },
    {
     "name": "stdout",
     "output_type": "stream",
     "text": [
      "# writing subsets/living_9-003-000004.tar 6643 1.0 GB 26572\n"
     ]
    },
    {
     "name": "stderr",
     "output_type": "stream",
     "text": [
      "305000\n",
      "306000\n",
      "307000\n",
      "308000\n",
      "309000\n",
      "310000\n",
      "311000\n"
     ]
    },
    {
     "name": "stdout",
     "output_type": "stream",
     "text": [
      "# writing subsets/living_9-003-000005.tar 6643 1.0 GB 33215\n"
     ]
    },
    {
     "name": "stderr",
     "output_type": "stream",
     "text": [
      "312000\n",
      "313000\n",
      "314000\n",
      "315000\n",
      "316000\n",
      "317000\n"
     ]
    },
    {
     "name": "stdout",
     "output_type": "stream",
     "text": [
      "# writing subsets/living_9-003-000006.tar 6643 1.0 GB 39858\n"
     ]
    },
    {
     "name": "stderr",
     "output_type": "stream",
     "text": [
      "318000\n",
      "319000\n",
      "320000\n",
      "321000\n",
      "322000\n",
      "323000\n",
      "324000\n"
     ]
    },
    {
     "name": "stdout",
     "output_type": "stream",
     "text": [
      "# writing subsets/living_9-003-000007.tar 6643 1.0 GB 46501\n"
     ]
    },
    {
     "name": "stderr",
     "output_type": "stream",
     "text": [
      "325000\n",
      "326000\n",
      "327000\n",
      "328000\n",
      "329000\n",
      "330000\n",
      "331000\n"
     ]
    },
    {
     "name": "stdout",
     "output_type": "stream",
     "text": [
      "# writing subsets/living_9-003-000008.tar 6643 1.0 GB 53144\n"
     ]
    },
    {
     "name": "stderr",
     "output_type": "stream",
     "text": [
      "332000\n",
      "333000\n",
      "334000\n",
      "335000\n",
      "336000\n",
      "337000\n"
     ]
    },
    {
     "name": "stdout",
     "output_type": "stream",
     "text": [
      "# writing subsets/living_9-003-000009.tar 6643 1.0 GB 59787\n"
     ]
    },
    {
     "name": "stderr",
     "output_type": "stream",
     "text": [
      "338000\n",
      "339000\n",
      "340000\n",
      "341000\n",
      "342000\n",
      "343000\n",
      "344000\n"
     ]
    },
    {
     "name": "stdout",
     "output_type": "stream",
     "text": [
      "# writing subsets/living_9-003-000010.tar 6643 1.0 GB 66430\n"
     ]
    },
    {
     "name": "stderr",
     "output_type": "stream",
     "text": [
      "345000\n",
      "346000\n",
      "347000\n",
      "348000\n",
      "349000\n",
      "350000\n"
     ]
    },
    {
     "name": "stdout",
     "output_type": "stream",
     "text": [
      "# writing subsets/living_9-003-000011.tar 6643 1.0 GB 73073\n"
     ]
    },
    {
     "name": "stderr",
     "output_type": "stream",
     "text": [
      "351000\n",
      "352000\n",
      "353000\n",
      "354000\n",
      "355000\n",
      "356000\n",
      "357000\n"
     ]
    },
    {
     "name": "stdout",
     "output_type": "stream",
     "text": [
      "# writing subsets/living_9-003-000012.tar 6643 1.0 GB 79716\n"
     ]
    },
    {
     "name": "stderr",
     "output_type": "stream",
     "text": [
      "358000\n",
      "359000\n",
      "360000\n",
      "361000\n",
      "362000\n",
      "363000\n",
      "364000\n"
     ]
    },
    {
     "name": "stdout",
     "output_type": "stream",
     "text": [
      "# writing subsets/living_9-003-000013.tar 6643 1.0 GB 86359\n"
     ]
    },
    {
     "name": "stderr",
     "output_type": "stream",
     "text": [
      "365000\n",
      "366000\n",
      "367000\n",
      "368000\n",
      "369000\n",
      "370000\n"
     ]
    },
    {
     "name": "stdout",
     "output_type": "stream",
     "text": [
      "# writing subsets/living_9-004-000000.tar 0 0.0 GB 0\n"
     ]
    },
    {
     "name": "stderr",
     "output_type": "stream",
     "text": [
      "371000\n",
      "372000\n",
      "373000\n",
      "374000\n",
      "375000\n",
      "376000\n",
      "377000\n"
     ]
    },
    {
     "name": "stdout",
     "output_type": "stream",
     "text": [
      "# writing subsets/living_9-004-000001.tar 6643 1.0 GB 6643\n"
     ]
    },
    {
     "name": "stderr",
     "output_type": "stream",
     "text": [
      "378000\n",
      "379000\n",
      "380000\n",
      "381000\n",
      "382000\n",
      "383000\n"
     ]
    },
    {
     "name": "stdout",
     "output_type": "stream",
     "text": [
      "# writing subsets/living_9-004-000002.tar 6643 1.0 GB 13286\n"
     ]
    },
    {
     "name": "stderr",
     "output_type": "stream",
     "text": [
      "384000\n",
      "385000\n",
      "386000\n",
      "387000\n",
      "388000\n",
      "389000\n",
      "390000\n"
     ]
    },
    {
     "name": "stdout",
     "output_type": "stream",
     "text": [
      "# writing subsets/living_9-004-000003.tar 6643 1.0 GB 19929\n"
     ]
    },
    {
     "name": "stderr",
     "output_type": "stream",
     "text": [
      "391000\n",
      "392000\n",
      "393000\n",
      "394000\n",
      "395000\n",
      "396000\n",
      "397000\n"
     ]
    },
    {
     "name": "stdout",
     "output_type": "stream",
     "text": [
      "# writing subsets/living_9-004-000004.tar 6643 1.0 GB 26572\n"
     ]
    },
    {
     "name": "stderr",
     "output_type": "stream",
     "text": [
      "398000\n",
      "399000\n",
      "400000\n",
      "401000\n",
      "402000\n",
      "403000\n"
     ]
    },
    {
     "name": "stdout",
     "output_type": "stream",
     "text": [
      "# writing subsets/living_9-004-000005.tar 6643 1.0 GB 33215\n"
     ]
    },
    {
     "name": "stderr",
     "output_type": "stream",
     "text": [
      "404000\n",
      "405000\n",
      "406000\n",
      "407000\n",
      "408000\n",
      "409000\n",
      "410000\n"
     ]
    },
    {
     "name": "stdout",
     "output_type": "stream",
     "text": [
      "# writing subsets/living_9-004-000006.tar 6643 1.0 GB 39858\n"
     ]
    },
    {
     "name": "stderr",
     "output_type": "stream",
     "text": [
      "411000\n",
      "412000\n",
      "413000\n",
      "414000\n",
      "415000\n",
      "416000\n",
      "417000\n"
     ]
    },
    {
     "name": "stdout",
     "output_type": "stream",
     "text": [
      "# writing subsets/living_9-004-000007.tar 6643 1.0 GB 46501\n"
     ]
    },
    {
     "name": "stderr",
     "output_type": "stream",
     "text": [
      "418000\n",
      "419000\n",
      "420000\n",
      "421000\n",
      "422000\n",
      "423000\n"
     ]
    },
    {
     "name": "stdout",
     "output_type": "stream",
     "text": [
      "# writing subsets/living_9-004-000008.tar 6643 1.0 GB 53144\n"
     ]
    },
    {
     "name": "stderr",
     "output_type": "stream",
     "text": [
      "424000\n",
      "425000\n",
      "426000\n",
      "427000\n",
      "428000\n",
      "429000\n",
      "430000\n"
     ]
    },
    {
     "name": "stdout",
     "output_type": "stream",
     "text": [
      "# writing subsets/living_9-004-000009.tar 6643 1.0 GB 59787\n"
     ]
    },
    {
     "name": "stderr",
     "output_type": "stream",
     "text": [
      "431000\n",
      "432000\n",
      "433000\n",
      "434000\n",
      "435000\n",
      "436000\n"
     ]
    },
    {
     "name": "stdout",
     "output_type": "stream",
     "text": [
      "# writing subsets/living_9-004-000010.tar 6643 1.0 GB 66430\n"
     ]
    },
    {
     "name": "stderr",
     "output_type": "stream",
     "text": [
      "437000\n",
      "438000\n",
      "439000\n",
      "440000\n",
      "441000\n",
      "442000\n",
      "443000\n"
     ]
    },
    {
     "name": "stdout",
     "output_type": "stream",
     "text": [
      "# writing subsets/living_9-004-000011.tar 6643 1.0 GB 73073\n"
     ]
    },
    {
     "name": "stderr",
     "output_type": "stream",
     "text": [
      "444000\n",
      "445000\n",
      "446000\n",
      "447000\n",
      "448000\n",
      "449000\n",
      "450000\n"
     ]
    },
    {
     "name": "stdout",
     "output_type": "stream",
     "text": [
      "# writing subsets/living_9-004-000012.tar 6643 1.0 GB 79716\n"
     ]
    },
    {
     "name": "stderr",
     "output_type": "stream",
     "text": [
      "451000\n",
      "452000\n",
      "453000\n",
      "454000\n",
      "455000\n",
      "456000\n"
     ]
    },
    {
     "name": "stdout",
     "output_type": "stream",
     "text": [
      "# writing subsets/living_9-004-000013.tar 6643 1.0 GB 86359\n"
     ]
    },
    {
     "name": "stderr",
     "output_type": "stream",
     "text": [
      "457000\n",
      "458000\n",
      "459000\n",
      "460000\n",
      "461000\n",
      "462000\n",
      "463000\n"
     ]
    },
    {
     "name": "stdout",
     "output_type": "stream",
     "text": [
      "# writing subsets/living_9-005-000000.tar 0 0.0 GB 0\n"
     ]
    },
    {
     "name": "stderr",
     "output_type": "stream",
     "text": [
      "464000\n",
      "465000\n",
      "466000\n",
      "467000\n",
      "468000\n",
      "469000\n"
     ]
    },
    {
     "name": "stdout",
     "output_type": "stream",
     "text": [
      "# writing subsets/living_9-005-000001.tar 6643 1.0 GB 6643\n"
     ]
    },
    {
     "name": "stderr",
     "output_type": "stream",
     "text": [
      "470000\n",
      "471000\n",
      "472000\n",
      "473000\n",
      "474000\n",
      "475000\n",
      "476000\n"
     ]
    },
    {
     "name": "stdout",
     "output_type": "stream",
     "text": [
      "# writing subsets/living_9-005-000002.tar 6643 1.0 GB 13286\n"
     ]
    },
    {
     "name": "stderr",
     "output_type": "stream",
     "text": [
      "477000\n",
      "478000\n",
      "479000\n",
      "480000\n",
      "481000\n",
      "482000\n",
      "483000\n"
     ]
    },
    {
     "name": "stdout",
     "output_type": "stream",
     "text": [
      "# writing subsets/living_9-005-000003.tar 6643 1.0 GB 19929\n"
     ]
    },
    {
     "name": "stderr",
     "output_type": "stream",
     "text": [
      "484000\n",
      "485000\n",
      "486000\n",
      "487000\n",
      "488000\n",
      "489000\n"
     ]
    },
    {
     "name": "stdout",
     "output_type": "stream",
     "text": [
      "# writing subsets/living_9-005-000004.tar 6643 1.0 GB 26572\n"
     ]
    },
    {
     "name": "stderr",
     "output_type": "stream",
     "text": [
      "490000\n",
      "491000\n",
      "492000\n",
      "493000\n",
      "494000\n",
      "495000\n",
      "496000\n"
     ]
    },
    {
     "name": "stdout",
     "output_type": "stream",
     "text": [
      "# writing subsets/living_9-005-000005.tar 6643 1.0 GB 33215\n"
     ]
    },
    {
     "name": "stderr",
     "output_type": "stream",
     "text": [
      "497000\n",
      "498000\n",
      "499000\n",
      "500000\n",
      "501000\n",
      "502000\n",
      "503000\n"
     ]
    },
    {
     "name": "stdout",
     "output_type": "stream",
     "text": [
      "# writing subsets/living_9-005-000006.tar 6643 1.0 GB 39858\n"
     ]
    },
    {
     "name": "stderr",
     "output_type": "stream",
     "text": [
      "504000\n",
      "505000\n",
      "506000\n",
      "507000\n",
      "508000\n",
      "509000\n"
     ]
    },
    {
     "name": "stdout",
     "output_type": "stream",
     "text": [
      "# writing subsets/living_9-005-000007.tar 6643 1.0 GB 46501\n"
     ]
    },
    {
     "name": "stderr",
     "output_type": "stream",
     "text": [
      "510000\n",
      "511000\n",
      "512000\n",
      "513000\n",
      "514000\n",
      "515000\n",
      "516000\n"
     ]
    },
    {
     "name": "stdout",
     "output_type": "stream",
     "text": [
      "# writing subsets/living_9-005-000008.tar 6643 1.0 GB 53144\n"
     ]
    },
    {
     "name": "stderr",
     "output_type": "stream",
     "text": [
      "517000\n",
      "518000\n",
      "519000\n",
      "520000\n",
      "521000\n",
      "522000\n"
     ]
    },
    {
     "name": "stdout",
     "output_type": "stream",
     "text": [
      "# writing subsets/living_9-005-000009.tar 6643 1.0 GB 59787\n"
     ]
    },
    {
     "name": "stderr",
     "output_type": "stream",
     "text": [
      "523000\n",
      "524000\n",
      "525000\n",
      "526000\n",
      "527000\n",
      "528000\n",
      "529000\n"
     ]
    },
    {
     "name": "stdout",
     "output_type": "stream",
     "text": [
      "# writing subsets/living_9-005-000010.tar 6643 1.0 GB 66430\n"
     ]
    },
    {
     "name": "stderr",
     "output_type": "stream",
     "text": [
      "530000\n",
      "531000\n",
      "532000\n",
      "533000\n",
      "534000\n",
      "535000\n",
      "536000\n"
     ]
    },
    {
     "name": "stdout",
     "output_type": "stream",
     "text": [
      "# writing subsets/living_9-005-000011.tar 6643 1.0 GB 73073\n"
     ]
    },
    {
     "name": "stderr",
     "output_type": "stream",
     "text": [
      "537000\n",
      "538000\n",
      "539000\n",
      "540000\n",
      "541000\n",
      "542000\n"
     ]
    },
    {
     "name": "stdout",
     "output_type": "stream",
     "text": [
      "# writing subsets/living_9-005-000012.tar 6643 1.0 GB 79716\n"
     ]
    },
    {
     "name": "stderr",
     "output_type": "stream",
     "text": [
      "543000\n",
      "544000\n",
      "545000\n",
      "546000\n",
      "547000\n",
      "548000\n",
      "549000\n"
     ]
    },
    {
     "name": "stdout",
     "output_type": "stream",
     "text": [
      "# writing subsets/living_9-005-000013.tar 6643 1.0 GB 86359\n"
     ]
    },
    {
     "name": "stderr",
     "output_type": "stream",
     "text": [
      "550000\n",
      "551000\n",
      "552000\n",
      "553000\n",
      "554000\n",
      "555000\n"
     ]
    },
    {
     "name": "stdout",
     "output_type": "stream",
     "text": [
      "# writing subsets/living_9-006-000000.tar 0 0.0 GB 0\n"
     ]
    },
    {
     "name": "stderr",
     "output_type": "stream",
     "text": [
      "556000\n",
      "557000\n",
      "558000\n",
      "559000\n",
      "560000\n",
      "561000\n",
      "562000\n"
     ]
    },
    {
     "name": "stdout",
     "output_type": "stream",
     "text": [
      "# writing subsets/living_9-006-000001.tar 6643 1.0 GB 6643\n"
     ]
    },
    {
     "name": "stderr",
     "output_type": "stream",
     "text": [
      "563000\n",
      "564000\n",
      "565000\n",
      "566000\n",
      "567000\n",
      "568000\n",
      "569000\n"
     ]
    },
    {
     "name": "stdout",
     "output_type": "stream",
     "text": [
      "# writing subsets/living_9-006-000002.tar 6643 1.0 GB 13286\n"
     ]
    },
    {
     "name": "stderr",
     "output_type": "stream",
     "text": [
      "570000\n",
      "571000\n",
      "572000\n",
      "573000\n",
      "574000\n",
      "575000\n"
     ]
    },
    {
     "name": "stdout",
     "output_type": "stream",
     "text": [
      "# writing subsets/living_9-006-000003.tar 6643 1.0 GB 19929\n"
     ]
    },
    {
     "name": "stderr",
     "output_type": "stream",
     "text": [
      "576000\n",
      "577000\n",
      "578000\n",
      "579000\n",
      "580000\n",
      "581000\n",
      "582000\n"
     ]
    },
    {
     "name": "stdout",
     "output_type": "stream",
     "text": [
      "# writing subsets/living_9-006-000004.tar 6643 1.0 GB 26572\n"
     ]
    },
    {
     "name": "stderr",
     "output_type": "stream",
     "text": [
      "583000\n",
      "584000\n",
      "585000\n",
      "586000\n",
      "587000\n",
      "588000\n",
      "589000\n"
     ]
    },
    {
     "name": "stdout",
     "output_type": "stream",
     "text": [
      "# writing subsets/living_9-006-000005.tar 6643 1.0 GB 33215\n"
     ]
    },
    {
     "name": "stderr",
     "output_type": "stream",
     "text": [
      "590000\n",
      "591000\n",
      "592000\n",
      "593000\n",
      "594000\n",
      "595000\n"
     ]
    },
    {
     "name": "stdout",
     "output_type": "stream",
     "text": [
      "# writing subsets/living_9-006-000006.tar 6643 1.0 GB 39858\n"
     ]
    },
    {
     "name": "stderr",
     "output_type": "stream",
     "text": [
      "596000\n",
      "597000\n",
      "598000\n",
      "599000\n",
      "600000\n",
      "601000\n",
      "602000\n"
     ]
    },
    {
     "name": "stdout",
     "output_type": "stream",
     "text": [
      "# writing subsets/living_9-006-000007.tar 6643 1.0 GB 46501\n"
     ]
    },
    {
     "name": "stderr",
     "output_type": "stream",
     "text": [
      "603000\n",
      "604000\n",
      "605000\n",
      "606000\n",
      "607000\n",
      "608000\n"
     ]
    },
    {
     "name": "stdout",
     "output_type": "stream",
     "text": [
      "# writing subsets/living_9-006-000008.tar 6643 1.0 GB 53144\n"
     ]
    },
    {
     "name": "stderr",
     "output_type": "stream",
     "text": [
      "609000\n",
      "610000\n",
      "611000\n",
      "612000\n",
      "613000\n",
      "614000\n",
      "615000\n"
     ]
    },
    {
     "name": "stdout",
     "output_type": "stream",
     "text": [
      "# writing subsets/living_9-006-000009.tar 6643 1.0 GB 59787\n"
     ]
    },
    {
     "name": "stderr",
     "output_type": "stream",
     "text": [
      "616000\n",
      "617000\n",
      "618000\n",
      "619000\n",
      "620000\n",
      "621000\n",
      "622000\n"
     ]
    },
    {
     "name": "stdout",
     "output_type": "stream",
     "text": [
      "# writing subsets/living_9-006-000010.tar 6643 1.0 GB 66430\n"
     ]
    },
    {
     "name": "stderr",
     "output_type": "stream",
     "text": [
      "623000\n",
      "624000\n",
      "625000\n",
      "626000\n",
      "627000\n",
      "628000\n"
     ]
    },
    {
     "name": "stdout",
     "output_type": "stream",
     "text": [
      "# writing subsets/living_9-006-000011.tar 6643 1.0 GB 73073\n"
     ]
    },
    {
     "name": "stderr",
     "output_type": "stream",
     "text": [
      "629000\n",
      "630000\n",
      "631000\n",
      "632000\n",
      "633000\n",
      "634000\n",
      "635000\n"
     ]
    },
    {
     "name": "stdout",
     "output_type": "stream",
     "text": [
      "# writing subsets/living_9-006-000012.tar 6643 1.0 GB 79716\n"
     ]
    },
    {
     "name": "stderr",
     "output_type": "stream",
     "text": [
      "636000\n",
      "637000\n",
      "638000\n",
      "639000\n",
      "640000\n",
      "641000\n",
      "642000\n"
     ]
    },
    {
     "name": "stdout",
     "output_type": "stream",
     "text": [
      "# writing subsets/living_9-006-000013.tar 6643 1.0 GB 86359\n"
     ]
    },
    {
     "name": "stderr",
     "output_type": "stream",
     "text": [
      "643000\n",
      "644000\n",
      "645000\n",
      "646000\n",
      "647000\n",
      "648000\n"
     ]
    },
    {
     "name": "stdout",
     "output_type": "stream",
     "text": [
      "# writing subsets/living_9-007-000000.tar 0 0.0 GB 0\n"
     ]
    },
    {
     "name": "stderr",
     "output_type": "stream",
     "text": [
      "649000\n",
      "650000\n",
      "651000\n",
      "652000\n",
      "653000\n",
      "654000\n",
      "655000\n"
     ]
    },
    {
     "name": "stdout",
     "output_type": "stream",
     "text": [
      "# writing subsets/living_9-007-000001.tar 6643 1.0 GB 6643\n"
     ]
    },
    {
     "name": "stderr",
     "output_type": "stream",
     "text": [
      "656000\n",
      "657000\n",
      "658000\n",
      "659000\n",
      "660000\n",
      "661000\n"
     ]
    },
    {
     "name": "stdout",
     "output_type": "stream",
     "text": [
      "# writing subsets/living_9-007-000002.tar 6643 1.0 GB 13286\n"
     ]
    },
    {
     "name": "stderr",
     "output_type": "stream",
     "text": [
      "662000\n",
      "663000\n",
      "664000\n",
      "665000\n",
      "666000\n",
      "667000\n",
      "668000\n"
     ]
    },
    {
     "name": "stdout",
     "output_type": "stream",
     "text": [
      "# writing subsets/living_9-007-000003.tar 6643 1.0 GB 19929\n"
     ]
    },
    {
     "name": "stderr",
     "output_type": "stream",
     "text": [
      "669000\n",
      "670000\n",
      "671000\n",
      "672000\n",
      "673000\n",
      "674000\n"
     ]
    },
    {
     "name": "stdout",
     "output_type": "stream",
     "text": [
      "# writing subsets/living_9-007-000004.tar 6643 1.0 GB 26572\n"
     ]
    },
    {
     "name": "stderr",
     "output_type": "stream",
     "text": [
      "675000\n",
      "676000\n",
      "677000\n",
      "678000\n",
      "679000\n",
      "680000\n",
      "681000\n"
     ]
    },
    {
     "name": "stdout",
     "output_type": "stream",
     "text": [
      "# writing subsets/living_9-007-000005.tar 6643 1.0 GB 33215\n"
     ]
    },
    {
     "name": "stderr",
     "output_type": "stream",
     "text": [
      "682000\n",
      "683000\n",
      "684000\n",
      "685000\n",
      "686000\n",
      "687000\n",
      "688000\n"
     ]
    },
    {
     "name": "stdout",
     "output_type": "stream",
     "text": [
      "# writing subsets/living_9-007-000006.tar 6643 1.0 GB 39858\n"
     ]
    },
    {
     "name": "stderr",
     "output_type": "stream",
     "text": [
      "689000\n",
      "690000\n",
      "691000\n",
      "692000\n",
      "693000\n",
      "694000\n"
     ]
    },
    {
     "name": "stdout",
     "output_type": "stream",
     "text": [
      "# writing subsets/living_9-007-000007.tar 6643 1.0 GB 46501\n"
     ]
    },
    {
     "name": "stderr",
     "output_type": "stream",
     "text": [
      "695000\n",
      "696000\n",
      "697000\n",
      "698000\n",
      "699000\n",
      "700000\n",
      "701000\n"
     ]
    },
    {
     "name": "stdout",
     "output_type": "stream",
     "text": [
      "# writing subsets/living_9-007-000008.tar 6643 1.0 GB 53144\n"
     ]
    },
    {
     "name": "stderr",
     "output_type": "stream",
     "text": [
      "702000\n",
      "703000\n",
      "704000\n",
      "705000\n",
      "706000\n",
      "707000\n",
      "708000\n"
     ]
    },
    {
     "name": "stdout",
     "output_type": "stream",
     "text": [
      "# writing subsets/living_9-007-000009.tar 6643 1.0 GB 59787\n"
     ]
    },
    {
     "name": "stderr",
     "output_type": "stream",
     "text": [
      "709000\n",
      "710000\n",
      "711000\n",
      "712000\n",
      "713000\n",
      "714000\n"
     ]
    },
    {
     "name": "stdout",
     "output_type": "stream",
     "text": [
      "# writing subsets/living_9-007-000010.tar 6643 1.0 GB 66430\n"
     ]
    },
    {
     "name": "stderr",
     "output_type": "stream",
     "text": [
      "715000\n",
      "716000\n",
      "717000\n",
      "718000\n",
      "719000\n",
      "720000\n",
      "721000\n"
     ]
    },
    {
     "name": "stdout",
     "output_type": "stream",
     "text": [
      "# writing subsets/living_9-007-000011.tar 6643 1.0 GB 73073\n"
     ]
    },
    {
     "name": "stderr",
     "output_type": "stream",
     "text": [
      "722000\n",
      "723000\n",
      "724000\n",
      "725000\n",
      "726000\n",
      "727000\n",
      "728000\n"
     ]
    },
    {
     "name": "stdout",
     "output_type": "stream",
     "text": [
      "# writing subsets/living_9-007-000012.tar 6643 1.0 GB 79716\n"
     ]
    },
    {
     "name": "stderr",
     "output_type": "stream",
     "text": [
      "729000\n",
      "730000\n",
      "731000\n",
      "732000\n",
      "733000\n",
      "734000\n"
     ]
    },
    {
     "name": "stdout",
     "output_type": "stream",
     "text": [
      "# writing subsets/living_9-007-000013.tar 6643 1.0 GB 86359\n"
     ]
    },
    {
     "name": "stderr",
     "output_type": "stream",
     "text": [
      "735000\n",
      "736000\n",
      "737000\n",
      "738000\n",
      "739000\n",
      "740000\n"
     ]
    },
    {
     "name": "stdout",
     "output_type": "stream",
     "text": [
      "# writing subsets/living_9-008-000000.tar 0 0.0 GB 0\n"
     ]
    },
    {
     "name": "stderr",
     "output_type": "stream",
     "text": [
      "741000\n",
      "742000\n",
      "743000\n",
      "744000\n",
      "745000\n",
      "746000\n",
      "747000\n"
     ]
    },
    {
     "name": "stdout",
     "output_type": "stream",
     "text": [
      "# writing subsets/living_9-008-000001.tar 6643 1.0 GB 6643\n"
     ]
    },
    {
     "name": "stderr",
     "output_type": "stream",
     "text": [
      "748000\n",
      "749000\n",
      "750000\n",
      "751000\n",
      "752000\n",
      "753000\n",
      "754000\n"
     ]
    },
    {
     "name": "stdout",
     "output_type": "stream",
     "text": [
      "# writing subsets/living_9-008-000002.tar 6643 1.0 GB 13286\n"
     ]
    },
    {
     "name": "stderr",
     "output_type": "stream",
     "text": [
      "755000\n",
      "756000\n",
      "757000\n",
      "758000\n",
      "759000\n",
      "760000\n"
     ]
    },
    {
     "name": "stdout",
     "output_type": "stream",
     "text": [
      "# writing subsets/living_9-008-000003.tar 6643 1.0 GB 19929\n"
     ]
    },
    {
     "name": "stderr",
     "output_type": "stream",
     "text": [
      "761000\n",
      "762000\n",
      "763000\n",
      "764000\n",
      "765000\n",
      "766000\n",
      "767000\n"
     ]
    },
    {
     "name": "stdout",
     "output_type": "stream",
     "text": [
      "# writing subsets/living_9-008-000004.tar 6643 1.0 GB 26572\n"
     ]
    },
    {
     "name": "stderr",
     "output_type": "stream",
     "text": [
      "768000\n",
      "769000\n",
      "770000\n",
      "771000\n",
      "772000\n",
      "773000\n",
      "774000\n"
     ]
    },
    {
     "name": "stdout",
     "output_type": "stream",
     "text": [
      "# writing subsets/living_9-008-000005.tar 6643 1.0 GB 33215\n"
     ]
    },
    {
     "name": "stderr",
     "output_type": "stream",
     "text": [
      "775000\n",
      "776000\n",
      "777000\n",
      "778000\n",
      "779000\n",
      "780000\n"
     ]
    },
    {
     "name": "stdout",
     "output_type": "stream",
     "text": [
      "# writing subsets/living_9-008-000006.tar 6643 1.0 GB 39858\n"
     ]
    },
    {
     "name": "stderr",
     "output_type": "stream",
     "text": [
      "781000\n",
      "782000\n",
      "783000\n",
      "784000\n",
      "785000\n",
      "786000\n",
      "787000\n"
     ]
    },
    {
     "name": "stdout",
     "output_type": "stream",
     "text": [
      "# writing subsets/living_9-008-000007.tar 6643 1.0 GB 46501\n"
     ]
    },
    {
     "name": "stderr",
     "output_type": "stream",
     "text": [
      "788000\n",
      "789000\n",
      "790000\n",
      "791000\n",
      "792000\n",
      "793000\n",
      "794000\n"
     ]
    },
    {
     "name": "stdout",
     "output_type": "stream",
     "text": [
      "# writing subsets/living_9-008-000008.tar 6643 1.0 GB 53144\n"
     ]
    },
    {
     "name": "stderr",
     "output_type": "stream",
     "text": [
      "795000\n",
      "796000\n",
      "797000\n",
      "798000\n",
      "799000\n",
      "800000\n"
     ]
    },
    {
     "name": "stdout",
     "output_type": "stream",
     "text": [
      "# writing subsets/living_9-008-000009.tar 6643 1.0 GB 59787\n"
     ]
    },
    {
     "name": "stderr",
     "output_type": "stream",
     "text": [
      "801000\n",
      "802000\n",
      "803000\n",
      "804000\n",
      "805000\n",
      "806000\n",
      "807000\n"
     ]
    },
    {
     "name": "stdout",
     "output_type": "stream",
     "text": [
      "# writing subsets/living_9-008-000010.tar 6643 1.0 GB 66430\n"
     ]
    },
    {
     "name": "stderr",
     "output_type": "stream",
     "text": [
      "808000\n",
      "809000\n",
      "810000\n",
      "811000\n",
      "812000\n",
      "813000\n",
      "814000\n"
     ]
    },
    {
     "name": "stdout",
     "output_type": "stream",
     "text": [
      "# writing subsets/living_9-008-000011.tar 6643 1.0 GB 73073\n"
     ]
    },
    {
     "name": "stderr",
     "output_type": "stream",
     "text": [
      "815000\n",
      "816000\n",
      "817000\n",
      "818000\n",
      "819000\n",
      "820000\n"
     ]
    },
    {
     "name": "stdout",
     "output_type": "stream",
     "text": [
      "# writing subsets/living_9-008-000012.tar 6643 1.0 GB 79716\n"
     ]
    },
    {
     "name": "stderr",
     "output_type": "stream",
     "text": [
      "821000\n",
      "822000\n",
      "823000\n",
      "824000\n",
      "825000\n",
      "826000\n",
      "827000\n"
     ]
    },
    {
     "name": "stdout",
     "output_type": "stream",
     "text": [
      "# writing subsets/living_9-008-000013.tar 6643 1.0 GB 86359\n"
     ]
    },
    {
     "name": "stderr",
     "output_type": "stream",
     "text": [
      "828000\n",
      "829000\n",
      "830000\n",
      "831000\n",
      "832000\n",
      "833000\n"
     ]
    },
    {
     "name": "stdout",
     "output_type": "stream",
     "text": [
      "# writing subsets/living_9-009-000000.tar 0 0.0 GB 0\n"
     ]
    },
    {
     "name": "stderr",
     "output_type": "stream",
     "text": [
      "834000\n",
      "835000\n",
      "836000\n",
      "837000\n",
      "838000\n",
      "839000\n",
      "840000\n"
     ]
    },
    {
     "name": "stdout",
     "output_type": "stream",
     "text": [
      "# writing subsets/living_9-009-000001.tar 6643 1.0 GB 6643\n"
     ]
    },
    {
     "name": "stderr",
     "output_type": "stream",
     "text": [
      "841000\n",
      "842000\n",
      "843000\n",
      "844000\n",
      "845000\n",
      "846000\n"
     ]
    },
    {
     "name": "stdout",
     "output_type": "stream",
     "text": [
      "# writing subsets/living_9-009-000002.tar 6643 1.0 GB 13286\n"
     ]
    },
    {
     "name": "stderr",
     "output_type": "stream",
     "text": [
      "847000\n",
      "848000\n",
      "849000\n",
      "850000\n",
      "851000\n",
      "852000\n",
      "853000\n"
     ]
    },
    {
     "name": "stdout",
     "output_type": "stream",
     "text": [
      "# writing subsets/living_9-009-000003.tar 6643 1.0 GB 19929\n"
     ]
    },
    {
     "name": "stderr",
     "output_type": "stream",
     "text": [
      "854000\n",
      "855000\n",
      "856000\n",
      "857000\n",
      "858000\n",
      "859000\n",
      "860000\n"
     ]
    },
    {
     "name": "stdout",
     "output_type": "stream",
     "text": [
      "# writing subsets/living_9-009-000004.tar 6643 1.0 GB 26572\n"
     ]
    },
    {
     "name": "stderr",
     "output_type": "stream",
     "text": [
      "861000\n",
      "862000\n",
      "863000\n",
      "864000\n",
      "865000\n",
      "866000\n"
     ]
    },
    {
     "name": "stdout",
     "output_type": "stream",
     "text": [
      "# writing subsets/living_9-009-000005.tar 6643 1.0 GB 33215\n"
     ]
    },
    {
     "name": "stderr",
     "output_type": "stream",
     "text": [
      "867000\n",
      "868000\n",
      "869000\n",
      "870000\n",
      "871000\n",
      "872000\n",
      "873000\n"
     ]
    },
    {
     "name": "stdout",
     "output_type": "stream",
     "text": [
      "# writing subsets/living_9-009-000006.tar 6643 1.0 GB 39858\n"
     ]
    },
    {
     "name": "stderr",
     "output_type": "stream",
     "text": [
      "874000\n",
      "875000\n",
      "876000\n",
      "877000\n",
      "878000\n",
      "879000\n",
      "880000\n"
     ]
    },
    {
     "name": "stdout",
     "output_type": "stream",
     "text": [
      "# writing subsets/living_9-009-000007.tar 6643 1.0 GB 46501\n"
     ]
    },
    {
     "name": "stderr",
     "output_type": "stream",
     "text": [
      "881000\n",
      "882000\n",
      "883000\n",
      "884000\n",
      "885000\n",
      "886000\n"
     ]
    },
    {
     "name": "stdout",
     "output_type": "stream",
     "text": [
      "# writing subsets/living_9-009-000008.tar 6643 1.0 GB 53144\n"
     ]
    },
    {
     "name": "stderr",
     "output_type": "stream",
     "text": [
      "887000\n",
      "888000\n",
      "889000\n",
      "890000\n",
      "891000\n",
      "892000\n",
      "893000\n"
     ]
    },
    {
     "name": "stdout",
     "output_type": "stream",
     "text": [
      "# writing subsets/living_9-009-000009.tar 6643 1.0 GB 59787\n"
     ]
    },
    {
     "name": "stderr",
     "output_type": "stream",
     "text": [
      "894000\n",
      "895000\n",
      "896000\n",
      "897000\n",
      "898000\n",
      "899000\n",
      "900000\n"
     ]
    },
    {
     "name": "stdout",
     "output_type": "stream",
     "text": [
      "# writing subsets/living_9-009-000010.tar 6643 1.0 GB 66430\n"
     ]
    },
    {
     "name": "stderr",
     "output_type": "stream",
     "text": [
      "901000\n",
      "902000\n",
      "903000\n",
      "904000\n",
      "905000\n",
      "906000\n"
     ]
    },
    {
     "name": "stdout",
     "output_type": "stream",
     "text": [
      "# writing subsets/living_9-009-000011.tar 6643 1.0 GB 73073\n"
     ]
    },
    {
     "name": "stderr",
     "output_type": "stream",
     "text": [
      "907000\n",
      "908000\n",
      "909000\n",
      "910000\n",
      "911000\n",
      "912000\n",
      "913000\n"
     ]
    },
    {
     "name": "stdout",
     "output_type": "stream",
     "text": [
      "# writing subsets/living_9-009-000012.tar 6643 1.0 GB 79716\n"
     ]
    },
    {
     "name": "stderr",
     "output_type": "stream",
     "text": [
      "914000\n",
      "915000\n",
      "916000\n",
      "917000\n",
      "918000\n",
      "919000\n",
      "920000\n"
     ]
    },
    {
     "name": "stdout",
     "output_type": "stream",
     "text": [
      "# writing subsets/living_9-009-000013.tar 6643 1.0 GB 86359\n"
     ]
    },
    {
     "name": "stderr",
     "output_type": "stream",
     "text": [
      "921000\n",
      "922000\n",
      "923000\n",
      "924000\n",
      "925000\n",
      "926000\n"
     ]
    },
    {
     "name": "stdout",
     "output_type": "stream",
     "text": [
      "# writing subsets/living_9-010-000000.tar 0 0.0 GB 0\n"
     ]
    },
    {
     "name": "stderr",
     "output_type": "stream",
     "text": [
      "927000\n",
      "928000\n",
      "929000\n",
      "930000\n",
      "931000\n",
      "932000\n"
     ]
    },
    {
     "name": "stdout",
     "output_type": "stream",
     "text": [
      "# writing subsets/living_9-010-000001.tar 6643 1.0 GB 6643\n"
     ]
    },
    {
     "name": "stderr",
     "output_type": "stream",
     "text": [
      "933000\n",
      "934000\n",
      "935000\n",
      "936000\n",
      "937000\n",
      "938000\n",
      "939000\n"
     ]
    },
    {
     "name": "stdout",
     "output_type": "stream",
     "text": [
      "# writing subsets/living_9-010-000002.tar 6643 1.0 GB 13286\n"
     ]
    },
    {
     "name": "stderr",
     "output_type": "stream",
     "text": [
      "940000\n",
      "941000\n",
      "942000\n",
      "943000\n",
      "944000\n",
      "945000\n",
      "946000\n"
     ]
    },
    {
     "name": "stdout",
     "output_type": "stream",
     "text": [
      "# writing subsets/living_9-010-000003.tar 6643 1.0 GB 19929\n"
     ]
    },
    {
     "name": "stderr",
     "output_type": "stream",
     "text": [
      "947000\n",
      "948000\n",
      "949000\n",
      "950000\n",
      "951000\n",
      "952000\n"
     ]
    },
    {
     "name": "stdout",
     "output_type": "stream",
     "text": [
      "# writing subsets/living_9-010-000004.tar 6643 1.0 GB 26572\n"
     ]
    },
    {
     "name": "stderr",
     "output_type": "stream",
     "text": [
      "953000\n",
      "954000\n",
      "955000\n",
      "956000\n",
      "957000\n",
      "958000\n",
      "959000\n"
     ]
    },
    {
     "name": "stdout",
     "output_type": "stream",
     "text": [
      "# writing subsets/living_9-010-000005.tar 6643 1.0 GB 33215\n"
     ]
    },
    {
     "name": "stderr",
     "output_type": "stream",
     "text": [
      "960000\n",
      "961000\n",
      "962000\n",
      "963000\n",
      "964000\n",
      "965000\n",
      "966000\n"
     ]
    },
    {
     "name": "stdout",
     "output_type": "stream",
     "text": [
      "# writing subsets/living_9-010-000006.tar 6643 1.0 GB 39858\n"
     ]
    },
    {
     "name": "stderr",
     "output_type": "stream",
     "text": [
      "967000\n",
      "968000\n",
      "969000\n",
      "970000\n",
      "971000\n",
      "972000\n"
     ]
    },
    {
     "name": "stdout",
     "output_type": "stream",
     "text": [
      "# writing subsets/living_9-010-000007.tar 6643 1.0 GB 46501\n"
     ]
    },
    {
     "name": "stderr",
     "output_type": "stream",
     "text": [
      "973000\n",
      "974000\n",
      "975000\n",
      "976000\n",
      "977000\n",
      "978000\n",
      "979000\n"
     ]
    },
    {
     "name": "stdout",
     "output_type": "stream",
     "text": [
      "# writing subsets/living_9-010-000008.tar 6643 1.0 GB 53144\n"
     ]
    },
    {
     "name": "stderr",
     "output_type": "stream",
     "text": [
      "980000\n",
      "981000\n",
      "982000\n",
      "983000\n",
      "984000\n",
      "985000\n",
      "986000\n"
     ]
    },
    {
     "name": "stdout",
     "output_type": "stream",
     "text": [
      "# writing subsets/living_9-010-000009.tar 6643 1.0 GB 59787\n"
     ]
    },
    {
     "name": "stderr",
     "output_type": "stream",
     "text": [
      "987000\n",
      "988000\n",
      "989000\n",
      "990000\n",
      "991000\n",
      "992000\n"
     ]
    },
    {
     "name": "stdout",
     "output_type": "stream",
     "text": [
      "# writing subsets/living_9-010-000010.tar 6643 1.0 GB 66430\n"
     ]
    },
    {
     "name": "stderr",
     "output_type": "stream",
     "text": [
      "993000\n",
      "994000\n",
      "995000\n",
      "996000\n",
      "997000\n",
      "998000\n",
      "999000\n"
     ]
    },
    {
     "name": "stdout",
     "output_type": "stream",
     "text": [
      "# writing subsets/living_9-010-000011.tar 6643 1.0 GB 73073\n"
     ]
    },
    {
     "name": "stderr",
     "output_type": "stream",
     "text": [
      "1000000\n",
      "1001000\n",
      "1002000\n",
      "1003000\n",
      "1004000\n",
      "1005000\n",
      "1006000\n"
     ]
    },
    {
     "name": "stdout",
     "output_type": "stream",
     "text": [
      "# writing subsets/living_9-010-000012.tar 6643 1.0 GB 79716\n"
     ]
    },
    {
     "name": "stderr",
     "output_type": "stream",
     "text": [
      "1007000\n",
      "1008000\n",
      "1009000\n",
      "1010000\n",
      "1011000\n",
      "1012000\n"
     ]
    },
    {
     "name": "stdout",
     "output_type": "stream",
     "text": [
      "# writing subsets/living_9-010-000013.tar 6643 1.0 GB 86359\n"
     ]
    },
    {
     "name": "stderr",
     "output_type": "stream",
     "text": [
      "1013000\n",
      "1014000\n",
      "1015000\n",
      "1016000\n",
      "1017000\n",
      "1018000\n"
     ]
    },
    {
     "name": "stdout",
     "output_type": "stream",
     "text": [
      "# writing subsets/living_9-011-000000.tar 0 0.0 GB 0\n"
     ]
    },
    {
     "name": "stderr",
     "output_type": "stream",
     "text": [
      "1019000\n",
      "1020000\n",
      "1021000\n",
      "1022000\n",
      "1023000\n",
      "1024000\n",
      "1025000\n"
     ]
    },
    {
     "name": "stdout",
     "output_type": "stream",
     "text": [
      "# writing subsets/living_9-011-000001.tar 6643 1.0 GB 6643\n"
     ]
    },
    {
     "name": "stderr",
     "output_type": "stream",
     "text": [
      "1026000\n",
      "1027000\n",
      "1028000\n",
      "1029000\n",
      "1030000\n",
      "1031000\n",
      "1032000\n"
     ]
    },
    {
     "name": "stdout",
     "output_type": "stream",
     "text": [
      "# writing subsets/living_9-011-000002.tar 6643 1.0 GB 13286\n"
     ]
    },
    {
     "name": "stderr",
     "output_type": "stream",
     "text": [
      "1033000\n",
      "1034000\n",
      "1035000\n",
      "1036000\n",
      "1037000\n",
      "1038000\n"
     ]
    },
    {
     "name": "stdout",
     "output_type": "stream",
     "text": [
      "# writing subsets/living_9-011-000003.tar 6643 1.0 GB 19929\n"
     ]
    },
    {
     "name": "stderr",
     "output_type": "stream",
     "text": [
      "1039000\n",
      "1040000\n",
      "1041000\n",
      "1042000\n",
      "1043000\n",
      "1044000\n",
      "1045000\n"
     ]
    },
    {
     "name": "stdout",
     "output_type": "stream",
     "text": [
      "# writing subsets/living_9-011-000004.tar 6643 1.0 GB 26572\n"
     ]
    },
    {
     "name": "stderr",
     "output_type": "stream",
     "text": [
      "1046000\n",
      "1047000\n",
      "1048000\n",
      "1049000\n",
      "1050000\n",
      "1051000\n",
      "1052000\n"
     ]
    },
    {
     "name": "stdout",
     "output_type": "stream",
     "text": [
      "# writing subsets/living_9-011-000005.tar 6643 1.0 GB 33215\n"
     ]
    },
    {
     "name": "stderr",
     "output_type": "stream",
     "text": [
      "1053000\n",
      "1054000\n",
      "1055000\n",
      "1056000\n",
      "1057000\n",
      "1058000\n"
     ]
    },
    {
     "name": "stdout",
     "output_type": "stream",
     "text": [
      "# writing subsets/living_9-011-000006.tar 6643 1.0 GB 39858\n"
     ]
    },
    {
     "name": "stderr",
     "output_type": "stream",
     "text": [
      "1059000\n",
      "1060000\n",
      "1061000\n",
      "1062000\n",
      "1063000\n",
      "1064000\n",
      "1065000\n"
     ]
    },
    {
     "name": "stdout",
     "output_type": "stream",
     "text": [
      "# writing subsets/living_9-011-000007.tar 6643 1.0 GB 46501\n"
     ]
    },
    {
     "name": "stderr",
     "output_type": "stream",
     "text": [
      "1066000\n",
      "1067000\n",
      "1068000\n",
      "1069000\n",
      "1070000\n",
      "1071000\n",
      "1072000\n"
     ]
    },
    {
     "name": "stdout",
     "output_type": "stream",
     "text": [
      "# writing subsets/living_9-011-000008.tar 6643 1.0 GB 53144\n"
     ]
    },
    {
     "name": "stderr",
     "output_type": "stream",
     "text": [
      "1073000\n",
      "1074000\n",
      "1075000\n",
      "1076000\n",
      "1077000\n",
      "1078000\n"
     ]
    },
    {
     "name": "stdout",
     "output_type": "stream",
     "text": [
      "# writing subsets/living_9-011-000009.tar 6643 1.0 GB 59787\n"
     ]
    },
    {
     "name": "stderr",
     "output_type": "stream",
     "text": [
      "1079000\n",
      "1080000\n",
      "1081000\n",
      "1082000\n",
      "1083000\n",
      "1084000\n",
      "1085000\n"
     ]
    },
    {
     "name": "stdout",
     "output_type": "stream",
     "text": [
      "# writing subsets/living_9-011-000010.tar 6643 1.0 GB 66430\n"
     ]
    },
    {
     "name": "stderr",
     "output_type": "stream",
     "text": [
      "1086000\n",
      "1087000\n",
      "1088000\n",
      "1089000\n",
      "1090000\n",
      "1091000\n",
      "1092000\n"
     ]
    },
    {
     "name": "stdout",
     "output_type": "stream",
     "text": [
      "# writing subsets/living_9-011-000011.tar 6643 1.0 GB 73073\n"
     ]
    },
    {
     "name": "stderr",
     "output_type": "stream",
     "text": [
      "1093000\n",
      "1094000\n",
      "1095000\n",
      "1096000\n",
      "1097000\n",
      "1098000\n"
     ]
    },
    {
     "name": "stdout",
     "output_type": "stream",
     "text": [
      "# writing subsets/living_9-011-000012.tar 6643 1.0 GB 79716\n"
     ]
    },
    {
     "name": "stderr",
     "output_type": "stream",
     "text": [
      "1099000\n",
      "1100000\n",
      "1101000\n",
      "1102000\n",
      "1103000\n",
      "1104000\n",
      "1105000\n"
     ]
    },
    {
     "name": "stdout",
     "output_type": "stream",
     "text": [
      "# writing subsets/living_9-011-000013.tar 6643 1.0 GB 86359\n"
     ]
    },
    {
     "name": "stderr",
     "output_type": "stream",
     "text": [
      "1106000\n",
      "1107000\n",
      "1108000\n",
      "1109000\n",
      "1110000\n",
      "1111000\n"
     ]
    },
    {
     "name": "stdout",
     "output_type": "stream",
     "text": [
      "# writing subsets/living_9-012-000000.tar 0 0.0 GB 0\n"
     ]
    },
    {
     "name": "stderr",
     "output_type": "stream",
     "text": [
      "1112000\n",
      "1113000\n",
      "1114000\n",
      "1115000\n",
      "1116000\n",
      "1117000\n",
      "1118000\n"
     ]
    },
    {
     "name": "stdout",
     "output_type": "stream",
     "text": [
      "# writing subsets/living_9-012-000001.tar 6643 1.0 GB 6643\n"
     ]
    },
    {
     "name": "stderr",
     "output_type": "stream",
     "text": [
      "1119000\n",
      "1120000\n",
      "1121000\n",
      "1122000\n",
      "1123000\n",
      "1124000\n"
     ]
    },
    {
     "name": "stdout",
     "output_type": "stream",
     "text": [
      "# writing subsets/living_9-012-000002.tar 6643 1.0 GB 13286\n"
     ]
    },
    {
     "name": "stderr",
     "output_type": "stream",
     "text": [
      "1125000\n",
      "1126000\n",
      "1127000\n",
      "1128000\n",
      "1129000\n",
      "1130000\n",
      "1131000\n"
     ]
    },
    {
     "name": "stdout",
     "output_type": "stream",
     "text": [
      "# writing subsets/living_9-012-000003.tar 6643 1.0 GB 19929\n"
     ]
    },
    {
     "name": "stderr",
     "output_type": "stream",
     "text": [
      "1132000\n",
      "1133000\n",
      "1134000\n",
      "1135000\n",
      "1136000\n",
      "1137000\n",
      "1138000\n"
     ]
    },
    {
     "name": "stdout",
     "output_type": "stream",
     "text": [
      "# writing subsets/living_9-012-000004.tar 6643 1.0 GB 26572\n"
     ]
    },
    {
     "name": "stderr",
     "output_type": "stream",
     "text": [
      "1139000\n",
      "1140000\n",
      "1141000\n",
      "1142000\n",
      "1143000\n",
      "1144000\n"
     ]
    },
    {
     "name": "stdout",
     "output_type": "stream",
     "text": [
      "# writing subsets/living_9-012-000005.tar 6643 1.0 GB 33215\n"
     ]
    },
    {
     "name": "stderr",
     "output_type": "stream",
     "text": [
      "1145000\n",
      "1146000\n",
      "1147000\n",
      "1148000\n",
      "1149000\n",
      "1150000\n",
      "1151000\n"
     ]
    },
    {
     "name": "stdout",
     "output_type": "stream",
     "text": [
      "# writing subsets/living_9-012-000006.tar 6643 1.0 GB 39858\n"
     ]
    },
    {
     "name": "stderr",
     "output_type": "stream",
     "text": [
      "1152000\n",
      "1153000\n",
      "1154000\n",
      "1155000\n",
      "1156000\n",
      "1157000\n",
      "1158000\n"
     ]
    },
    {
     "name": "stdout",
     "output_type": "stream",
     "text": [
      "# writing subsets/living_9-012-000007.tar 6643 1.0 GB 46501\n"
     ]
    },
    {
     "name": "stderr",
     "output_type": "stream",
     "text": [
      "1159000\n",
      "1160000\n",
      "1161000\n",
      "1162000\n",
      "1163000\n",
      "1164000\n"
     ]
    },
    {
     "name": "stdout",
     "output_type": "stream",
     "text": [
      "# writing subsets/living_9-012-000008.tar 6643 1.0 GB 53144\n"
     ]
    },
    {
     "name": "stderr",
     "output_type": "stream",
     "text": [
      "1165000\n",
      "1166000\n",
      "1167000\n",
      "1168000\n",
      "1169000\n",
      "1170000\n",
      "1171000\n"
     ]
    },
    {
     "name": "stdout",
     "output_type": "stream",
     "text": [
      "# writing subsets/living_9-012-000009.tar 6643 1.0 GB 59787\n"
     ]
    },
    {
     "name": "stderr",
     "output_type": "stream",
     "text": [
      "1172000\n",
      "1173000\n",
      "1174000\n",
      "1175000\n",
      "1176000\n",
      "1177000\n",
      "1178000\n"
     ]
    },
    {
     "name": "stdout",
     "output_type": "stream",
     "text": [
      "# writing subsets/living_9-012-000010.tar 6643 1.0 GB 66430\n"
     ]
    },
    {
     "name": "stderr",
     "output_type": "stream",
     "text": [
      "1179000\n",
      "1180000\n",
      "1181000\n",
      "1182000\n",
      "1183000\n",
      "1184000\n"
     ]
    },
    {
     "name": "stdout",
     "output_type": "stream",
     "text": [
      "# writing subsets/living_9-012-000011.tar 6643 1.0 GB 73073\n"
     ]
    },
    {
     "name": "stderr",
     "output_type": "stream",
     "text": [
      "1185000\n",
      "1186000\n",
      "1187000\n",
      "1188000\n",
      "1189000\n",
      "1190000\n",
      "1191000\n"
     ]
    },
    {
     "name": "stdout",
     "output_type": "stream",
     "text": [
      "# writing subsets/living_9-012-000012.tar 6643 1.0 GB 79716\n"
     ]
    },
    {
     "name": "stderr",
     "output_type": "stream",
     "text": [
      "1192000\n",
      "1193000\n",
      "1194000\n",
      "1195000\n",
      "1196000\n",
      "1197000\n"
     ]
    },
    {
     "name": "stdout",
     "output_type": "stream",
     "text": [
      "# writing subsets/living_9-012-000013.tar 6643 1.0 GB 86359\n"
     ]
    },
    {
     "name": "stderr",
     "output_type": "stream",
     "text": [
      "1198000\n",
      "1199000\n",
      "1200000\n",
      "1201000\n",
      "1202000\n",
      "1203000\n",
      "1204000\n"
     ]
    },
    {
     "name": "stdout",
     "output_type": "stream",
     "text": [
      "# writing subsets/living_9-013-000000.tar 0 0.0 GB 0\n"
     ]
    },
    {
     "name": "stderr",
     "output_type": "stream",
     "text": [
      "1205000\n",
      "1206000\n",
      "1207000\n",
      "1208000\n",
      "1209000\n",
      "1210000\n"
     ]
    },
    {
     "name": "stdout",
     "output_type": "stream",
     "text": [
      "# writing subsets/living_9-013-000001.tar 6643 1.0 GB 6643\n"
     ]
    },
    {
     "name": "stderr",
     "output_type": "stream",
     "text": [
      "1211000\n",
      "1212000\n",
      "1213000\n",
      "1214000\n",
      "1215000\n",
      "1216000\n",
      "1217000\n"
     ]
    },
    {
     "name": "stdout",
     "output_type": "stream",
     "text": [
      "# writing subsets/living_9-013-000002.tar 6643 1.0 GB 13286\n"
     ]
    },
    {
     "name": "stderr",
     "output_type": "stream",
     "text": [
      "1218000\n",
      "1219000\n",
      "1220000\n",
      "1221000\n",
      "1222000\n",
      "1223000\n",
      "1224000\n"
     ]
    },
    {
     "name": "stdout",
     "output_type": "stream",
     "text": [
      "# writing subsets/living_9-013-000003.tar 6643 1.0 GB 19929\n"
     ]
    },
    {
     "name": "stderr",
     "output_type": "stream",
     "text": [
      "1225000\n",
      "1226000\n",
      "1227000\n",
      "1228000\n",
      "1229000\n",
      "1230000\n"
     ]
    },
    {
     "name": "stdout",
     "output_type": "stream",
     "text": [
      "# writing subsets/living_9-013-000004.tar 6643 1.0 GB 26572\n"
     ]
    },
    {
     "name": "stderr",
     "output_type": "stream",
     "text": [
      "1231000\n",
      "1232000\n",
      "1233000\n",
      "1234000\n",
      "1235000\n",
      "1236000\n",
      "1237000\n"
     ]
    },
    {
     "name": "stdout",
     "output_type": "stream",
     "text": [
      "# writing subsets/living_9-013-000005.tar 6643 1.0 GB 33215\n"
     ]
    },
    {
     "name": "stderr",
     "output_type": "stream",
     "text": [
      "1238000\n",
      "1239000\n",
      "1240000\n",
      "1241000\n",
      "1242000\n",
      "1243000\n",
      "1244000\n"
     ]
    },
    {
     "name": "stdout",
     "output_type": "stream",
     "text": [
      "# writing subsets/living_9-013-000006.tar 6643 1.0 GB 39858\n"
     ]
    },
    {
     "name": "stderr",
     "output_type": "stream",
     "text": [
      "1245000\n",
      "1246000\n",
      "1247000\n",
      "1248000\n",
      "1249000\n",
      "1250000\n"
     ]
    },
    {
     "name": "stdout",
     "output_type": "stream",
     "text": [
      "# writing subsets/living_9-013-000007.tar 6643 1.0 GB 46501\n"
     ]
    },
    {
     "name": "stderr",
     "output_type": "stream",
     "text": [
      "1251000\n",
      "1252000\n",
      "1253000\n",
      "1254000\n",
      "1255000\n",
      "1256000\n",
      "1257000\n"
     ]
    },
    {
     "name": "stdout",
     "output_type": "stream",
     "text": [
      "# writing subsets/living_9-013-000008.tar 6643 1.0 GB 53144\n"
     ]
    },
    {
     "name": "stderr",
     "output_type": "stream",
     "text": [
      "1258000\n",
      "1259000\n",
      "1260000\n",
      "1261000\n",
      "1262000\n",
      "1263000\n",
      "1264000\n"
     ]
    },
    {
     "name": "stdout",
     "output_type": "stream",
     "text": [
      "# writing subsets/living_9-013-000009.tar 6643 1.0 GB 59787\n"
     ]
    },
    {
     "name": "stderr",
     "output_type": "stream",
     "text": [
      "1265000\n",
      "1266000\n",
      "1267000\n",
      "1268000\n",
      "1269000\n",
      "1270000\n"
     ]
    },
    {
     "name": "stdout",
     "output_type": "stream",
     "text": [
      "# writing subsets/living_9-013-000010.tar 6643 1.0 GB 66430\n"
     ]
    },
    {
     "name": "stderr",
     "output_type": "stream",
     "text": [
      "1271000\n",
      "1272000\n",
      "1273000\n",
      "1274000\n",
      "1275000\n",
      "1276000\n",
      "1277000\n"
     ]
    },
    {
     "name": "stdout",
     "output_type": "stream",
     "text": [
      "# writing subsets/living_9-013-000011.tar 6643 1.0 GB 73073\n"
     ]
    },
    {
     "name": "stderr",
     "output_type": "stream",
     "text": [
      "1278000\n",
      "1279000\n",
      "1280000\n",
      "1281000\n",
      "1282000\n",
      "1283000\n"
     ]
    },
    {
     "name": "stdout",
     "output_type": "stream",
     "text": [
      "# writing subsets/living_9-013-000012.tar 6643 1.0 GB 79716\n"
     ]
    },
    {
     "name": "stderr",
     "output_type": "stream",
     "text": [
      "1284000\n",
      "1285000\n",
      "1286000\n",
      "1287000\n",
      "1288000\n",
      "1289000\n",
      "1290000\n"
     ]
    },
    {
     "name": "stdout",
     "output_type": "stream",
     "text": [
      "# writing subsets/living_9-013-000013.tar 6643 1.0 GB 86359\n"
     ]
    },
    {
     "name": "stderr",
     "output_type": "stream",
     "text": [
      "1291000\n",
      "1292000\n",
      "1293000\n",
      "1294000\n",
      "1295000\n",
      "1296000\n"
     ]
    },
    {
     "name": "stdout",
     "output_type": "stream",
     "text": [
      "# writing subsets/living_9-014-000000.tar 0 0.0 GB 0\n"
     ]
    },
    {
     "name": "stderr",
     "output_type": "stream",
     "text": [
      "1297000\n",
      "1298000\n",
      "1299000\n",
      "1300000\n",
      "1301000\n",
      "1302000\n",
      "1303000\n"
     ]
    },
    {
     "name": "stdout",
     "output_type": "stream",
     "text": [
      "# writing subsets/living_9-014-000001.tar 6643 1.0 GB 6643\n"
     ]
    },
    {
     "name": "stderr",
     "output_type": "stream",
     "text": [
      "1304000\n",
      "1305000\n",
      "1306000\n",
      "1307000\n",
      "1308000\n",
      "1309000\n",
      "1310000\n"
     ]
    },
    {
     "name": "stdout",
     "output_type": "stream",
     "text": [
      "# writing subsets/living_9-014-000002.tar 6643 1.0 GB 13286\n"
     ]
    },
    {
     "name": "stderr",
     "output_type": "stream",
     "text": [
      "1311000\n",
      "1312000\n",
      "1313000\n",
      "1314000\n",
      "1315000\n",
      "1316000\n"
     ]
    },
    {
     "name": "stdout",
     "output_type": "stream",
     "text": [
      "# writing subsets/living_9-014-000003.tar 6643 1.0 GB 19929\n"
     ]
    },
    {
     "name": "stderr",
     "output_type": "stream",
     "text": [
      "1317000\n",
      "1318000\n",
      "1319000\n",
      "1320000\n",
      "1321000\n",
      "1322000\n",
      "1323000\n"
     ]
    },
    {
     "name": "stdout",
     "output_type": "stream",
     "text": [
      "# writing subsets/living_9-014-000004.tar 6643 1.0 GB 26572\n"
     ]
    },
    {
     "name": "stderr",
     "output_type": "stream",
     "text": [
      "1324000\n",
      "1325000\n",
      "1326000\n",
      "1327000\n",
      "1328000\n",
      "1329000\n",
      "1330000\n"
     ]
    },
    {
     "name": "stdout",
     "output_type": "stream",
     "text": [
      "# writing subsets/living_9-014-000005.tar 6643 1.0 GB 33215\n"
     ]
    },
    {
     "name": "stderr",
     "output_type": "stream",
     "text": [
      "1331000\n",
      "1332000\n",
      "1333000\n",
      "1334000\n",
      "1335000\n",
      "1336000\n"
     ]
    },
    {
     "name": "stdout",
     "output_type": "stream",
     "text": [
      "# writing subsets/living_9-014-000006.tar 6643 1.0 GB 39858\n"
     ]
    },
    {
     "name": "stderr",
     "output_type": "stream",
     "text": [
      "1337000\n",
      "1338000\n",
      "1339000\n",
      "1340000\n",
      "1341000\n",
      "1342000\n",
      "1343000\n"
     ]
    },
    {
     "name": "stdout",
     "output_type": "stream",
     "text": [
      "# writing subsets/living_9-014-000007.tar 6643 1.0 GB 46501\n"
     ]
    },
    {
     "name": "stderr",
     "output_type": "stream",
     "text": [
      "1344000\n",
      "1345000\n",
      "1346000\n",
      "1347000\n",
      "1348000\n",
      "1349000\n"
     ]
    },
    {
     "name": "stdout",
     "output_type": "stream",
     "text": [
      "# writing subsets/living_9-014-000008.tar 6643 1.0 GB 53144\n"
     ]
    },
    {
     "name": "stderr",
     "output_type": "stream",
     "text": [
      "1350000\n",
      "1351000\n",
      "1352000\n",
      "1353000\n",
      "1354000\n",
      "1355000\n",
      "1356000\n"
     ]
    },
    {
     "name": "stdout",
     "output_type": "stream",
     "text": [
      "# writing subsets/living_9-014-000009.tar 6643 1.0 GB 59787\n"
     ]
    },
    {
     "name": "stderr",
     "output_type": "stream",
     "text": [
      "1357000\n",
      "1358000\n",
      "1359000\n",
      "1360000\n",
      "1361000\n",
      "1362000\n",
      "1363000\n"
     ]
    },
    {
     "name": "stdout",
     "output_type": "stream",
     "text": [
      "# writing subsets/living_9-014-000010.tar 6643 1.0 GB 66430\n"
     ]
    },
    {
     "name": "stderr",
     "output_type": "stream",
     "text": [
      "1364000\n",
      "1365000\n",
      "1366000\n",
      "1367000\n",
      "1368000\n",
      "1369000\n"
     ]
    },
    {
     "name": "stdout",
     "output_type": "stream",
     "text": [
      "# writing subsets/living_9-014-000011.tar 6643 1.0 GB 73073\n"
     ]
    },
    {
     "name": "stderr",
     "output_type": "stream",
     "text": [
      "1370000\n",
      "1371000\n",
      "1372000\n",
      "1373000\n",
      "1374000\n",
      "1375000\n",
      "1376000\n"
     ]
    },
    {
     "name": "stdout",
     "output_type": "stream",
     "text": [
      "# writing subsets/living_9-014-000012.tar 6643 1.0 GB 79716\n"
     ]
    },
    {
     "name": "stderr",
     "output_type": "stream",
     "text": [
      "1377000\n",
      "1378000\n",
      "1379000\n",
      "1380000\n",
      "1381000\n",
      "1382000\n",
      "1383000\n"
     ]
    },
    {
     "name": "stdout",
     "output_type": "stream",
     "text": [
      "# writing subsets/living_9-014-000013.tar 6643 1.0 GB 86359\n"
     ]
    },
    {
     "name": "stderr",
     "output_type": "stream",
     "text": [
      "1384000\n",
      "1385000\n",
      "1386000\n",
      "1387000\n",
      "1388000\n",
      "1389000\n"
     ]
    },
    {
     "name": "stdout",
     "output_type": "stream",
     "text": [
      "# writing subsets/living_9-015-000000.tar 0 0.0 GB 0\n"
     ]
    },
    {
     "name": "stderr",
     "output_type": "stream",
     "text": [
      "1390000\n",
      "1391000\n",
      "1392000\n",
      "1393000\n",
      "1394000\n",
      "1395000\n",
      "1396000\n"
     ]
    },
    {
     "name": "stdout",
     "output_type": "stream",
     "text": [
      "# writing subsets/living_9-015-000001.tar 6643 1.0 GB 6643\n"
     ]
    },
    {
     "name": "stderr",
     "output_type": "stream",
     "text": [
      "1397000\n",
      "1398000\n",
      "1399000\n",
      "1400000\n",
      "1401000\n",
      "1402000\n"
     ]
    },
    {
     "name": "stdout",
     "output_type": "stream",
     "text": [
      "# writing subsets/living_9-015-000002.tar 6643 1.0 GB 13286\n"
     ]
    },
    {
     "name": "stderr",
     "output_type": "stream",
     "text": [
      "1403000\n",
      "1404000\n",
      "1405000\n",
      "1406000\n",
      "1407000\n",
      "1408000\n",
      "1409000\n"
     ]
    },
    {
     "name": "stdout",
     "output_type": "stream",
     "text": [
      "# writing subsets/living_9-015-000003.tar 6643 1.0 GB 19929\n"
     ]
    },
    {
     "name": "stderr",
     "output_type": "stream",
     "text": [
      "1410000\n",
      "1411000\n",
      "1412000\n",
      "1413000\n",
      "1414000\n",
      "1415000\n",
      "1416000\n"
     ]
    },
    {
     "name": "stdout",
     "output_type": "stream",
     "text": [
      "# writing subsets/living_9-015-000004.tar 6643 1.0 GB 26572\n"
     ]
    },
    {
     "name": "stderr",
     "output_type": "stream",
     "text": [
      "1417000\n",
      "1418000\n",
      "1419000\n",
      "1420000\n",
      "1421000\n",
      "1422000\n"
     ]
    },
    {
     "name": "stdout",
     "output_type": "stream",
     "text": [
      "# writing subsets/living_9-015-000005.tar 6643 1.0 GB 33215\n"
     ]
    },
    {
     "name": "stderr",
     "output_type": "stream",
     "text": [
      "1423000\n",
      "1424000\n",
      "1425000\n",
      "1426000\n",
      "1427000\n",
      "1428000\n",
      "1429000\n"
     ]
    },
    {
     "name": "stdout",
     "output_type": "stream",
     "text": [
      "# writing subsets/living_9-015-000006.tar 6643 1.0 GB 39858\n"
     ]
    },
    {
     "name": "stderr",
     "output_type": "stream",
     "text": [
      "1430000\n",
      "1431000\n",
      "1432000\n",
      "1433000\n",
      "1434000\n",
      "1435000\n"
     ]
    },
    {
     "name": "stdout",
     "output_type": "stream",
     "text": [
      "# writing subsets/living_9-015-000007.tar 6643 1.0 GB 46501\n"
     ]
    },
    {
     "name": "stderr",
     "output_type": "stream",
     "text": [
      "1436000\n",
      "1437000\n",
      "1438000\n",
      "1439000\n",
      "1440000\n",
      "1441000\n",
      "1442000\n"
     ]
    },
    {
     "name": "stdout",
     "output_type": "stream",
     "text": [
      "# writing subsets/living_9-015-000008.tar 6643 1.0 GB 53144\n"
     ]
    },
    {
     "name": "stderr",
     "output_type": "stream",
     "text": [
      "1443000\n",
      "1444000\n",
      "1445000\n",
      "1446000\n",
      "1447000\n",
      "1448000\n",
      "1449000\n"
     ]
    },
    {
     "name": "stdout",
     "output_type": "stream",
     "text": [
      "# writing subsets/living_9-015-000009.tar 6643 1.0 GB 59787\n"
     ]
    },
    {
     "name": "stderr",
     "output_type": "stream",
     "text": [
      "1450000\n",
      "1451000\n",
      "1452000\n",
      "1453000\n",
      "1454000\n",
      "1455000\n"
     ]
    },
    {
     "name": "stdout",
     "output_type": "stream",
     "text": [
      "# writing subsets/living_9-015-000010.tar 6643 1.0 GB 66430\n"
     ]
    },
    {
     "name": "stderr",
     "output_type": "stream",
     "text": [
      "1456000\n",
      "1457000\n",
      "1458000\n",
      "1459000\n",
      "1460000\n",
      "1461000\n",
      "1462000\n"
     ]
    },
    {
     "name": "stdout",
     "output_type": "stream",
     "text": [
      "# writing subsets/living_9-015-000011.tar 6643 1.0 GB 73073\n"
     ]
    },
    {
     "name": "stderr",
     "output_type": "stream",
     "text": [
      "1463000\n",
      "1464000\n",
      "1465000\n",
      "1466000\n",
      "1467000\n",
      "1468000\n",
      "1469000\n"
     ]
    },
    {
     "name": "stdout",
     "output_type": "stream",
     "text": [
      "# writing subsets/living_9-015-000012.tar 6643 1.0 GB 79716\n"
     ]
    },
    {
     "name": "stderr",
     "output_type": "stream",
     "text": [
      "1470000\n",
      "1471000\n",
      "1472000\n",
      "1473000\n",
      "1474000\n",
      "1475000\n"
     ]
    },
    {
     "name": "stdout",
     "output_type": "stream",
     "text": [
      "# writing subsets/living_9-015-000013.tar 6643 1.0 GB 86359\n"
     ]
    },
    {
     "name": "stderr",
     "output_type": "stream",
     "text": [
      "1476000\n",
      "1477000\n",
      "1478000\n",
      "1479000\n",
      "1480000\n",
      "1481000\n",
      "1482000\n"
     ]
    },
    {
     "name": "stdout",
     "output_type": "stream",
     "text": [
      "# writing subsets/living_9-016-000000.tar 0 0.0 GB 0\n"
     ]
    },
    {
     "name": "stderr",
     "output_type": "stream",
     "text": [
      "1483000\n",
      "1484000\n",
      "1485000\n",
      "1486000\n",
      "1487000\n",
      "1488000\n"
     ]
    },
    {
     "name": "stdout",
     "output_type": "stream",
     "text": [
      "# writing subsets/living_9-016-000001.tar 6643 1.0 GB 6643\n"
     ]
    },
    {
     "name": "stderr",
     "output_type": "stream",
     "text": [
      "1489000\n",
      "1490000\n",
      "1491000\n",
      "1492000\n",
      "1493000\n",
      "1494000\n",
      "1495000\n"
     ]
    },
    {
     "name": "stdout",
     "output_type": "stream",
     "text": [
      "# writing subsets/living_9-016-000002.tar 6643 1.0 GB 13286\n"
     ]
    },
    {
     "name": "stderr",
     "output_type": "stream",
     "text": [
      "1496000\n",
      "1497000\n",
      "1498000\n",
      "1499000\n",
      "1500000\n",
      "1501000\n",
      "1502000\n"
     ]
    },
    {
     "name": "stdout",
     "output_type": "stream",
     "text": [
      "# writing subsets/living_9-016-000003.tar 6643 1.0 GB 19929\n"
     ]
    },
    {
     "name": "stderr",
     "output_type": "stream",
     "text": [
      "1503000\n",
      "1504000\n",
      "1505000\n",
      "1506000\n",
      "1507000\n",
      "1508000\n"
     ]
    },
    {
     "name": "stdout",
     "output_type": "stream",
     "text": [
      "# writing subsets/living_9-016-000004.tar 6643 1.0 GB 26572\n"
     ]
    },
    {
     "name": "stderr",
     "output_type": "stream",
     "text": [
      "1509000\n",
      "1510000\n",
      "1511000\n",
      "1512000\n",
      "1513000\n",
      "1514000\n",
      "1515000\n"
     ]
    },
    {
     "name": "stdout",
     "output_type": "stream",
     "text": [
      "# writing subsets/living_9-016-000005.tar 6643 1.0 GB 33215\n"
     ]
    },
    {
     "name": "stderr",
     "output_type": "stream",
     "text": [
      "1516000\n",
      "1517000\n",
      "1518000\n",
      "1519000\n",
      "1520000\n",
      "1521000\n"
     ]
    },
    {
     "name": "stdout",
     "output_type": "stream",
     "text": [
      "# writing subsets/living_9-016-000006.tar 6643 1.0 GB 39858\n"
     ]
    },
    {
     "name": "stderr",
     "output_type": "stream",
     "text": [
      "1522000\n",
      "1523000\n",
      "1524000\n",
      "1525000\n",
      "1526000\n",
      "1527000\n",
      "1528000\n"
     ]
    },
    {
     "name": "stdout",
     "output_type": "stream",
     "text": [
      "# writing subsets/living_9-016-000007.tar 6643 1.0 GB 46501\n"
     ]
    },
    {
     "name": "stderr",
     "output_type": "stream",
     "text": [
      "1529000\n",
      "1530000\n",
      "1531000\n",
      "1532000\n",
      "1533000\n",
      "1534000\n",
      "1535000\n"
     ]
    },
    {
     "name": "stdout",
     "output_type": "stream",
     "text": [
      "# writing subsets/living_9-016-000008.tar 6643 1.0 GB 53144\n"
     ]
    },
    {
     "name": "stderr",
     "output_type": "stream",
     "text": [
      "1536000\n",
      "1537000\n",
      "1538000\n",
      "1539000\n",
      "1540000\n",
      "1541000\n"
     ]
    },
    {
     "name": "stdout",
     "output_type": "stream",
     "text": [
      "# writing subsets/living_9-016-000009.tar 6643 1.0 GB 59787\n"
     ]
    },
    {
     "name": "stderr",
     "output_type": "stream",
     "text": [
      "1542000\n",
      "1543000\n",
      "1544000\n",
      "1545000\n",
      "1546000\n",
      "1547000\n",
      "1548000\n"
     ]
    },
    {
     "name": "stdout",
     "output_type": "stream",
     "text": [
      "# writing subsets/living_9-016-000010.tar 6643 1.0 GB 66430\n"
     ]
    },
    {
     "name": "stderr",
     "output_type": "stream",
     "text": [
      "1549000\n",
      "1550000\n",
      "1551000\n",
      "1552000\n",
      "1553000\n",
      "1554000\n",
      "1555000\n"
     ]
    },
    {
     "name": "stdout",
     "output_type": "stream",
     "text": [
      "# writing subsets/living_9-016-000011.tar 6643 1.0 GB 73073\n"
     ]
    },
    {
     "name": "stderr",
     "output_type": "stream",
     "text": [
      "1556000\n",
      "1557000\n",
      "1558000\n",
      "1559000\n",
      "1560000\n",
      "1561000\n"
     ]
    },
    {
     "name": "stdout",
     "output_type": "stream",
     "text": [
      "# writing subsets/living_9-016-000012.tar 6643 1.0 GB 79716\n"
     ]
    },
    {
     "name": "stderr",
     "output_type": "stream",
     "text": [
      "1562000\n",
      "1563000\n",
      "1564000\n",
      "1565000\n",
      "1566000\n",
      "1567000\n",
      "1568000\n"
     ]
    },
    {
     "name": "stdout",
     "output_type": "stream",
     "text": [
      "# writing subsets/living_9-016-000013.tar 6643 1.0 GB 86359\n"
     ]
    },
    {
     "name": "stderr",
     "output_type": "stream",
     "text": [
      "1569000\n",
      "1570000\n",
      "1571000\n",
      "1572000\n",
      "1573000\n",
      "1574000\n"
     ]
    },
    {
     "name": "stdout",
     "output_type": "stream",
     "text": [
      "# writing subsets/living_9-017-000000.tar 0 0.0 GB 0\n"
     ]
    },
    {
     "name": "stderr",
     "output_type": "stream",
     "text": [
      "1575000\n",
      "1576000\n",
      "1577000\n",
      "1578000\n",
      "1579000\n",
      "1580000\n",
      "1581000\n"
     ]
    },
    {
     "name": "stdout",
     "output_type": "stream",
     "text": [
      "# writing subsets/living_9-017-000001.tar 6643 1.0 GB 6643\n"
     ]
    },
    {
     "name": "stderr",
     "output_type": "stream",
     "text": [
      "1582000\n",
      "1583000\n",
      "1584000\n",
      "1585000\n",
      "1586000\n",
      "1587000\n",
      "1588000\n"
     ]
    },
    {
     "name": "stdout",
     "output_type": "stream",
     "text": [
      "# writing subsets/living_9-017-000002.tar 6643 1.0 GB 13286\n"
     ]
    },
    {
     "name": "stderr",
     "output_type": "stream",
     "text": [
      "1589000\n",
      "1590000\n",
      "1591000\n",
      "1592000\n",
      "1593000\n",
      "1594000\n"
     ]
    },
    {
     "name": "stdout",
     "output_type": "stream",
     "text": [
      "# writing subsets/living_9-017-000003.tar 6643 1.0 GB 19929\n"
     ]
    },
    {
     "name": "stderr",
     "output_type": "stream",
     "text": [
      "1595000\n",
      "1596000\n",
      "1597000\n",
      "1598000\n",
      "1599000\n",
      "1600000\n",
      "1601000\n"
     ]
    },
    {
     "name": "stdout",
     "output_type": "stream",
     "text": [
      "# writing subsets/living_9-017-000004.tar 6643 1.0 GB 26572\n"
     ]
    },
    {
     "name": "stderr",
     "output_type": "stream",
     "text": [
      "1602000\n",
      "1603000\n",
      "1604000\n",
      "1605000\n",
      "1606000\n",
      "1607000\n"
     ]
    },
    {
     "name": "stdout",
     "output_type": "stream",
     "text": [
      "# writing subsets/living_9-017-000005.tar 6643 1.0 GB 33215\n"
     ]
    },
    {
     "name": "stderr",
     "output_type": "stream",
     "text": [
      "1608000\n",
      "1609000\n",
      "1610000\n",
      "1611000\n",
      "1612000\n",
      "1613000\n",
      "1614000\n"
     ]
    },
    {
     "name": "stdout",
     "output_type": "stream",
     "text": [
      "# writing subsets/living_9-017-000006.tar 6643 1.0 GB 39858\n"
     ]
    },
    {
     "name": "stderr",
     "output_type": "stream",
     "text": [
      "1615000\n",
      "1616000\n",
      "1617000\n",
      "1618000\n",
      "1619000\n",
      "1620000\n",
      "1621000\n"
     ]
    },
    {
     "name": "stdout",
     "output_type": "stream",
     "text": [
      "# writing subsets/living_9-017-000007.tar 6643 1.0 GB 46501\n"
     ]
    },
    {
     "name": "stderr",
     "output_type": "stream",
     "text": [
      "1622000\n",
      "1623000\n",
      "1624000\n",
      "1625000\n",
      "1626000\n",
      "1627000\n"
     ]
    },
    {
     "name": "stdout",
     "output_type": "stream",
     "text": [
      "# writing subsets/living_9-017-000008.tar 6643 1.0 GB 53144\n"
     ]
    },
    {
     "name": "stderr",
     "output_type": "stream",
     "text": [
      "1628000\n",
      "1629000\n",
      "1630000\n",
      "1631000\n",
      "1632000\n",
      "1633000\n",
      "1634000\n"
     ]
    },
    {
     "name": "stdout",
     "output_type": "stream",
     "text": [
      "# writing subsets/living_9-017-000009.tar 6643 1.0 GB 59787\n"
     ]
    },
    {
     "name": "stderr",
     "output_type": "stream",
     "text": [
      "1635000\n",
      "1636000\n",
      "1637000\n",
      "1638000\n",
      "1639000\n",
      "1640000\n",
      "1641000\n"
     ]
    },
    {
     "name": "stdout",
     "output_type": "stream",
     "text": [
      "# writing subsets/living_9-017-000010.tar 6643 1.0 GB 66430\n"
     ]
    },
    {
     "name": "stderr",
     "output_type": "stream",
     "text": [
      "1642000\n",
      "1643000\n",
      "1644000\n",
      "1645000\n",
      "1646000\n",
      "1647000\n"
     ]
    },
    {
     "name": "stdout",
     "output_type": "stream",
     "text": [
      "# writing subsets/living_9-017-000011.tar 6643 1.0 GB 73073\n"
     ]
    },
    {
     "name": "stderr",
     "output_type": "stream",
     "text": [
      "1648000\n",
      "1649000\n",
      "1650000\n",
      "1651000\n",
      "1652000\n",
      "1653000\n",
      "1654000\n"
     ]
    },
    {
     "name": "stdout",
     "output_type": "stream",
     "text": [
      "# writing subsets/living_9-017-000012.tar 6643 1.0 GB 79716\n"
     ]
    },
    {
     "name": "stderr",
     "output_type": "stream",
     "text": [
      "1655000\n",
      "1656000\n",
      "1657000\n",
      "1658000\n",
      "1659000\n",
      "1660000\n",
      "1661000\n"
     ]
    },
    {
     "name": "stdout",
     "output_type": "stream",
     "text": [
      "# writing subsets/living_9-017-000013.tar 6643 1.0 GB 86359\n"
     ]
    },
    {
     "name": "stderr",
     "output_type": "stream",
     "text": [
      "1662000\n",
      "1663000\n",
      "1664000\n",
      "1665000\n",
      "1666000\n",
      "1667000\n"
     ]
    },
    {
     "name": "stdout",
     "output_type": "stream",
     "text": [
      "# writing subsets/living_9-018-000000.tar 0 0.0 GB 0\n"
     ]
    },
    {
     "name": "stderr",
     "output_type": "stream",
     "text": [
      "1668000\n",
      "1669000\n",
      "1670000\n",
      "1671000\n",
      "1672000\n",
      "1673000\n",
      "1674000\n"
     ]
    },
    {
     "name": "stdout",
     "output_type": "stream",
     "text": [
      "# writing subsets/living_9-018-000001.tar 6643 1.0 GB 6643\n"
     ]
    },
    {
     "name": "stderr",
     "output_type": "stream",
     "text": [
      "1675000\n",
      "1676000\n",
      "1677000\n",
      "1678000\n",
      "1679000\n",
      "1680000\n"
     ]
    },
    {
     "name": "stdout",
     "output_type": "stream",
     "text": [
      "# writing subsets/living_9-018-000002.tar 6643 1.0 GB 13286\n"
     ]
    },
    {
     "name": "stderr",
     "output_type": "stream",
     "text": [
      "1681000\n",
      "1682000\n",
      "1683000\n",
      "1684000\n",
      "1685000\n",
      "1686000\n",
      "1687000\n"
     ]
    },
    {
     "name": "stdout",
     "output_type": "stream",
     "text": [
      "# writing subsets/living_9-018-000003.tar 6643 1.0 GB 19929\n"
     ]
    },
    {
     "name": "stderr",
     "output_type": "stream",
     "text": [
      "1688000\n",
      "1689000\n",
      "1690000\n",
      "1691000\n",
      "1692000\n",
      "1693000\n"
     ]
    },
    {
     "name": "stdout",
     "output_type": "stream",
     "text": [
      "# writing subsets/living_9-018-000004.tar 6643 1.0 GB 26572\n"
     ]
    },
    {
     "name": "stderr",
     "output_type": "stream",
     "text": [
      "1694000\n",
      "1695000\n",
      "1696000\n",
      "1697000\n",
      "1698000\n",
      "1699000\n",
      "1700000\n"
     ]
    },
    {
     "name": "stdout",
     "output_type": "stream",
     "text": [
      "# writing subsets/living_9-018-000005.tar 6643 1.0 GB 33215\n"
     ]
    },
    {
     "name": "stderr",
     "output_type": "stream",
     "text": [
      "1701000\n",
      "1702000\n",
      "1703000\n",
      "1704000\n",
      "1705000\n",
      "1706000\n",
      "1707000\n"
     ]
    },
    {
     "name": "stdout",
     "output_type": "stream",
     "text": [
      "# writing subsets/living_9-018-000006.tar 6643 1.0 GB 39858\n"
     ]
    },
    {
     "name": "stderr",
     "output_type": "stream",
     "text": [
      "1708000\n",
      "1709000\n",
      "1710000\n",
      "1711000\n",
      "1712000\n",
      "1713000\n"
     ]
    },
    {
     "name": "stdout",
     "output_type": "stream",
     "text": [
      "# writing subsets/living_9-018-000007.tar 6643 1.0 GB 46501\n"
     ]
    },
    {
     "name": "stderr",
     "output_type": "stream",
     "text": [
      "1714000\n",
      "1715000\n",
      "1716000\n",
      "1717000\n",
      "1718000\n",
      "1719000\n",
      "1720000\n"
     ]
    },
    {
     "name": "stdout",
     "output_type": "stream",
     "text": [
      "# writing subsets/living_9-018-000008.tar 6643 1.0 GB 53144\n"
     ]
    },
    {
     "name": "stderr",
     "output_type": "stream",
     "text": [
      "1721000\n",
      "1722000\n",
      "1723000\n",
      "1724000\n",
      "1725000\n",
      "1726000\n",
      "1727000\n"
     ]
    },
    {
     "name": "stdout",
     "output_type": "stream",
     "text": [
      "# writing subsets/living_9-018-000009.tar 6643 1.0 GB 59787\n"
     ]
    },
    {
     "name": "stderr",
     "output_type": "stream",
     "text": [
      "1728000\n",
      "1729000\n",
      "1730000\n",
      "1731000\n",
      "1732000\n",
      "1733000\n"
     ]
    },
    {
     "name": "stdout",
     "output_type": "stream",
     "text": [
      "# writing subsets/living_9-018-000010.tar 6643 1.0 GB 66430\n"
     ]
    },
    {
     "name": "stderr",
     "output_type": "stream",
     "text": [
      "1734000\n",
      "1735000\n",
      "1736000\n",
      "1737000\n",
      "1738000\n",
      "1739000\n",
      "1740000\n"
     ]
    },
    {
     "name": "stdout",
     "output_type": "stream",
     "text": [
      "# writing subsets/living_9-018-000011.tar 6643 1.0 GB 73073\n"
     ]
    },
    {
     "name": "stderr",
     "output_type": "stream",
     "text": [
      "1741000\n",
      "1742000\n",
      "1743000\n",
      "1744000\n",
      "1745000\n",
      "1746000\n",
      "1747000\n"
     ]
    },
    {
     "name": "stdout",
     "output_type": "stream",
     "text": [
      "# writing subsets/living_9-018-000012.tar 6643 1.0 GB 79716\n"
     ]
    },
    {
     "name": "stderr",
     "output_type": "stream",
     "text": [
      "1748000\n",
      "1749000\n",
      "1750000\n",
      "1751000\n",
      "1752000\n",
      "1753000\n"
     ]
    },
    {
     "name": "stdout",
     "output_type": "stream",
     "text": [
      "# writing subsets/living_9-018-000013.tar 6643 1.0 GB 86359\n"
     ]
    },
    {
     "name": "stderr",
     "output_type": "stream",
     "text": [
      "1754000\n",
      "1755000\n",
      "1756000\n",
      "1757000\n",
      "1758000\n",
      "1759000\n"
     ]
    },
    {
     "name": "stdout",
     "output_type": "stream",
     "text": [
      "# writing subsets/living_9-019-000000.tar 0 0.0 GB 0\n"
     ]
    },
    {
     "name": "stderr",
     "output_type": "stream",
     "text": [
      "1760000\n",
      "1761000\n",
      "1762000\n",
      "1763000\n",
      "1764000\n",
      "1765000\n",
      "1766000\n"
     ]
    },
    {
     "name": "stdout",
     "output_type": "stream",
     "text": [
      "# writing subsets/living_9-019-000001.tar 6643 1.0 GB 6643\n"
     ]
    },
    {
     "name": "stderr",
     "output_type": "stream",
     "text": [
      "1767000\n",
      "1768000\n",
      "1769000\n",
      "1770000\n",
      "1771000\n",
      "1772000\n",
      "1773000\n"
     ]
    },
    {
     "name": "stdout",
     "output_type": "stream",
     "text": [
      "# writing subsets/living_9-019-000002.tar 6643 1.0 GB 13286\n"
     ]
    },
    {
     "name": "stderr",
     "output_type": "stream",
     "text": [
      "1774000\n",
      "1775000\n",
      "1776000\n",
      "1777000\n",
      "1778000\n",
      "1779000\n"
     ]
    },
    {
     "name": "stdout",
     "output_type": "stream",
     "text": [
      "# writing subsets/living_9-019-000003.tar 6643 1.0 GB 19929\n"
     ]
    },
    {
     "name": "stderr",
     "output_type": "stream",
     "text": [
      "1780000\n",
      "1781000\n",
      "1782000\n",
      "1783000\n",
      "1784000\n",
      "1785000\n",
      "1786000\n"
     ]
    },
    {
     "name": "stdout",
     "output_type": "stream",
     "text": [
      "# writing subsets/living_9-019-000004.tar 6643 1.0 GB 26572\n"
     ]
    },
    {
     "name": "stderr",
     "output_type": "stream",
     "text": [
      "1787000\n",
      "1788000\n",
      "1789000\n",
      "1790000\n",
      "1791000\n",
      "1792000\n",
      "1793000\n"
     ]
    },
    {
     "name": "stdout",
     "output_type": "stream",
     "text": [
      "# writing subsets/living_9-019-000005.tar 6643 1.0 GB 33215\n"
     ]
    },
    {
     "name": "stderr",
     "output_type": "stream",
     "text": [
      "1794000\n",
      "1795000\n",
      "1796000\n",
      "1797000\n",
      "1798000\n",
      "1799000\n"
     ]
    },
    {
     "name": "stdout",
     "output_type": "stream",
     "text": [
      "# writing subsets/living_9-019-000006.tar 6643 1.0 GB 39858\n"
     ]
    },
    {
     "name": "stderr",
     "output_type": "stream",
     "text": [
      "1800000\n",
      "1801000\n",
      "1802000\n",
      "1803000\n",
      "1804000\n",
      "1805000\n",
      "1806000\n"
     ]
    },
    {
     "name": "stdout",
     "output_type": "stream",
     "text": [
      "# writing subsets/living_9-019-000007.tar 6643 1.0 GB 46501\n"
     ]
    },
    {
     "name": "stderr",
     "output_type": "stream",
     "text": [
      "1807000\n",
      "1808000\n",
      "1809000\n",
      "1810000\n",
      "1811000\n",
      "1812000\n",
      "1813000\n"
     ]
    },
    {
     "name": "stdout",
     "output_type": "stream",
     "text": [
      "# writing subsets/living_9-019-000008.tar 6643 1.0 GB 53144\n"
     ]
    },
    {
     "name": "stderr",
     "output_type": "stream",
     "text": [
      "1814000\n",
      "1815000\n",
      "1816000\n",
      "1817000\n",
      "1818000\n",
      "1819000\n"
     ]
    },
    {
     "name": "stdout",
     "output_type": "stream",
     "text": [
      "# writing subsets/living_9-019-000009.tar 6643 1.0 GB 59787\n"
     ]
    },
    {
     "name": "stderr",
     "output_type": "stream",
     "text": [
      "1820000\n",
      "1821000\n",
      "1822000\n",
      "1823000\n",
      "1824000\n",
      "1825000\n",
      "1826000\n"
     ]
    },
    {
     "name": "stdout",
     "output_type": "stream",
     "text": [
      "# writing subsets/living_9-019-000010.tar 6643 1.0 GB 66430\n"
     ]
    },
    {
     "name": "stderr",
     "output_type": "stream",
     "text": [
      "1827000\n",
      "1828000\n",
      "1829000\n",
      "1830000\n",
      "1831000\n",
      "1832000\n",
      "1833000\n"
     ]
    },
    {
     "name": "stdout",
     "output_type": "stream",
     "text": [
      "# writing subsets/living_9-019-000011.tar 6643 1.0 GB 73073\n"
     ]
    },
    {
     "name": "stderr",
     "output_type": "stream",
     "text": [
      "1834000\n",
      "1835000\n",
      "1836000\n",
      "1837000\n",
      "1838000\n",
      "1839000\n"
     ]
    },
    {
     "name": "stdout",
     "output_type": "stream",
     "text": [
      "# writing subsets/living_9-019-000012.tar 6643 1.0 GB 79716\n"
     ]
    },
    {
     "name": "stderr",
     "output_type": "stream",
     "text": [
      "1840000\n",
      "1841000\n",
      "1842000\n",
      "1843000\n",
      "1844000\n",
      "1845000\n",
      "1846000\n"
     ]
    },
    {
     "name": "stdout",
     "output_type": "stream",
     "text": [
      "# writing subsets/living_9-019-000013.tar 6643 1.0 GB 86359\n"
     ]
    },
    {
     "name": "stderr",
     "output_type": "stream",
     "text": [
      "1847000\n",
      "1848000\n",
      "1849000\n",
      "1850000\n",
      "1851000\n",
      "1852000\n"
     ]
    },
    {
     "name": "stdout",
     "output_type": "stream",
     "text": [
      "# writing subsets/living_9-020-000000.tar 0 0.0 GB 0\n"
     ]
    },
    {
     "name": "stderr",
     "output_type": "stream",
     "text": [
      "1853000\n",
      "1854000\n",
      "1855000\n",
      "1856000\n",
      "1857000\n",
      "1858000\n",
      "1859000\n"
     ]
    },
    {
     "name": "stdout",
     "output_type": "stream",
     "text": [
      "# writing subsets/living_9-020-000001.tar 6643 1.0 GB 6643\n"
     ]
    },
    {
     "name": "stderr",
     "output_type": "stream",
     "text": [
      "1860000\n",
      "1861000\n",
      "1862000\n",
      "1863000\n",
      "1864000\n",
      "1865000\n"
     ]
    },
    {
     "name": "stdout",
     "output_type": "stream",
     "text": [
      "# writing subsets/living_9-020-000002.tar 6643 1.0 GB 13286\n"
     ]
    },
    {
     "name": "stderr",
     "output_type": "stream",
     "text": [
      "1866000\n",
      "1867000\n",
      "1868000\n",
      "1869000\n",
      "1870000\n",
      "1871000\n",
      "1872000\n"
     ]
    },
    {
     "name": "stdout",
     "output_type": "stream",
     "text": [
      "# writing subsets/living_9-020-000003.tar 6643 1.0 GB 19929\n"
     ]
    },
    {
     "name": "stderr",
     "output_type": "stream",
     "text": [
      "1873000\n",
      "1874000\n",
      "1875000\n",
      "1876000\n",
      "1877000\n",
      "1878000\n",
      "1879000\n"
     ]
    },
    {
     "name": "stdout",
     "output_type": "stream",
     "text": [
      "# writing subsets/living_9-020-000004.tar 6643 1.0 GB 26572\n"
     ]
    },
    {
     "name": "stderr",
     "output_type": "stream",
     "text": [
      "1880000\n",
      "1881000\n",
      "1882000\n",
      "1883000\n",
      "1884000\n",
      "1885000\n"
     ]
    },
    {
     "name": "stdout",
     "output_type": "stream",
     "text": [
      "# writing subsets/living_9-020-000005.tar 6643 1.0 GB 33215\n"
     ]
    },
    {
     "name": "stderr",
     "output_type": "stream",
     "text": [
      "1886000\n",
      "1887000\n",
      "1888000\n",
      "1889000\n",
      "1890000\n",
      "1891000\n",
      "1892000\n"
     ]
    },
    {
     "name": "stdout",
     "output_type": "stream",
     "text": [
      "# writing subsets/living_9-020-000006.tar 6643 1.0 GB 39858\n"
     ]
    },
    {
     "name": "stderr",
     "output_type": "stream",
     "text": [
      "1893000\n",
      "1894000\n",
      "1895000\n",
      "1896000\n",
      "1897000\n",
      "1898000\n",
      "1899000\n"
     ]
    },
    {
     "name": "stdout",
     "output_type": "stream",
     "text": [
      "# writing subsets/living_9-020-000007.tar 6643 1.0 GB 46501\n"
     ]
    },
    {
     "name": "stderr",
     "output_type": "stream",
     "text": [
      "1900000\n",
      "1901000\n",
      "1902000\n",
      "1903000\n",
      "1904000\n",
      "1905000\n"
     ]
    },
    {
     "name": "stdout",
     "output_type": "stream",
     "text": [
      "# writing subsets/living_9-020-000008.tar 6643 1.0 GB 53144\n"
     ]
    },
    {
     "name": "stderr",
     "output_type": "stream",
     "text": [
      "1906000\n",
      "1907000\n",
      "1908000\n",
      "1909000\n",
      "1910000\n",
      "1911000\n",
      "1912000\n"
     ]
    },
    {
     "name": "stdout",
     "output_type": "stream",
     "text": [
      "# writing subsets/living_9-020-000009.tar 6643 1.0 GB 59787\n"
     ]
    },
    {
     "name": "stderr",
     "output_type": "stream",
     "text": [
      "1913000\n",
      "1914000\n",
      "1915000\n",
      "1916000\n",
      "1917000\n",
      "1918000\n",
      "1919000\n"
     ]
    },
    {
     "name": "stdout",
     "output_type": "stream",
     "text": [
      "# writing subsets/living_9-020-000010.tar 6643 1.0 GB 66430\n"
     ]
    },
    {
     "name": "stderr",
     "output_type": "stream",
     "text": [
      "1920000\n",
      "1921000\n",
      "1922000\n",
      "1923000\n",
      "1924000\n",
      "1925000\n"
     ]
    },
    {
     "name": "stdout",
     "output_type": "stream",
     "text": [
      "# writing subsets/living_9-020-000011.tar 6643 1.0 GB 73073\n"
     ]
    },
    {
     "name": "stderr",
     "output_type": "stream",
     "text": [
      "1926000\n",
      "1927000\n",
      "1928000\n",
      "1929000\n",
      "1930000\n",
      "1931000\n",
      "1932000\n"
     ]
    },
    {
     "name": "stdout",
     "output_type": "stream",
     "text": [
      "# writing subsets/living_9-020-000012.tar 6643 1.0 GB 79716\n"
     ]
    },
    {
     "name": "stderr",
     "output_type": "stream",
     "text": [
      "1933000\n",
      "1934000\n",
      "1935000\n",
      "1936000\n",
      "1937000\n",
      "1938000\n"
     ]
    },
    {
     "name": "stdout",
     "output_type": "stream",
     "text": [
      "# writing subsets/living_9-020-000013.tar 6643 1.0 GB 86359\n"
     ]
    },
    {
     "name": "stderr",
     "output_type": "stream",
     "text": [
      "1939000\n",
      "1940000\n",
      "1941000\n",
      "1942000\n",
      "1943000\n",
      "1944000\n",
      "1945000\n"
     ]
    },
    {
     "name": "stdout",
     "output_type": "stream",
     "text": [
      "# writing subsets/living_9-021-000000.tar 0 0.0 GB 0\n"
     ]
    },
    {
     "name": "stderr",
     "output_type": "stream",
     "text": [
      "1946000\n",
      "1947000\n",
      "1948000\n",
      "1949000\n",
      "1950000\n",
      "1951000\n"
     ]
    },
    {
     "name": "stdout",
     "output_type": "stream",
     "text": [
      "# writing subsets/living_9-021-000001.tar 6643 1.0 GB 6643\n"
     ]
    },
    {
     "name": "stderr",
     "output_type": "stream",
     "text": [
      "1952000\n",
      "1953000\n",
      "1954000\n",
      "1955000\n",
      "1956000\n",
      "1957000\n",
      "1958000\n"
     ]
    },
    {
     "name": "stdout",
     "output_type": "stream",
     "text": [
      "# writing subsets/living_9-021-000002.tar 6643 1.0 GB 13286\n"
     ]
    },
    {
     "name": "stderr",
     "output_type": "stream",
     "text": [
      "1959000\n",
      "1960000\n",
      "1961000\n",
      "1962000\n",
      "1963000\n",
      "1964000\n",
      "1965000\n"
     ]
    },
    {
     "name": "stdout",
     "output_type": "stream",
     "text": [
      "# writing subsets/living_9-021-000003.tar 6643 1.0 GB 19929\n"
     ]
    },
    {
     "name": "stderr",
     "output_type": "stream",
     "text": [
      "1966000\n",
      "1967000\n",
      "1968000\n",
      "1969000\n",
      "1970000\n",
      "1971000\n"
     ]
    },
    {
     "name": "stdout",
     "output_type": "stream",
     "text": [
      "# writing subsets/living_9-021-000004.tar 6643 1.0 GB 26572\n"
     ]
    },
    {
     "name": "stderr",
     "output_type": "stream",
     "text": [
      "1972000\n",
      "1973000\n",
      "1974000\n",
      "1975000\n",
      "1976000\n",
      "1977000\n",
      "1978000\n"
     ]
    },
    {
     "name": "stdout",
     "output_type": "stream",
     "text": [
      "# writing subsets/living_9-021-000005.tar 6643 1.0 GB 33215\n"
     ]
    },
    {
     "name": "stderr",
     "output_type": "stream",
     "text": [
      "1979000\n",
      "1980000\n",
      "1981000\n",
      "1982000\n",
      "1983000\n",
      "1984000\n",
      "1985000\n"
     ]
    },
    {
     "name": "stdout",
     "output_type": "stream",
     "text": [
      "# writing subsets/living_9-021-000006.tar 6643 1.0 GB 39858\n"
     ]
    },
    {
     "name": "stderr",
     "output_type": "stream",
     "text": [
      "1986000\n",
      "1987000\n",
      "1988000\n",
      "1989000\n",
      "1990000\n",
      "1991000\n"
     ]
    },
    {
     "name": "stdout",
     "output_type": "stream",
     "text": [
      "# writing subsets/living_9-021-000007.tar 6643 1.0 GB 46501\n"
     ]
    },
    {
     "name": "stderr",
     "output_type": "stream",
     "text": [
      "1992000\n",
      "1993000\n",
      "1994000\n",
      "1995000\n",
      "1996000\n",
      "1997000\n",
      "1998000\n"
     ]
    },
    {
     "name": "stdout",
     "output_type": "stream",
     "text": [
      "# writing subsets/living_9-021-000008.tar 6643 1.0 GB 53144\n"
     ]
    },
    {
     "name": "stderr",
     "output_type": "stream",
     "text": [
      "1999000\n",
      "2000000\n",
      "2001000\n",
      "2002000\n",
      "2003000\n",
      "2004000\n",
      "2005000\n"
     ]
    },
    {
     "name": "stdout",
     "output_type": "stream",
     "text": [
      "# writing subsets/living_9-021-000009.tar 6643 1.0 GB 59787\n"
     ]
    },
    {
     "name": "stderr",
     "output_type": "stream",
     "text": [
      "2006000\n",
      "2007000\n",
      "2008000\n",
      "2009000\n",
      "2010000\n",
      "2011000\n"
     ]
    },
    {
     "name": "stdout",
     "output_type": "stream",
     "text": [
      "# writing subsets/living_9-021-000010.tar 6643 1.0 GB 66430\n"
     ]
    },
    {
     "name": "stderr",
     "output_type": "stream",
     "text": [
      "2012000\n",
      "2013000\n",
      "2014000\n",
      "2015000\n",
      "2016000\n",
      "2017000\n",
      "2018000\n"
     ]
    },
    {
     "name": "stdout",
     "output_type": "stream",
     "text": [
      "# writing subsets/living_9-021-000011.tar 6643 1.0 GB 73073\n"
     ]
    },
    {
     "name": "stderr",
     "output_type": "stream",
     "text": [
      "2019000\n",
      "2020000\n",
      "2021000\n",
      "2022000\n",
      "2023000\n",
      "2024000\n"
     ]
    },
    {
     "name": "stdout",
     "output_type": "stream",
     "text": [
      "# writing subsets/living_9-021-000012.tar 6643 1.0 GB 79716\n"
     ]
    },
    {
     "name": "stderr",
     "output_type": "stream",
     "text": [
      "2025000\n",
      "2026000\n",
      "2027000\n",
      "2028000\n",
      "2029000\n",
      "2030000\n",
      "2031000\n"
     ]
    },
    {
     "name": "stdout",
     "output_type": "stream",
     "text": [
      "# writing subsets/living_9-021-000013.tar 6643 1.0 GB 86359\n"
     ]
    },
    {
     "name": "stderr",
     "output_type": "stream",
     "text": [
      "2032000\n",
      "2033000\n",
      "2034000\n",
      "2035000\n",
      "2036000\n",
      "2037000\n"
     ]
    },
    {
     "name": "stdout",
     "output_type": "stream",
     "text": [
      "# writing subsets/living_9-022-000000.tar 0 0.0 GB 0\n"
     ]
    },
    {
     "name": "stderr",
     "output_type": "stream",
     "text": [
      "2038000\n",
      "2039000\n",
      "2040000\n",
      "2041000\n",
      "2042000\n",
      "2043000\n",
      "2044000\n"
     ]
    },
    {
     "name": "stdout",
     "output_type": "stream",
     "text": [
      "# writing subsets/living_9-022-000001.tar 6643 1.0 GB 6643\n"
     ]
    },
    {
     "name": "stderr",
     "output_type": "stream",
     "text": [
      "2045000\n",
      "2046000\n",
      "2047000\n",
      "2048000\n",
      "2049000\n",
      "2050000\n",
      "2051000\n"
     ]
    },
    {
     "name": "stdout",
     "output_type": "stream",
     "text": [
      "# writing subsets/living_9-022-000002.tar 6643 1.0 GB 13286\n"
     ]
    },
    {
     "name": "stderr",
     "output_type": "stream",
     "text": [
      "2052000\n",
      "2053000\n",
      "2054000\n",
      "2055000\n",
      "2056000\n",
      "2057000\n"
     ]
    },
    {
     "name": "stdout",
     "output_type": "stream",
     "text": [
      "# writing subsets/living_9-022-000003.tar 6643 1.0 GB 19929\n"
     ]
    },
    {
     "name": "stderr",
     "output_type": "stream",
     "text": [
      "2058000\n",
      "2059000\n",
      "2060000\n",
      "2061000\n",
      "2062000\n",
      "2063000\n",
      "2064000\n"
     ]
    },
    {
     "name": "stdout",
     "output_type": "stream",
     "text": [
      "# writing subsets/living_9-022-000004.tar 6643 1.0 GB 26572\n"
     ]
    },
    {
     "name": "stderr",
     "output_type": "stream",
     "text": [
      "2065000\n",
      "2066000\n",
      "2067000\n",
      "2068000\n",
      "2069000\n",
      "2070000\n",
      "2071000\n"
     ]
    },
    {
     "name": "stdout",
     "output_type": "stream",
     "text": [
      "# writing subsets/living_9-022-000005.tar 6643 1.0 GB 33215\n"
     ]
    },
    {
     "name": "stderr",
     "output_type": "stream",
     "text": [
      "2072000\n",
      "2073000\n",
      "2074000\n",
      "2075000\n",
      "2076000\n",
      "2077000\n"
     ]
    },
    {
     "name": "stdout",
     "output_type": "stream",
     "text": [
      "# writing subsets/living_9-022-000006.tar 6643 1.0 GB 39858\n"
     ]
    },
    {
     "name": "stderr",
     "output_type": "stream",
     "text": [
      "2078000\n",
      "2079000\n",
      "2080000\n",
      "2081000\n",
      "2082000\n",
      "2083000\n",
      "2084000\n"
     ]
    },
    {
     "name": "stdout",
     "output_type": "stream",
     "text": [
      "# writing subsets/living_9-022-000007.tar 6643 1.0 GB 46501\n"
     ]
    },
    {
     "name": "stderr",
     "output_type": "stream",
     "text": [
      "2085000\n",
      "2086000\n",
      "2087000\n",
      "2088000\n",
      "2089000\n",
      "2090000\n",
      "2091000\n"
     ]
    },
    {
     "name": "stdout",
     "output_type": "stream",
     "text": [
      "# writing subsets/living_9-022-000008.tar 6643 1.0 GB 53144\n"
     ]
    },
    {
     "name": "stderr",
     "output_type": "stream",
     "text": [
      "2092000\n",
      "2093000\n",
      "2094000\n",
      "2095000\n",
      "2096000\n",
      "2097000\n"
     ]
    },
    {
     "name": "stdout",
     "output_type": "stream",
     "text": [
      "# writing subsets/living_9-022-000009.tar 6643 1.0 GB 59787\n"
     ]
    },
    {
     "name": "stderr",
     "output_type": "stream",
     "text": [
      "2098000\n",
      "2099000\n",
      "2100000\n",
      "2101000\n",
      "2102000\n",
      "2103000\n",
      "2104000\n"
     ]
    },
    {
     "name": "stdout",
     "output_type": "stream",
     "text": [
      "# writing subsets/living_9-022-000010.tar 6643 1.0 GB 66430\n"
     ]
    },
    {
     "name": "stderr",
     "output_type": "stream",
     "text": [
      "2105000\n",
      "2106000\n",
      "2107000\n",
      "2108000\n",
      "2109000\n",
      "2110000\n"
     ]
    },
    {
     "name": "stdout",
     "output_type": "stream",
     "text": [
      "# writing subsets/living_9-022-000011.tar 6643 1.0 GB 73073\n"
     ]
    },
    {
     "name": "stderr",
     "output_type": "stream",
     "text": [
      "2111000\n",
      "2112000\n",
      "2113000\n",
      "2114000\n",
      "2115000\n",
      "2116000\n",
      "2117000\n"
     ]
    },
    {
     "name": "stdout",
     "output_type": "stream",
     "text": [
      "# writing subsets/living_9-022-000012.tar 6643 1.0 GB 79716\n"
     ]
    },
    {
     "name": "stderr",
     "output_type": "stream",
     "text": [
      "2118000\n",
      "2119000\n",
      "2120000\n",
      "2121000\n",
      "2122000\n",
      "2123000\n",
      "2124000\n"
     ]
    },
    {
     "name": "stdout",
     "output_type": "stream",
     "text": [
      "# writing subsets/living_9-022-000013.tar 6643 1.0 GB 86359\n"
     ]
    },
    {
     "name": "stderr",
     "output_type": "stream",
     "text": [
      "2125000\n",
      "2126000\n",
      "2127000\n",
      "2128000\n",
      "2129000\n",
      "2130000\n"
     ]
    },
    {
     "name": "stdout",
     "output_type": "stream",
     "text": [
      "# writing subsets/living_9-023-000000.tar 0 0.0 GB 0\n"
     ]
    },
    {
     "name": "stderr",
     "output_type": "stream",
     "text": [
      "2131000\n",
      "2132000\n",
      "2133000\n",
      "2134000\n",
      "2135000\n",
      "2136000\n",
      "2137000\n"
     ]
    },
    {
     "name": "stdout",
     "output_type": "stream",
     "text": [
      "# writing subsets/living_9-023-000001.tar 6643 1.0 GB 6643\n"
     ]
    },
    {
     "name": "stderr",
     "output_type": "stream",
     "text": [
      "2138000\n",
      "2139000\n",
      "2140000\n",
      "2141000\n",
      "2142000\n",
      "2143000\n"
     ]
    },
    {
     "name": "stdout",
     "output_type": "stream",
     "text": [
      "# writing subsets/living_9-023-000002.tar 6643 1.0 GB 13286\n"
     ]
    },
    {
     "name": "stderr",
     "output_type": "stream",
     "text": [
      "2144000\n",
      "2145000\n",
      "2146000\n",
      "2147000\n",
      "2148000\n",
      "2149000\n",
      "2150000\n"
     ]
    },
    {
     "name": "stdout",
     "output_type": "stream",
     "text": [
      "# writing subsets/living_9-023-000003.tar 6643 1.0 GB 19929\n"
     ]
    },
    {
     "name": "stderr",
     "output_type": "stream",
     "text": [
      "2151000\n",
      "2152000\n",
      "2153000\n",
      "2154000\n",
      "2155000\n",
      "2156000\n",
      "2157000\n"
     ]
    },
    {
     "name": "stdout",
     "output_type": "stream",
     "text": [
      "# writing subsets/living_9-023-000004.tar 6643 1.0 GB 26572\n"
     ]
    },
    {
     "name": "stderr",
     "output_type": "stream",
     "text": [
      "2158000\n",
      "2159000\n",
      "2160000\n",
      "2161000\n",
      "2162000\n",
      "2163000\n"
     ]
    },
    {
     "name": "stdout",
     "output_type": "stream",
     "text": [
      "# writing subsets/living_9-023-000005.tar 6643 1.0 GB 33215\n"
     ]
    },
    {
     "name": "stderr",
     "output_type": "stream",
     "text": [
      "2164000\n",
      "2165000\n",
      "2166000\n",
      "2167000\n",
      "2168000\n",
      "2169000\n",
      "2170000\n"
     ]
    },
    {
     "name": "stdout",
     "output_type": "stream",
     "text": [
      "# writing subsets/living_9-023-000006.tar 6643 1.0 GB 39858\n"
     ]
    },
    {
     "name": "stderr",
     "output_type": "stream",
     "text": [
      "2171000\n",
      "2172000\n",
      "2173000\n",
      "2174000\n",
      "2175000\n",
      "2176000\n",
      "2177000\n"
     ]
    },
    {
     "name": "stdout",
     "output_type": "stream",
     "text": [
      "# writing subsets/living_9-023-000007.tar 6643 1.0 GB 46501\n"
     ]
    },
    {
     "name": "stderr",
     "output_type": "stream",
     "text": [
      "2178000\n",
      "2179000\n",
      "2180000\n",
      "2181000\n",
      "2182000\n",
      "2183000\n"
     ]
    },
    {
     "name": "stdout",
     "output_type": "stream",
     "text": [
      "# writing subsets/living_9-023-000008.tar 6643 1.0 GB 53144\n"
     ]
    },
    {
     "name": "stderr",
     "output_type": "stream",
     "text": [
      "2184000\n",
      "2185000\n",
      "2186000\n",
      "2187000\n",
      "2188000\n",
      "2189000\n",
      "2190000\n"
     ]
    },
    {
     "name": "stdout",
     "output_type": "stream",
     "text": [
      "# writing subsets/living_9-023-000009.tar 6643 1.0 GB 59787\n"
     ]
    },
    {
     "name": "stderr",
     "output_type": "stream",
     "text": [
      "2191000\n",
      "2192000\n",
      "2193000\n",
      "2194000\n",
      "2195000\n",
      "2196000\n"
     ]
    },
    {
     "name": "stdout",
     "output_type": "stream",
     "text": [
      "# writing subsets/living_9-023-000010.tar 6643 1.0 GB 66430\n"
     ]
    },
    {
     "name": "stderr",
     "output_type": "stream",
     "text": [
      "2197000\n",
      "2198000\n",
      "2199000\n",
      "2200000\n",
      "2201000\n",
      "2202000\n",
      "2203000\n"
     ]
    },
    {
     "name": "stdout",
     "output_type": "stream",
     "text": [
      "# writing subsets/living_9-023-000011.tar 6643 1.0 GB 73073\n"
     ]
    },
    {
     "name": "stderr",
     "output_type": "stream",
     "text": [
      "2204000\n",
      "2205000\n",
      "2206000\n",
      "2207000\n",
      "2208000\n",
      "2209000\n",
      "2210000\n"
     ]
    },
    {
     "name": "stdout",
     "output_type": "stream",
     "text": [
      "# writing subsets/living_9-023-000012.tar 6643 1.0 GB 79716\n"
     ]
    },
    {
     "name": "stderr",
     "output_type": "stream",
     "text": [
      "2211000\n",
      "2212000\n",
      "2213000\n",
      "2214000\n",
      "2215000\n",
      "2216000\n"
     ]
    },
    {
     "name": "stdout",
     "output_type": "stream",
     "text": [
      "# writing subsets/living_9-023-000013.tar 6643 1.0 GB 86359\n"
     ]
    },
    {
     "name": "stderr",
     "output_type": "stream",
     "text": [
      "2217000\n",
      "2218000\n",
      "2219000\n",
      "2220000\n",
      "2221000\n",
      "2222000\n",
      "2223000\n"
     ]
    },
    {
     "name": "stdout",
     "output_type": "stream",
     "text": [
      "# writing subsets/living_9-024-000000.tar 0 0.0 GB 0\n"
     ]
    },
    {
     "name": "stderr",
     "output_type": "stream",
     "text": [
      "2224000\n",
      "2225000\n",
      "2226000\n",
      "2227000\n",
      "2228000\n",
      "2229000\n"
     ]
    },
    {
     "name": "stdout",
     "output_type": "stream",
     "text": [
      "# writing subsets/living_9-024-000001.tar 6643 1.0 GB 6643\n"
     ]
    },
    {
     "name": "stderr",
     "output_type": "stream",
     "text": [
      "2230000\n",
      "2231000\n",
      "2232000\n",
      "2233000\n",
      "2234000\n",
      "2235000\n",
      "2236000\n"
     ]
    },
    {
     "name": "stdout",
     "output_type": "stream",
     "text": [
      "# writing subsets/living_9-024-000002.tar 6643 1.0 GB 13286\n"
     ]
    },
    {
     "name": "stderr",
     "output_type": "stream",
     "text": [
      "2237000\n",
      "2238000\n",
      "2239000\n",
      "2240000\n",
      "2241000\n",
      "2242000\n",
      "2243000\n"
     ]
    },
    {
     "name": "stdout",
     "output_type": "stream",
     "text": [
      "# writing subsets/living_9-024-000003.tar 6643 1.0 GB 19929\n"
     ]
    },
    {
     "name": "stderr",
     "output_type": "stream",
     "text": [
      "2244000\n",
      "2245000\n",
      "2246000\n",
      "2247000\n",
      "2248000\n",
      "2249000\n"
     ]
    },
    {
     "name": "stdout",
     "output_type": "stream",
     "text": [
      "# writing subsets/living_9-024-000004.tar 6643 1.0 GB 26572\n"
     ]
    },
    {
     "name": "stderr",
     "output_type": "stream",
     "text": [
      "2250000\n",
      "2251000\n",
      "2252000\n",
      "2253000\n",
      "2254000\n",
      "2255000\n",
      "2256000\n"
     ]
    },
    {
     "name": "stdout",
     "output_type": "stream",
     "text": [
      "# writing subsets/living_9-024-000005.tar 6643 1.0 GB 33215\n"
     ]
    },
    {
     "name": "stderr",
     "output_type": "stream",
     "text": [
      "2257000\n",
      "2258000\n",
      "2259000\n",
      "2260000\n",
      "2261000\n",
      "2262000\n",
      "2263000\n"
     ]
    },
    {
     "name": "stdout",
     "output_type": "stream",
     "text": [
      "# writing subsets/living_9-024-000006.tar 6643 1.0 GB 39858\n"
     ]
    },
    {
     "name": "stderr",
     "output_type": "stream",
     "text": [
      "2264000\n",
      "2265000\n",
      "2266000\n",
      "2267000\n",
      "2268000\n",
      "2269000\n"
     ]
    },
    {
     "name": "stdout",
     "output_type": "stream",
     "text": [
      "# writing subsets/living_9-024-000007.tar 6643 1.0 GB 46501\n"
     ]
    },
    {
     "name": "stderr",
     "output_type": "stream",
     "text": [
      "2270000\n",
      "2271000\n",
      "2272000\n",
      "2273000\n",
      "2274000\n",
      "2275000\n",
      "2276000\n"
     ]
    },
    {
     "name": "stdout",
     "output_type": "stream",
     "text": [
      "# writing subsets/living_9-024-000008.tar 6643 1.0 GB 53144\n"
     ]
    },
    {
     "name": "stderr",
     "output_type": "stream",
     "text": [
      "2277000\n",
      "2278000\n",
      "2279000\n",
      "2280000\n",
      "2281000\n",
      "2282000\n"
     ]
    },
    {
     "name": "stdout",
     "output_type": "stream",
     "text": [
      "# writing subsets/living_9-024-000009.tar 6643 1.0 GB 59787\n"
     ]
    },
    {
     "name": "stderr",
     "output_type": "stream",
     "text": [
      "2283000\n",
      "2284000\n",
      "2285000\n",
      "2286000\n",
      "2287000\n",
      "2288000\n",
      "2289000\n"
     ]
    },
    {
     "name": "stdout",
     "output_type": "stream",
     "text": [
      "# writing subsets/living_9-024-000010.tar 6643 1.0 GB 66430\n"
     ]
    },
    {
     "name": "stderr",
     "output_type": "stream",
     "text": [
      "2290000\n",
      "2291000\n",
      "2292000\n",
      "2293000\n",
      "2294000\n",
      "2295000\n",
      "2296000\n"
     ]
    },
    {
     "name": "stdout",
     "output_type": "stream",
     "text": [
      "# writing subsets/living_9-024-000011.tar 6643 1.0 GB 73073\n"
     ]
    },
    {
     "name": "stderr",
     "output_type": "stream",
     "text": [
      "2297000\n",
      "2298000\n",
      "2299000\n",
      "2300000\n",
      "2301000\n",
      "2302000\n"
     ]
    },
    {
     "name": "stdout",
     "output_type": "stream",
     "text": [
      "# writing subsets/living_9-024-000012.tar 6643 1.0 GB 79716\n"
     ]
    },
    {
     "name": "stderr",
     "output_type": "stream",
     "text": [
      "2303000\n",
      "2304000\n",
      "2305000\n",
      "2306000\n",
      "2307000\n",
      "2308000\n",
      "2309000\n"
     ]
    },
    {
     "name": "stdout",
     "output_type": "stream",
     "text": [
      "# writing subsets/living_9-024-000013.tar 6643 1.0 GB 86359\n"
     ]
    },
    {
     "name": "stderr",
     "output_type": "stream",
     "text": [
      "2310000\n",
      "2311000\n",
      "2312000\n",
      "2313000\n",
      "2314000\n",
      "2315000\n"
     ]
    },
    {
     "name": "stdout",
     "output_type": "stream",
     "text": [
      "# writing subsets/living_9-025-000000.tar 0 0.0 GB 0\n"
     ]
    },
    {
     "name": "stderr",
     "output_type": "stream",
     "text": [
      "2316000\n",
      "2317000\n",
      "2318000\n",
      "2319000\n",
      "2320000\n",
      "2321000\n",
      "2322000\n"
     ]
    },
    {
     "name": "stdout",
     "output_type": "stream",
     "text": [
      "# writing subsets/living_9-025-000001.tar 6643 1.0 GB 6643\n"
     ]
    },
    {
     "name": "stderr",
     "output_type": "stream",
     "text": [
      "2323000\n",
      "2324000\n",
      "2325000\n",
      "2326000\n",
      "2327000\n",
      "2328000\n",
      "2329000\n"
     ]
    },
    {
     "name": "stdout",
     "output_type": "stream",
     "text": [
      "# writing subsets/living_9-025-000002.tar 6643 1.0 GB 13286\n"
     ]
    },
    {
     "name": "stderr",
     "output_type": "stream",
     "text": [
      "2330000\n",
      "2331000\n",
      "2332000\n",
      "2333000\n",
      "2334000\n",
      "2335000\n"
     ]
    },
    {
     "name": "stdout",
     "output_type": "stream",
     "text": [
      "# writing subsets/living_9-025-000003.tar 6643 1.0 GB 19929\n"
     ]
    },
    {
     "name": "stderr",
     "output_type": "stream",
     "text": [
      "2336000\n",
      "2337000\n",
      "2338000\n",
      "2339000\n",
      "2340000\n",
      "2341000\n",
      "2342000\n"
     ]
    },
    {
     "name": "stdout",
     "output_type": "stream",
     "text": [
      "# writing subsets/living_9-025-000004.tar 6643 1.0 GB 26572\n"
     ]
    },
    {
     "name": "stderr",
     "output_type": "stream",
     "text": [
      "2343000\n",
      "2344000\n",
      "2345000\n",
      "2346000\n",
      "2347000\n",
      "2348000\n",
      "2349000\n"
     ]
    },
    {
     "name": "stdout",
     "output_type": "stream",
     "text": [
      "# writing subsets/living_9-025-000005.tar 6643 1.0 GB 33215\n"
     ]
    },
    {
     "name": "stderr",
     "output_type": "stream",
     "text": [
      "2350000\n",
      "2351000\n",
      "2352000\n",
      "2353000\n",
      "2354000\n",
      "2355000\n"
     ]
    },
    {
     "name": "stdout",
     "output_type": "stream",
     "text": [
      "# writing subsets/living_9-025-000006.tar 6643 1.0 GB 39858\n"
     ]
    },
    {
     "name": "stderr",
     "output_type": "stream",
     "text": [
      "2356000\n",
      "2357000\n",
      "2358000\n",
      "2359000\n",
      "2360000\n",
      "2361000\n",
      "2362000\n"
     ]
    },
    {
     "name": "stdout",
     "output_type": "stream",
     "text": [
      "# writing subsets/living_9-025-000007.tar 6643 1.0 GB 46501\n"
     ]
    },
    {
     "name": "stderr",
     "output_type": "stream",
     "text": [
      "2363000\n",
      "2364000\n",
      "2365000\n",
      "2366000\n",
      "2367000\n",
      "2368000\n"
     ]
    },
    {
     "name": "stdout",
     "output_type": "stream",
     "text": [
      "# writing subsets/living_9-025-000008.tar 6643 1.0 GB 53144\n"
     ]
    },
    {
     "name": "stderr",
     "output_type": "stream",
     "text": [
      "2369000\n",
      "2370000\n",
      "2371000\n",
      "2372000\n",
      "2373000\n",
      "2374000\n",
      "2375000\n"
     ]
    },
    {
     "name": "stdout",
     "output_type": "stream",
     "text": [
      "# writing subsets/living_9-025-000009.tar 6643 1.0 GB 59787\n"
     ]
    },
    {
     "name": "stderr",
     "output_type": "stream",
     "text": [
      "2376000\n",
      "2377000\n",
      "2378000\n",
      "2379000\n",
      "2380000\n",
      "2381000\n",
      "2382000\n"
     ]
    },
    {
     "name": "stdout",
     "output_type": "stream",
     "text": [
      "# writing subsets/living_9-025-000010.tar 6643 1.0 GB 66430\n"
     ]
    },
    {
     "name": "stderr",
     "output_type": "stream",
     "text": [
      "2383000\n",
      "2384000\n",
      "2385000\n",
      "2386000\n",
      "2387000\n",
      "2388000\n"
     ]
    },
    {
     "name": "stdout",
     "output_type": "stream",
     "text": [
      "# writing subsets/living_9-025-000011.tar 6643 1.0 GB 73073\n"
     ]
    },
    {
     "name": "stderr",
     "output_type": "stream",
     "text": [
      "2389000\n",
      "2390000\n",
      "2391000\n",
      "2392000\n",
      "2393000\n",
      "2394000\n",
      "2395000\n"
     ]
    },
    {
     "name": "stdout",
     "output_type": "stream",
     "text": [
      "# writing subsets/living_9-025-000012.tar 6643 1.0 GB 79716\n"
     ]
    },
    {
     "name": "stderr",
     "output_type": "stream",
     "text": [
      "2396000\n",
      "2397000\n",
      "2398000\n",
      "2399000\n",
      "2400000\n",
      "2401000\n",
      "2402000\n"
     ]
    },
    {
     "name": "stdout",
     "output_type": "stream",
     "text": [
      "# writing subsets/living_9-025-000013.tar 6643 1.0 GB 86359\n"
     ]
    },
    {
     "name": "stderr",
     "output_type": "stream",
     "text": [
      "2403000\n",
      "2404000\n",
      "2405000\n",
      "2406000\n",
      "2407000\n",
      "2408000\n"
     ]
    },
    {
     "name": "stdout",
     "output_type": "stream",
     "text": [
      "# writing subsets/living_9-026-000000.tar 0 0.0 GB 0\n"
     ]
    },
    {
     "name": "stderr",
     "output_type": "stream",
     "text": [
      "2409000\n",
      "2410000\n",
      "2411000\n",
      "2412000\n",
      "2413000\n",
      "2414000\n",
      "2415000\n"
     ]
    },
    {
     "name": "stdout",
     "output_type": "stream",
     "text": [
      "# writing subsets/living_9-026-000001.tar 6643 1.0 GB 6643\n"
     ]
    },
    {
     "name": "stderr",
     "output_type": "stream",
     "text": [
      "2416000\n",
      "2417000\n",
      "2418000\n",
      "2419000\n",
      "2420000\n",
      "2421000\n"
     ]
    },
    {
     "name": "stdout",
     "output_type": "stream",
     "text": [
      "# writing subsets/living_9-026-000002.tar 6643 1.0 GB 13286\n"
     ]
    },
    {
     "name": "stderr",
     "output_type": "stream",
     "text": [
      "2422000\n",
      "2423000\n",
      "2424000\n",
      "2425000\n",
      "2426000\n",
      "2427000\n",
      "2428000\n"
     ]
    },
    {
     "name": "stdout",
     "output_type": "stream",
     "text": [
      "# writing subsets/living_9-026-000003.tar 6643 1.0 GB 19929\n"
     ]
    },
    {
     "name": "stderr",
     "output_type": "stream",
     "text": [
      "2429000\n",
      "2430000\n",
      "2431000\n",
      "2432000\n",
      "2433000\n",
      "2434000\n",
      "2435000\n"
     ]
    },
    {
     "name": "stdout",
     "output_type": "stream",
     "text": [
      "# writing subsets/living_9-026-000004.tar 6643 1.0 GB 26572\n"
     ]
    },
    {
     "name": "stderr",
     "output_type": "stream",
     "text": [
      "2436000\n",
      "2437000\n",
      "2438000\n",
      "2439000\n",
      "2440000\n",
      "2441000\n"
     ]
    },
    {
     "name": "stdout",
     "output_type": "stream",
     "text": [
      "# writing subsets/living_9-026-000005.tar 6643 1.0 GB 33215\n"
     ]
    },
    {
     "name": "stderr",
     "output_type": "stream",
     "text": [
      "2442000\n",
      "2443000\n",
      "2444000\n",
      "2445000\n",
      "2446000\n",
      "2447000\n",
      "2448000\n"
     ]
    },
    {
     "name": "stdout",
     "output_type": "stream",
     "text": [
      "# writing subsets/living_9-026-000006.tar 6643 1.0 GB 39858\n"
     ]
    },
    {
     "name": "stderr",
     "output_type": "stream",
     "text": [
      "2449000\n",
      "2450000\n",
      "2451000\n",
      "2452000\n",
      "2453000\n",
      "2454000\n"
     ]
    },
    {
     "name": "stdout",
     "output_type": "stream",
     "text": [
      "# writing subsets/living_9-026-000007.tar 6643 1.0 GB 46501\n"
     ]
    },
    {
     "name": "stderr",
     "output_type": "stream",
     "text": [
      "2455000\n",
      "2456000\n",
      "2457000\n",
      "2458000\n",
      "2459000\n",
      "2460000\n",
      "2461000\n"
     ]
    },
    {
     "name": "stdout",
     "output_type": "stream",
     "text": [
      "# writing subsets/living_9-026-000008.tar 6643 1.0 GB 53144\n"
     ]
    },
    {
     "name": "stderr",
     "output_type": "stream",
     "text": [
      "2462000\n",
      "2463000\n",
      "2464000\n",
      "2465000\n",
      "2466000\n",
      "2467000\n",
      "2468000\n"
     ]
    },
    {
     "name": "stdout",
     "output_type": "stream",
     "text": [
      "# writing subsets/living_9-026-000009.tar 6643 1.0 GB 59787\n"
     ]
    },
    {
     "name": "stderr",
     "output_type": "stream",
     "text": [
      "2469000\n",
      "2470000\n",
      "2471000\n",
      "2472000\n",
      "2473000\n",
      "2474000\n"
     ]
    },
    {
     "name": "stdout",
     "output_type": "stream",
     "text": [
      "# writing subsets/living_9-026-000010.tar 6643 1.0 GB 66430\n"
     ]
    },
    {
     "name": "stderr",
     "output_type": "stream",
     "text": [
      "2475000\n",
      "2476000\n",
      "2477000\n",
      "2478000\n",
      "2479000\n",
      "2480000\n",
      "2481000\n"
     ]
    },
    {
     "name": "stdout",
     "output_type": "stream",
     "text": [
      "# writing subsets/living_9-026-000011.tar 6643 1.0 GB 73073\n"
     ]
    },
    {
     "name": "stderr",
     "output_type": "stream",
     "text": [
      "2482000\n",
      "2483000\n",
      "2484000\n",
      "2485000\n",
      "2486000\n",
      "2487000\n",
      "2488000\n"
     ]
    },
    {
     "name": "stdout",
     "output_type": "stream",
     "text": [
      "# writing subsets/living_9-026-000012.tar 6643 1.0 GB 79716\n"
     ]
    },
    {
     "name": "stderr",
     "output_type": "stream",
     "text": [
      "2489000\n",
      "2490000\n",
      "2491000\n",
      "2492000\n",
      "2493000\n",
      "2494000\n"
     ]
    },
    {
     "name": "stdout",
     "output_type": "stream",
     "text": [
      "# writing subsets/living_9-026-000013.tar 6643 1.0 GB 86359\n"
     ]
    },
    {
     "name": "stderr",
     "output_type": "stream",
     "text": [
      "2495000\n",
      "2496000\n",
      "2497000\n",
      "2498000\n",
      "2499000\n",
      "2500000\n"
     ]
    },
    {
     "name": "stdout",
     "output_type": "stream",
     "text": [
      "# writing subsets/living_9-027-000000.tar 0 0.0 GB 0\n"
     ]
    },
    {
     "name": "stderr",
     "output_type": "stream",
     "text": [
      "2501000\n",
      "2502000\n",
      "2503000\n",
      "2504000\n",
      "2505000\n",
      "2506000\n",
      "2507000\n"
     ]
    },
    {
     "name": "stdout",
     "output_type": "stream",
     "text": [
      "# writing subsets/living_9-027-000001.tar 6643 1.0 GB 6643\n"
     ]
    },
    {
     "name": "stderr",
     "output_type": "stream",
     "text": [
      "2508000\n",
      "2509000\n",
      "2510000\n",
      "2511000\n",
      "2512000\n",
      "2513000\n",
      "2514000\n"
     ]
    },
    {
     "name": "stdout",
     "output_type": "stream",
     "text": [
      "# writing subsets/living_9-027-000002.tar 6643 1.0 GB 13286\n"
     ]
    },
    {
     "name": "stderr",
     "output_type": "stream",
     "text": [
      "2515000\n",
      "2516000\n",
      "2517000\n",
      "2518000\n",
      "2519000\n",
      "2520000\n"
     ]
    },
    {
     "name": "stdout",
     "output_type": "stream",
     "text": [
      "# writing subsets/living_9-027-000003.tar 6643 1.0 GB 19929\n"
     ]
    },
    {
     "name": "stderr",
     "output_type": "stream",
     "text": [
      "2521000\n",
      "2522000\n",
      "2523000\n",
      "2524000\n",
      "2525000\n",
      "2526000\n",
      "2527000\n"
     ]
    },
    {
     "name": "stdout",
     "output_type": "stream",
     "text": [
      "# writing subsets/living_9-027-000004.tar 6643 1.0 GB 26572\n"
     ]
    },
    {
     "name": "stderr",
     "output_type": "stream",
     "text": [
      "2528000\n",
      "2529000\n",
      "2530000\n",
      "2531000\n",
      "2532000\n",
      "2533000\n",
      "2534000\n"
     ]
    },
    {
     "name": "stdout",
     "output_type": "stream",
     "text": [
      "# writing subsets/living_9-027-000005.tar 6643 1.0 GB 33215\n"
     ]
    },
    {
     "name": "stderr",
     "output_type": "stream",
     "text": [
      "2535000\n",
      "2536000\n",
      "2537000\n",
      "2538000\n",
      "2539000\n",
      "2540000\n"
     ]
    },
    {
     "name": "stdout",
     "output_type": "stream",
     "text": [
      "# writing subsets/living_9-027-000006.tar 6643 1.0 GB 39858\n"
     ]
    },
    {
     "name": "stderr",
     "output_type": "stream",
     "text": [
      "2541000\n",
      "2542000\n",
      "2543000\n",
      "2544000\n",
      "2545000\n",
      "2546000\n",
      "2547000\n"
     ]
    },
    {
     "name": "stdout",
     "output_type": "stream",
     "text": [
      "# writing subsets/living_9-027-000007.tar 6643 1.0 GB 46501\n"
     ]
    },
    {
     "name": "stderr",
     "output_type": "stream",
     "text": [
      "2548000\n",
      "2549000\n",
      "2550000\n",
      "2551000\n",
      "2552000\n",
      "2553000\n",
      "2554000\n"
     ]
    },
    {
     "name": "stdout",
     "output_type": "stream",
     "text": [
      "# writing subsets/living_9-027-000008.tar 6643 1.0 GB 53144\n"
     ]
    },
    {
     "name": "stderr",
     "output_type": "stream",
     "text": [
      "2555000\n",
      "2556000\n",
      "2557000\n",
      "2558000\n",
      "2559000\n",
      "2560000\n"
     ]
    },
    {
     "name": "stdout",
     "output_type": "stream",
     "text": [
      "# writing subsets/living_9-027-000009.tar 6643 1.0 GB 59787\n"
     ]
    },
    {
     "name": "stderr",
     "output_type": "stream",
     "text": [
      "2561000\n",
      "2562000\n",
      "2563000\n",
      "2564000\n",
      "2565000\n",
      "2566000\n",
      "2567000\n"
     ]
    },
    {
     "name": "stdout",
     "output_type": "stream",
     "text": [
      "# writing subsets/living_9-027-000010.tar 6643 1.0 GB 66430\n"
     ]
    },
    {
     "name": "stderr",
     "output_type": "stream",
     "text": [
      "2568000\n",
      "2569000\n",
      "2570000\n",
      "2571000\n",
      "2572000\n",
      "2573000\n",
      "2574000\n"
     ]
    },
    {
     "name": "stdout",
     "output_type": "stream",
     "text": [
      "# writing subsets/living_9-027-000011.tar 6643 1.0 GB 73073\n"
     ]
    },
    {
     "name": "stderr",
     "output_type": "stream",
     "text": [
      "2575000\n",
      "2576000\n",
      "2577000\n",
      "2578000\n",
      "2579000\n",
      "2580000\n"
     ]
    },
    {
     "name": "stdout",
     "output_type": "stream",
     "text": [
      "# writing subsets/living_9-027-000012.tar 6643 1.0 GB 79716\n"
     ]
    },
    {
     "name": "stderr",
     "output_type": "stream",
     "text": [
      "2581000\n",
      "2582000\n",
      "2583000\n",
      "2584000\n",
      "2585000\n",
      "2586000\n",
      "2587000\n"
     ]
    },
    {
     "name": "stdout",
     "output_type": "stream",
     "text": [
      "# writing subsets/living_9-027-000013.tar 6643 1.0 GB 86359\n"
     ]
    },
    {
     "name": "stderr",
     "output_type": "stream",
     "text": [
      "2588000\n",
      "2589000\n",
      "2590000\n",
      "2591000\n",
      "2592000\n",
      "2593000\n"
     ]
    },
    {
     "name": "stdout",
     "output_type": "stream",
     "text": [
      "# writing subsets/living_9-028-000000.tar 0 0.0 GB 0\n"
     ]
    },
    {
     "name": "stderr",
     "output_type": "stream",
     "text": [
      "2594000\n",
      "2595000\n",
      "2596000\n",
      "2597000\n",
      "2598000\n",
      "2599000\n",
      "2600000\n"
     ]
    },
    {
     "name": "stdout",
     "output_type": "stream",
     "text": [
      "# writing subsets/living_9-028-000001.tar 6643 1.0 GB 6643\n"
     ]
    },
    {
     "name": "stderr",
     "output_type": "stream",
     "text": [
      "2601000\n",
      "2602000\n",
      "2603000\n",
      "2604000\n",
      "2605000\n",
      "2606000\n"
     ]
    },
    {
     "name": "stdout",
     "output_type": "stream",
     "text": [
      "# writing subsets/living_9-028-000002.tar 6643 1.0 GB 13286\n"
     ]
    },
    {
     "name": "stderr",
     "output_type": "stream",
     "text": [
      "2607000\n",
      "2608000\n",
      "2609000\n",
      "2610000\n",
      "2611000\n",
      "2612000\n",
      "2613000\n"
     ]
    },
    {
     "name": "stdout",
     "output_type": "stream",
     "text": [
      "# writing subsets/living_9-028-000003.tar 6643 1.0 GB 19929\n"
     ]
    },
    {
     "name": "stderr",
     "output_type": "stream",
     "text": [
      "2614000\n",
      "2615000\n",
      "2616000\n",
      "2617000\n",
      "2618000\n",
      "2619000\n",
      "2620000\n"
     ]
    },
    {
     "name": "stdout",
     "output_type": "stream",
     "text": [
      "# writing subsets/living_9-028-000004.tar 6643 1.0 GB 26572\n"
     ]
    },
    {
     "name": "stderr",
     "output_type": "stream",
     "text": [
      "2621000\n",
      "2622000\n",
      "2623000\n",
      "2624000\n",
      "2625000\n",
      "2626000\n"
     ]
    },
    {
     "name": "stdout",
     "output_type": "stream",
     "text": [
      "# writing subsets/living_9-028-000005.tar 6643 1.0 GB 33215\n"
     ]
    },
    {
     "name": "stderr",
     "output_type": "stream",
     "text": [
      "2627000\n",
      "2628000\n",
      "2629000\n",
      "2630000\n",
      "2631000\n",
      "2632000\n",
      "2633000\n"
     ]
    },
    {
     "name": "stdout",
     "output_type": "stream",
     "text": [
      "# writing subsets/living_9-028-000006.tar 6643 1.0 GB 39858\n"
     ]
    },
    {
     "name": "stderr",
     "output_type": "stream",
     "text": [
      "2634000\n",
      "2635000\n",
      "2636000\n",
      "2637000\n",
      "2638000\n",
      "2639000\n",
      "2640000\n"
     ]
    },
    {
     "name": "stdout",
     "output_type": "stream",
     "text": [
      "# writing subsets/living_9-028-000007.tar 6643 1.0 GB 46501\n"
     ]
    },
    {
     "name": "stderr",
     "output_type": "stream",
     "text": [
      "2641000\n",
      "2642000\n",
      "2643000\n",
      "2644000\n",
      "2645000\n",
      "2646000\n"
     ]
    },
    {
     "name": "stdout",
     "output_type": "stream",
     "text": [
      "# writing subsets/living_9-028-000008.tar 6643 1.0 GB 53144\n"
     ]
    },
    {
     "name": "stderr",
     "output_type": "stream",
     "text": [
      "2647000\n",
      "2648000\n",
      "2649000\n",
      "2650000\n",
      "2651000\n",
      "2652000\n",
      "2653000\n"
     ]
    },
    {
     "name": "stdout",
     "output_type": "stream",
     "text": [
      "# writing subsets/living_9-028-000009.tar 6643 1.0 GB 59787\n"
     ]
    },
    {
     "name": "stderr",
     "output_type": "stream",
     "text": [
      "2654000\n",
      "2655000\n",
      "2656000\n",
      "2657000\n",
      "2658000\n",
      "2659000\n",
      "2660000\n"
     ]
    },
    {
     "name": "stdout",
     "output_type": "stream",
     "text": [
      "# writing subsets/living_9-028-000010.tar 6643 1.0 GB 66430\n"
     ]
    },
    {
     "name": "stderr",
     "output_type": "stream",
     "text": [
      "2661000\n",
      "2662000\n",
      "2663000\n",
      "2664000\n",
      "2665000\n",
      "2666000\n"
     ]
    },
    {
     "name": "stdout",
     "output_type": "stream",
     "text": [
      "# writing subsets/living_9-028-000011.tar 6643 1.0 GB 73073\n"
     ]
    },
    {
     "name": "stderr",
     "output_type": "stream",
     "text": [
      "2667000\n",
      "2668000\n",
      "2669000\n",
      "2670000\n",
      "2671000\n",
      "2672000\n",
      "2673000\n"
     ]
    },
    {
     "name": "stdout",
     "output_type": "stream",
     "text": [
      "# writing subsets/living_9-028-000012.tar 6643 1.0 GB 79716\n"
     ]
    },
    {
     "name": "stderr",
     "output_type": "stream",
     "text": [
      "2674000\n",
      "2675000\n",
      "2676000\n",
      "2677000\n",
      "2678000\n",
      "2679000\n",
      "2680000\n"
     ]
    },
    {
     "name": "stdout",
     "output_type": "stream",
     "text": [
      "# writing subsets/living_9-028-000013.tar 6643 1.0 GB 86359\n"
     ]
    },
    {
     "name": "stderr",
     "output_type": "stream",
     "text": [
      "2681000\n",
      "2682000\n",
      "2683000\n",
      "2684000\n",
      "2685000\n",
      "2686000\n"
     ]
    },
    {
     "name": "stdout",
     "output_type": "stream",
     "text": [
      "# writing subsets/living_9-029-000000.tar 0 0.0 GB 0\n"
     ]
    },
    {
     "name": "stderr",
     "output_type": "stream",
     "text": [
      "2687000\n",
      "2688000\n",
      "2689000\n",
      "2690000\n",
      "2691000\n",
      "2692000\n"
     ]
    },
    {
     "name": "stdout",
     "output_type": "stream",
     "text": [
      "# writing subsets/living_9-029-000001.tar 6643 1.0 GB 6643\n"
     ]
    },
    {
     "name": "stderr",
     "output_type": "stream",
     "text": [
      "2693000\n",
      "2694000\n",
      "2695000\n",
      "2696000\n",
      "2697000\n",
      "2698000\n",
      "2699000\n"
     ]
    },
    {
     "name": "stdout",
     "output_type": "stream",
     "text": [
      "# writing subsets/living_9-029-000002.tar 6643 1.0 GB 13286\n"
     ]
    },
    {
     "name": "stderr",
     "output_type": "stream",
     "text": [
      "2700000\n",
      "2701000\n",
      "2702000\n",
      "2703000\n",
      "2704000\n",
      "2705000\n",
      "2706000\n"
     ]
    },
    {
     "name": "stdout",
     "output_type": "stream",
     "text": [
      "# writing subsets/living_9-029-000003.tar 6643 1.0 GB 19929\n"
     ]
    },
    {
     "name": "stderr",
     "output_type": "stream",
     "text": [
      "2707000\n",
      "2708000\n",
      "2709000\n",
      "2710000\n",
      "2711000\n",
      "2712000\n"
     ]
    },
    {
     "name": "stdout",
     "output_type": "stream",
     "text": [
      "# writing subsets/living_9-029-000004.tar 6643 1.0 GB 26572\n"
     ]
    },
    {
     "name": "stderr",
     "output_type": "stream",
     "text": [
      "2713000\n",
      "2714000\n",
      "2715000\n",
      "2716000\n",
      "2717000\n",
      "2718000\n",
      "2719000\n"
     ]
    },
    {
     "name": "stdout",
     "output_type": "stream",
     "text": [
      "# writing subsets/living_9-029-000005.tar 6643 1.0 GB 33215\n"
     ]
    },
    {
     "name": "stderr",
     "output_type": "stream",
     "text": [
      "2720000\n",
      "2721000\n",
      "2722000\n",
      "2723000\n",
      "2724000\n",
      "2725000\n",
      "2726000\n"
     ]
    },
    {
     "name": "stdout",
     "output_type": "stream",
     "text": [
      "# writing subsets/living_9-029-000006.tar 6643 1.0 GB 39858\n"
     ]
    },
    {
     "name": "stderr",
     "output_type": "stream",
     "text": [
      "2727000\n",
      "2728000\n",
      "2729000\n",
      "2730000\n",
      "2731000\n",
      "2732000\n"
     ]
    },
    {
     "name": "stdout",
     "output_type": "stream",
     "text": [
      "# writing subsets/living_9-029-000007.tar 6643 1.0 GB 46501\n"
     ]
    },
    {
     "name": "stderr",
     "output_type": "stream",
     "text": [
      "2733000\n",
      "2734000\n",
      "2735000\n",
      "2736000\n",
      "2737000\n",
      "2738000\n",
      "2739000\n"
     ]
    },
    {
     "name": "stdout",
     "output_type": "stream",
     "text": [
      "# writing subsets/living_9-029-000008.tar 6643 1.0 GB 53144\n"
     ]
    },
    {
     "name": "stderr",
     "output_type": "stream",
     "text": [
      "2740000\n",
      "2741000\n",
      "2742000\n",
      "2743000\n",
      "2744000\n",
      "2745000\n",
      "2746000\n"
     ]
    },
    {
     "name": "stdout",
     "output_type": "stream",
     "text": [
      "# writing subsets/living_9-029-000009.tar 6643 1.0 GB 59787\n"
     ]
    },
    {
     "name": "stderr",
     "output_type": "stream",
     "text": [
      "2747000\n",
      "2748000\n",
      "2749000\n",
      "2750000\n",
      "2751000\n",
      "2752000\n"
     ]
    },
    {
     "name": "stdout",
     "output_type": "stream",
     "text": [
      "# writing subsets/living_9-029-000010.tar 6643 1.0 GB 66430\n"
     ]
    },
    {
     "name": "stderr",
     "output_type": "stream",
     "text": [
      "2753000\n",
      "2754000\n",
      "2755000\n",
      "2756000\n",
      "2757000\n",
      "2758000\n",
      "2759000\n"
     ]
    },
    {
     "name": "stdout",
     "output_type": "stream",
     "text": [
      "# writing subsets/living_9-029-000011.tar 6643 1.0 GB 73073\n"
     ]
    },
    {
     "name": "stderr",
     "output_type": "stream",
     "text": [
      "2760000\n",
      "2761000\n",
      "2762000\n",
      "2763000\n",
      "2764000\n",
      "2765000\n",
      "2766000\n"
     ]
    },
    {
     "name": "stdout",
     "output_type": "stream",
     "text": [
      "# writing subsets/living_9-029-000012.tar 6643 1.0 GB 79716\n"
     ]
    },
    {
     "name": "stderr",
     "output_type": "stream",
     "text": [
      "2767000\n",
      "2768000\n",
      "2769000\n",
      "2770000\n",
      "2771000\n",
      "2772000\n"
     ]
    },
    {
     "name": "stdout",
     "output_type": "stream",
     "text": [
      "# writing subsets/living_9-029-000013.tar 6643 1.0 GB 86359\n"
     ]
    },
    {
     "name": "stderr",
     "output_type": "stream",
     "text": [
      "2773000\n",
      "2774000\n",
      "2775000\n",
      "2776000\n",
      "2777000\n",
      "2778000\n"
     ]
    },
    {
     "name": "stdout",
     "output_type": "stream",
     "text": [
      "# writing subsets/living_9-030-000000.tar 0 0.0 GB 0\n"
     ]
    },
    {
     "name": "stderr",
     "output_type": "stream",
     "text": [
      "2779000\n",
      "2780000\n",
      "2781000\n",
      "2782000\n",
      "2783000\n",
      "2784000\n",
      "2785000\n"
     ]
    },
    {
     "name": "stdout",
     "output_type": "stream",
     "text": [
      "# writing subsets/living_9-030-000001.tar 6643 1.0 GB 6643\n"
     ]
    },
    {
     "name": "stderr",
     "output_type": "stream",
     "text": [
      "2786000\n",
      "2787000\n",
      "2788000\n",
      "2789000\n",
      "2790000\n",
      "2791000\n",
      "2792000\n"
     ]
    },
    {
     "name": "stdout",
     "output_type": "stream",
     "text": [
      "# writing subsets/living_9-030-000002.tar 6643 1.0 GB 13286\n"
     ]
    },
    {
     "name": "stderr",
     "output_type": "stream",
     "text": [
      "2793000\n",
      "2794000\n",
      "2795000\n",
      "2796000\n",
      "2797000\n",
      "2798000\n"
     ]
    },
    {
     "name": "stdout",
     "output_type": "stream",
     "text": [
      "# writing subsets/living_9-030-000003.tar 6643 1.0 GB 19929\n"
     ]
    },
    {
     "name": "stderr",
     "output_type": "stream",
     "text": [
      "2799000\n",
      "2800000\n",
      "2801000\n",
      "2802000\n",
      "2803000\n",
      "2804000\n",
      "2805000\n"
     ]
    },
    {
     "name": "stdout",
     "output_type": "stream",
     "text": [
      "# writing subsets/living_9-030-000004.tar 6643 1.0 GB 26572\n"
     ]
    },
    {
     "name": "stderr",
     "output_type": "stream",
     "text": [
      "2806000\n",
      "2807000\n",
      "2808000\n",
      "2809000\n",
      "2810000\n",
      "2811000\n",
      "2812000\n"
     ]
    },
    {
     "name": "stdout",
     "output_type": "stream",
     "text": [
      "# writing subsets/living_9-030-000005.tar 6643 1.0 GB 33215\n"
     ]
    },
    {
     "name": "stderr",
     "output_type": "stream",
     "text": [
      "2813000\n",
      "2814000\n",
      "2815000\n",
      "2816000\n",
      "2817000\n",
      "2818000\n"
     ]
    },
    {
     "name": "stdout",
     "output_type": "stream",
     "text": [
      "# writing subsets/living_9-030-000006.tar 6643 1.0 GB 39858\n"
     ]
    },
    {
     "name": "stderr",
     "output_type": "stream",
     "text": [
      "2819000\n",
      "2820000\n",
      "2821000\n",
      "2822000\n",
      "2823000\n",
      "2824000\n",
      "2825000\n"
     ]
    },
    {
     "name": "stdout",
     "output_type": "stream",
     "text": [
      "# writing subsets/living_9-030-000007.tar 6643 1.0 GB 46501\n"
     ]
    },
    {
     "name": "stderr",
     "output_type": "stream",
     "text": [
      "2826000\n",
      "2827000\n",
      "2828000\n",
      "2829000\n",
      "2830000\n",
      "2831000\n",
      "2832000\n"
     ]
    },
    {
     "name": "stdout",
     "output_type": "stream",
     "text": [
      "# writing subsets/living_9-030-000008.tar 6643 1.0 GB 53144\n"
     ]
    },
    {
     "name": "stderr",
     "output_type": "stream",
     "text": [
      "2833000\n",
      "2834000\n",
      "2835000\n",
      "2836000\n",
      "2837000\n",
      "2838000\n"
     ]
    },
    {
     "name": "stdout",
     "output_type": "stream",
     "text": [
      "# writing subsets/living_9-030-000009.tar 6643 1.0 GB 59787\n"
     ]
    },
    {
     "name": "stderr",
     "output_type": "stream",
     "text": [
      "2839000\n",
      "2840000\n",
      "2841000\n",
      "2842000\n",
      "2843000\n",
      "2844000\n",
      "2845000\n"
     ]
    },
    {
     "name": "stdout",
     "output_type": "stream",
     "text": [
      "# writing subsets/living_9-030-000010.tar 6643 1.0 GB 66430\n"
     ]
    },
    {
     "name": "stderr",
     "output_type": "stream",
     "text": [
      "2846000\n",
      "2847000\n",
      "2848000\n",
      "2849000\n",
      "2850000\n",
      "2851000\n",
      "2852000\n"
     ]
    },
    {
     "name": "stdout",
     "output_type": "stream",
     "text": [
      "# writing subsets/living_9-030-000011.tar 6643 1.0 GB 73073\n"
     ]
    },
    {
     "name": "stderr",
     "output_type": "stream",
     "text": [
      "2853000\n",
      "2854000\n",
      "2855000\n",
      "2856000\n",
      "2857000\n",
      "2858000\n"
     ]
    },
    {
     "name": "stdout",
     "output_type": "stream",
     "text": [
      "# writing subsets/living_9-030-000012.tar 6643 1.0 GB 79716\n"
     ]
    },
    {
     "name": "stderr",
     "output_type": "stream",
     "text": [
      "2859000\n",
      "2860000\n",
      "2861000\n",
      "2862000\n",
      "2863000\n",
      "2864000\n",
      "2865000\n"
     ]
    },
    {
     "name": "stdout",
     "output_type": "stream",
     "text": [
      "# writing subsets/living_9-030-000013.tar 6643 1.0 GB 86359\n"
     ]
    },
    {
     "name": "stderr",
     "output_type": "stream",
     "text": [
      "2866000\n",
      "2867000\n",
      "2868000\n",
      "2869000\n",
      "2870000\n",
      "2871000\n"
     ]
    },
    {
     "name": "stdout",
     "output_type": "stream",
     "text": [
      "# writing subsets/living_9-031-000000.tar 0 0.0 GB 0\n"
     ]
    },
    {
     "name": "stderr",
     "output_type": "stream",
     "text": [
      "2872000\n",
      "2873000\n",
      "2874000\n",
      "2875000\n",
      "2876000\n",
      "2877000\n",
      "2878000\n"
     ]
    },
    {
     "name": "stdout",
     "output_type": "stream",
     "text": [
      "# writing subsets/living_9-031-000001.tar 6643 1.0 GB 6643\n"
     ]
    },
    {
     "name": "stderr",
     "output_type": "stream",
     "text": [
      "2879000\n",
      "2880000\n",
      "2881000\n",
      "2882000\n",
      "2883000\n",
      "2884000\n"
     ]
    },
    {
     "name": "stdout",
     "output_type": "stream",
     "text": [
      "# writing subsets/living_9-031-000002.tar 6643 1.0 GB 13286\n"
     ]
    },
    {
     "name": "stderr",
     "output_type": "stream",
     "text": [
      "2885000\n",
      "2886000\n",
      "2887000\n",
      "2888000\n",
      "2889000\n",
      "2890000\n",
      "2891000\n"
     ]
    },
    {
     "name": "stdout",
     "output_type": "stream",
     "text": [
      "# writing subsets/living_9-031-000003.tar 6643 1.0 GB 19929\n"
     ]
    },
    {
     "name": "stderr",
     "output_type": "stream",
     "text": [
      "2892000\n",
      "2893000\n",
      "2894000\n",
      "2895000\n",
      "2896000\n",
      "2897000\n",
      "2898000\n"
     ]
    },
    {
     "name": "stdout",
     "output_type": "stream",
     "text": [
      "# writing subsets/living_9-031-000004.tar 6643 1.0 GB 26572\n"
     ]
    },
    {
     "name": "stderr",
     "output_type": "stream",
     "text": [
      "2899000\n",
      "2900000\n",
      "2901000\n",
      "2902000\n",
      "2903000\n",
      "2904000\n"
     ]
    },
    {
     "name": "stdout",
     "output_type": "stream",
     "text": [
      "# writing subsets/living_9-031-000005.tar 6643 1.0 GB 33215\n"
     ]
    },
    {
     "name": "stderr",
     "output_type": "stream",
     "text": [
      "2905000\n",
      "2906000\n",
      "2907000\n",
      "2908000\n",
      "2909000\n",
      "2910000\n",
      "2911000\n"
     ]
    },
    {
     "name": "stdout",
     "output_type": "stream",
     "text": [
      "# writing subsets/living_9-031-000006.tar 6643 1.0 GB 39858\n"
     ]
    },
    {
     "name": "stderr",
     "output_type": "stream",
     "text": [
      "2912000\n",
      "2913000\n",
      "2914000\n",
      "2915000\n",
      "2916000\n",
      "2917000\n",
      "2918000\n"
     ]
    },
    {
     "name": "stdout",
     "output_type": "stream",
     "text": [
      "# writing subsets/living_9-031-000007.tar 6643 1.0 GB 46501\n"
     ]
    },
    {
     "name": "stderr",
     "output_type": "stream",
     "text": [
      "2919000\n",
      "2920000\n",
      "2921000\n",
      "2922000\n",
      "2923000\n",
      "2924000\n"
     ]
    },
    {
     "name": "stdout",
     "output_type": "stream",
     "text": [
      "# writing subsets/living_9-031-000008.tar 6643 1.0 GB 53144\n"
     ]
    },
    {
     "name": "stderr",
     "output_type": "stream",
     "text": [
      "2925000\n",
      "2926000\n",
      "2927000\n",
      "2928000\n",
      "2929000\n",
      "2930000\n",
      "2931000\n"
     ]
    },
    {
     "name": "stdout",
     "output_type": "stream",
     "text": [
      "# writing subsets/living_9-031-000009.tar 6643 1.0 GB 59787\n"
     ]
    },
    {
     "name": "stderr",
     "output_type": "stream",
     "text": [
      "2932000\n",
      "2933000\n",
      "2934000\n",
      "2935000\n",
      "2936000\n",
      "2937000\n",
      "2938000\n"
     ]
    },
    {
     "name": "stdout",
     "output_type": "stream",
     "text": [
      "# writing subsets/living_9-031-000010.tar 6643 1.0 GB 66430\n"
     ]
    },
    {
     "name": "stderr",
     "output_type": "stream",
     "text": [
      "2939000\n",
      "2940000\n",
      "2941000\n",
      "2942000\n",
      "2943000\n",
      "2944000\n"
     ]
    },
    {
     "name": "stdout",
     "output_type": "stream",
     "text": [
      "# writing subsets/living_9-031-000011.tar 6643 1.0 GB 73073\n"
     ]
    },
    {
     "name": "stderr",
     "output_type": "stream",
     "text": [
      "2945000\n",
      "2946000\n",
      "2947000\n",
      "2948000\n",
      "2949000\n",
      "2950000\n",
      "2951000\n"
     ]
    },
    {
     "name": "stdout",
     "output_type": "stream",
     "text": [
      "# writing subsets/living_9-031-000012.tar 6643 1.0 GB 79716\n"
     ]
    },
    {
     "name": "stderr",
     "output_type": "stream",
     "text": [
      "2952000\n",
      "2953000\n",
      "2954000\n",
      "2955000\n",
      "2956000\n",
      "2957000\n"
     ]
    },
    {
     "name": "stdout",
     "output_type": "stream",
     "text": [
      "# writing subsets/living_9-031-000013.tar 6643 1.0 GB 86359\n"
     ]
    },
    {
     "name": "stderr",
     "output_type": "stream",
     "text": [
      "2958000\n",
      "2959000\n",
      "2960000\n",
      "2961000\n",
      "2962000\n",
      "2963000\n",
      "2964000\n"
     ]
    },
    {
     "name": "stdout",
     "output_type": "stream",
     "text": [
      "# writing subsets/living_9-032-000000.tar 0 0.0 GB 0\n"
     ]
    },
    {
     "name": "stderr",
     "output_type": "stream",
     "text": [
      "2965000\n",
      "2966000\n",
      "2967000\n",
      "2968000\n",
      "2969000\n",
      "2970000\n"
     ]
    },
    {
     "name": "stdout",
     "output_type": "stream",
     "text": [
      "# writing subsets/living_9-032-000001.tar 6643 1.0 GB 6643\n"
     ]
    },
    {
     "name": "stderr",
     "output_type": "stream",
     "text": [
      "2971000\n",
      "2972000\n",
      "2973000\n",
      "2974000\n",
      "2975000\n",
      "2976000\n",
      "2977000\n"
     ]
    },
    {
     "name": "stdout",
     "output_type": "stream",
     "text": [
      "# writing subsets/living_9-032-000002.tar 6643 1.0 GB 13286\n"
     ]
    },
    {
     "name": "stderr",
     "output_type": "stream",
     "text": [
      "2978000\n",
      "2979000\n",
      "2980000\n",
      "2981000\n",
      "2982000\n",
      "2983000\n",
      "2984000\n"
     ]
    },
    {
     "name": "stdout",
     "output_type": "stream",
     "text": [
      "# writing subsets/living_9-032-000003.tar 6643 1.0 GB 19929\n"
     ]
    },
    {
     "name": "stderr",
     "output_type": "stream",
     "text": [
      "2985000\n",
      "2986000\n",
      "2987000\n",
      "2988000\n",
      "2989000\n",
      "2990000\n"
     ]
    },
    {
     "name": "stdout",
     "output_type": "stream",
     "text": [
      "# writing subsets/living_9-032-000004.tar 6643 1.0 GB 26572\n"
     ]
    },
    {
     "name": "stderr",
     "output_type": "stream",
     "text": [
      "2991000\n",
      "2992000\n",
      "2993000\n",
      "2994000\n",
      "2995000\n",
      "2996000\n",
      "2997000\n"
     ]
    },
    {
     "name": "stdout",
     "output_type": "stream",
     "text": [
      "# writing subsets/living_9-032-000005.tar 6643 1.0 GB 33215\n"
     ]
    },
    {
     "name": "stderr",
     "output_type": "stream",
     "text": [
      "2998000\n",
      "2999000\n",
      "3000000\n",
      "3001000\n",
      "3002000\n",
      "3003000\n",
      "3004000\n"
     ]
    },
    {
     "name": "stdout",
     "output_type": "stream",
     "text": [
      "# writing subsets/living_9-032-000006.tar 6643 1.0 GB 39858\n"
     ]
    },
    {
     "name": "stderr",
     "output_type": "stream",
     "text": [
      "3005000\n",
      "3006000\n",
      "3007000\n",
      "3008000\n",
      "3009000\n",
      "3010000\n"
     ]
    },
    {
     "name": "stdout",
     "output_type": "stream",
     "text": [
      "# writing subsets/living_9-032-000007.tar 6643 1.0 GB 46501\n"
     ]
    },
    {
     "name": "stderr",
     "output_type": "stream",
     "text": [
      "3011000\n",
      "3012000\n",
      "3013000\n",
      "3014000\n",
      "3015000\n",
      "3016000\n",
      "3017000\n"
     ]
    },
    {
     "name": "stdout",
     "output_type": "stream",
     "text": [
      "# writing subsets/living_9-032-000008.tar 6643 1.0 GB 53144\n"
     ]
    },
    {
     "name": "stderr",
     "output_type": "stream",
     "text": [
      "3018000\n",
      "3019000\n",
      "3020000\n",
      "3021000\n",
      "3022000\n",
      "3023000\n",
      "3024000\n"
     ]
    },
    {
     "name": "stdout",
     "output_type": "stream",
     "text": [
      "# writing subsets/living_9-032-000009.tar 6643 1.0 GB 59787\n"
     ]
    },
    {
     "name": "stderr",
     "output_type": "stream",
     "text": [
      "3025000\n",
      "3026000\n",
      "3027000\n",
      "3028000\n",
      "3029000\n",
      "3030000\n"
     ]
    },
    {
     "name": "stdout",
     "output_type": "stream",
     "text": [
      "# writing subsets/living_9-032-000010.tar 6643 1.0 GB 66430\n"
     ]
    },
    {
     "name": "stderr",
     "output_type": "stream",
     "text": [
      "3031000\n",
      "3032000\n",
      "3033000\n",
      "3034000\n",
      "3035000\n",
      "3036000\n",
      "3037000\n"
     ]
    },
    {
     "name": "stdout",
     "output_type": "stream",
     "text": [
      "# writing subsets/living_9-032-000011.tar 6643 1.0 GB 73073\n"
     ]
    },
    {
     "name": "stderr",
     "output_type": "stream",
     "text": [
      "3038000\n",
      "3039000\n",
      "3040000\n",
      "3041000\n",
      "3042000\n",
      "3043000\n"
     ]
    },
    {
     "name": "stdout",
     "output_type": "stream",
     "text": [
      "# writing subsets/living_9-032-000012.tar 6643 1.0 GB 79716\n"
     ]
    },
    {
     "name": "stderr",
     "output_type": "stream",
     "text": [
      "3044000\n",
      "3045000\n",
      "3046000\n",
      "3047000\n",
      "3048000\n",
      "3049000\n",
      "3050000\n"
     ]
    },
    {
     "name": "stdout",
     "output_type": "stream",
     "text": [
      "# writing subsets/living_9-032-000013.tar 6643 1.0 GB 86359\n"
     ]
    },
    {
     "name": "stderr",
     "output_type": "stream",
     "text": [
      "3051000\n",
      "3052000\n",
      "3053000\n",
      "3054000\n",
      "3055000\n",
      "3056000\n"
     ]
    },
    {
     "name": "stdout",
     "output_type": "stream",
     "text": [
      "# writing subsets/living_9-033-000000.tar 0 0.0 GB 0\n"
     ]
    },
    {
     "name": "stderr",
     "output_type": "stream",
     "text": [
      "3057000\n",
      "3058000\n",
      "3059000\n",
      "3060000\n",
      "3061000\n",
      "3062000\n",
      "3063000\n"
     ]
    },
    {
     "name": "stdout",
     "output_type": "stream",
     "text": [
      "# writing subsets/living_9-033-000001.tar 6643 1.0 GB 6643\n"
     ]
    },
    {
     "name": "stderr",
     "output_type": "stream",
     "text": [
      "3064000\n",
      "3065000\n",
      "3066000\n",
      "3067000\n",
      "3068000\n",
      "3069000\n",
      "3070000\n"
     ]
    },
    {
     "name": "stdout",
     "output_type": "stream",
     "text": [
      "# writing subsets/living_9-033-000002.tar 6643 1.0 GB 13286\n"
     ]
    },
    {
     "name": "stderr",
     "output_type": "stream",
     "text": [
      "3071000\n",
      "3072000\n",
      "3073000\n",
      "3074000\n",
      "3075000\n",
      "3076000\n"
     ]
    },
    {
     "name": "stdout",
     "output_type": "stream",
     "text": [
      "# writing subsets/living_9-033-000003.tar 6643 1.0 GB 19929\n"
     ]
    },
    {
     "name": "stderr",
     "output_type": "stream",
     "text": [
      "3077000\n",
      "3078000\n",
      "3079000\n",
      "3080000\n",
      "3081000\n",
      "3082000\n",
      "3083000\n"
     ]
    },
    {
     "name": "stdout",
     "output_type": "stream",
     "text": [
      "# writing subsets/living_9-033-000004.tar 6643 1.0 GB 26572\n"
     ]
    },
    {
     "name": "stderr",
     "output_type": "stream",
     "text": [
      "3084000\n",
      "3085000\n",
      "3086000\n",
      "3087000\n",
      "3088000\n",
      "3089000\n",
      "3090000\n"
     ]
    },
    {
     "name": "stdout",
     "output_type": "stream",
     "text": [
      "# writing subsets/living_9-033-000005.tar 6643 1.0 GB 33215\n"
     ]
    },
    {
     "name": "stderr",
     "output_type": "stream",
     "text": [
      "3091000\n",
      "3092000\n",
      "3093000\n",
      "3094000\n",
      "3095000\n",
      "3096000\n"
     ]
    },
    {
     "name": "stdout",
     "output_type": "stream",
     "text": [
      "# writing subsets/living_9-033-000006.tar 6643 1.0 GB 39858\n"
     ]
    },
    {
     "name": "stderr",
     "output_type": "stream",
     "text": [
      "3097000\n",
      "3098000\n",
      "3099000\n",
      "3100000\n",
      "3101000\n",
      "3102000\n",
      "3103000\n"
     ]
    },
    {
     "name": "stdout",
     "output_type": "stream",
     "text": [
      "# writing subsets/living_9-033-000007.tar 6643 1.0 GB 46501\n"
     ]
    },
    {
     "name": "stderr",
     "output_type": "stream",
     "text": [
      "3104000\n",
      "3105000\n",
      "3106000\n",
      "3107000\n",
      "3108000\n",
      "3109000\n",
      "3110000\n"
     ]
    },
    {
     "name": "stdout",
     "output_type": "stream",
     "text": [
      "# writing subsets/living_9-033-000008.tar 6643 1.0 GB 53144\n"
     ]
    },
    {
     "name": "stderr",
     "output_type": "stream",
     "text": [
      "3111000\n",
      "3112000\n",
      "3113000\n",
      "3114000\n",
      "3115000\n",
      "3116000\n"
     ]
    },
    {
     "name": "stdout",
     "output_type": "stream",
     "text": [
      "# writing subsets/living_9-033-000009.tar 6643 1.0 GB 59787\n"
     ]
    },
    {
     "name": "stderr",
     "output_type": "stream",
     "text": [
      "3117000\n",
      "3118000\n",
      "3119000\n",
      "3120000\n",
      "3121000\n",
      "3122000\n",
      "3123000\n"
     ]
    },
    {
     "name": "stdout",
     "output_type": "stream",
     "text": [
      "# writing subsets/living_9-033-000010.tar 6643 1.0 GB 66430\n"
     ]
    },
    {
     "name": "stderr",
     "output_type": "stream",
     "text": [
      "3124000\n",
      "3125000\n",
      "3126000\n",
      "3127000\n",
      "3128000\n",
      "3129000\n"
     ]
    },
    {
     "name": "stdout",
     "output_type": "stream",
     "text": [
      "# writing subsets/living_9-033-000011.tar 6643 1.0 GB 73073\n"
     ]
    },
    {
     "name": "stderr",
     "output_type": "stream",
     "text": [
      "3130000\n",
      "3131000\n",
      "3132000\n",
      "3133000\n",
      "3134000\n",
      "3135000\n",
      "3136000\n"
     ]
    },
    {
     "name": "stdout",
     "output_type": "stream",
     "text": [
      "# writing subsets/living_9-033-000012.tar 6643 1.0 GB 79716\n"
     ]
    },
    {
     "name": "stderr",
     "output_type": "stream",
     "text": [
      "3137000\n",
      "3138000\n",
      "3139000\n",
      "3140000\n",
      "3141000\n",
      "3142000\n",
      "3143000\n"
     ]
    },
    {
     "name": "stdout",
     "output_type": "stream",
     "text": [
      "# writing subsets/living_9-033-000013.tar 6643 1.0 GB 86359\n"
     ]
    },
    {
     "name": "stderr",
     "output_type": "stream",
     "text": [
      "3144000\n",
      "3145000\n",
      "3146000\n",
      "3147000\n",
      "3148000\n",
      "3149000\n"
     ]
    },
    {
     "name": "stdout",
     "output_type": "stream",
     "text": [
      "# writing subsets/living_9-034-000000.tar 0 0.0 GB 0\n"
     ]
    },
    {
     "name": "stderr",
     "output_type": "stream",
     "text": [
      "3150000\n",
      "3151000\n",
      "3152000\n",
      "3153000\n",
      "3154000\n",
      "3155000\n",
      "3156000\n"
     ]
    },
    {
     "name": "stdout",
     "output_type": "stream",
     "text": [
      "# writing subsets/living_9-034-000001.tar 6643 1.0 GB 6643\n"
     ]
    },
    {
     "name": "stderr",
     "output_type": "stream",
     "text": [
      "3157000\n",
      "3158000\n",
      "3159000\n",
      "3160000\n",
      "3161000\n",
      "3162000\n"
     ]
    },
    {
     "name": "stdout",
     "output_type": "stream",
     "text": [
      "# writing subsets/living_9-034-000002.tar 6643 1.0 GB 13286\n"
     ]
    },
    {
     "name": "stderr",
     "output_type": "stream",
     "text": [
      "3163000\n",
      "3164000\n",
      "3165000\n",
      "3166000\n",
      "3167000\n",
      "3168000\n",
      "3169000\n"
     ]
    },
    {
     "name": "stdout",
     "output_type": "stream",
     "text": [
      "# writing subsets/living_9-034-000003.tar 6643 1.0 GB 19929\n"
     ]
    },
    {
     "name": "stderr",
     "output_type": "stream",
     "text": [
      "3170000\n",
      "3171000\n",
      "3172000\n",
      "3173000\n",
      "3174000\n",
      "3175000\n",
      "3176000\n"
     ]
    },
    {
     "name": "stdout",
     "output_type": "stream",
     "text": [
      "# writing subsets/living_9-034-000004.tar 6643 1.0 GB 26572\n"
     ]
    },
    {
     "name": "stderr",
     "output_type": "stream",
     "text": [
      "3177000\n",
      "3178000\n",
      "3179000\n",
      "3180000\n",
      "3181000\n",
      "3182000\n"
     ]
    },
    {
     "name": "stdout",
     "output_type": "stream",
     "text": [
      "# writing subsets/living_9-034-000005.tar 6643 1.0 GB 33215\n"
     ]
    },
    {
     "name": "stderr",
     "output_type": "stream",
     "text": [
      "3183000\n",
      "3184000\n",
      "3185000\n",
      "3186000\n",
      "3187000\n",
      "3188000\n",
      "3189000\n"
     ]
    },
    {
     "name": "stdout",
     "output_type": "stream",
     "text": [
      "# writing subsets/living_9-034-000006.tar 6643 1.0 GB 39858\n"
     ]
    },
    {
     "name": "stderr",
     "output_type": "stream",
     "text": [
      "3190000\n",
      "3191000\n",
      "3192000\n",
      "3193000\n",
      "3194000\n",
      "3195000\n"
     ]
    },
    {
     "name": "stdout",
     "output_type": "stream",
     "text": [
      "# writing subsets/living_9-034-000007.tar 6643 1.0 GB 46501\n"
     ]
    },
    {
     "name": "stderr",
     "output_type": "stream",
     "text": [
      "3196000\n",
      "3197000\n",
      "3198000\n",
      "3199000\n",
      "3200000\n",
      "3201000\n",
      "3202000\n"
     ]
    },
    {
     "name": "stdout",
     "output_type": "stream",
     "text": [
      "# writing subsets/living_9-034-000008.tar 6643 1.0 GB 53144\n"
     ]
    },
    {
     "name": "stderr",
     "output_type": "stream",
     "text": [
      "3203000\n",
      "3204000\n",
      "3205000\n",
      "3206000\n",
      "3207000\n",
      "3208000\n",
      "3209000\n"
     ]
    },
    {
     "name": "stdout",
     "output_type": "stream",
     "text": [
      "# writing subsets/living_9-034-000009.tar 6643 1.0 GB 59787\n"
     ]
    },
    {
     "name": "stderr",
     "output_type": "stream",
     "text": [
      "3210000\n",
      "3211000\n",
      "3212000\n",
      "3213000\n",
      "3214000\n",
      "3215000\n"
     ]
    },
    {
     "name": "stdout",
     "output_type": "stream",
     "text": [
      "# writing subsets/living_9-034-000010.tar 6643 1.0 GB 66430\n"
     ]
    },
    {
     "name": "stderr",
     "output_type": "stream",
     "text": [
      "3216000\n",
      "3217000\n",
      "3218000\n",
      "3219000\n",
      "3220000\n",
      "3221000\n",
      "3222000\n"
     ]
    },
    {
     "name": "stdout",
     "output_type": "stream",
     "text": [
      "# writing subsets/living_9-034-000011.tar 6643 1.0 GB 73073\n"
     ]
    },
    {
     "name": "stderr",
     "output_type": "stream",
     "text": [
      "3223000\n",
      "3224000\n",
      "3225000\n",
      "3226000\n",
      "3227000\n",
      "3228000\n",
      "3229000\n"
     ]
    },
    {
     "name": "stdout",
     "output_type": "stream",
     "text": [
      "# writing subsets/living_9-034-000012.tar 6643 1.0 GB 79716\n"
     ]
    },
    {
     "name": "stderr",
     "output_type": "stream",
     "text": [
      "3230000\n",
      "3231000\n",
      "3232000\n",
      "3233000\n",
      "3234000\n",
      "3235000\n"
     ]
    },
    {
     "name": "stdout",
     "output_type": "stream",
     "text": [
      "# writing subsets/living_9-034-000013.tar 6643 1.0 GB 86359\n"
     ]
    },
    {
     "name": "stderr",
     "output_type": "stream",
     "text": [
      "3236000\n",
      "3237000\n",
      "3238000\n",
      "3239000\n",
      "3240000\n",
      "3241000\n",
      "3242000\n"
     ]
    },
    {
     "name": "stdout",
     "output_type": "stream",
     "text": [
      "# writing subsets/living_9-035-000000.tar 0 0.0 GB 0\n"
     ]
    },
    {
     "name": "stderr",
     "output_type": "stream",
     "text": [
      "3243000\n",
      "3244000\n",
      "3245000\n",
      "3246000\n",
      "3247000\n",
      "3248000\n"
     ]
    },
    {
     "name": "stdout",
     "output_type": "stream",
     "text": [
      "# writing subsets/living_9-035-000001.tar 6643 1.0 GB 6643\n"
     ]
    },
    {
     "name": "stderr",
     "output_type": "stream",
     "text": [
      "3249000\n",
      "3250000\n",
      "3251000\n",
      "3252000\n",
      "3253000\n",
      "3254000\n",
      "3255000\n"
     ]
    },
    {
     "name": "stdout",
     "output_type": "stream",
     "text": [
      "# writing subsets/living_9-035-000002.tar 6643 1.0 GB 13286\n"
     ]
    },
    {
     "name": "stderr",
     "output_type": "stream",
     "text": [
      "3256000\n",
      "3257000\n",
      "3258000\n",
      "3259000\n",
      "3260000\n",
      "3261000\n",
      "3262000\n"
     ]
    },
    {
     "name": "stdout",
     "output_type": "stream",
     "text": [
      "# writing subsets/living_9-035-000003.tar 6643 1.0 GB 19929\n"
     ]
    },
    {
     "name": "stderr",
     "output_type": "stream",
     "text": [
      "3263000\n",
      "3264000\n",
      "3265000\n",
      "3266000\n",
      "3267000\n",
      "3268000\n"
     ]
    },
    {
     "name": "stdout",
     "output_type": "stream",
     "text": [
      "# writing subsets/living_9-035-000004.tar 6643 1.0 GB 26572\n"
     ]
    },
    {
     "name": "stderr",
     "output_type": "stream",
     "text": [
      "3269000\n",
      "3270000\n",
      "3271000\n",
      "3272000\n",
      "3273000\n",
      "3274000\n",
      "3275000\n"
     ]
    },
    {
     "name": "stdout",
     "output_type": "stream",
     "text": [
      "# writing subsets/living_9-035-000005.tar 6643 1.0 GB 33215\n"
     ]
    },
    {
     "name": "stderr",
     "output_type": "stream",
     "text": [
      "3276000\n",
      "3277000\n",
      "3278000\n",
      "3279000\n",
      "3280000\n",
      "3281000\n"
     ]
    },
    {
     "name": "stdout",
     "output_type": "stream",
     "text": [
      "# writing subsets/living_9-035-000006.tar 6643 1.0 GB 39858\n"
     ]
    },
    {
     "name": "stderr",
     "output_type": "stream",
     "text": [
      "3282000\n",
      "3283000\n",
      "3284000\n",
      "3285000\n",
      "3286000\n",
      "3287000\n",
      "3288000\n"
     ]
    },
    {
     "name": "stdout",
     "output_type": "stream",
     "text": [
      "# writing subsets/living_9-035-000007.tar 6643 1.0 GB 46501\n"
     ]
    },
    {
     "name": "stderr",
     "output_type": "stream",
     "text": [
      "3289000\n",
      "3290000\n",
      "3291000\n",
      "3292000\n",
      "3293000\n",
      "3294000\n",
      "3295000\n"
     ]
    },
    {
     "name": "stdout",
     "output_type": "stream",
     "text": [
      "# writing subsets/living_9-035-000008.tar 6643 1.0 GB 53144\n"
     ]
    },
    {
     "name": "stderr",
     "output_type": "stream",
     "text": [
      "3296000\n",
      "3297000\n",
      "3298000\n",
      "3299000\n",
      "3300000\n",
      "3301000\n"
     ]
    },
    {
     "name": "stdout",
     "output_type": "stream",
     "text": [
      "# writing subsets/living_9-035-000009.tar 6643 1.0 GB 59787\n"
     ]
    },
    {
     "name": "stderr",
     "output_type": "stream",
     "text": [
      "3302000\n",
      "3303000\n",
      "3304000\n",
      "3305000\n",
      "3306000\n",
      "3307000\n",
      "3308000\n"
     ]
    },
    {
     "name": "stdout",
     "output_type": "stream",
     "text": [
      "# writing subsets/living_9-035-000010.tar 6643 1.0 GB 66430\n"
     ]
    },
    {
     "name": "stderr",
     "output_type": "stream",
     "text": [
      "3309000\n",
      "3310000\n",
      "3311000\n",
      "3312000\n",
      "3313000\n",
      "3314000\n",
      "3315000\n"
     ]
    },
    {
     "name": "stdout",
     "output_type": "stream",
     "text": [
      "# writing subsets/living_9-035-000011.tar 6643 1.0 GB 73073\n"
     ]
    },
    {
     "name": "stderr",
     "output_type": "stream",
     "text": [
      "3316000\n",
      "3317000\n",
      "3318000\n",
      "3319000\n",
      "3320000\n",
      "3321000\n"
     ]
    },
    {
     "name": "stdout",
     "output_type": "stream",
     "text": [
      "# writing subsets/living_9-035-000012.tar 6643 1.0 GB 79716\n"
     ]
    },
    {
     "name": "stderr",
     "output_type": "stream",
     "text": [
      "3322000\n",
      "3323000\n",
      "3324000\n",
      "3325000\n",
      "3326000\n",
      "3327000\n",
      "3328000\n"
     ]
    },
    {
     "name": "stdout",
     "output_type": "stream",
     "text": [
      "# writing subsets/living_9-035-000013.tar 6643 1.0 GB 86359\n"
     ]
    },
    {
     "name": "stderr",
     "output_type": "stream",
     "text": [
      "3329000\n",
      "3330000\n",
      "3331000\n",
      "3332000\n",
      "3333000\n",
      "3334000\n"
     ]
    },
    {
     "name": "stdout",
     "output_type": "stream",
     "text": [
      "# writing subsets/living_9-036-000000.tar 0 0.0 GB 0\n"
     ]
    },
    {
     "name": "stderr",
     "output_type": "stream",
     "text": [
      "3335000\n",
      "3336000\n",
      "3337000\n",
      "3338000\n",
      "3339000\n",
      "3340000\n",
      "3341000\n"
     ]
    },
    {
     "name": "stdout",
     "output_type": "stream",
     "text": [
      "# writing subsets/living_9-036-000001.tar 6643 1.0 GB 6643\n"
     ]
    },
    {
     "name": "stderr",
     "output_type": "stream",
     "text": [
      "3342000\n",
      "3343000\n",
      "3344000\n",
      "3345000\n",
      "3346000\n",
      "3347000\n",
      "3348000\n"
     ]
    },
    {
     "name": "stdout",
     "output_type": "stream",
     "text": [
      "# writing subsets/living_9-036-000002.tar 6643 1.0 GB 13286\n"
     ]
    },
    {
     "name": "stderr",
     "output_type": "stream",
     "text": [
      "3349000\n",
      "3350000\n",
      "3351000\n",
      "3352000\n",
      "3353000\n",
      "3354000\n"
     ]
    },
    {
     "name": "stdout",
     "output_type": "stream",
     "text": [
      "# writing subsets/living_9-036-000003.tar 6643 1.0 GB 19929\n"
     ]
    },
    {
     "name": "stderr",
     "output_type": "stream",
     "text": [
      "3355000\n",
      "3356000\n",
      "3357000\n",
      "3358000\n",
      "3359000\n",
      "3360000\n",
      "3361000\n"
     ]
    },
    {
     "name": "stdout",
     "output_type": "stream",
     "text": [
      "# writing subsets/living_9-036-000004.tar 6643 1.0 GB 26572\n"
     ]
    },
    {
     "name": "stderr",
     "output_type": "stream",
     "text": [
      "3362000\n",
      "3363000\n",
      "3364000\n",
      "3365000\n",
      "3366000\n",
      "3367000\n"
     ]
    },
    {
     "name": "stdout",
     "output_type": "stream",
     "text": [
      "# writing subsets/living_9-036-000005.tar 6643 1.0 GB 33215\n"
     ]
    },
    {
     "name": "stderr",
     "output_type": "stream",
     "text": [
      "3368000\n",
      "3369000\n",
      "3370000\n",
      "3371000\n",
      "3372000\n",
      "3373000\n",
      "3374000\n"
     ]
    },
    {
     "name": "stdout",
     "output_type": "stream",
     "text": [
      "# writing subsets/living_9-036-000006.tar 6643 1.0 GB 39858\n"
     ]
    },
    {
     "name": "stderr",
     "output_type": "stream",
     "text": [
      "3375000\n",
      "3376000\n",
      "3377000\n",
      "3378000\n",
      "3379000\n",
      "3380000\n",
      "3381000\n"
     ]
    },
    {
     "name": "stdout",
     "output_type": "stream",
     "text": [
      "# writing subsets/living_9-036-000007.tar 6643 1.0 GB 46501\n"
     ]
    },
    {
     "name": "stderr",
     "output_type": "stream",
     "text": [
      "3382000\n",
      "3383000\n",
      "3384000\n",
      "3385000\n",
      "3386000\n",
      "3387000\n"
     ]
    },
    {
     "name": "stdout",
     "output_type": "stream",
     "text": [
      "# writing subsets/living_9-036-000008.tar 6643 1.0 GB 53144\n"
     ]
    },
    {
     "name": "stderr",
     "output_type": "stream",
     "text": [
      "3388000\n",
      "3389000\n",
      "3390000\n",
      "3391000\n",
      "3392000\n",
      "3393000\n",
      "3394000\n"
     ]
    },
    {
     "name": "stdout",
     "output_type": "stream",
     "text": [
      "# writing subsets/living_9-036-000009.tar 6643 1.0 GB 59787\n"
     ]
    },
    {
     "name": "stderr",
     "output_type": "stream",
     "text": [
      "3395000\n",
      "3396000\n",
      "3397000\n",
      "3398000\n",
      "3399000\n",
      "3400000\n",
      "3401000\n"
     ]
    },
    {
     "name": "stdout",
     "output_type": "stream",
     "text": [
      "# writing subsets/living_9-036-000010.tar 6643 1.0 GB 66430\n"
     ]
    },
    {
     "name": "stderr",
     "output_type": "stream",
     "text": [
      "3402000\n",
      "3403000\n",
      "3404000\n",
      "3405000\n",
      "3406000\n",
      "3407000\n"
     ]
    },
    {
     "name": "stdout",
     "output_type": "stream",
     "text": [
      "# writing subsets/living_9-036-000011.tar 6643 1.0 GB 73073\n"
     ]
    },
    {
     "name": "stderr",
     "output_type": "stream",
     "text": [
      "3408000\n",
      "3409000\n",
      "3410000\n",
      "3411000\n",
      "3412000\n",
      "3413000\n",
      "3414000\n"
     ]
    },
    {
     "name": "stdout",
     "output_type": "stream",
     "text": [
      "# writing subsets/living_9-036-000012.tar 6643 1.0 GB 79716\n"
     ]
    },
    {
     "name": "stderr",
     "output_type": "stream",
     "text": [
      "3415000\n",
      "3416000\n",
      "3417000\n",
      "3418000\n",
      "3419000\n",
      "3420000\n",
      "3421000\n"
     ]
    },
    {
     "name": "stdout",
     "output_type": "stream",
     "text": [
      "# writing subsets/living_9-036-000013.tar 6643 1.0 GB 86359\n"
     ]
    },
    {
     "name": "stderr",
     "output_type": "stream",
     "text": [
      "3422000\n",
      "3423000\n",
      "3424000\n",
      "3425000\n",
      "3426000\n",
      "3427000\n"
     ]
    },
    {
     "name": "stdout",
     "output_type": "stream",
     "text": [
      "# writing subsets/living_9-037-000000.tar 0 0.0 GB 0\n"
     ]
    },
    {
     "name": "stderr",
     "output_type": "stream",
     "text": [
      "3428000\n",
      "3429000\n",
      "3430000\n",
      "3431000\n",
      "3432000\n",
      "3433000\n",
      "3434000\n"
     ]
    },
    {
     "name": "stdout",
     "output_type": "stream",
     "text": [
      "# writing subsets/living_9-037-000001.tar 6643 1.0 GB 6643\n"
     ]
    },
    {
     "name": "stderr",
     "output_type": "stream",
     "text": [
      "3435000\n",
      "3436000\n",
      "3437000\n",
      "3438000\n",
      "3439000\n",
      "3440000\n"
     ]
    },
    {
     "name": "stdout",
     "output_type": "stream",
     "text": [
      "# writing subsets/living_9-037-000002.tar 6643 1.0 GB 13286\n"
     ]
    },
    {
     "name": "stderr",
     "output_type": "stream",
     "text": [
      "3441000\n",
      "3442000\n",
      "3443000\n",
      "3444000\n",
      "3445000\n",
      "3446000\n",
      "3447000\n"
     ]
    },
    {
     "name": "stdout",
     "output_type": "stream",
     "text": [
      "# writing subsets/living_9-037-000003.tar 6643 1.0 GB 19929\n"
     ]
    },
    {
     "name": "stderr",
     "output_type": "stream",
     "text": [
      "3448000\n",
      "3449000\n",
      "3450000\n",
      "3451000\n",
      "3452000\n",
      "3453000\n"
     ]
    },
    {
     "name": "stdout",
     "output_type": "stream",
     "text": [
      "# writing subsets/living_9-037-000004.tar 6643 1.0 GB 26572\n"
     ]
    },
    {
     "name": "stderr",
     "output_type": "stream",
     "text": [
      "3454000\n",
      "3455000\n",
      "3456000\n",
      "3457000\n",
      "3458000\n",
      "3459000\n",
      "3460000\n"
     ]
    },
    {
     "name": "stdout",
     "output_type": "stream",
     "text": [
      "# writing subsets/living_9-037-000005.tar 6643 1.0 GB 33215\n"
     ]
    },
    {
     "name": "stderr",
     "output_type": "stream",
     "text": [
      "3461000\n",
      "3462000\n",
      "3463000\n",
      "3464000\n",
      "3465000\n",
      "3466000\n",
      "3467000\n"
     ]
    },
    {
     "name": "stdout",
     "output_type": "stream",
     "text": [
      "# writing subsets/living_9-037-000006.tar 6643 1.0 GB 39858\n"
     ]
    },
    {
     "name": "stderr",
     "output_type": "stream",
     "text": [
      "3468000\n",
      "3469000\n",
      "3470000\n",
      "3471000\n",
      "3472000\n",
      "3473000\n"
     ]
    },
    {
     "name": "stdout",
     "output_type": "stream",
     "text": [
      "# writing subsets/living_9-037-000007.tar 6643 1.0 GB 46501\n"
     ]
    },
    {
     "name": "stderr",
     "output_type": "stream",
     "text": [
      "3474000\n",
      "3475000\n",
      "3476000\n",
      "3477000\n",
      "3478000\n",
      "3479000\n",
      "3480000\n"
     ]
    },
    {
     "name": "stdout",
     "output_type": "stream",
     "text": [
      "# writing subsets/living_9-037-000008.tar 6643 1.0 GB 53144\n"
     ]
    },
    {
     "name": "stderr",
     "output_type": "stream",
     "text": [
      "3481000\n",
      "3482000\n",
      "3483000\n",
      "3484000\n",
      "3485000\n",
      "3486000\n",
      "3487000\n"
     ]
    },
    {
     "name": "stdout",
     "output_type": "stream",
     "text": [
      "# writing subsets/living_9-037-000009.tar 6643 1.0 GB 59787\n"
     ]
    },
    {
     "name": "stderr",
     "output_type": "stream",
     "text": [
      "3488000\n",
      "3489000\n",
      "3490000\n",
      "3491000\n",
      "3492000\n",
      "3493000\n"
     ]
    },
    {
     "name": "stdout",
     "output_type": "stream",
     "text": [
      "# writing subsets/living_9-037-000010.tar 6643 1.0 GB 66430\n"
     ]
    },
    {
     "name": "stderr",
     "output_type": "stream",
     "text": [
      "3494000\n",
      "3495000\n",
      "3496000\n",
      "3497000\n",
      "3498000\n",
      "3499000\n",
      "3500000\n"
     ]
    },
    {
     "name": "stdout",
     "output_type": "stream",
     "text": [
      "# writing subsets/living_9-037-000011.tar 6643 1.0 GB 73073\n"
     ]
    },
    {
     "name": "stderr",
     "output_type": "stream",
     "text": [
      "3501000\n",
      "3502000\n",
      "3503000\n",
      "3504000\n",
      "3505000\n",
      "3506000\n",
      "3507000\n"
     ]
    },
    {
     "name": "stdout",
     "output_type": "stream",
     "text": [
      "# writing subsets/living_9-037-000012.tar 6643 1.0 GB 79716\n"
     ]
    },
    {
     "name": "stderr",
     "output_type": "stream",
     "text": [
      "3508000\n",
      "3509000\n",
      "3510000\n",
      "3511000\n",
      "3512000\n",
      "3513000\n"
     ]
    },
    {
     "name": "stdout",
     "output_type": "stream",
     "text": [
      "# writing subsets/living_9-037-000013.tar 6643 1.0 GB 86359\n"
     ]
    },
    {
     "name": "stderr",
     "output_type": "stream",
     "text": [
      "3514000\n",
      "3515000\n",
      "3516000\n",
      "3517000\n",
      "3518000\n",
      "3519000\n"
     ]
    },
    {
     "name": "stdout",
     "output_type": "stream",
     "text": [
      "# writing subsets/living_9-038-000000.tar 0 0.0 GB 0\n"
     ]
    },
    {
     "name": "stderr",
     "output_type": "stream",
     "text": [
      "3520000\n",
      "3521000\n",
      "3522000\n",
      "3523000\n",
      "3524000\n",
      "3525000\n",
      "3526000\n"
     ]
    },
    {
     "name": "stdout",
     "output_type": "stream",
     "text": [
      "# writing subsets/living_9-038-000001.tar 6643 1.0 GB 6643\n"
     ]
    },
    {
     "name": "stderr",
     "output_type": "stream",
     "text": [
      "3527000\n",
      "3528000\n",
      "3529000\n",
      "3530000\n",
      "3531000\n",
      "3532000\n",
      "3533000\n"
     ]
    },
    {
     "name": "stdout",
     "output_type": "stream",
     "text": [
      "# writing subsets/living_9-038-000002.tar 6643 1.0 GB 13286\n"
     ]
    },
    {
     "name": "stderr",
     "output_type": "stream",
     "text": [
      "3534000\n",
      "3535000\n",
      "3536000\n",
      "3537000\n",
      "3538000\n",
      "3539000\n"
     ]
    },
    {
     "name": "stdout",
     "output_type": "stream",
     "text": [
      "# writing subsets/living_9-038-000003.tar 6643 1.0 GB 19929\n"
     ]
    },
    {
     "name": "stderr",
     "output_type": "stream",
     "text": [
      "3540000\n",
      "3541000\n",
      "3542000\n",
      "3543000\n",
      "3544000\n",
      "3545000\n",
      "3546000\n"
     ]
    },
    {
     "name": "stdout",
     "output_type": "stream",
     "text": [
      "# writing subsets/living_9-038-000004.tar 6643 1.0 GB 26572\n"
     ]
    },
    {
     "name": "stderr",
     "output_type": "stream",
     "text": [
      "3547000\n",
      "3548000\n",
      "3549000\n",
      "3550000\n",
      "3551000\n",
      "3552000\n",
      "3553000\n"
     ]
    },
    {
     "name": "stdout",
     "output_type": "stream",
     "text": [
      "# writing subsets/living_9-038-000005.tar 6643 1.0 GB 33215\n"
     ]
    },
    {
     "name": "stderr",
     "output_type": "stream",
     "text": [
      "3554000\n",
      "3555000\n",
      "3556000\n",
      "3557000\n",
      "3558000\n",
      "3559000\n"
     ]
    },
    {
     "name": "stdout",
     "output_type": "stream",
     "text": [
      "# writing subsets/living_9-038-000006.tar 6643 1.0 GB 39858\n"
     ]
    },
    {
     "name": "stderr",
     "output_type": "stream",
     "text": [
      "3560000\n",
      "3561000\n",
      "3562000\n",
      "3563000\n",
      "3564000\n",
      "3565000\n",
      "3566000\n"
     ]
    },
    {
     "name": "stdout",
     "output_type": "stream",
     "text": [
      "# writing subsets/living_9-038-000007.tar 6643 1.0 GB 46501\n"
     ]
    },
    {
     "name": "stderr",
     "output_type": "stream",
     "text": [
      "3567000\n",
      "3568000\n",
      "3569000\n",
      "3570000\n",
      "3571000\n",
      "3572000\n",
      "3573000\n"
     ]
    },
    {
     "name": "stdout",
     "output_type": "stream",
     "text": [
      "# writing subsets/living_9-038-000008.tar 6643 1.0 GB 53144\n"
     ]
    },
    {
     "name": "stderr",
     "output_type": "stream",
     "text": [
      "3574000\n",
      "3575000\n",
      "3576000\n",
      "3577000\n",
      "3578000\n",
      "3579000\n"
     ]
    },
    {
     "name": "stdout",
     "output_type": "stream",
     "text": [
      "# writing subsets/living_9-038-000009.tar 6643 1.0 GB 59787\n"
     ]
    },
    {
     "name": "stderr",
     "output_type": "stream",
     "text": [
      "3580000\n",
      "3581000\n",
      "3582000\n",
      "3583000\n",
      "3584000\n",
      "3585000\n",
      "3586000\n"
     ]
    },
    {
     "name": "stdout",
     "output_type": "stream",
     "text": [
      "# writing subsets/living_9-038-000010.tar 6643 1.0 GB 66430\n"
     ]
    },
    {
     "name": "stderr",
     "output_type": "stream",
     "text": [
      "3587000\n",
      "3588000\n",
      "3589000\n",
      "3590000\n",
      "3591000\n",
      "3592000\n",
      "3593000\n"
     ]
    },
    {
     "name": "stdout",
     "output_type": "stream",
     "text": [
      "# writing subsets/living_9-038-000011.tar 6643 1.0 GB 73073\n"
     ]
    },
    {
     "name": "stderr",
     "output_type": "stream",
     "text": [
      "3594000\n",
      "3595000\n",
      "3596000\n",
      "3597000\n",
      "3598000\n",
      "3599000\n"
     ]
    },
    {
     "name": "stdout",
     "output_type": "stream",
     "text": [
      "# writing subsets/living_9-038-000012.tar 6643 1.0 GB 79716\n"
     ]
    },
    {
     "name": "stderr",
     "output_type": "stream",
     "text": [
      "3600000\n",
      "3601000\n",
      "3602000\n",
      "3603000\n",
      "3604000\n",
      "3605000\n",
      "3606000\n"
     ]
    },
    {
     "name": "stdout",
     "output_type": "stream",
     "text": [
      "# writing subsets/living_9-038-000013.tar 6643 1.0 GB 86359\n"
     ]
    },
    {
     "name": "stderr",
     "output_type": "stream",
     "text": [
      "3607000\n",
      "3608000\n",
      "3609000\n",
      "3610000\n",
      "3611000\n",
      "3612000\n"
     ]
    },
    {
     "name": "stdout",
     "output_type": "stream",
     "text": [
      "# writing subsets/living_9-039-000000.tar 0 0.0 GB 0\n"
     ]
    },
    {
     "name": "stderr",
     "output_type": "stream",
     "text": [
      "3613000\n",
      "3614000\n",
      "3615000\n",
      "3616000\n",
      "3617000\n",
      "3618000\n",
      "3619000\n"
     ]
    },
    {
     "name": "stdout",
     "output_type": "stream",
     "text": [
      "# writing subsets/living_9-039-000001.tar 6643 1.0 GB 6643\n"
     ]
    },
    {
     "name": "stderr",
     "output_type": "stream",
     "text": [
      "3620000\n",
      "3621000\n",
      "3622000\n",
      "3623000\n",
      "3624000\n",
      "3625000\n"
     ]
    },
    {
     "name": "stdout",
     "output_type": "stream",
     "text": [
      "# writing subsets/living_9-039-000002.tar 6643 1.0 GB 13286\n"
     ]
    },
    {
     "name": "stderr",
     "output_type": "stream",
     "text": [
      "3626000\n",
      "3627000\n",
      "3628000\n",
      "3629000\n",
      "3630000\n",
      "3631000\n",
      "3632000\n"
     ]
    },
    {
     "name": "stdout",
     "output_type": "stream",
     "text": [
      "# writing subsets/living_9-039-000003.tar 6643 1.0 GB 19929\n"
     ]
    },
    {
     "name": "stderr",
     "output_type": "stream",
     "text": [
      "3633000\n",
      "3634000\n",
      "3635000\n",
      "3636000\n",
      "3637000\n",
      "3638000\n",
      "3639000\n"
     ]
    },
    {
     "name": "stdout",
     "output_type": "stream",
     "text": [
      "# writing subsets/living_9-039-000004.tar 6643 1.0 GB 26572\n"
     ]
    },
    {
     "name": "stderr",
     "output_type": "stream",
     "text": [
      "3640000\n",
      "3641000\n",
      "3642000\n",
      "3643000\n",
      "3644000\n",
      "3645000\n"
     ]
    },
    {
     "name": "stdout",
     "output_type": "stream",
     "text": [
      "# writing subsets/living_9-039-000005.tar 6643 1.0 GB 33215\n"
     ]
    },
    {
     "name": "stderr",
     "output_type": "stream",
     "text": [
      "3646000\n",
      "3647000\n",
      "3648000\n",
      "3649000\n",
      "3650000\n",
      "3651000\n",
      "3652000\n"
     ]
    },
    {
     "name": "stdout",
     "output_type": "stream",
     "text": [
      "# writing subsets/living_9-039-000006.tar 6643 1.0 GB 39858\n"
     ]
    },
    {
     "name": "stderr",
     "output_type": "stream",
     "text": [
      "3653000\n",
      "3654000\n",
      "3655000\n",
      "3656000\n",
      "3657000\n",
      "3658000\n",
      "3659000\n"
     ]
    },
    {
     "name": "stdout",
     "output_type": "stream",
     "text": [
      "# writing subsets/living_9-039-000007.tar 6643 1.0 GB 46501\n"
     ]
    },
    {
     "name": "stderr",
     "output_type": "stream",
     "text": [
      "3660000\n",
      "3661000\n",
      "3662000\n",
      "3663000\n",
      "3664000\n",
      "3665000\n"
     ]
    },
    {
     "name": "stdout",
     "output_type": "stream",
     "text": [
      "# writing subsets/living_9-039-000008.tar 6643 1.0 GB 53144\n"
     ]
    },
    {
     "name": "stderr",
     "output_type": "stream",
     "text": [
      "3666000\n",
      "3667000\n",
      "3668000\n",
      "3669000\n",
      "3670000\n",
      "3671000\n",
      "3672000\n"
     ]
    },
    {
     "name": "stdout",
     "output_type": "stream",
     "text": [
      "# writing subsets/living_9-039-000009.tar 6643 1.0 GB 59787\n"
     ]
    },
    {
     "name": "stderr",
     "output_type": "stream",
     "text": [
      "3673000\n",
      "3674000\n",
      "3675000\n",
      "3676000\n",
      "3677000\n",
      "3678000\n",
      "3679000\n"
     ]
    },
    {
     "name": "stdout",
     "output_type": "stream",
     "text": [
      "# writing subsets/living_9-039-000010.tar 6643 1.0 GB 66430\n"
     ]
    },
    {
     "name": "stderr",
     "output_type": "stream",
     "text": [
      "3680000\n",
      "3681000\n",
      "3682000\n",
      "3683000\n",
      "3684000\n",
      "3685000\n"
     ]
    },
    {
     "name": "stdout",
     "output_type": "stream",
     "text": [
      "# writing subsets/living_9-039-000011.tar 6643 1.0 GB 73073\n"
     ]
    },
    {
     "name": "stderr",
     "output_type": "stream",
     "text": [
      "3686000\n",
      "3687000\n",
      "3688000\n",
      "3689000\n",
      "3690000\n",
      "3691000\n",
      "3692000\n"
     ]
    },
    {
     "name": "stdout",
     "output_type": "stream",
     "text": [
      "# writing subsets/living_9-039-000012.tar 6643 1.0 GB 79716\n"
     ]
    },
    {
     "name": "stderr",
     "output_type": "stream",
     "text": [
      "3693000\n",
      "3694000\n",
      "3695000\n",
      "3696000\n",
      "3697000\n",
      "3698000\n",
      "3699000\n"
     ]
    },
    {
     "name": "stdout",
     "output_type": "stream",
     "text": [
      "# writing subsets/living_9-039-000013.tar 6643 1.0 GB 86359\n"
     ]
    },
    {
     "name": "stderr",
     "output_type": "stream",
     "text": [
      "3700000\n",
      "3701000\n",
      "3702000\n",
      "3703000\n",
      "3704000\n",
      "3705000\n"
     ]
    },
    {
     "name": "stdout",
     "output_type": "stream",
     "text": [
      "# writing subsets/living_9-040-000000.tar 0 0.0 GB 0\n"
     ]
    },
    {
     "name": "stderr",
     "output_type": "stream",
     "text": [
      "3706000\n",
      "3707000\n",
      "3708000\n",
      "3709000\n",
      "3710000\n",
      "3711000\n"
     ]
    },
    {
     "name": "stdout",
     "output_type": "stream",
     "text": [
      "# writing subsets/living_9-040-000001.tar 6643 1.0 GB 6643\n"
     ]
    },
    {
     "name": "stderr",
     "output_type": "stream",
     "text": [
      "3712000\n",
      "3713000\n",
      "3714000\n",
      "3715000\n",
      "3716000\n",
      "3717000\n",
      "3718000\n"
     ]
    },
    {
     "name": "stdout",
     "output_type": "stream",
     "text": [
      "# writing subsets/living_9-040-000002.tar 6643 1.0 GB 13286\n"
     ]
    },
    {
     "name": "stderr",
     "output_type": "stream",
     "text": [
      "3719000\n",
      "3720000\n",
      "3721000\n",
      "3722000\n",
      "3723000\n",
      "3724000\n",
      "3725000\n"
     ]
    },
    {
     "name": "stdout",
     "output_type": "stream",
     "text": [
      "# writing subsets/living_9-040-000003.tar 6643 1.0 GB 19929\n"
     ]
    },
    {
     "name": "stderr",
     "output_type": "stream",
     "text": [
      "3726000\n",
      "3727000\n",
      "3728000\n",
      "3729000\n",
      "3730000\n",
      "3731000\n"
     ]
    },
    {
     "name": "stdout",
     "output_type": "stream",
     "text": [
      "# writing subsets/living_9-040-000004.tar 6643 1.0 GB 26572\n"
     ]
    },
    {
     "name": "stderr",
     "output_type": "stream",
     "text": [
      "3732000\n",
      "3733000\n",
      "3734000\n",
      "3735000\n",
      "3736000\n",
      "3737000\n",
      "3738000\n"
     ]
    },
    {
     "name": "stdout",
     "output_type": "stream",
     "text": [
      "# writing subsets/living_9-040-000005.tar 6643 1.0 GB 33215\n"
     ]
    },
    {
     "name": "stderr",
     "output_type": "stream",
     "text": [
      "3739000\n",
      "3740000\n",
      "3741000\n",
      "3742000\n",
      "3743000\n",
      "3744000\n",
      "3745000\n"
     ]
    },
    {
     "name": "stdout",
     "output_type": "stream",
     "text": [
      "# writing subsets/living_9-040-000006.tar 6643 1.0 GB 39858\n"
     ]
    },
    {
     "name": "stderr",
     "output_type": "stream",
     "text": [
      "3746000\n",
      "3747000\n",
      "3748000\n",
      "3749000\n",
      "3750000\n",
      "3751000\n"
     ]
    },
    {
     "name": "stdout",
     "output_type": "stream",
     "text": [
      "# writing subsets/living_9-040-000007.tar 6643 1.0 GB 46501\n"
     ]
    },
    {
     "name": "stderr",
     "output_type": "stream",
     "text": [
      "3752000\n",
      "3753000\n",
      "3754000\n",
      "3755000\n",
      "3756000\n",
      "3757000\n",
      "3758000\n"
     ]
    },
    {
     "name": "stdout",
     "output_type": "stream",
     "text": [
      "# writing subsets/living_9-040-000008.tar 6643 1.0 GB 53144\n"
     ]
    },
    {
     "name": "stderr",
     "output_type": "stream",
     "text": [
      "3759000\n",
      "3760000\n",
      "3761000\n",
      "3762000\n",
      "3763000\n",
      "3764000\n",
      "3765000\n"
     ]
    },
    {
     "name": "stdout",
     "output_type": "stream",
     "text": [
      "# writing subsets/living_9-040-000009.tar 6643 1.0 GB 59787\n"
     ]
    },
    {
     "name": "stderr",
     "output_type": "stream",
     "text": [
      "3766000\n",
      "3767000\n",
      "3768000\n",
      "3769000\n",
      "3770000\n",
      "3771000\n"
     ]
    },
    {
     "name": "stdout",
     "output_type": "stream",
     "text": [
      "# writing subsets/living_9-040-000010.tar 6643 1.0 GB 66430\n"
     ]
    },
    {
     "name": "stderr",
     "output_type": "stream",
     "text": [
      "3772000\n",
      "3773000\n",
      "3774000\n",
      "3775000\n",
      "3776000\n",
      "3777000\n",
      "3778000\n"
     ]
    },
    {
     "name": "stdout",
     "output_type": "stream",
     "text": [
      "# writing subsets/living_9-040-000011.tar 6643 1.0 GB 73073\n"
     ]
    },
    {
     "name": "stderr",
     "output_type": "stream",
     "text": [
      "3779000\n",
      "3780000\n",
      "3781000\n",
      "3782000\n",
      "3783000\n",
      "3784000\n"
     ]
    },
    {
     "name": "stdout",
     "output_type": "stream",
     "text": [
      "# writing subsets/living_9-040-000012.tar 6643 1.0 GB 79716\n"
     ]
    },
    {
     "name": "stderr",
     "output_type": "stream",
     "text": [
      "3785000\n",
      "3786000\n",
      "3787000\n",
      "3788000\n",
      "3789000\n",
      "3790000\n",
      "3791000\n"
     ]
    },
    {
     "name": "stdout",
     "output_type": "stream",
     "text": [
      "# writing subsets/living_9-040-000013.tar 6643 1.0 GB 86359\n"
     ]
    },
    {
     "name": "stderr",
     "output_type": "stream",
     "text": [
      "3792000\n",
      "3793000\n",
      "3794000\n",
      "3795000\n",
      "3796000\n",
      "3797000\n"
     ]
    },
    {
     "name": "stdout",
     "output_type": "stream",
     "text": [
      "# writing subsets/living_9-041-000000.tar 0 0.0 GB 0\n"
     ]
    },
    {
     "name": "stderr",
     "output_type": "stream",
     "text": [
      "3798000\n",
      "3799000\n",
      "3800000\n",
      "3801000\n",
      "3802000\n",
      "3803000\n",
      "3804000\n"
     ]
    },
    {
     "name": "stdout",
     "output_type": "stream",
     "text": [
      "# writing subsets/living_9-041-000001.tar 6643 1.0 GB 6643\n"
     ]
    },
    {
     "name": "stderr",
     "output_type": "stream",
     "text": [
      "3805000\n",
      "3806000\n",
      "3807000\n",
      "3808000\n",
      "3809000\n",
      "3810000\n",
      "3811000\n"
     ]
    },
    {
     "name": "stdout",
     "output_type": "stream",
     "text": [
      "# writing subsets/living_9-041-000002.tar 6643 1.0 GB 13286\n"
     ]
    },
    {
     "name": "stderr",
     "output_type": "stream",
     "text": [
      "3812000\n",
      "3813000\n",
      "3814000\n",
      "3815000\n",
      "3816000\n",
      "3817000\n"
     ]
    },
    {
     "name": "stdout",
     "output_type": "stream",
     "text": [
      "# writing subsets/living_9-041-000003.tar 6643 1.0 GB 19929\n"
     ]
    },
    {
     "name": "stderr",
     "output_type": "stream",
     "text": [
      "3818000\n",
      "3819000\n",
      "3820000\n",
      "3821000\n",
      "3822000\n",
      "3823000\n",
      "3824000\n"
     ]
    },
    {
     "name": "stdout",
     "output_type": "stream",
     "text": [
      "# writing subsets/living_9-041-000004.tar 6643 1.0 GB 26572\n"
     ]
    },
    {
     "name": "stderr",
     "output_type": "stream",
     "text": [
      "3825000\n",
      "3826000\n",
      "3827000\n",
      "3828000\n",
      "3829000\n",
      "3830000\n",
      "3831000\n"
     ]
    },
    {
     "name": "stdout",
     "output_type": "stream",
     "text": [
      "# writing subsets/living_9-041-000005.tar 6643 1.0 GB 33215\n"
     ]
    },
    {
     "name": "stderr",
     "output_type": "stream",
     "text": [
      "3832000\n",
      "3833000\n",
      "3834000\n",
      "3835000\n",
      "3836000\n",
      "3837000\n"
     ]
    },
    {
     "name": "stdout",
     "output_type": "stream",
     "text": [
      "# writing subsets/living_9-041-000006.tar 6643 1.0 GB 39858\n"
     ]
    },
    {
     "name": "stderr",
     "output_type": "stream",
     "text": [
      "3838000\n",
      "3839000\n",
      "3840000\n",
      "3841000\n",
      "3842000\n",
      "3843000\n",
      "3844000\n"
     ]
    },
    {
     "name": "stdout",
     "output_type": "stream",
     "text": [
      "# writing subsets/living_9-041-000007.tar 6643 1.0 GB 46501\n"
     ]
    },
    {
     "name": "stderr",
     "output_type": "stream",
     "text": [
      "3845000\n",
      "3846000\n",
      "3847000\n",
      "3848000\n",
      "3849000\n",
      "3850000\n",
      "3851000\n"
     ]
    },
    {
     "name": "stdout",
     "output_type": "stream",
     "text": [
      "# writing subsets/living_9-041-000008.tar 6643 1.0 GB 53144\n"
     ]
    },
    {
     "name": "stderr",
     "output_type": "stream",
     "text": [
      "3852000\n",
      "3853000\n",
      "3854000\n",
      "3855000\n",
      "3856000\n",
      "3857000\n"
     ]
    },
    {
     "name": "stdout",
     "output_type": "stream",
     "text": [
      "# writing subsets/living_9-041-000009.tar 6643 1.0 GB 59787\n"
     ]
    },
    {
     "name": "stderr",
     "output_type": "stream",
     "text": [
      "3858000\n",
      "3859000\n",
      "3860000\n",
      "3861000\n",
      "3862000\n",
      "3863000\n",
      "3864000\n"
     ]
    },
    {
     "name": "stdout",
     "output_type": "stream",
     "text": [
      "# writing subsets/living_9-041-000010.tar 6643 1.0 GB 66430\n"
     ]
    },
    {
     "name": "stderr",
     "output_type": "stream",
     "text": [
      "3865000\n",
      "3866000\n",
      "3867000\n",
      "3868000\n",
      "3869000\n",
      "3870000\n"
     ]
    },
    {
     "name": "stdout",
     "output_type": "stream",
     "text": [
      "# writing subsets/living_9-041-000011.tar 6643 1.0 GB 73073\n"
     ]
    },
    {
     "name": "stderr",
     "output_type": "stream",
     "text": [
      "3871000\n",
      "3872000\n",
      "3873000\n",
      "3874000\n",
      "3875000\n",
      "3876000\n",
      "3877000\n"
     ]
    },
    {
     "name": "stdout",
     "output_type": "stream",
     "text": [
      "# writing subsets/living_9-041-000012.tar 6643 1.0 GB 79716\n"
     ]
    },
    {
     "name": "stderr",
     "output_type": "stream",
     "text": [
      "3878000\n",
      "3879000\n",
      "3880000\n",
      "3881000\n",
      "3882000\n",
      "3883000\n",
      "3884000\n"
     ]
    },
    {
     "name": "stdout",
     "output_type": "stream",
     "text": [
      "# writing subsets/living_9-041-000013.tar 6643 1.0 GB 86359\n"
     ]
    },
    {
     "name": "stderr",
     "output_type": "stream",
     "text": [
      "3885000\n",
      "3886000\n",
      "3887000\n",
      "3888000\n",
      "3889000\n",
      "3890000\n"
     ]
    },
    {
     "name": "stdout",
     "output_type": "stream",
     "text": [
      "# writing subsets/living_9-042-000000.tar 0 0.0 GB 0\n"
     ]
    },
    {
     "name": "stderr",
     "output_type": "stream",
     "text": [
      "3891000\n",
      "3892000\n",
      "3893000\n",
      "3894000\n",
      "3895000\n",
      "3896000\n",
      "3897000\n"
     ]
    },
    {
     "name": "stdout",
     "output_type": "stream",
     "text": [
      "# writing subsets/living_9-042-000001.tar 6643 1.0 GB 6643\n"
     ]
    },
    {
     "name": "stderr",
     "output_type": "stream",
     "text": [
      "3898000\n",
      "3899000\n",
      "3900000\n",
      "3901000\n",
      "3902000\n",
      "3903000\n"
     ]
    },
    {
     "name": "stdout",
     "output_type": "stream",
     "text": [
      "# writing subsets/living_9-042-000002.tar 6643 1.0 GB 13286\n"
     ]
    },
    {
     "name": "stderr",
     "output_type": "stream",
     "text": [
      "3904000\n",
      "3905000\n",
      "3906000\n",
      "3907000\n",
      "3908000\n",
      "3909000\n",
      "3910000\n"
     ]
    },
    {
     "name": "stdout",
     "output_type": "stream",
     "text": [
      "# writing subsets/living_9-042-000003.tar 6643 1.0 GB 19929\n"
     ]
    },
    {
     "name": "stderr",
     "output_type": "stream",
     "text": [
      "3911000\n",
      "3912000\n",
      "3913000\n",
      "3914000\n",
      "3915000\n",
      "3916000\n",
      "3917000\n"
     ]
    },
    {
     "name": "stdout",
     "output_type": "stream",
     "text": [
      "# writing subsets/living_9-042-000004.tar 6643 1.0 GB 26572\n"
     ]
    },
    {
     "name": "stderr",
     "output_type": "stream",
     "text": [
      "3918000\n",
      "3919000\n",
      "3920000\n",
      "3921000\n",
      "3922000\n",
      "3923000\n"
     ]
    },
    {
     "name": "stdout",
     "output_type": "stream",
     "text": [
      "# writing subsets/living_9-042-000005.tar 6643 1.0 GB 33215\n"
     ]
    },
    {
     "name": "stderr",
     "output_type": "stream",
     "text": [
      "3924000\n",
      "3925000\n",
      "3926000\n",
      "3927000\n",
      "3928000\n",
      "3929000\n",
      "3930000\n"
     ]
    },
    {
     "name": "stdout",
     "output_type": "stream",
     "text": [
      "# writing subsets/living_9-042-000006.tar 6643 1.0 GB 39858\n"
     ]
    },
    {
     "name": "stderr",
     "output_type": "stream",
     "text": [
      "3931000\n",
      "3932000\n",
      "3933000\n",
      "3934000\n",
      "3935000\n",
      "3936000\n",
      "3937000\n"
     ]
    },
    {
     "name": "stdout",
     "output_type": "stream",
     "text": [
      "# writing subsets/living_9-042-000007.tar 6643 1.0 GB 46501\n"
     ]
    },
    {
     "name": "stderr",
     "output_type": "stream",
     "text": [
      "3938000\n",
      "3939000\n",
      "3940000\n",
      "3941000\n",
      "3942000\n",
      "3943000\n"
     ]
    },
    {
     "name": "stdout",
     "output_type": "stream",
     "text": [
      "# writing subsets/living_9-042-000008.tar 6643 1.0 GB 53144\n"
     ]
    },
    {
     "name": "stderr",
     "output_type": "stream",
     "text": [
      "3944000\n",
      "3945000\n",
      "3946000\n",
      "3947000\n",
      "3948000\n",
      "3949000\n",
      "3950000\n"
     ]
    },
    {
     "name": "stdout",
     "output_type": "stream",
     "text": [
      "# writing subsets/living_9-042-000009.tar 6643 1.0 GB 59787\n"
     ]
    },
    {
     "name": "stderr",
     "output_type": "stream",
     "text": [
      "3951000\n",
      "3952000\n",
      "3953000\n",
      "3954000\n",
      "3955000\n",
      "3956000\n"
     ]
    },
    {
     "name": "stdout",
     "output_type": "stream",
     "text": [
      "# writing subsets/living_9-042-000010.tar 6643 1.0 GB 66430\n"
     ]
    },
    {
     "name": "stderr",
     "output_type": "stream",
     "text": [
      "3957000\n",
      "3958000\n",
      "3959000\n",
      "3960000\n",
      "3961000\n",
      "3962000\n",
      "3963000\n"
     ]
    },
    {
     "name": "stdout",
     "output_type": "stream",
     "text": [
      "# writing subsets/living_9-042-000011.tar 6643 1.0 GB 73073\n"
     ]
    },
    {
     "name": "stderr",
     "output_type": "stream",
     "text": [
      "3964000\n",
      "3965000\n",
      "3966000\n",
      "3967000\n",
      "3968000\n",
      "3969000\n",
      "3970000\n"
     ]
    },
    {
     "name": "stdout",
     "output_type": "stream",
     "text": [
      "# writing subsets/living_9-042-000012.tar 6643 1.0 GB 79716\n"
     ]
    },
    {
     "name": "stderr",
     "output_type": "stream",
     "text": [
      "3971000\n",
      "3972000\n",
      "3973000\n",
      "3974000\n",
      "3975000\n",
      "3976000\n"
     ]
    },
    {
     "name": "stdout",
     "output_type": "stream",
     "text": [
      "# writing subsets/living_9-042-000013.tar 6643 1.0 GB 86359\n"
     ]
    },
    {
     "name": "stderr",
     "output_type": "stream",
     "text": [
      "3977000\n",
      "3978000\n",
      "3979000\n",
      "3980000\n",
      "3981000\n",
      "3982000\n",
      "3983000\n"
     ]
    },
    {
     "name": "stdout",
     "output_type": "stream",
     "text": [
      "# writing subsets/living_9-043-000000.tar 0 0.0 GB 0\n"
     ]
    },
    {
     "name": "stderr",
     "output_type": "stream",
     "text": [
      "3984000\n",
      "3985000\n",
      "3986000\n",
      "3987000\n",
      "3988000\n",
      "3989000\n"
     ]
    },
    {
     "name": "stdout",
     "output_type": "stream",
     "text": [
      "# writing subsets/living_9-043-000001.tar 6643 1.0 GB 6643\n"
     ]
    },
    {
     "name": "stderr",
     "output_type": "stream",
     "text": [
      "3990000\n",
      "3991000\n",
      "3992000\n",
      "3993000\n",
      "3994000\n",
      "3995000\n",
      "3996000\n"
     ]
    },
    {
     "name": "stdout",
     "output_type": "stream",
     "text": [
      "# writing subsets/living_9-043-000002.tar 6643 1.0 GB 13286\n"
     ]
    },
    {
     "name": "stderr",
     "output_type": "stream",
     "text": [
      "3997000\n",
      "3998000\n",
      "3999000\n",
      "4000000\n",
      "4001000\n",
      "4002000\n",
      "4003000\n"
     ]
    },
    {
     "name": "stdout",
     "output_type": "stream",
     "text": [
      "# writing subsets/living_9-043-000003.tar 6643 1.0 GB 19929\n"
     ]
    },
    {
     "name": "stderr",
     "output_type": "stream",
     "text": [
      "4004000\n",
      "4005000\n",
      "4006000\n",
      "4007000\n",
      "4008000\n",
      "4009000\n"
     ]
    },
    {
     "name": "stdout",
     "output_type": "stream",
     "text": [
      "# writing subsets/living_9-043-000004.tar 6643 1.0 GB 26572\n"
     ]
    },
    {
     "name": "stderr",
     "output_type": "stream",
     "text": [
      "4010000\n",
      "4011000\n",
      "4012000\n",
      "4013000\n",
      "4014000\n",
      "4015000\n",
      "4016000\n"
     ]
    },
    {
     "name": "stdout",
     "output_type": "stream",
     "text": [
      "# writing subsets/living_9-043-000005.tar 6643 1.0 GB 33215\n"
     ]
    },
    {
     "name": "stderr",
     "output_type": "stream",
     "text": [
      "4017000\n",
      "4018000\n",
      "4019000\n",
      "4020000\n",
      "4021000\n",
      "4022000\n",
      "4023000\n"
     ]
    },
    {
     "name": "stdout",
     "output_type": "stream",
     "text": [
      "# writing subsets/living_9-043-000006.tar 6643 1.0 GB 39858\n"
     ]
    },
    {
     "name": "stderr",
     "output_type": "stream",
     "text": [
      "4024000\n",
      "4025000\n",
      "4026000\n",
      "4027000\n",
      "4028000\n",
      "4029000\n"
     ]
    },
    {
     "name": "stdout",
     "output_type": "stream",
     "text": [
      "# writing subsets/living_9-043-000007.tar 6643 1.0 GB 46501\n"
     ]
    },
    {
     "name": "stderr",
     "output_type": "stream",
     "text": [
      "4030000\n",
      "4031000\n",
      "4032000\n",
      "4033000\n",
      "4034000\n",
      "4035000\n",
      "4036000\n"
     ]
    },
    {
     "name": "stdout",
     "output_type": "stream",
     "text": [
      "# writing subsets/living_9-043-000008.tar 6643 1.0 GB 53144\n"
     ]
    },
    {
     "name": "stderr",
     "output_type": "stream",
     "text": [
      "4037000\n",
      "4038000\n",
      "4039000\n",
      "4040000\n",
      "4041000\n",
      "4042000\n"
     ]
    },
    {
     "name": "stdout",
     "output_type": "stream",
     "text": [
      "# writing subsets/living_9-043-000009.tar 6643 1.0 GB 59787\n"
     ]
    },
    {
     "name": "stderr",
     "output_type": "stream",
     "text": [
      "4043000\n",
      "4044000\n",
      "4045000\n",
      "4046000\n",
      "4047000\n",
      "4048000\n",
      "4049000\n"
     ]
    },
    {
     "name": "stdout",
     "output_type": "stream",
     "text": [
      "# writing subsets/living_9-043-000010.tar 6643 1.0 GB 66430\n"
     ]
    },
    {
     "name": "stderr",
     "output_type": "stream",
     "text": [
      "4050000\n",
      "4051000\n",
      "4052000\n",
      "4053000\n",
      "4054000\n",
      "4055000\n",
      "4056000\n"
     ]
    },
    {
     "name": "stdout",
     "output_type": "stream",
     "text": [
      "# writing subsets/living_9-043-000011.tar 6643 1.0 GB 73073\n"
     ]
    },
    {
     "name": "stderr",
     "output_type": "stream",
     "text": [
      "4057000\n",
      "4058000\n",
      "4059000\n",
      "4060000\n",
      "4061000\n",
      "4062000\n"
     ]
    },
    {
     "name": "stdout",
     "output_type": "stream",
     "text": [
      "# writing subsets/living_9-043-000012.tar 6643 1.0 GB 79716\n"
     ]
    },
    {
     "name": "stderr",
     "output_type": "stream",
     "text": [
      "4063000\n",
      "4064000\n",
      "4065000\n",
      "4066000\n",
      "4067000\n",
      "4068000\n",
      "4069000\n"
     ]
    },
    {
     "name": "stdout",
     "output_type": "stream",
     "text": [
      "# writing subsets/living_9-043-000013.tar 6643 1.0 GB 86359\n"
     ]
    },
    {
     "name": "stderr",
     "output_type": "stream",
     "text": [
      "4070000\n",
      "4071000\n",
      "4072000\n",
      "4073000\n",
      "4074000\n",
      "4075000\n"
     ]
    },
    {
     "name": "stdout",
     "output_type": "stream",
     "text": [
      "# writing subsets/living_9-044-000000.tar 0 0.0 GB 0\n"
     ]
    },
    {
     "name": "stderr",
     "output_type": "stream",
     "text": [
      "4076000\n",
      "4077000\n",
      "4078000\n",
      "4079000\n",
      "4080000\n",
      "4081000\n",
      "4082000\n"
     ]
    },
    {
     "name": "stdout",
     "output_type": "stream",
     "text": [
      "# writing subsets/living_9-044-000001.tar 6643 1.0 GB 6643\n"
     ]
    },
    {
     "name": "stderr",
     "output_type": "stream",
     "text": [
      "4083000\n",
      "4084000\n",
      "4085000\n",
      "4086000\n",
      "4087000\n",
      "4088000\n",
      "4089000\n"
     ]
    },
    {
     "name": "stdout",
     "output_type": "stream",
     "text": [
      "# writing subsets/living_9-044-000002.tar 6643 1.0 GB 13286\n"
     ]
    },
    {
     "name": "stderr",
     "output_type": "stream",
     "text": [
      "4090000\n",
      "4091000\n",
      "4092000\n",
      "4093000\n",
      "4094000\n",
      "4095000\n"
     ]
    },
    {
     "name": "stdout",
     "output_type": "stream",
     "text": [
      "# writing subsets/living_9-044-000003.tar 6643 1.0 GB 19929\n"
     ]
    },
    {
     "name": "stderr",
     "output_type": "stream",
     "text": [
      "4096000\n",
      "4097000\n",
      "4098000\n",
      "4099000\n",
      "4100000\n",
      "4101000\n",
      "4102000\n"
     ]
    },
    {
     "name": "stdout",
     "output_type": "stream",
     "text": [
      "# writing subsets/living_9-044-000004.tar 6643 1.0 GB 26572\n"
     ]
    },
    {
     "name": "stderr",
     "output_type": "stream",
     "text": [
      "4103000\n",
      "4104000\n",
      "4105000\n",
      "4106000\n",
      "4107000\n",
      "4108000\n",
      "4109000\n"
     ]
    },
    {
     "name": "stdout",
     "output_type": "stream",
     "text": [
      "# writing subsets/living_9-044-000005.tar 6643 1.0 GB 33215\n"
     ]
    },
    {
     "name": "stderr",
     "output_type": "stream",
     "text": [
      "4110000\n",
      "4111000\n",
      "4112000\n",
      "4113000\n",
      "4114000\n",
      "4115000\n"
     ]
    },
    {
     "name": "stdout",
     "output_type": "stream",
     "text": [
      "# writing subsets/living_9-044-000006.tar 6643 1.0 GB 39858\n"
     ]
    },
    {
     "name": "stderr",
     "output_type": "stream",
     "text": [
      "4116000\n",
      "4117000\n",
      "4118000\n",
      "4119000\n",
      "4120000\n",
      "4121000\n",
      "4122000\n"
     ]
    },
    {
     "name": "stdout",
     "output_type": "stream",
     "text": [
      "# writing subsets/living_9-044-000007.tar 6643 1.0 GB 46501\n"
     ]
    },
    {
     "name": "stderr",
     "output_type": "stream",
     "text": [
      "4123000\n",
      "4124000\n",
      "4125000\n",
      "4126000\n",
      "4127000\n",
      "4128000\n"
     ]
    },
    {
     "name": "stdout",
     "output_type": "stream",
     "text": [
      "# writing subsets/living_9-044-000008.tar 6643 1.0 GB 53144\n"
     ]
    },
    {
     "name": "stderr",
     "output_type": "stream",
     "text": [
      "4129000\n",
      "4130000\n",
      "4131000\n",
      "4132000\n",
      "4133000\n",
      "4134000\n",
      "4135000\n"
     ]
    },
    {
     "name": "stdout",
     "output_type": "stream",
     "text": [
      "# writing subsets/living_9-044-000009.tar 6643 1.0 GB 59787\n"
     ]
    },
    {
     "name": "stderr",
     "output_type": "stream",
     "text": [
      "4136000\n",
      "4137000\n",
      "4138000\n",
      "4139000\n",
      "4140000\n",
      "4141000\n",
      "4142000\n"
     ]
    },
    {
     "name": "stdout",
     "output_type": "stream",
     "text": [
      "# writing subsets/living_9-044-000010.tar 6643 1.0 GB 66430\n"
     ]
    },
    {
     "name": "stderr",
     "output_type": "stream",
     "text": [
      "4143000\n",
      "4144000\n",
      "4145000\n",
      "4146000\n",
      "4147000\n",
      "4148000\n"
     ]
    },
    {
     "name": "stdout",
     "output_type": "stream",
     "text": [
      "# writing subsets/living_9-044-000011.tar 6643 1.0 GB 73073\n"
     ]
    },
    {
     "name": "stderr",
     "output_type": "stream",
     "text": [
      "4149000\n",
      "4150000\n",
      "4151000\n",
      "4152000\n",
      "4153000\n",
      "4154000\n",
      "4155000\n"
     ]
    },
    {
     "name": "stdout",
     "output_type": "stream",
     "text": [
      "# writing subsets/living_9-044-000012.tar 6643 1.0 GB 79716\n"
     ]
    },
    {
     "name": "stderr",
     "output_type": "stream",
     "text": [
      "4156000\n",
      "4157000\n",
      "4158000\n",
      "4159000\n",
      "4160000\n",
      "4161000\n",
      "4162000\n"
     ]
    },
    {
     "name": "stdout",
     "output_type": "stream",
     "text": [
      "# writing subsets/living_9-044-000013.tar 6643 1.0 GB 86359\n"
     ]
    },
    {
     "name": "stderr",
     "output_type": "stream",
     "text": [
      "4163000\n",
      "4164000\n",
      "4165000\n",
      "4166000\n",
      "4167000\n",
      "4168000\n"
     ]
    },
    {
     "name": "stdout",
     "output_type": "stream",
     "text": [
      "# writing subsets/living_9-045-000000.tar 0 0.0 GB 0\n"
     ]
    },
    {
     "name": "stderr",
     "output_type": "stream",
     "text": [
      "4169000\n",
      "4170000\n",
      "4171000\n",
      "4172000\n",
      "4173000\n",
      "4174000\n",
      "4175000\n"
     ]
    },
    {
     "name": "stdout",
     "output_type": "stream",
     "text": [
      "# writing subsets/living_9-045-000001.tar 6643 1.0 GB 6643\n"
     ]
    },
    {
     "name": "stderr",
     "output_type": "stream",
     "text": [
      "4176000\n",
      "4177000\n",
      "4178000\n",
      "4179000\n",
      "4180000\n",
      "4181000\n"
     ]
    },
    {
     "name": "stdout",
     "output_type": "stream",
     "text": [
      "# writing subsets/living_9-045-000002.tar 6643 1.0 GB 13286\n"
     ]
    },
    {
     "name": "stderr",
     "output_type": "stream",
     "text": [
      "4182000\n",
      "4183000\n",
      "4184000\n",
      "4185000\n",
      "4186000\n",
      "4187000\n",
      "4188000\n"
     ]
    },
    {
     "name": "stdout",
     "output_type": "stream",
     "text": [
      "# writing subsets/living_9-045-000003.tar 6643 1.0 GB 19929\n"
     ]
    },
    {
     "name": "stderr",
     "output_type": "stream",
     "text": [
      "4189000\n",
      "4190000\n",
      "4191000\n",
      "4192000\n",
      "4193000\n",
      "4194000\n",
      "4195000\n"
     ]
    },
    {
     "name": "stdout",
     "output_type": "stream",
     "text": [
      "# writing subsets/living_9-045-000004.tar 6643 1.0 GB 26572\n"
     ]
    },
    {
     "name": "stderr",
     "output_type": "stream",
     "text": [
      "4196000\n",
      "4197000\n",
      "4198000\n",
      "4199000\n",
      "4200000\n",
      "4201000\n"
     ]
    },
    {
     "name": "stdout",
     "output_type": "stream",
     "text": [
      "# writing subsets/living_9-045-000005.tar 6643 1.0 GB 33215\n"
     ]
    },
    {
     "name": "stderr",
     "output_type": "stream",
     "text": [
      "4202000\n",
      "4203000\n",
      "4204000\n",
      "4205000\n",
      "4206000\n",
      "4207000\n",
      "4208000\n"
     ]
    },
    {
     "name": "stdout",
     "output_type": "stream",
     "text": [
      "# writing subsets/living_9-045-000006.tar 6643 1.0 GB 39858\n"
     ]
    },
    {
     "name": "stderr",
     "output_type": "stream",
     "text": [
      "4209000\n",
      "4210000\n",
      "4211000\n",
      "4212000\n",
      "4213000\n",
      "4214000\n"
     ]
    },
    {
     "name": "stdout",
     "output_type": "stream",
     "text": [
      "# writing subsets/living_9-045-000007.tar 6643 1.0 GB 46501\n"
     ]
    },
    {
     "name": "stderr",
     "output_type": "stream",
     "text": [
      "4215000\n",
      "4216000\n",
      "4217000\n",
      "4218000\n",
      "4219000\n",
      "4220000\n",
      "4221000\n"
     ]
    },
    {
     "name": "stdout",
     "output_type": "stream",
     "text": [
      "# writing subsets/living_9-045-000008.tar 6643 1.0 GB 53144\n"
     ]
    },
    {
     "name": "stderr",
     "output_type": "stream",
     "text": [
      "4222000\n",
      "4223000\n",
      "4224000\n",
      "4225000\n",
      "4226000\n",
      "4227000\n",
      "4228000\n"
     ]
    },
    {
     "name": "stdout",
     "output_type": "stream",
     "text": [
      "# writing subsets/living_9-045-000009.tar 6643 1.0 GB 59787\n"
     ]
    },
    {
     "name": "stderr",
     "output_type": "stream",
     "text": [
      "4229000\n",
      "4230000\n",
      "4231000\n",
      "4232000\n",
      "4233000\n",
      "4234000\n"
     ]
    },
    {
     "name": "stdout",
     "output_type": "stream",
     "text": [
      "# writing subsets/living_9-045-000010.tar 6643 1.0 GB 66430\n"
     ]
    },
    {
     "name": "stderr",
     "output_type": "stream",
     "text": [
      "4235000\n",
      "4236000\n",
      "4237000\n",
      "4238000\n",
      "4239000\n",
      "4240000\n",
      "4241000\n"
     ]
    },
    {
     "name": "stdout",
     "output_type": "stream",
     "text": [
      "# writing subsets/living_9-045-000011.tar 6643 1.0 GB 73073\n"
     ]
    },
    {
     "name": "stderr",
     "output_type": "stream",
     "text": [
      "4242000\n",
      "4243000\n",
      "4244000\n",
      "4245000\n",
      "4246000\n",
      "4247000\n",
      "4248000\n"
     ]
    },
    {
     "name": "stdout",
     "output_type": "stream",
     "text": [
      "# writing subsets/living_9-045-000012.tar 6643 1.0 GB 79716\n"
     ]
    },
    {
     "name": "stderr",
     "output_type": "stream",
     "text": [
      "4249000\n",
      "4250000\n",
      "4251000\n",
      "4252000\n",
      "4253000\n",
      "4254000\n"
     ]
    },
    {
     "name": "stdout",
     "output_type": "stream",
     "text": [
      "# writing subsets/living_9-045-000013.tar 6643 1.0 GB 86359\n"
     ]
    },
    {
     "name": "stderr",
     "output_type": "stream",
     "text": [
      "4255000\n",
      "4256000\n",
      "4257000\n",
      "4258000\n",
      "4259000\n",
      "4260000\n"
     ]
    },
    {
     "name": "stdout",
     "output_type": "stream",
     "text": [
      "# writing subsets/living_9-046-000000.tar 0 0.0 GB 0\n"
     ]
    },
    {
     "name": "stderr",
     "output_type": "stream",
     "text": [
      "4261000\n",
      "4262000\n",
      "4263000\n",
      "4264000\n",
      "4265000\n",
      "4266000\n",
      "4267000\n"
     ]
    },
    {
     "name": "stdout",
     "output_type": "stream",
     "text": [
      "# writing subsets/living_9-046-000001.tar 6643 1.0 GB 6643\n"
     ]
    },
    {
     "name": "stderr",
     "output_type": "stream",
     "text": [
      "4268000\n",
      "4269000\n",
      "4270000\n",
      "4271000\n",
      "4272000\n",
      "4273000\n",
      "4274000\n"
     ]
    },
    {
     "name": "stdout",
     "output_type": "stream",
     "text": [
      "# writing subsets/living_9-046-000002.tar 6643 1.0 GB 13286\n"
     ]
    },
    {
     "name": "stderr",
     "output_type": "stream",
     "text": [
      "4275000\n",
      "4276000\n",
      "4277000\n",
      "4278000\n",
      "4279000\n",
      "4280000\n",
      "4281000\n"
     ]
    },
    {
     "name": "stdout",
     "output_type": "stream",
     "text": [
      "# writing subsets/living_9-046-000003.tar 6643 1.0 GB 19929\n"
     ]
    },
    {
     "name": "stderr",
     "output_type": "stream",
     "text": [
      "4282000\n",
      "4283000\n",
      "4284000\n",
      "4285000\n",
      "4286000\n",
      "4287000\n"
     ]
    },
    {
     "name": "stdout",
     "output_type": "stream",
     "text": [
      "# writing subsets/living_9-046-000004.tar 6643 1.0 GB 26572\n"
     ]
    },
    {
     "name": "stderr",
     "output_type": "stream",
     "text": [
      "4288000\n",
      "4289000\n",
      "4290000\n",
      "4291000\n",
      "4292000\n",
      "4293000\n",
      "4294000\n"
     ]
    },
    {
     "name": "stdout",
     "output_type": "stream",
     "text": [
      "# writing subsets/living_9-046-000005.tar 6643 1.0 GB 33215\n"
     ]
    },
    {
     "name": "stderr",
     "output_type": "stream",
     "text": [
      "4295000\n",
      "4296000\n",
      "4297000\n",
      "4298000\n",
      "4299000\n",
      "4300000\n"
     ]
    },
    {
     "name": "stdout",
     "output_type": "stream",
     "text": [
      "# writing subsets/living_9-046-000006.tar 6643 1.0 GB 39858\n"
     ]
    },
    {
     "name": "stderr",
     "output_type": "stream",
     "text": [
      "4301000\n",
      "4302000\n",
      "4303000\n",
      "4304000\n",
      "4305000\n",
      "4306000\n",
      "4307000\n"
     ]
    },
    {
     "name": "stdout",
     "output_type": "stream",
     "text": [
      "# writing subsets/living_9-046-000007.tar 6643 1.0 GB 46501\n"
     ]
    },
    {
     "name": "stderr",
     "output_type": "stream",
     "text": [
      "4308000\n",
      "4309000\n",
      "4310000\n",
      "4311000\n",
      "4312000\n",
      "4313000\n",
      "4314000\n"
     ]
    },
    {
     "name": "stdout",
     "output_type": "stream",
     "text": [
      "# writing subsets/living_9-046-000008.tar 6643 1.0 GB 53144\n"
     ]
    },
    {
     "name": "stderr",
     "output_type": "stream",
     "text": [
      "4315000\n",
      "4316000\n",
      "4317000\n",
      "4318000\n",
      "4319000\n",
      "4320000\n"
     ]
    },
    {
     "name": "stdout",
     "output_type": "stream",
     "text": [
      "# writing subsets/living_9-046-000009.tar 6643 1.0 GB 59787\n"
     ]
    },
    {
     "name": "stderr",
     "output_type": "stream",
     "text": [
      "4321000\n",
      "4322000\n",
      "4323000\n",
      "4324000\n",
      "4325000\n",
      "4326000\n",
      "4327000\n"
     ]
    },
    {
     "name": "stdout",
     "output_type": "stream",
     "text": [
      "# writing subsets/living_9-046-000010.tar 6643 1.0 GB 66430\n"
     ]
    },
    {
     "name": "stderr",
     "output_type": "stream",
     "text": [
      "4328000\n",
      "4329000\n",
      "4330000\n",
      "4331000\n",
      "4332000\n",
      "4333000\n",
      "4334000\n"
     ]
    },
    {
     "name": "stdout",
     "output_type": "stream",
     "text": [
      "# writing subsets/living_9-046-000011.tar 6643 1.0 GB 73073\n"
     ]
    },
    {
     "name": "stderr",
     "output_type": "stream",
     "text": [
      "4335000\n",
      "4336000\n",
      "4337000\n",
      "4338000\n",
      "4339000\n",
      "4340000\n"
     ]
    },
    {
     "name": "stdout",
     "output_type": "stream",
     "text": [
      "# writing subsets/living_9-046-000012.tar 6643 1.0 GB 79716\n"
     ]
    },
    {
     "name": "stderr",
     "output_type": "stream",
     "text": [
      "4341000\n",
      "4342000\n",
      "4343000\n",
      "4344000\n",
      "4345000\n",
      "4346000\n",
      "4347000\n"
     ]
    },
    {
     "name": "stdout",
     "output_type": "stream",
     "text": [
      "# writing subsets/living_9-046-000013.tar 6643 1.0 GB 86359\n"
     ]
    },
    {
     "name": "stderr",
     "output_type": "stream",
     "text": [
      "4348000\n",
      "4349000\n",
      "4350000\n",
      "4351000\n",
      "4352000\n",
      "4353000\n"
     ]
    },
    {
     "name": "stdout",
     "output_type": "stream",
     "text": [
      "# writing subsets/living_9-047-000000.tar 0 0.0 GB 0\n"
     ]
    },
    {
     "name": "stderr",
     "output_type": "stream",
     "text": [
      "4354000\n",
      "4355000\n",
      "4356000\n",
      "4357000\n",
      "4358000\n",
      "4359000\n",
      "4360000\n"
     ]
    },
    {
     "name": "stdout",
     "output_type": "stream",
     "text": [
      "# writing subsets/living_9-047-000001.tar 6643 1.0 GB 6643\n"
     ]
    },
    {
     "name": "stderr",
     "output_type": "stream",
     "text": [
      "4361000\n",
      "4362000\n",
      "4363000\n",
      "4364000\n",
      "4365000\n",
      "4366000\n"
     ]
    },
    {
     "name": "stdout",
     "output_type": "stream",
     "text": [
      "# writing subsets/living_9-047-000002.tar 6643 1.0 GB 13286\n"
     ]
    },
    {
     "name": "stderr",
     "output_type": "stream",
     "text": [
      "4367000\n",
      "4368000\n",
      "4369000\n",
      "4370000\n",
      "4371000\n",
      "4372000\n",
      "4373000\n"
     ]
    },
    {
     "name": "stdout",
     "output_type": "stream",
     "text": [
      "# writing subsets/living_9-047-000003.tar 6643 1.0 GB 19929\n"
     ]
    },
    {
     "name": "stderr",
     "output_type": "stream",
     "text": [
      "4374000\n",
      "4375000\n",
      "4376000\n",
      "4377000\n",
      "4378000\n",
      "4379000\n",
      "4380000\n"
     ]
    },
    {
     "name": "stdout",
     "output_type": "stream",
     "text": [
      "# writing subsets/living_9-047-000004.tar 6643 1.0 GB 26572\n"
     ]
    },
    {
     "name": "stderr",
     "output_type": "stream",
     "text": [
      "4381000\n",
      "4382000\n",
      "4383000\n",
      "4384000\n",
      "4385000\n",
      "4386000\n"
     ]
    },
    {
     "name": "stdout",
     "output_type": "stream",
     "text": [
      "# writing subsets/living_9-047-000005.tar 6643 1.0 GB 33215\n"
     ]
    },
    {
     "name": "stderr",
     "output_type": "stream",
     "text": [
      "4387000\n",
      "4388000\n",
      "4389000\n",
      "4390000\n",
      "4391000\n",
      "4392000\n",
      "4393000\n"
     ]
    },
    {
     "name": "stdout",
     "output_type": "stream",
     "text": [
      "# writing subsets/living_9-047-000006.tar 6643 1.0 GB 39858\n"
     ]
    },
    {
     "name": "stderr",
     "output_type": "stream",
     "text": [
      "4394000\n",
      "4395000\n",
      "4396000\n",
      "4397000\n",
      "4398000\n",
      "4399000\n",
      "4400000\n"
     ]
    },
    {
     "name": "stdout",
     "output_type": "stream",
     "text": [
      "# writing subsets/living_9-047-000007.tar 6643 1.0 GB 46501\n"
     ]
    },
    {
     "name": "stderr",
     "output_type": "stream",
     "text": [
      "4401000\n",
      "4402000\n",
      "4403000\n",
      "4404000\n",
      "4405000\n",
      "4406000\n"
     ]
    },
    {
     "name": "stdout",
     "output_type": "stream",
     "text": [
      "# writing subsets/living_9-047-000008.tar 6643 1.0 GB 53144\n"
     ]
    },
    {
     "name": "stderr",
     "output_type": "stream",
     "text": [
      "4407000\n",
      "4408000\n",
      "4409000\n",
      "4410000\n",
      "4411000\n",
      "4412000\n",
      "4413000\n"
     ]
    },
    {
     "name": "stdout",
     "output_type": "stream",
     "text": [
      "# writing subsets/living_9-047-000009.tar 6643 1.0 GB 59787\n"
     ]
    },
    {
     "name": "stderr",
     "output_type": "stream",
     "text": [
      "4414000\n",
      "4415000\n",
      "4416000\n",
      "4417000\n",
      "4418000\n",
      "4419000\n",
      "4420000\n"
     ]
    },
    {
     "name": "stdout",
     "output_type": "stream",
     "text": [
      "# writing subsets/living_9-047-000010.tar 6643 1.0 GB 66430\n"
     ]
    },
    {
     "name": "stderr",
     "output_type": "stream",
     "text": [
      "4421000\n",
      "4422000\n",
      "4423000\n",
      "4424000\n",
      "4425000\n",
      "4426000\n"
     ]
    },
    {
     "name": "stdout",
     "output_type": "stream",
     "text": [
      "# writing subsets/living_9-047-000011.tar 6643 1.0 GB 73073\n"
     ]
    },
    {
     "name": "stderr",
     "output_type": "stream",
     "text": [
      "4427000\n",
      "4428000\n",
      "4429000\n",
      "4430000\n",
      "4431000\n",
      "4432000\n",
      "4433000\n"
     ]
    },
    {
     "name": "stdout",
     "output_type": "stream",
     "text": [
      "# writing subsets/living_9-047-000012.tar 6643 1.0 GB 79716\n"
     ]
    },
    {
     "name": "stderr",
     "output_type": "stream",
     "text": [
      "4434000\n",
      "4435000\n",
      "4436000\n",
      "4437000\n",
      "4438000\n",
      "4439000\n",
      "4440000\n"
     ]
    },
    {
     "name": "stdout",
     "output_type": "stream",
     "text": [
      "# writing subsets/living_9-047-000013.tar 6643 1.0 GB 86359\n"
     ]
    },
    {
     "name": "stderr",
     "output_type": "stream",
     "text": [
      "4441000\n",
      "4442000\n",
      "4443000\n",
      "4444000\n",
      "4445000\n",
      "4446000\n"
     ]
    },
    {
     "name": "stdout",
     "output_type": "stream",
     "text": [
      "# writing subsets/living_9-048-000000.tar 0 0.0 GB 0\n"
     ]
    },
    {
     "name": "stderr",
     "output_type": "stream",
     "text": [
      "4447000\n",
      "4448000\n",
      "4449000\n",
      "4450000\n",
      "4451000\n",
      "4452000\n"
     ]
    },
    {
     "name": "stdout",
     "output_type": "stream",
     "text": [
      "# writing subsets/living_9-048-000001.tar 6643 1.0 GB 6643\n"
     ]
    },
    {
     "name": "stderr",
     "output_type": "stream",
     "text": [
      "4453000\n",
      "4454000\n",
      "4455000\n",
      "4456000\n",
      "4457000\n",
      "4458000\n",
      "4459000\n"
     ]
    },
    {
     "name": "stdout",
     "output_type": "stream",
     "text": [
      "# writing subsets/living_9-048-000002.tar 6643 1.0 GB 13286\n"
     ]
    },
    {
     "name": "stderr",
     "output_type": "stream",
     "text": [
      "4460000\n",
      "4461000\n",
      "4462000\n",
      "4463000\n",
      "4464000\n",
      "4465000\n",
      "4466000\n"
     ]
    },
    {
     "name": "stdout",
     "output_type": "stream",
     "text": [
      "# writing subsets/living_9-048-000003.tar 6643 1.0 GB 19929\n"
     ]
    },
    {
     "name": "stderr",
     "output_type": "stream",
     "text": [
      "4467000\n",
      "4468000\n",
      "4469000\n",
      "4470000\n",
      "4471000\n",
      "4472000\n"
     ]
    },
    {
     "name": "stdout",
     "output_type": "stream",
     "text": [
      "# writing subsets/living_9-048-000004.tar 6643 1.0 GB 26572\n"
     ]
    },
    {
     "name": "stderr",
     "output_type": "stream",
     "text": [
      "4473000\n",
      "4474000\n",
      "4475000\n",
      "4476000\n",
      "4477000\n",
      "4478000\n",
      "4479000\n"
     ]
    },
    {
     "name": "stdout",
     "output_type": "stream",
     "text": [
      "# writing subsets/living_9-048-000005.tar 6643 1.0 GB 33215\n"
     ]
    },
    {
     "name": "stderr",
     "output_type": "stream",
     "text": [
      "4480000\n",
      "4481000\n",
      "4482000\n",
      "4483000\n",
      "4484000\n",
      "4485000\n",
      "4486000\n"
     ]
    },
    {
     "name": "stdout",
     "output_type": "stream",
     "text": [
      "# writing subsets/living_9-048-000006.tar 6643 1.0 GB 39858\n"
     ]
    },
    {
     "name": "stderr",
     "output_type": "stream",
     "text": [
      "4487000\n",
      "4488000\n",
      "4489000\n",
      "4490000\n",
      "4491000\n",
      "4492000\n"
     ]
    },
    {
     "name": "stdout",
     "output_type": "stream",
     "text": [
      "# writing subsets/living_9-048-000007.tar 6643 1.0 GB 46501\n"
     ]
    },
    {
     "name": "stderr",
     "output_type": "stream",
     "text": [
      "4493000\n",
      "4494000\n",
      "4495000\n",
      "4496000\n",
      "4497000\n",
      "4498000\n",
      "4499000\n"
     ]
    },
    {
     "name": "stdout",
     "output_type": "stream",
     "text": [
      "# writing subsets/living_9-048-000008.tar 6643 1.0 GB 53144\n"
     ]
    },
    {
     "name": "stderr",
     "output_type": "stream",
     "text": [
      "4500000\n",
      "4501000\n",
      "4502000\n",
      "4503000\n",
      "4504000\n",
      "4505000\n",
      "4506000\n"
     ]
    },
    {
     "name": "stdout",
     "output_type": "stream",
     "text": [
      "# writing subsets/living_9-048-000009.tar 6643 1.0 GB 59787\n"
     ]
    },
    {
     "name": "stderr",
     "output_type": "stream",
     "text": [
      "4507000\n",
      "4508000\n",
      "4509000\n",
      "4510000\n",
      "4511000\n",
      "4512000\n"
     ]
    },
    {
     "name": "stdout",
     "output_type": "stream",
     "text": [
      "# writing subsets/living_9-048-000010.tar 6643 1.0 GB 66430\n"
     ]
    },
    {
     "name": "stderr",
     "output_type": "stream",
     "text": [
      "4513000\n",
      "4514000\n",
      "4515000\n",
      "4516000\n",
      "4517000\n",
      "4518000\n",
      "4519000\n"
     ]
    },
    {
     "name": "stdout",
     "output_type": "stream",
     "text": [
      "# writing subsets/living_9-048-000011.tar 6643 1.0 GB 73073\n"
     ]
    },
    {
     "name": "stderr",
     "output_type": "stream",
     "text": [
      "4520000\n",
      "4521000\n",
      "4522000\n",
      "4523000\n",
      "4524000\n",
      "4525000\n",
      "4526000\n"
     ]
    },
    {
     "name": "stdout",
     "output_type": "stream",
     "text": [
      "# writing subsets/living_9-048-000012.tar 6643 1.0 GB 79716\n"
     ]
    },
    {
     "name": "stderr",
     "output_type": "stream",
     "text": [
      "4527000\n",
      "4528000\n",
      "4529000\n",
      "4530000\n",
      "4531000\n",
      "4532000\n"
     ]
    },
    {
     "name": "stdout",
     "output_type": "stream",
     "text": [
      "# writing subsets/living_9-048-000013.tar 6643 1.0 GB 86359\n"
     ]
    },
    {
     "name": "stderr",
     "output_type": "stream",
     "text": [
      "4533000\n",
      "4534000\n",
      "4535000\n",
      "4536000\n",
      "4537000\n",
      "4538000\n"
     ]
    },
    {
     "name": "stdout",
     "output_type": "stream",
     "text": [
      "# writing subsets/living_9-049-000000.tar 0 0.0 GB 0\n"
     ]
    },
    {
     "name": "stderr",
     "output_type": "stream",
     "text": [
      "4539000\n",
      "4540000\n",
      "4541000\n",
      "4542000\n",
      "4543000\n",
      "4544000\n",
      "4545000\n"
     ]
    },
    {
     "name": "stdout",
     "output_type": "stream",
     "text": [
      "# writing subsets/living_9-049-000001.tar 6643 1.0 GB 6643\n"
     ]
    },
    {
     "name": "stderr",
     "output_type": "stream",
     "text": [
      "4546000\n",
      "4547000\n",
      "4548000\n",
      "4549000\n",
      "4550000\n",
      "4551000\n",
      "4552000\n"
     ]
    },
    {
     "name": "stdout",
     "output_type": "stream",
     "text": [
      "# writing subsets/living_9-049-000002.tar 6643 1.0 GB 13286\n"
     ]
    },
    {
     "name": "stderr",
     "output_type": "stream",
     "text": [
      "4553000\n",
      "4554000\n",
      "4555000\n",
      "4556000\n",
      "4557000\n",
      "4558000\n"
     ]
    },
    {
     "name": "stdout",
     "output_type": "stream",
     "text": [
      "# writing subsets/living_9-049-000003.tar 6643 1.0 GB 19929\n"
     ]
    },
    {
     "name": "stderr",
     "output_type": "stream",
     "text": [
      "4559000\n",
      "4560000\n",
      "4561000\n",
      "4562000\n",
      "4563000\n",
      "4564000\n",
      "4565000\n"
     ]
    },
    {
     "name": "stdout",
     "output_type": "stream",
     "text": [
      "# writing subsets/living_9-049-000004.tar 6643 1.0 GB 26572\n"
     ]
    },
    {
     "name": "stderr",
     "output_type": "stream",
     "text": [
      "4566000\n",
      "4567000\n",
      "4568000\n",
      "4569000\n",
      "4570000\n",
      "4571000\n",
      "4572000\n"
     ]
    },
    {
     "name": "stdout",
     "output_type": "stream",
     "text": [
      "# writing subsets/living_9-049-000005.tar 6643 1.0 GB 33215\n"
     ]
    },
    {
     "name": "stderr",
     "output_type": "stream",
     "text": [
      "4573000\n",
      "4574000\n",
      "4575000\n",
      "4576000\n",
      "4577000\n",
      "4578000\n"
     ]
    },
    {
     "name": "stdout",
     "output_type": "stream",
     "text": [
      "# writing subsets/living_9-049-000006.tar 6643 1.0 GB 39858\n"
     ]
    },
    {
     "name": "stderr",
     "output_type": "stream",
     "text": [
      "4579000\n",
      "4580000\n",
      "4581000\n",
      "4582000\n",
      "4583000\n",
      "4584000\n",
      "4585000\n"
     ]
    },
    {
     "name": "stdout",
     "output_type": "stream",
     "text": [
      "# writing subsets/living_9-049-000007.tar 6643 1.0 GB 46501\n"
     ]
    },
    {
     "name": "stderr",
     "output_type": "stream",
     "text": [
      "4586000\n",
      "4587000\n",
      "4588000\n",
      "4589000\n",
      "4590000\n",
      "4591000\n",
      "4592000\n"
     ]
    },
    {
     "name": "stdout",
     "output_type": "stream",
     "text": [
      "# writing subsets/living_9-049-000008.tar 6643 1.0 GB 53144\n"
     ]
    },
    {
     "name": "stderr",
     "output_type": "stream",
     "text": [
      "4593000\n",
      "4594000\n",
      "4595000\n",
      "4596000\n",
      "4597000\n",
      "4598000\n"
     ]
    },
    {
     "name": "stdout",
     "output_type": "stream",
     "text": [
      "# writing subsets/living_9-049-000009.tar 6643 1.0 GB 59787\n"
     ]
    },
    {
     "name": "stderr",
     "output_type": "stream",
     "text": [
      "4599000\n",
      "4600000\n",
      "4601000\n",
      "4602000\n",
      "4603000\n",
      "4604000\n",
      "4605000\n"
     ]
    },
    {
     "name": "stdout",
     "output_type": "stream",
     "text": [
      "# writing subsets/living_9-049-000010.tar 6643 1.0 GB 66430\n"
     ]
    },
    {
     "name": "stderr",
     "output_type": "stream",
     "text": [
      "4606000\n",
      "4607000\n",
      "4608000\n",
      "4609000\n",
      "4610000\n",
      "4611000\n",
      "4612000\n"
     ]
    },
    {
     "name": "stdout",
     "output_type": "stream",
     "text": [
      "# writing subsets/living_9-049-000011.tar 6643 1.0 GB 73073\n"
     ]
    },
    {
     "name": "stderr",
     "output_type": "stream",
     "text": [
      "4613000\n",
      "4614000\n",
      "4615000\n",
      "4616000\n",
      "4617000\n",
      "4618000\n"
     ]
    },
    {
     "name": "stdout",
     "output_type": "stream",
     "text": [
      "# writing subsets/living_9-049-000012.tar 6643 1.0 GB 79716\n"
     ]
    },
    {
     "name": "stderr",
     "output_type": "stream",
     "text": [
      "4619000\n",
      "4620000\n",
      "4621000\n",
      "4622000\n",
      "4623000\n",
      "4624000\n",
      "4625000\n"
     ]
    },
    {
     "name": "stdout",
     "output_type": "stream",
     "text": [
      "# writing subsets/living_9-049-000013.tar 6643 1.0 GB 86359\n"
     ]
    },
    {
     "name": "stderr",
     "output_type": "stream",
     "text": [
      "4626000\n",
      "4627000\n",
      "4628000\n",
      "4629000\n",
      "4630000\n",
      "4631000\n"
     ]
    },
    {
     "name": "stdout",
     "output_type": "stream",
     "text": [
      "# writing subsets/living_9-050-000000.tar 0 0.0 GB 0\n"
     ]
    },
    {
     "name": "stderr",
     "output_type": "stream",
     "text": [
      "4632000\n",
      "4633000\n",
      "4634000\n",
      "4635000\n",
      "4636000\n",
      "4637000\n",
      "4638000\n"
     ]
    },
    {
     "name": "stdout",
     "output_type": "stream",
     "text": [
      "# writing subsets/living_9-050-000001.tar 6643 1.0 GB 6643\n"
     ]
    },
    {
     "name": "stderr",
     "output_type": "stream",
     "text": [
      "4639000\n",
      "4640000\n",
      "4641000\n",
      "4642000\n",
      "4643000\n",
      "4644000\n"
     ]
    },
    {
     "name": "stdout",
     "output_type": "stream",
     "text": [
      "# writing subsets/living_9-050-000002.tar 6643 1.0 GB 13286\n"
     ]
    },
    {
     "name": "stderr",
     "output_type": "stream",
     "text": [
      "4645000\n",
      "4646000\n",
      "4647000\n",
      "4648000\n",
      "4649000\n",
      "4650000\n",
      "4651000\n"
     ]
    },
    {
     "name": "stdout",
     "output_type": "stream",
     "text": [
      "# writing subsets/living_9-050-000003.tar 6643 1.0 GB 19929\n"
     ]
    },
    {
     "name": "stderr",
     "output_type": "stream",
     "text": [
      "4652000\n",
      "4653000\n",
      "4654000\n",
      "4655000\n",
      "4656000\n",
      "4657000\n",
      "4658000\n"
     ]
    },
    {
     "name": "stdout",
     "output_type": "stream",
     "text": [
      "# writing subsets/living_9-050-000004.tar 6643 1.0 GB 26572\n"
     ]
    },
    {
     "name": "stderr",
     "output_type": "stream",
     "text": [
      "4659000\n",
      "4660000\n",
      "4661000\n",
      "4662000\n",
      "4663000\n",
      "4664000\n"
     ]
    },
    {
     "name": "stdout",
     "output_type": "stream",
     "text": [
      "# writing subsets/living_9-050-000005.tar 6643 1.0 GB 33215\n"
     ]
    },
    {
     "name": "stderr",
     "output_type": "stream",
     "text": [
      "4665000\n",
      "4666000\n",
      "4667000\n",
      "4668000\n",
      "4669000\n",
      "4670000\n",
      "4671000\n"
     ]
    },
    {
     "name": "stdout",
     "output_type": "stream",
     "text": [
      "# writing subsets/living_9-050-000006.tar 6643 1.0 GB 39858\n"
     ]
    },
    {
     "name": "stderr",
     "output_type": "stream",
     "text": [
      "4672000\n",
      "4673000\n",
      "4674000\n",
      "4675000\n",
      "4676000\n",
      "4677000\n",
      "4678000\n"
     ]
    },
    {
     "name": "stdout",
     "output_type": "stream",
     "text": [
      "# writing subsets/living_9-050-000007.tar 6643 1.0 GB 46501\n"
     ]
    },
    {
     "name": "stderr",
     "output_type": "stream",
     "text": [
      "4679000\n",
      "4680000\n",
      "4681000\n",
      "4682000\n",
      "4683000\n",
      "4684000\n"
     ]
    },
    {
     "name": "stdout",
     "output_type": "stream",
     "text": [
      "# writing subsets/living_9-050-000008.tar 6643 1.0 GB 53144\n"
     ]
    },
    {
     "name": "stderr",
     "output_type": "stream",
     "text": [
      "4685000\n",
      "4686000\n",
      "4687000\n",
      "4688000\n",
      "4689000\n",
      "4690000\n",
      "4691000\n"
     ]
    },
    {
     "name": "stdout",
     "output_type": "stream",
     "text": [
      "# writing subsets/living_9-050-000009.tar 6643 1.0 GB 59787\n"
     ]
    },
    {
     "name": "stderr",
     "output_type": "stream",
     "text": [
      "4692000\n",
      "4693000\n",
      "4694000\n",
      "4695000\n",
      "4696000\n",
      "4697000\n",
      "4698000\n"
     ]
    },
    {
     "name": "stdout",
     "output_type": "stream",
     "text": [
      "# writing subsets/living_9-050-000010.tar 6643 1.0 GB 66430\n"
     ]
    },
    {
     "name": "stderr",
     "output_type": "stream",
     "text": [
      "4699000\n",
      "4700000\n",
      "4701000\n",
      "4702000\n",
      "4703000\n",
      "4704000\n"
     ]
    },
    {
     "name": "stdout",
     "output_type": "stream",
     "text": [
      "# writing subsets/living_9-050-000011.tar 6643 1.0 GB 73073\n"
     ]
    },
    {
     "name": "stderr",
     "output_type": "stream",
     "text": [
      "4705000\n",
      "4706000\n",
      "4707000\n",
      "4708000\n",
      "4709000\n",
      "4710000\n",
      "4711000\n"
     ]
    },
    {
     "name": "stdout",
     "output_type": "stream",
     "text": [
      "# writing subsets/living_9-050-000012.tar 6643 1.0 GB 79716\n"
     ]
    },
    {
     "name": "stderr",
     "output_type": "stream",
     "text": [
      "4712000\n",
      "4713000\n",
      "4714000\n",
      "4715000\n",
      "4716000\n",
      "4717000\n"
     ]
    },
    {
     "name": "stdout",
     "output_type": "stream",
     "text": [
      "# writing subsets/living_9-050-000013.tar 6643 1.0 GB 86359\n"
     ]
    },
    {
     "name": "stderr",
     "output_type": "stream",
     "text": [
      "4718000\n",
      "4719000\n",
      "4720000\n",
      "4721000\n",
      "4722000\n",
      "4723000\n",
      "4724000\n"
     ]
    },
    {
     "name": "stdout",
     "output_type": "stream",
     "text": [
      "# writing subsets/living_9-051-000000.tar 0 0.0 GB 0\n"
     ]
    },
    {
     "name": "stderr",
     "output_type": "stream",
     "text": [
      "4725000\n",
      "4726000\n",
      "4727000\n",
      "4728000\n",
      "4729000\n",
      "4730000\n"
     ]
    },
    {
     "name": "stdout",
     "output_type": "stream",
     "text": [
      "# writing subsets/living_9-051-000001.tar 6643 1.0 GB 6643\n"
     ]
    },
    {
     "name": "stderr",
     "output_type": "stream",
     "text": [
      "4731000\n",
      "4732000\n",
      "4733000\n",
      "4734000\n",
      "4735000\n",
      "4736000\n",
      "4737000\n"
     ]
    },
    {
     "name": "stdout",
     "output_type": "stream",
     "text": [
      "# writing subsets/living_9-051-000002.tar 6643 1.0 GB 13286\n"
     ]
    },
    {
     "name": "stderr",
     "output_type": "stream",
     "text": [
      "4738000\n",
      "4739000\n",
      "4740000\n",
      "4741000\n",
      "4742000\n",
      "4743000\n",
      "4744000\n"
     ]
    },
    {
     "name": "stdout",
     "output_type": "stream",
     "text": [
      "# writing subsets/living_9-051-000003.tar 6643 1.0 GB 19929\n"
     ]
    },
    {
     "name": "stderr",
     "output_type": "stream",
     "text": [
      "4745000\n",
      "4746000\n",
      "4747000\n",
      "4748000\n",
      "4749000\n",
      "4750000\n"
     ]
    },
    {
     "name": "stdout",
     "output_type": "stream",
     "text": [
      "# writing subsets/living_9-051-000004.tar 6643 1.0 GB 26572\n"
     ]
    },
    {
     "name": "stderr",
     "output_type": "stream",
     "text": [
      "4751000\n",
      "4752000\n",
      "4753000\n",
      "4754000\n",
      "4755000\n",
      "4756000\n",
      "4757000\n"
     ]
    },
    {
     "name": "stdout",
     "output_type": "stream",
     "text": [
      "# writing subsets/living_9-051-000005.tar 6643 1.0 GB 33215\n"
     ]
    },
    {
     "name": "stderr",
     "output_type": "stream",
     "text": [
      "4758000\n",
      "4759000\n",
      "4760000\n",
      "4761000\n",
      "4762000\n",
      "4763000\n",
      "4764000\n"
     ]
    },
    {
     "name": "stdout",
     "output_type": "stream",
     "text": [
      "# writing subsets/living_9-051-000006.tar 6643 1.0 GB 39858\n"
     ]
    },
    {
     "name": "stderr",
     "output_type": "stream",
     "text": [
      "4765000\n",
      "4766000\n",
      "4767000\n",
      "4768000\n",
      "4769000\n",
      "4770000\n"
     ]
    },
    {
     "name": "stdout",
     "output_type": "stream",
     "text": [
      "# writing subsets/living_9-051-000007.tar 6643 1.0 GB 46501\n"
     ]
    },
    {
     "name": "stderr",
     "output_type": "stream",
     "text": [
      "4771000\n",
      "4772000\n",
      "4773000\n",
      "4774000\n",
      "4775000\n",
      "4776000\n",
      "4777000\n"
     ]
    },
    {
     "name": "stdout",
     "output_type": "stream",
     "text": [
      "# writing subsets/living_9-051-000008.tar 6643 1.0 GB 53144\n"
     ]
    },
    {
     "name": "stderr",
     "output_type": "stream",
     "text": [
      "4778000\n",
      "4779000\n",
      "4780000\n",
      "4781000\n",
      "4782000\n",
      "4783000\n",
      "4784000\n"
     ]
    },
    {
     "name": "stdout",
     "output_type": "stream",
     "text": [
      "# writing subsets/living_9-051-000009.tar 6643 1.0 GB 59787\n"
     ]
    },
    {
     "name": "stderr",
     "output_type": "stream",
     "text": [
      "4785000\n",
      "4786000\n",
      "4787000\n",
      "4788000\n",
      "4789000\n",
      "4790000\n"
     ]
    },
    {
     "name": "stdout",
     "output_type": "stream",
     "text": [
      "# writing subsets/living_9-051-000010.tar 6643 1.0 GB 66430\n"
     ]
    },
    {
     "name": "stderr",
     "output_type": "stream",
     "text": [
      "4791000\n",
      "4792000\n",
      "4793000\n",
      "4794000\n",
      "4795000\n",
      "4796000\n",
      "4797000\n"
     ]
    },
    {
     "name": "stdout",
     "output_type": "stream",
     "text": [
      "# writing subsets/living_9-051-000011.tar 6643 1.0 GB 73073\n"
     ]
    },
    {
     "name": "stderr",
     "output_type": "stream",
     "text": [
      "4798000\n",
      "4799000\n",
      "4800000\n",
      "4801000\n",
      "4802000\n",
      "4803000\n"
     ]
    },
    {
     "name": "stdout",
     "output_type": "stream",
     "text": [
      "# writing subsets/living_9-051-000012.tar 6643 1.0 GB 79716\n"
     ]
    },
    {
     "name": "stderr",
     "output_type": "stream",
     "text": [
      "4804000\n",
      "4805000\n",
      "4806000\n",
      "4807000\n",
      "4808000\n",
      "4809000\n",
      "4810000\n"
     ]
    },
    {
     "name": "stdout",
     "output_type": "stream",
     "text": [
      "# writing subsets/living_9-051-000013.tar 6643 1.0 GB 86359\n"
     ]
    },
    {
     "name": "stderr",
     "output_type": "stream",
     "text": [
      "4811000\n",
      "4812000\n",
      "4813000\n",
      "4814000\n",
      "4815000\n",
      "4816000\n"
     ]
    },
    {
     "name": "stdout",
     "output_type": "stream",
     "text": [
      "# writing subsets/living_9-052-000000.tar 0 0.0 GB 0\n"
     ]
    },
    {
     "name": "stderr",
     "output_type": "stream",
     "text": [
      "4817000\n",
      "4818000\n",
      "4819000\n",
      "4820000\n",
      "4821000\n",
      "4822000\n",
      "4823000\n"
     ]
    },
    {
     "name": "stdout",
     "output_type": "stream",
     "text": [
      "# writing subsets/living_9-052-000001.tar 6643 1.0 GB 6643\n"
     ]
    },
    {
     "name": "stderr",
     "output_type": "stream",
     "text": [
      "4824000\n",
      "4825000\n",
      "4826000\n",
      "4827000\n",
      "4828000\n",
      "4829000\n",
      "4830000\n"
     ]
    },
    {
     "name": "stdout",
     "output_type": "stream",
     "text": [
      "# writing subsets/living_9-052-000002.tar 6643 1.0 GB 13286\n"
     ]
    },
    {
     "name": "stderr",
     "output_type": "stream",
     "text": [
      "4831000\n",
      "4832000\n",
      "4833000\n",
      "4834000\n",
      "4835000\n",
      "4836000\n"
     ]
    },
    {
     "name": "stdout",
     "output_type": "stream",
     "text": [
      "# writing subsets/living_9-052-000003.tar 6643 1.0 GB 19929\n"
     ]
    },
    {
     "name": "stderr",
     "output_type": "stream",
     "text": [
      "4837000\n",
      "4838000\n",
      "4839000\n",
      "4840000\n",
      "4841000\n",
      "4842000\n",
      "4843000\n"
     ]
    },
    {
     "name": "stdout",
     "output_type": "stream",
     "text": [
      "# writing subsets/living_9-052-000004.tar 6643 1.0 GB 26572\n"
     ]
    },
    {
     "name": "stderr",
     "output_type": "stream",
     "text": [
      "4844000\n",
      "4845000\n",
      "4846000\n",
      "4847000\n",
      "4848000\n",
      "4849000\n",
      "4850000\n"
     ]
    },
    {
     "name": "stdout",
     "output_type": "stream",
     "text": [
      "# writing subsets/living_9-052-000005.tar 6643 1.0 GB 33215\n"
     ]
    },
    {
     "name": "stderr",
     "output_type": "stream",
     "text": [
      "4851000\n",
      "4852000\n",
      "4853000\n",
      "4854000\n",
      "4855000\n",
      "4856000\n"
     ]
    },
    {
     "name": "stdout",
     "output_type": "stream",
     "text": [
      "# writing subsets/living_9-052-000006.tar 6643 1.0 GB 39858\n"
     ]
    },
    {
     "name": "stderr",
     "output_type": "stream",
     "text": [
      "4857000\n",
      "4858000\n",
      "4859000\n",
      "4860000\n",
      "4861000\n",
      "4862000\n",
      "4863000\n"
     ]
    },
    {
     "name": "stdout",
     "output_type": "stream",
     "text": [
      "# writing subsets/living_9-052-000007.tar 6643 1.0 GB 46501\n"
     ]
    },
    {
     "name": "stderr",
     "output_type": "stream",
     "text": [
      "4864000\n",
      "4865000\n",
      "4866000\n",
      "4867000\n",
      "4868000\n",
      "4869000\n",
      "4870000\n"
     ]
    },
    {
     "name": "stdout",
     "output_type": "stream",
     "text": [
      "# writing subsets/living_9-052-000008.tar 6643 1.0 GB 53144\n"
     ]
    },
    {
     "name": "stderr",
     "output_type": "stream",
     "text": [
      "4871000\n",
      "4872000\n",
      "4873000\n",
      "4874000\n",
      "4875000\n",
      "4876000\n"
     ]
    },
    {
     "name": "stdout",
     "output_type": "stream",
     "text": [
      "# writing subsets/living_9-052-000009.tar 6643 1.0 GB 59787\n"
     ]
    },
    {
     "name": "stderr",
     "output_type": "stream",
     "text": [
      "4877000\n",
      "4878000\n",
      "4879000\n",
      "4880000\n",
      "4881000\n",
      "4882000\n",
      "4883000\n"
     ]
    },
    {
     "name": "stdout",
     "output_type": "stream",
     "text": [
      "# writing subsets/living_9-052-000010.tar 6643 1.0 GB 66430\n"
     ]
    },
    {
     "name": "stderr",
     "output_type": "stream",
     "text": [
      "4884000\n",
      "4885000\n",
      "4886000\n",
      "4887000\n",
      "4888000\n",
      "4889000\n"
     ]
    },
    {
     "name": "stdout",
     "output_type": "stream",
     "text": [
      "# writing subsets/living_9-052-000011.tar 6643 1.0 GB 73073\n"
     ]
    },
    {
     "name": "stderr",
     "output_type": "stream",
     "text": [
      "4890000\n",
      "4891000\n",
      "4892000\n",
      "4893000\n",
      "4894000\n",
      "4895000\n",
      "4896000\n"
     ]
    },
    {
     "name": "stdout",
     "output_type": "stream",
     "text": [
      "# writing subsets/living_9-052-000012.tar 6643 1.0 GB 79716\n"
     ]
    },
    {
     "name": "stderr",
     "output_type": "stream",
     "text": [
      "4897000\n",
      "4898000\n",
      "4899000\n",
      "4900000\n",
      "4901000\n",
      "4902000\n",
      "4903000\n"
     ]
    },
    {
     "name": "stdout",
     "output_type": "stream",
     "text": [
      "# writing subsets/living_9-052-000013.tar 6643 1.0 GB 86359\n"
     ]
    },
    {
     "name": "stderr",
     "output_type": "stream",
     "text": [
      "4904000\n",
      "4905000\n",
      "4906000\n",
      "4907000\n",
      "4908000\n",
      "4909000\n"
     ]
    },
    {
     "name": "stdout",
     "output_type": "stream",
     "text": [
      "# writing subsets/living_9-053-000000.tar 0 0.0 GB 0\n"
     ]
    },
    {
     "name": "stderr",
     "output_type": "stream",
     "text": [
      "4910000\n",
      "4911000\n",
      "4912000\n",
      "4913000\n",
      "4914000\n",
      "4915000\n",
      "4916000\n"
     ]
    },
    {
     "name": "stdout",
     "output_type": "stream",
     "text": [
      "# writing subsets/living_9-053-000001.tar 6643 1.0 GB 6643\n"
     ]
    },
    {
     "name": "stderr",
     "output_type": "stream",
     "text": [
      "4917000\n",
      "4918000\n",
      "4919000\n",
      "4920000\n",
      "4921000\n",
      "4922000\n"
     ]
    },
    {
     "name": "stdout",
     "output_type": "stream",
     "text": [
      "# writing subsets/living_9-053-000002.tar 6643 1.0 GB 13286\n"
     ]
    },
    {
     "name": "stderr",
     "output_type": "stream",
     "text": [
      "4923000\n",
      "4924000\n",
      "4925000\n",
      "4926000\n",
      "4927000\n",
      "4928000\n",
      "4929000\n"
     ]
    },
    {
     "name": "stdout",
     "output_type": "stream",
     "text": [
      "# writing subsets/living_9-053-000003.tar 6643 1.0 GB 19929\n"
     ]
    },
    {
     "name": "stderr",
     "output_type": "stream",
     "text": [
      "4930000\n",
      "4931000\n",
      "4932000\n",
      "4933000\n",
      "4934000\n",
      "4935000\n",
      "4936000\n"
     ]
    },
    {
     "name": "stdout",
     "output_type": "stream",
     "text": [
      "# writing subsets/living_9-053-000004.tar 6643 1.0 GB 26572\n"
     ]
    },
    {
     "name": "stderr",
     "output_type": "stream",
     "text": [
      "4937000\n",
      "4938000\n",
      "4939000\n",
      "4940000\n",
      "4941000\n",
      "4942000\n"
     ]
    },
    {
     "name": "stdout",
     "output_type": "stream",
     "text": [
      "# writing subsets/living_9-053-000005.tar 6643 1.0 GB 33215\n"
     ]
    },
    {
     "name": "stderr",
     "output_type": "stream",
     "text": [
      "4943000\n",
      "4944000\n",
      "4945000\n",
      "4946000\n",
      "4947000\n",
      "4948000\n",
      "4949000\n"
     ]
    },
    {
     "name": "stdout",
     "output_type": "stream",
     "text": [
      "# writing subsets/living_9-053-000006.tar 6643 1.0 GB 39858\n"
     ]
    },
    {
     "name": "stderr",
     "output_type": "stream",
     "text": [
      "4950000\n",
      "4951000\n",
      "4952000\n",
      "4953000\n",
      "4954000\n",
      "4955000\n"
     ]
    },
    {
     "name": "stdout",
     "output_type": "stream",
     "text": [
      "# writing subsets/living_9-053-000007.tar 6643 1.0 GB 46501\n"
     ]
    },
    {
     "name": "stderr",
     "output_type": "stream",
     "text": [
      "4956000\n",
      "4957000\n",
      "4958000\n",
      "4959000\n",
      "4960000\n",
      "4961000\n",
      "4962000\n"
     ]
    },
    {
     "name": "stdout",
     "output_type": "stream",
     "text": [
      "# writing subsets/living_9-053-000008.tar 6643 1.0 GB 53144\n"
     ]
    },
    {
     "name": "stderr",
     "output_type": "stream",
     "text": [
      "4963000\n",
      "4964000\n",
      "4965000\n",
      "4966000\n",
      "4967000\n",
      "4968000\n",
      "4969000\n"
     ]
    },
    {
     "name": "stdout",
     "output_type": "stream",
     "text": [
      "# writing subsets/living_9-053-000009.tar 6643 1.0 GB 59787\n"
     ]
    },
    {
     "name": "stderr",
     "output_type": "stream",
     "text": [
      "4970000\n",
      "4971000\n",
      "4972000\n",
      "4973000\n",
      "4974000\n",
      "4975000\n"
     ]
    },
    {
     "name": "stdout",
     "output_type": "stream",
     "text": [
      "# writing subsets/living_9-053-000010.tar 6643 1.0 GB 66430\n"
     ]
    },
    {
     "name": "stderr",
     "output_type": "stream",
     "text": [
      "4976000\n",
      "4977000\n",
      "4978000\n",
      "4979000\n",
      "4980000\n",
      "4981000\n",
      "4982000\n"
     ]
    },
    {
     "name": "stdout",
     "output_type": "stream",
     "text": [
      "# writing subsets/living_9-053-000011.tar 6643 1.0 GB 73073\n"
     ]
    },
    {
     "name": "stderr",
     "output_type": "stream",
     "text": [
      "4983000\n",
      "4984000\n",
      "4985000\n",
      "4986000\n",
      "4987000\n",
      "4988000\n",
      "4989000\n"
     ]
    },
    {
     "name": "stdout",
     "output_type": "stream",
     "text": [
      "# writing subsets/living_9-053-000012.tar 6643 1.0 GB 79716\n"
     ]
    },
    {
     "name": "stderr",
     "output_type": "stream",
     "text": [
      "4990000\n",
      "4991000\n",
      "4992000\n",
      "4993000\n",
      "4994000\n",
      "4995000\n"
     ]
    },
    {
     "name": "stdout",
     "output_type": "stream",
     "text": [
      "# writing subsets/living_9-053-000013.tar 6643 1.0 GB 86359\n"
     ]
    },
    {
     "name": "stderr",
     "output_type": "stream",
     "text": [
      "4996000\n",
      "4997000\n",
      "4998000\n",
      "4999000\n",
      "5000000\n",
      "5001000\n",
      "5002000\n"
     ]
    },
    {
     "name": "stdout",
     "output_type": "stream",
     "text": [
      "# writing subsets/living_9-054-000000.tar 0 0.0 GB 0\n"
     ]
    },
    {
     "name": "stderr",
     "output_type": "stream",
     "text": [
      "5003000\n",
      "5004000\n",
      "5005000\n",
      "5006000\n",
      "5007000\n",
      "5008000\n"
     ]
    },
    {
     "name": "stdout",
     "output_type": "stream",
     "text": [
      "# writing subsets/living_9-054-000001.tar 6643 1.0 GB 6643\n"
     ]
    },
    {
     "name": "stderr",
     "output_type": "stream",
     "text": [
      "5009000\n",
      "5010000\n",
      "5011000\n",
      "5012000\n",
      "5013000\n",
      "5014000\n",
      "5015000\n"
     ]
    },
    {
     "name": "stdout",
     "output_type": "stream",
     "text": [
      "# writing subsets/living_9-054-000002.tar 6643 1.0 GB 13286\n"
     ]
    },
    {
     "name": "stderr",
     "output_type": "stream",
     "text": [
      "5016000\n",
      "5017000\n",
      "5018000\n",
      "5019000\n",
      "5020000\n",
      "5021000\n",
      "5022000\n"
     ]
    },
    {
     "name": "stdout",
     "output_type": "stream",
     "text": [
      "# writing subsets/living_9-054-000003.tar 6643 1.0 GB 19929\n"
     ]
    },
    {
     "name": "stderr",
     "output_type": "stream",
     "text": [
      "5023000\n",
      "5024000\n",
      "5025000\n",
      "5026000\n",
      "5027000\n",
      "5028000\n"
     ]
    },
    {
     "name": "stdout",
     "output_type": "stream",
     "text": [
      "# writing subsets/living_9-054-000004.tar 6643 1.0 GB 26572\n"
     ]
    },
    {
     "name": "stderr",
     "output_type": "stream",
     "text": [
      "5029000\n",
      "5030000\n",
      "5031000\n",
      "5032000\n",
      "5033000\n",
      "5034000\n",
      "5035000\n"
     ]
    },
    {
     "name": "stdout",
     "output_type": "stream",
     "text": [
      "# writing subsets/living_9-054-000005.tar 6643 1.0 GB 33215\n"
     ]
    },
    {
     "name": "stderr",
     "output_type": "stream",
     "text": [
      "5036000\n",
      "5037000\n",
      "5038000\n",
      "5039000\n",
      "5040000\n",
      "5041000\n"
     ]
    },
    {
     "name": "stdout",
     "output_type": "stream",
     "text": [
      "# writing subsets/living_9-054-000006.tar 6643 1.0 GB 39858\n"
     ]
    },
    {
     "name": "stderr",
     "output_type": "stream",
     "text": [
      "5042000\n",
      "5043000\n",
      "5044000\n",
      "5045000\n",
      "5046000\n",
      "5047000\n",
      "5048000\n"
     ]
    },
    {
     "name": "stdout",
     "output_type": "stream",
     "text": [
      "# writing subsets/living_9-054-000007.tar 6643 1.0 GB 46501\n"
     ]
    },
    {
     "name": "stderr",
     "output_type": "stream",
     "text": [
      "5049000\n",
      "5050000\n",
      "5051000\n",
      "5052000\n",
      "5053000\n",
      "5054000\n",
      "5055000\n"
     ]
    },
    {
     "name": "stdout",
     "output_type": "stream",
     "text": [
      "# writing subsets/living_9-054-000008.tar 6643 1.0 GB 53144\n"
     ]
    },
    {
     "name": "stderr",
     "output_type": "stream",
     "text": [
      "5056000\n",
      "5057000\n",
      "5058000\n",
      "5059000\n",
      "5060000\n",
      "5061000\n"
     ]
    },
    {
     "name": "stdout",
     "output_type": "stream",
     "text": [
      "# writing subsets/living_9-054-000009.tar 6643 1.0 GB 59787\n"
     ]
    },
    {
     "name": "stderr",
     "output_type": "stream",
     "text": [
      "5062000\n",
      "5063000\n",
      "5064000\n",
      "5065000\n",
      "5066000\n",
      "5067000\n",
      "5068000\n"
     ]
    },
    {
     "name": "stdout",
     "output_type": "stream",
     "text": [
      "# writing subsets/living_9-054-000010.tar 6643 1.0 GB 66430\n"
     ]
    },
    {
     "name": "stderr",
     "output_type": "stream",
     "text": [
      "5069000\n",
      "5070000\n",
      "5071000\n",
      "5072000\n",
      "5073000\n",
      "5074000\n",
      "5075000\n"
     ]
    },
    {
     "name": "stdout",
     "output_type": "stream",
     "text": [
      "# writing subsets/living_9-054-000011.tar 6643 1.0 GB 73073\n"
     ]
    },
    {
     "name": "stderr",
     "output_type": "stream",
     "text": [
      "5076000\n",
      "5077000\n",
      "5078000\n",
      "5079000\n",
      "5080000\n",
      "5081000\n"
     ]
    },
    {
     "name": "stdout",
     "output_type": "stream",
     "text": [
      "# writing subsets/living_9-054-000012.tar 6643 1.0 GB 79716\n"
     ]
    },
    {
     "name": "stderr",
     "output_type": "stream",
     "text": [
      "5082000\n",
      "5083000\n",
      "5084000\n",
      "5085000\n",
      "5086000\n",
      "5087000\n",
      "5088000\n"
     ]
    },
    {
     "name": "stdout",
     "output_type": "stream",
     "text": [
      "# writing subsets/living_9-054-000013.tar 6643 1.0 GB 86359\n"
     ]
    },
    {
     "name": "stderr",
     "output_type": "stream",
     "text": [
      "5089000\n",
      "5090000\n",
      "5091000\n",
      "5092000\n",
      "5093000\n",
      "5094000\n"
     ]
    },
    {
     "name": "stdout",
     "output_type": "stream",
     "text": [
      "# writing subsets/living_9-055-000000.tar 0 0.0 GB 0\n"
     ]
    },
    {
     "name": "stderr",
     "output_type": "stream",
     "text": [
      "5095000\n",
      "5096000\n",
      "5097000\n",
      "5098000\n",
      "5099000\n",
      "5100000\n",
      "5101000\n"
     ]
    },
    {
     "name": "stdout",
     "output_type": "stream",
     "text": [
      "# writing subsets/living_9-055-000001.tar 6643 1.0 GB 6643\n"
     ]
    },
    {
     "name": "stderr",
     "output_type": "stream",
     "text": [
      "5102000\n",
      "5103000\n",
      "5104000\n",
      "5105000\n",
      "5106000\n",
      "5107000\n",
      "5108000\n"
     ]
    },
    {
     "name": "stdout",
     "output_type": "stream",
     "text": [
      "# writing subsets/living_9-055-000002.tar 6643 1.0 GB 13286\n"
     ]
    },
    {
     "name": "stderr",
     "output_type": "stream",
     "text": [
      "5109000\n",
      "5110000\n",
      "5111000\n",
      "5112000\n",
      "5113000\n",
      "5114000\n"
     ]
    },
    {
     "name": "stdout",
     "output_type": "stream",
     "text": [
      "# writing subsets/living_9-055-000003.tar 6643 1.0 GB 19929\n"
     ]
    },
    {
     "name": "stderr",
     "output_type": "stream",
     "text": [
      "5115000\n",
      "5116000\n",
      "5117000\n",
      "5118000\n",
      "5119000\n",
      "5120000\n",
      "5121000\n"
     ]
    },
    {
     "name": "stdout",
     "output_type": "stream",
     "text": [
      "# writing subsets/living_9-055-000004.tar 6643 1.0 GB 26572\n"
     ]
    },
    {
     "name": "stderr",
     "output_type": "stream",
     "text": [
      "5122000\n",
      "5123000\n",
      "5124000\n",
      "5125000\n",
      "5126000\n",
      "5127000\n"
     ]
    },
    {
     "name": "stdout",
     "output_type": "stream",
     "text": [
      "# writing subsets/living_9-055-000005.tar 6643 1.0 GB 33215\n"
     ]
    },
    {
     "name": "stderr",
     "output_type": "stream",
     "text": [
      "5128000\n",
      "5129000\n",
      "5130000\n",
      "5131000\n",
      "5132000\n",
      "5133000\n",
      "5134000\n"
     ]
    },
    {
     "name": "stdout",
     "output_type": "stream",
     "text": [
      "# writing subsets/living_9-055-000006.tar 6643 1.0 GB 39858\n"
     ]
    },
    {
     "name": "stderr",
     "output_type": "stream",
     "text": [
      "5135000\n",
      "5136000\n",
      "5137000\n",
      "5138000\n",
      "5139000\n",
      "5140000\n",
      "5141000\n"
     ]
    },
    {
     "name": "stdout",
     "output_type": "stream",
     "text": [
      "# writing subsets/living_9-055-000007.tar 6643 1.0 GB 46501\n"
     ]
    },
    {
     "name": "stderr",
     "output_type": "stream",
     "text": [
      "5142000\n",
      "5143000\n",
      "5144000\n",
      "5145000\n",
      "5146000\n",
      "5147000\n"
     ]
    },
    {
     "name": "stdout",
     "output_type": "stream",
     "text": [
      "# writing subsets/living_9-055-000008.tar 6643 1.0 GB 53144\n"
     ]
    },
    {
     "name": "stderr",
     "output_type": "stream",
     "text": [
      "5148000\n",
      "5149000\n",
      "5150000\n",
      "5151000\n",
      "5152000\n",
      "5153000\n",
      "5154000\n"
     ]
    },
    {
     "name": "stdout",
     "output_type": "stream",
     "text": [
      "# writing subsets/living_9-055-000009.tar 6643 1.0 GB 59787\n"
     ]
    },
    {
     "name": "stderr",
     "output_type": "stream",
     "text": [
      "5155000\n",
      "5156000\n",
      "5157000\n",
      "5158000\n",
      "5159000\n",
      "5160000\n",
      "5161000\n"
     ]
    },
    {
     "name": "stdout",
     "output_type": "stream",
     "text": [
      "# writing subsets/living_9-055-000010.tar 6643 1.0 GB 66430\n"
     ]
    },
    {
     "name": "stderr",
     "output_type": "stream",
     "text": [
      "5162000\n",
      "5163000\n",
      "5164000\n",
      "5165000\n",
      "5166000\n",
      "5167000\n"
     ]
    },
    {
     "name": "stdout",
     "output_type": "stream",
     "text": [
      "# writing subsets/living_9-055-000011.tar 6643 1.0 GB 73073\n"
     ]
    },
    {
     "name": "stderr",
     "output_type": "stream",
     "text": [
      "5168000\n",
      "5169000\n",
      "5170000\n",
      "5171000\n",
      "5172000\n",
      "5173000\n",
      "5174000\n"
     ]
    },
    {
     "name": "stdout",
     "output_type": "stream",
     "text": [
      "# writing subsets/living_9-055-000012.tar 6643 1.0 GB 79716\n"
     ]
    },
    {
     "name": "stderr",
     "output_type": "stream",
     "text": [
      "5175000\n",
      "5176000\n",
      "5177000\n",
      "5178000\n",
      "5179000\n",
      "5180000\n",
      "5181000\n"
     ]
    },
    {
     "name": "stdout",
     "output_type": "stream",
     "text": [
      "# writing subsets/living_9-055-000013.tar 6643 1.0 GB 86359\n"
     ]
    },
    {
     "name": "stderr",
     "output_type": "stream",
     "text": [
      "5182000\n",
      "5183000\n",
      "5184000\n",
      "5185000\n",
      "5186000\n",
      "5187000\n"
     ]
    },
    {
     "name": "stdout",
     "output_type": "stream",
     "text": [
      "# writing subsets/living_9-056-000000.tar 0 0.0 GB 0\n"
     ]
    },
    {
     "name": "stderr",
     "output_type": "stream",
     "text": [
      "5188000\n",
      "5189000\n",
      "5190000\n",
      "5191000\n",
      "5192000\n",
      "5193000\n",
      "5194000\n"
     ]
    },
    {
     "name": "stdout",
     "output_type": "stream",
     "text": [
      "# writing subsets/living_9-056-000001.tar 6643 1.0 GB 6643\n"
     ]
    },
    {
     "name": "stderr",
     "output_type": "stream",
     "text": [
      "5195000\n",
      "5196000\n",
      "5197000\n",
      "5198000\n",
      "5199000\n",
      "5200000\n"
     ]
    },
    {
     "name": "stdout",
     "output_type": "stream",
     "text": [
      "# writing subsets/living_9-056-000002.tar 6643 1.0 GB 13286\n"
     ]
    },
    {
     "name": "stderr",
     "output_type": "stream",
     "text": [
      "5201000\n",
      "5202000\n",
      "5203000\n",
      "5204000\n",
      "5205000\n",
      "5206000\n",
      "5207000\n"
     ]
    },
    {
     "name": "stdout",
     "output_type": "stream",
     "text": [
      "# writing subsets/living_9-056-000003.tar 6643 1.0 GB 19929\n"
     ]
    },
    {
     "name": "stderr",
     "output_type": "stream",
     "text": [
      "5208000\n",
      "5209000\n",
      "5210000\n",
      "5211000\n",
      "5212000\n",
      "5213000\n"
     ]
    },
    {
     "name": "stdout",
     "output_type": "stream",
     "text": [
      "# writing subsets/living_9-056-000004.tar 6643 1.0 GB 26572\n"
     ]
    },
    {
     "name": "stderr",
     "output_type": "stream",
     "text": [
      "5214000\n",
      "5215000\n",
      "5216000\n",
      "5217000\n",
      "5218000\n",
      "5219000\n",
      "5220000\n"
     ]
    },
    {
     "name": "stdout",
     "output_type": "stream",
     "text": [
      "# writing subsets/living_9-056-000005.tar 6643 1.0 GB 33215\n"
     ]
    },
    {
     "name": "stderr",
     "output_type": "stream",
     "text": [
      "5221000\n",
      "5222000\n",
      "5223000\n",
      "5224000\n",
      "5225000\n",
      "5226000\n",
      "5227000\n"
     ]
    },
    {
     "name": "stdout",
     "output_type": "stream",
     "text": [
      "# writing subsets/living_9-056-000006.tar 6643 1.0 GB 39858\n"
     ]
    },
    {
     "name": "stderr",
     "output_type": "stream",
     "text": [
      "5228000\n",
      "5229000\n",
      "5230000\n",
      "5231000\n",
      "5232000\n",
      "5233000\n"
     ]
    },
    {
     "name": "stdout",
     "output_type": "stream",
     "text": [
      "# writing subsets/living_9-056-000007.tar 6643 1.0 GB 46501\n"
     ]
    },
    {
     "name": "stderr",
     "output_type": "stream",
     "text": [
      "5234000\n",
      "5235000\n",
      "5236000\n",
      "5237000\n",
      "5238000\n",
      "5239000\n",
      "5240000\n"
     ]
    },
    {
     "name": "stdout",
     "output_type": "stream",
     "text": [
      "# writing subsets/living_9-056-000008.tar 6643 1.0 GB 53144\n"
     ]
    },
    {
     "name": "stderr",
     "output_type": "stream",
     "text": [
      "5241000\n",
      "5242000\n",
      "5243000\n",
      "5244000\n",
      "5245000\n",
      "5246000\n",
      "5247000\n"
     ]
    },
    {
     "name": "stdout",
     "output_type": "stream",
     "text": [
      "# writing subsets/living_9-056-000009.tar 6643 1.0 GB 59787\n"
     ]
    },
    {
     "name": "stderr",
     "output_type": "stream",
     "text": [
      "5248000\n",
      "5249000\n",
      "5250000\n",
      "5251000\n",
      "5252000\n",
      "5253000\n"
     ]
    },
    {
     "name": "stdout",
     "output_type": "stream",
     "text": [
      "# writing subsets/living_9-056-000010.tar 6643 1.0 GB 66430\n"
     ]
    },
    {
     "name": "stderr",
     "output_type": "stream",
     "text": [
      "5254000\n",
      "5255000\n",
      "5256000\n",
      "5257000\n",
      "5258000\n",
      "5259000\n",
      "5260000\n"
     ]
    },
    {
     "name": "stdout",
     "output_type": "stream",
     "text": [
      "# writing subsets/living_9-056-000011.tar 6643 1.0 GB 73073\n"
     ]
    },
    {
     "name": "stderr",
     "output_type": "stream",
     "text": [
      "5261000\n",
      "5262000\n",
      "5263000\n",
      "5264000\n",
      "5265000\n",
      "5266000\n",
      "5267000\n"
     ]
    },
    {
     "name": "stdout",
     "output_type": "stream",
     "text": [
      "# writing subsets/living_9-056-000012.tar 6643 1.0 GB 79716\n"
     ]
    },
    {
     "name": "stderr",
     "output_type": "stream",
     "text": [
      "5268000\n",
      "5269000\n",
      "5270000\n",
      "5271000\n",
      "5272000\n",
      "5273000\n"
     ]
    },
    {
     "name": "stdout",
     "output_type": "stream",
     "text": [
      "# writing subsets/living_9-056-000013.tar 6643 1.0 GB 86359\n"
     ]
    },
    {
     "name": "stderr",
     "output_type": "stream",
     "text": [
      "5274000\n",
      "5275000\n",
      "5276000\n",
      "5277000\n",
      "5278000\n",
      "5279000\n"
     ]
    },
    {
     "name": "stdout",
     "output_type": "stream",
     "text": [
      "# writing subsets/living_9-057-000000.tar 0 0.0 GB 0\n"
     ]
    },
    {
     "name": "stderr",
     "output_type": "stream",
     "text": [
      "5280000\n",
      "5281000\n",
      "5282000\n",
      "5283000\n",
      "5284000\n",
      "5285000\n",
      "5286000\n"
     ]
    },
    {
     "name": "stdout",
     "output_type": "stream",
     "text": [
      "# writing subsets/living_9-057-000001.tar 6643 1.0 GB 6643\n"
     ]
    },
    {
     "name": "stderr",
     "output_type": "stream",
     "text": [
      "5287000\n",
      "5288000\n",
      "5289000\n",
      "5290000\n",
      "5291000\n",
      "5292000\n",
      "5293000\n"
     ]
    },
    {
     "name": "stdout",
     "output_type": "stream",
     "text": [
      "# writing subsets/living_9-057-000002.tar 6643 1.0 GB 13286\n"
     ]
    },
    {
     "name": "stderr",
     "output_type": "stream",
     "text": [
      "5294000\n",
      "5295000\n",
      "5296000\n",
      "5297000\n",
      "5298000\n",
      "5299000\n"
     ]
    },
    {
     "name": "stdout",
     "output_type": "stream",
     "text": [
      "# writing subsets/living_9-057-000003.tar 6643 1.0 GB 19929\n"
     ]
    },
    {
     "name": "stderr",
     "output_type": "stream",
     "text": [
      "5300000\n",
      "5301000\n",
      "5302000\n",
      "5303000\n",
      "5304000\n",
      "5305000\n",
      "5306000\n"
     ]
    },
    {
     "name": "stdout",
     "output_type": "stream",
     "text": [
      "# writing subsets/living_9-057-000004.tar 6643 1.0 GB 26572\n"
     ]
    },
    {
     "name": "stderr",
     "output_type": "stream",
     "text": [
      "5307000\n",
      "5308000\n",
      "5309000\n",
      "5310000\n",
      "5311000\n",
      "5312000\n",
      "5313000\n"
     ]
    },
    {
     "name": "stdout",
     "output_type": "stream",
     "text": [
      "# writing subsets/living_9-057-000005.tar 6643 1.0 GB 33215\n"
     ]
    },
    {
     "name": "stderr",
     "output_type": "stream",
     "text": [
      "5314000\n",
      "5315000\n",
      "5316000\n",
      "5317000\n",
      "5318000\n",
      "5319000\n"
     ]
    },
    {
     "name": "stdout",
     "output_type": "stream",
     "text": [
      "# writing subsets/living_9-057-000006.tar 6643 1.0 GB 39858\n"
     ]
    },
    {
     "name": "stderr",
     "output_type": "stream",
     "text": [
      "5320000\n",
      "5321000\n",
      "5322000\n",
      "5323000\n",
      "5324000\n",
      "5325000\n",
      "5326000\n"
     ]
    },
    {
     "name": "stdout",
     "output_type": "stream",
     "text": [
      "# writing subsets/living_9-057-000007.tar 6643 1.0 GB 46501\n"
     ]
    },
    {
     "name": "stderr",
     "output_type": "stream",
     "text": [
      "5327000\n",
      "5328000\n",
      "5329000\n",
      "5330000\n",
      "5331000\n",
      "5332000\n",
      "5333000\n"
     ]
    },
    {
     "name": "stdout",
     "output_type": "stream",
     "text": [
      "# writing subsets/living_9-057-000008.tar 6643 1.0 GB 53144\n"
     ]
    },
    {
     "name": "stderr",
     "output_type": "stream",
     "text": [
      "5334000\n",
      "5335000\n",
      "5336000\n",
      "5337000\n",
      "5338000\n",
      "5339000\n"
     ]
    },
    {
     "name": "stdout",
     "output_type": "stream",
     "text": [
      "# writing subsets/living_9-057-000009.tar 6643 1.0 GB 59787\n"
     ]
    },
    {
     "name": "stderr",
     "output_type": "stream",
     "text": [
      "5340000\n",
      "5341000\n",
      "5342000\n",
      "5343000\n",
      "5344000\n",
      "5345000\n",
      "5346000\n"
     ]
    },
    {
     "name": "stdout",
     "output_type": "stream",
     "text": [
      "# writing subsets/living_9-057-000010.tar 6643 1.0 GB 66430\n"
     ]
    },
    {
     "name": "stderr",
     "output_type": "stream",
     "text": [
      "5347000\n",
      "5348000\n",
      "5349000\n",
      "5350000\n",
      "5351000\n",
      "5352000\n",
      "5353000\n"
     ]
    },
    {
     "name": "stdout",
     "output_type": "stream",
     "text": [
      "# writing subsets/living_9-057-000011.tar 6643 1.0 GB 73073\n"
     ]
    },
    {
     "name": "stderr",
     "output_type": "stream",
     "text": [
      "5354000\n",
      "5355000\n",
      "5356000\n",
      "5357000\n",
      "5358000\n",
      "5359000\n"
     ]
    },
    {
     "name": "stdout",
     "output_type": "stream",
     "text": [
      "# writing subsets/living_9-057-000012.tar 6643 1.0 GB 79716\n"
     ]
    },
    {
     "name": "stderr",
     "output_type": "stream",
     "text": [
      "5360000\n",
      "5361000\n",
      "5362000\n",
      "5363000\n",
      "5364000\n",
      "5365000\n",
      "5366000\n"
     ]
    },
    {
     "name": "stdout",
     "output_type": "stream",
     "text": [
      "# writing subsets/living_9-057-000013.tar 6643 1.0 GB 86359\n"
     ]
    },
    {
     "name": "stderr",
     "output_type": "stream",
     "text": [
      "5367000\n",
      "5368000\n",
      "5369000\n",
      "5370000\n",
      "5371000\n",
      "5372000\n"
     ]
    },
    {
     "name": "stdout",
     "output_type": "stream",
     "text": [
      "# writing subsets/living_9-058-000000.tar 0 0.0 GB 0\n"
     ]
    },
    {
     "name": "stderr",
     "output_type": "stream",
     "text": [
      "5373000\n",
      "5374000\n",
      "5375000\n",
      "5376000\n",
      "5377000\n",
      "5378000\n",
      "5379000\n"
     ]
    },
    {
     "name": "stdout",
     "output_type": "stream",
     "text": [
      "# writing subsets/living_9-058-000001.tar 6643 1.0 GB 6643\n"
     ]
    },
    {
     "name": "stderr",
     "output_type": "stream",
     "text": [
      "5380000\n",
      "5381000\n",
      "5382000\n",
      "5383000\n",
      "5384000\n",
      "5385000\n"
     ]
    },
    {
     "name": "stdout",
     "output_type": "stream",
     "text": [
      "# writing subsets/living_9-058-000002.tar 6643 1.0 GB 13286\n"
     ]
    },
    {
     "name": "stderr",
     "output_type": "stream",
     "text": [
      "5386000\n",
      "5387000\n",
      "5388000\n",
      "5389000\n",
      "5390000\n",
      "5391000\n",
      "5392000\n"
     ]
    },
    {
     "name": "stdout",
     "output_type": "stream",
     "text": [
      "# writing subsets/living_9-058-000003.tar 6643 1.0 GB 19929\n"
     ]
    },
    {
     "name": "stderr",
     "output_type": "stream",
     "text": [
      "5393000\n",
      "5394000\n",
      "5395000\n",
      "5396000\n",
      "5397000\n",
      "5398000\n",
      "5399000\n"
     ]
    },
    {
     "name": "stdout",
     "output_type": "stream",
     "text": [
      "# writing subsets/living_9-058-000004.tar 6643 1.0 GB 26572\n"
     ]
    },
    {
     "name": "stderr",
     "output_type": "stream",
     "text": [
      "5400000\n",
      "5401000\n",
      "5402000\n",
      "5403000\n",
      "5404000\n",
      "5405000\n"
     ]
    },
    {
     "name": "stdout",
     "output_type": "stream",
     "text": [
      "# writing subsets/living_9-058-000005.tar 6643 1.0 GB 33215\n"
     ]
    },
    {
     "name": "stderr",
     "output_type": "stream",
     "text": [
      "5406000\n",
      "5407000\n",
      "5408000\n",
      "5409000\n",
      "5410000\n",
      "5411000\n",
      "5412000\n"
     ]
    },
    {
     "name": "stdout",
     "output_type": "stream",
     "text": [
      "# writing subsets/living_9-058-000006.tar 6643 1.0 GB 39858\n"
     ]
    },
    {
     "name": "stderr",
     "output_type": "stream",
     "text": [
      "5413000\n",
      "5414000\n",
      "5415000\n",
      "5416000\n",
      "5417000\n",
      "5418000\n",
      "5419000\n"
     ]
    },
    {
     "name": "stdout",
     "output_type": "stream",
     "text": [
      "# writing subsets/living_9-058-000007.tar 6643 1.0 GB 46501\n"
     ]
    },
    {
     "name": "stderr",
     "output_type": "stream",
     "text": [
      "5420000\n",
      "5421000\n",
      "5422000\n",
      "5423000\n",
      "5424000\n",
      "5425000\n"
     ]
    },
    {
     "name": "stdout",
     "output_type": "stream",
     "text": [
      "# writing subsets/living_9-058-000008.tar 6643 1.0 GB 53144\n"
     ]
    },
    {
     "name": "stderr",
     "output_type": "stream",
     "text": [
      "5426000\n",
      "5427000\n",
      "5428000\n",
      "5429000\n",
      "5430000\n",
      "5431000\n",
      "5432000\n"
     ]
    },
    {
     "name": "stdout",
     "output_type": "stream",
     "text": [
      "# writing subsets/living_9-058-000009.tar 6643 1.0 GB 59787\n"
     ]
    },
    {
     "name": "stderr",
     "output_type": "stream",
     "text": [
      "5433000\n",
      "5434000\n",
      "5435000\n",
      "5436000\n",
      "5437000\n",
      "5438000\n",
      "5439000\n"
     ]
    },
    {
     "name": "stdout",
     "output_type": "stream",
     "text": [
      "# writing subsets/living_9-058-000010.tar 6643 1.0 GB 66430\n"
     ]
    },
    {
     "name": "stderr",
     "output_type": "stream",
     "text": [
      "5440000\n",
      "5441000\n",
      "5442000\n",
      "5443000\n",
      "5444000\n",
      "5445000\n"
     ]
    },
    {
     "name": "stdout",
     "output_type": "stream",
     "text": [
      "# writing subsets/living_9-058-000011.tar 6643 1.0 GB 73073\n"
     ]
    },
    {
     "name": "stderr",
     "output_type": "stream",
     "text": [
      "5446000\n",
      "5447000\n",
      "5448000\n",
      "5449000\n",
      "5450000\n",
      "5451000\n",
      "5452000\n"
     ]
    },
    {
     "name": "stdout",
     "output_type": "stream",
     "text": [
      "# writing subsets/living_9-058-000012.tar 6643 1.0 GB 79716\n"
     ]
    },
    {
     "name": "stderr",
     "output_type": "stream",
     "text": [
      "5453000\n",
      "5454000\n",
      "5455000\n",
      "5456000\n",
      "5457000\n",
      "5458000\n",
      "5459000\n"
     ]
    },
    {
     "name": "stdout",
     "output_type": "stream",
     "text": [
      "# writing subsets/living_9-058-000013.tar 6643 1.0 GB 86359\n"
     ]
    },
    {
     "name": "stderr",
     "output_type": "stream",
     "text": [
      "5460000\n",
      "5461000\n",
      "5462000\n",
      "5463000\n",
      "5464000\n",
      "5465000\n"
     ]
    },
    {
     "name": "stdout",
     "output_type": "stream",
     "text": [
      "# writing subsets/living_9-059-000000.tar 0 0.0 GB 0\n"
     ]
    },
    {
     "name": "stderr",
     "output_type": "stream",
     "text": [
      "5466000\n",
      "5467000\n",
      "5468000\n",
      "5469000\n",
      "5470000\n",
      "5471000\n"
     ]
    },
    {
     "name": "stdout",
     "output_type": "stream",
     "text": [
      "# writing subsets/living_9-059-000001.tar 6643 1.0 GB 6643\n"
     ]
    },
    {
     "name": "stderr",
     "output_type": "stream",
     "text": [
      "5472000\n",
      "5473000\n",
      "5474000\n",
      "5475000\n",
      "5476000\n",
      "5477000\n",
      "5478000\n"
     ]
    },
    {
     "name": "stdout",
     "output_type": "stream",
     "text": [
      "# writing subsets/living_9-059-000002.tar 6643 1.0 GB 13286\n"
     ]
    },
    {
     "name": "stderr",
     "output_type": "stream",
     "text": [
      "5479000\n",
      "5480000\n",
      "5481000\n",
      "5482000\n",
      "5483000\n",
      "5484000\n",
      "5485000\n"
     ]
    },
    {
     "name": "stdout",
     "output_type": "stream",
     "text": [
      "# writing subsets/living_9-059-000003.tar 6643 1.0 GB 19929\n"
     ]
    },
    {
     "name": "stderr",
     "output_type": "stream",
     "text": [
      "5486000\n",
      "5487000\n",
      "5488000\n",
      "5489000\n",
      "5490000\n",
      "5491000\n"
     ]
    },
    {
     "name": "stdout",
     "output_type": "stream",
     "text": [
      "# writing subsets/living_9-059-000004.tar 6643 1.0 GB 26572\n"
     ]
    },
    {
     "name": "stderr",
     "output_type": "stream",
     "text": [
      "5492000\n",
      "5493000\n",
      "5494000\n",
      "5495000\n",
      "5496000\n",
      "5497000\n",
      "5498000\n"
     ]
    },
    {
     "name": "stdout",
     "output_type": "stream",
     "text": [
      "# writing subsets/living_9-059-000005.tar 6643 1.0 GB 33215\n"
     ]
    },
    {
     "name": "stderr",
     "output_type": "stream",
     "text": [
      "5499000\n",
      "5500000\n",
      "5501000\n",
      "5502000\n",
      "5503000\n",
      "5504000\n",
      "5505000\n"
     ]
    },
    {
     "name": "stdout",
     "output_type": "stream",
     "text": [
      "# writing subsets/living_9-059-000006.tar 6643 1.0 GB 39858\n"
     ]
    },
    {
     "name": "stderr",
     "output_type": "stream",
     "text": [
      "5506000\n",
      "5507000\n",
      "5508000\n",
      "5509000\n",
      "5510000\n",
      "5511000\n"
     ]
    },
    {
     "name": "stdout",
     "output_type": "stream",
     "text": [
      "# writing subsets/living_9-059-000007.tar 6643 1.0 GB 46501\n"
     ]
    },
    {
     "name": "stderr",
     "output_type": "stream",
     "text": [
      "5512000\n",
      "5513000\n",
      "5514000\n",
      "5515000\n",
      "5516000\n",
      "5517000\n",
      "5518000\n"
     ]
    },
    {
     "name": "stdout",
     "output_type": "stream",
     "text": [
      "# writing subsets/living_9-059-000008.tar 6643 1.0 GB 53144\n"
     ]
    },
    {
     "name": "stderr",
     "output_type": "stream",
     "text": [
      "5519000\n",
      "5520000\n",
      "5521000\n",
      "5522000\n",
      "5523000\n",
      "5524000\n",
      "5525000\n"
     ]
    },
    {
     "name": "stdout",
     "output_type": "stream",
     "text": [
      "# writing subsets/living_9-059-000009.tar 6643 1.0 GB 59787\n"
     ]
    },
    {
     "name": "stderr",
     "output_type": "stream",
     "text": [
      "5526000\n",
      "5527000\n",
      "5528000\n",
      "5529000\n",
      "5530000\n",
      "5531000\n"
     ]
    },
    {
     "name": "stdout",
     "output_type": "stream",
     "text": [
      "# writing subsets/living_9-059-000010.tar 6643 1.0 GB 66430\n"
     ]
    },
    {
     "name": "stderr",
     "output_type": "stream",
     "text": [
      "5532000\n",
      "5533000\n",
      "5534000\n",
      "5535000\n",
      "5536000\n",
      "5537000\n",
      "5538000\n"
     ]
    },
    {
     "name": "stdout",
     "output_type": "stream",
     "text": [
      "# writing subsets/living_9-059-000011.tar 6643 1.0 GB 73073\n"
     ]
    },
    {
     "name": "stderr",
     "output_type": "stream",
     "text": [
      "5539000\n",
      "5540000\n",
      "5541000\n",
      "5542000\n",
      "5543000\n",
      "5544000\n",
      "5545000\n"
     ]
    },
    {
     "name": "stdout",
     "output_type": "stream",
     "text": [
      "# writing subsets/living_9-059-000012.tar 6643 1.0 GB 79716\n"
     ]
    },
    {
     "name": "stderr",
     "output_type": "stream",
     "text": [
      "5546000\n",
      "5547000\n",
      "5548000\n",
      "5549000\n",
      "5550000\n",
      "5551000\n"
     ]
    },
    {
     "name": "stdout",
     "output_type": "stream",
     "text": [
      "# writing subsets/living_9-059-000013.tar 6643 1.0 GB 86359\n"
     ]
    },
    {
     "name": "stderr",
     "output_type": "stream",
     "text": [
      "5552000\n",
      "5553000\n",
      "5554000\n",
      "5555000\n",
      "5556000\n",
      "5557000\n"
     ]
    },
    {
     "name": "stdout",
     "output_type": "stream",
     "text": [
      "# writing subsets/living_9-060-000000.tar 0 0.0 GB 0\n"
     ]
    },
    {
     "name": "stderr",
     "output_type": "stream",
     "text": [
      "5558000\n",
      "5559000\n",
      "5560000\n",
      "5561000\n",
      "5562000\n",
      "5563000\n",
      "5564000\n"
     ]
    },
    {
     "name": "stdout",
     "output_type": "stream",
     "text": [
      "# writing subsets/living_9-060-000001.tar 6643 1.0 GB 6643\n"
     ]
    },
    {
     "name": "stderr",
     "output_type": "stream",
     "text": [
      "5565000\n",
      "5566000\n",
      "5567000\n",
      "5568000\n",
      "5569000\n",
      "5570000\n",
      "5571000\n"
     ]
    },
    {
     "name": "stdout",
     "output_type": "stream",
     "text": [
      "# writing subsets/living_9-060-000002.tar 6643 1.0 GB 13286\n"
     ]
    },
    {
     "name": "stderr",
     "output_type": "stream",
     "text": [
      "5572000\n",
      "5573000\n",
      "5574000\n",
      "5575000\n",
      "5576000\n",
      "5577000\n"
     ]
    },
    {
     "name": "stdout",
     "output_type": "stream",
     "text": [
      "# writing subsets/living_9-060-000003.tar 6643 1.0 GB 19929\n"
     ]
    },
    {
     "name": "stderr",
     "output_type": "stream",
     "text": [
      "5578000\n",
      "5579000\n",
      "5580000\n",
      "5581000\n",
      "5582000\n",
      "5583000\n",
      "5584000\n"
     ]
    },
    {
     "name": "stdout",
     "output_type": "stream",
     "text": [
      "# writing subsets/living_9-060-000004.tar 6643 1.0 GB 26572\n"
     ]
    },
    {
     "name": "stderr",
     "output_type": "stream",
     "text": [
      "5585000\n",
      "5586000\n",
      "5587000\n",
      "5588000\n",
      "5589000\n",
      "5590000\n",
      "5591000\n"
     ]
    },
    {
     "name": "stdout",
     "output_type": "stream",
     "text": [
      "# writing subsets/living_9-060-000005.tar 6643 1.0 GB 33215\n"
     ]
    },
    {
     "name": "stderr",
     "output_type": "stream",
     "text": [
      "5592000\n",
      "5593000\n",
      "5594000\n",
      "5595000\n",
      "5596000\n",
      "5597000\n"
     ]
    },
    {
     "name": "stdout",
     "output_type": "stream",
     "text": [
      "# writing subsets/living_9-060-000006.tar 6643 1.0 GB 39858\n"
     ]
    },
    {
     "name": "stderr",
     "output_type": "stream",
     "text": [
      "5598000\n",
      "5599000\n",
      "5600000\n",
      "5601000\n",
      "5602000\n",
      "5603000\n",
      "5604000\n"
     ]
    },
    {
     "name": "stdout",
     "output_type": "stream",
     "text": [
      "# writing subsets/living_9-060-000007.tar 6643 1.0 GB 46501\n"
     ]
    },
    {
     "name": "stderr",
     "output_type": "stream",
     "text": [
      "5605000\n",
      "5606000\n",
      "5607000\n",
      "5608000\n",
      "5609000\n",
      "5610000\n",
      "5611000\n"
     ]
    },
    {
     "name": "stdout",
     "output_type": "stream",
     "text": [
      "# writing subsets/living_9-060-000008.tar 6643 1.0 GB 53144\n"
     ]
    },
    {
     "name": "stderr",
     "output_type": "stream",
     "text": [
      "5612000\n",
      "5613000\n",
      "5614000\n",
      "5615000\n",
      "5616000\n",
      "5617000\n"
     ]
    },
    {
     "name": "stdout",
     "output_type": "stream",
     "text": [
      "# writing subsets/living_9-060-000009.tar 6643 1.0 GB 59787\n"
     ]
    },
    {
     "name": "stderr",
     "output_type": "stream",
     "text": [
      "5618000\n",
      "5619000\n",
      "5620000\n",
      "5621000\n",
      "5622000\n",
      "5623000\n",
      "5624000\n"
     ]
    },
    {
     "name": "stdout",
     "output_type": "stream",
     "text": [
      "# writing subsets/living_9-060-000010.tar 6643 1.0 GB 66430\n"
     ]
    },
    {
     "name": "stderr",
     "output_type": "stream",
     "text": [
      "5625000\n",
      "5626000\n",
      "5627000\n",
      "5628000\n",
      "5629000\n",
      "5630000\n"
     ]
    },
    {
     "name": "stdout",
     "output_type": "stream",
     "text": [
      "# writing subsets/living_9-060-000011.tar 6643 1.0 GB 73073\n"
     ]
    },
    {
     "name": "stderr",
     "output_type": "stream",
     "text": [
      "5631000\n",
      "5632000\n",
      "5633000\n",
      "5634000\n",
      "5635000\n",
      "5636000\n",
      "5637000\n"
     ]
    },
    {
     "name": "stdout",
     "output_type": "stream",
     "text": [
      "# writing subsets/living_9-060-000012.tar 6643 1.0 GB 79716\n"
     ]
    },
    {
     "name": "stderr",
     "output_type": "stream",
     "text": [
      "5638000\n",
      "5639000\n",
      "5640000\n",
      "5641000\n",
      "5642000\n",
      "5643000\n",
      "5644000\n"
     ]
    },
    {
     "name": "stdout",
     "output_type": "stream",
     "text": [
      "# writing subsets/living_9-060-000013.tar 6643 1.0 GB 86359\n"
     ]
    },
    {
     "name": "stderr",
     "output_type": "stream",
     "text": [
      "5645000\n",
      "5646000\n",
      "5647000\n",
      "5648000\n",
      "5649000\n",
      "5650000\n"
     ]
    },
    {
     "name": "stdout",
     "output_type": "stream",
     "text": [
      "# writing subsets/living_9-061-000000.tar 0 0.0 GB 0\n"
     ]
    },
    {
     "name": "stderr",
     "output_type": "stream",
     "text": [
      "5651000\n",
      "5652000\n",
      "5653000\n",
      "5654000\n",
      "5655000\n",
      "5656000\n",
      "5657000\n"
     ]
    },
    {
     "name": "stdout",
     "output_type": "stream",
     "text": [
      "# writing subsets/living_9-061-000001.tar 6643 1.0 GB 6643\n"
     ]
    },
    {
     "name": "stderr",
     "output_type": "stream",
     "text": [
      "5658000\n",
      "5659000\n",
      "5660000\n",
      "5661000\n",
      "5662000\n",
      "5663000\n"
     ]
    },
    {
     "name": "stdout",
     "output_type": "stream",
     "text": [
      "# writing subsets/living_9-061-000002.tar 6643 1.0 GB 13286\n"
     ]
    },
    {
     "name": "stderr",
     "output_type": "stream",
     "text": [
      "5664000\n",
      "5665000\n",
      "5666000\n",
      "5667000\n",
      "5668000\n",
      "5669000\n",
      "5670000\n"
     ]
    },
    {
     "name": "stdout",
     "output_type": "stream",
     "text": [
      "# writing subsets/living_9-061-000003.tar 6643 1.0 GB 19929\n"
     ]
    },
    {
     "name": "stderr",
     "output_type": "stream",
     "text": [
      "5671000\n",
      "5672000\n",
      "5673000\n",
      "5674000\n",
      "5675000\n",
      "5676000\n",
      "5677000\n"
     ]
    },
    {
     "name": "stdout",
     "output_type": "stream",
     "text": [
      "# writing subsets/living_9-061-000004.tar 6643 1.0 GB 26572\n"
     ]
    },
    {
     "name": "stderr",
     "output_type": "stream",
     "text": [
      "5678000\n",
      "5679000\n",
      "5680000\n",
      "5681000\n",
      "5682000\n",
      "5683000\n"
     ]
    },
    {
     "name": "stdout",
     "output_type": "stream",
     "text": [
      "# writing subsets/living_9-061-000005.tar 6643 1.0 GB 33215\n"
     ]
    },
    {
     "name": "stderr",
     "output_type": "stream",
     "text": [
      "5684000\n",
      "5685000\n",
      "5686000\n",
      "5687000\n",
      "5688000\n",
      "5689000\n",
      "5690000\n"
     ]
    },
    {
     "name": "stdout",
     "output_type": "stream",
     "text": [
      "# writing subsets/living_9-061-000006.tar 6643 1.0 GB 39858\n"
     ]
    },
    {
     "name": "stderr",
     "output_type": "stream",
     "text": [
      "5691000\n",
      "5692000\n",
      "5693000\n",
      "5694000\n",
      "5695000\n",
      "5696000\n",
      "5697000\n"
     ]
    },
    {
     "name": "stdout",
     "output_type": "stream",
     "text": [
      "# writing subsets/living_9-061-000007.tar 6643 1.0 GB 46501\n"
     ]
    },
    {
     "name": "stderr",
     "output_type": "stream",
     "text": [
      "5698000\n",
      "5699000\n",
      "5700000\n",
      "5701000\n",
      "5702000\n",
      "5703000\n"
     ]
    },
    {
     "name": "stdout",
     "output_type": "stream",
     "text": [
      "# writing subsets/living_9-061-000008.tar 6643 1.0 GB 53144\n"
     ]
    },
    {
     "name": "stderr",
     "output_type": "stream",
     "text": [
      "5704000\n",
      "5705000\n",
      "5706000\n",
      "5707000\n",
      "5708000\n",
      "5709000\n",
      "5710000\n"
     ]
    },
    {
     "name": "stdout",
     "output_type": "stream",
     "text": [
      "# writing subsets/living_9-061-000009.tar 6643 1.0 GB 59787\n"
     ]
    },
    {
     "name": "stderr",
     "output_type": "stream",
     "text": [
      "5711000\n",
      "5712000\n",
      "5713000\n",
      "5714000\n",
      "5715000\n",
      "5716000\n"
     ]
    },
    {
     "name": "stdout",
     "output_type": "stream",
     "text": [
      "# writing subsets/living_9-061-000010.tar 6643 1.0 GB 66430\n"
     ]
    },
    {
     "name": "stderr",
     "output_type": "stream",
     "text": [
      "5717000\n",
      "5718000\n",
      "5719000\n",
      "5720000\n",
      "5721000\n",
      "5722000\n",
      "5723000\n"
     ]
    },
    {
     "name": "stdout",
     "output_type": "stream",
     "text": [
      "# writing subsets/living_9-061-000011.tar 6643 1.0 GB 73073\n"
     ]
    },
    {
     "name": "stderr",
     "output_type": "stream",
     "text": [
      "5724000\n",
      "5725000\n",
      "5726000\n",
      "5727000\n",
      "5728000\n",
      "5729000\n",
      "5730000\n"
     ]
    },
    {
     "name": "stdout",
     "output_type": "stream",
     "text": [
      "# writing subsets/living_9-061-000012.tar 6643 1.0 GB 79716\n"
     ]
    },
    {
     "name": "stderr",
     "output_type": "stream",
     "text": [
      "5731000\n",
      "5732000\n",
      "5733000\n",
      "5734000\n",
      "5735000\n",
      "5736000\n"
     ]
    },
    {
     "name": "stdout",
     "output_type": "stream",
     "text": [
      "# writing subsets/living_9-061-000013.tar 6643 1.0 GB 86359\n"
     ]
    },
    {
     "name": "stderr",
     "output_type": "stream",
     "text": [
      "5737000\n",
      "5738000\n",
      "5739000\n",
      "5740000\n",
      "5741000\n",
      "5742000\n",
      "5743000\n"
     ]
    },
    {
     "name": "stdout",
     "output_type": "stream",
     "text": [
      "# writing subsets/living_9-062-000000.tar 0 0.0 GB 0\n"
     ]
    },
    {
     "name": "stderr",
     "output_type": "stream",
     "text": [
      "5744000\n",
      "5745000\n",
      "5746000\n",
      "5747000\n",
      "5748000\n",
      "5749000\n"
     ]
    },
    {
     "name": "stdout",
     "output_type": "stream",
     "text": [
      "# writing subsets/living_9-062-000001.tar 6643 1.0 GB 6643\n"
     ]
    },
    {
     "name": "stderr",
     "output_type": "stream",
     "text": [
      "5750000\n",
      "5751000\n",
      "5752000\n",
      "5753000\n",
      "5754000\n",
      "5755000\n",
      "5756000\n"
     ]
    },
    {
     "name": "stdout",
     "output_type": "stream",
     "text": [
      "# writing subsets/living_9-062-000002.tar 6643 1.0 GB 13286\n"
     ]
    },
    {
     "name": "stderr",
     "output_type": "stream",
     "text": [
      "5757000\n",
      "5758000\n",
      "5759000\n",
      "5760000\n",
      "5761000\n",
      "5762000\n",
      "5763000\n"
     ]
    },
    {
     "name": "stdout",
     "output_type": "stream",
     "text": [
      "# writing subsets/living_9-062-000003.tar 6643 1.0 GB 19929\n"
     ]
    },
    {
     "name": "stderr",
     "output_type": "stream",
     "text": [
      "5764000\n",
      "5765000\n",
      "5766000\n",
      "5767000\n",
      "5768000\n",
      "5769000\n"
     ]
    },
    {
     "name": "stdout",
     "output_type": "stream",
     "text": [
      "# writing subsets/living_9-062-000004.tar 6643 1.0 GB 26572\n"
     ]
    },
    {
     "name": "stderr",
     "output_type": "stream",
     "text": [
      "5770000\n",
      "5771000\n",
      "5772000\n",
      "5773000\n",
      "5774000\n",
      "5775000\n",
      "5776000\n"
     ]
    },
    {
     "name": "stdout",
     "output_type": "stream",
     "text": [
      "# writing subsets/living_9-062-000005.tar 6643 1.0 GB 33215\n"
     ]
    },
    {
     "name": "stderr",
     "output_type": "stream",
     "text": [
      "5777000\n",
      "5778000\n",
      "5779000\n",
      "5780000\n",
      "5781000\n",
      "5782000\n",
      "5783000\n"
     ]
    },
    {
     "name": "stdout",
     "output_type": "stream",
     "text": [
      "# writing subsets/living_9-062-000006.tar 6643 1.0 GB 39858\n"
     ]
    },
    {
     "name": "stderr",
     "output_type": "stream",
     "text": [
      "5784000\n",
      "5785000\n",
      "5786000\n",
      "5787000\n",
      "5788000\n",
      "5789000\n"
     ]
    },
    {
     "name": "stdout",
     "output_type": "stream",
     "text": [
      "# writing subsets/living_9-062-000007.tar 6643 1.0 GB 46501\n"
     ]
    },
    {
     "name": "stderr",
     "output_type": "stream",
     "text": [
      "5790000\n",
      "5791000\n",
      "5792000\n",
      "5793000\n",
      "5794000\n",
      "5795000\n",
      "5796000\n"
     ]
    },
    {
     "name": "stdout",
     "output_type": "stream",
     "text": [
      "# writing subsets/living_9-062-000008.tar 6643 1.0 GB 53144\n"
     ]
    },
    {
     "name": "stderr",
     "output_type": "stream",
     "text": [
      "5797000\n",
      "5798000\n",
      "5799000\n",
      "5800000\n",
      "5801000\n",
      "5802000\n"
     ]
    },
    {
     "name": "stdout",
     "output_type": "stream",
     "text": [
      "# writing subsets/living_9-062-000009.tar 6643 1.0 GB 59787\n"
     ]
    },
    {
     "name": "stderr",
     "output_type": "stream",
     "text": [
      "5803000\n",
      "5804000\n",
      "5805000\n",
      "5806000\n",
      "5807000\n",
      "5808000\n",
      "5809000\n"
     ]
    },
    {
     "name": "stdout",
     "output_type": "stream",
     "text": [
      "# writing subsets/living_9-062-000010.tar 6643 1.0 GB 66430\n"
     ]
    },
    {
     "name": "stderr",
     "output_type": "stream",
     "text": [
      "5810000\n",
      "5811000\n",
      "5812000\n",
      "5813000\n",
      "5814000\n",
      "5815000\n",
      "5816000\n"
     ]
    },
    {
     "name": "stdout",
     "output_type": "stream",
     "text": [
      "# writing subsets/living_9-062-000011.tar 6643 1.0 GB 73073\n"
     ]
    },
    {
     "name": "stderr",
     "output_type": "stream",
     "text": [
      "5817000\n",
      "5818000\n",
      "5819000\n",
      "5820000\n",
      "5821000\n",
      "5822000\n"
     ]
    },
    {
     "name": "stdout",
     "output_type": "stream",
     "text": [
      "# writing subsets/living_9-062-000012.tar 6643 1.0 GB 79716\n"
     ]
    },
    {
     "name": "stderr",
     "output_type": "stream",
     "text": [
      "5823000\n",
      "5824000\n",
      "5825000\n",
      "5826000\n",
      "5827000\n",
      "5828000\n",
      "5829000\n"
     ]
    },
    {
     "name": "stdout",
     "output_type": "stream",
     "text": [
      "# writing subsets/living_9-062-000013.tar 6643 1.0 GB 86359\n"
     ]
    },
    {
     "name": "stderr",
     "output_type": "stream",
     "text": [
      "5830000\n",
      "5831000\n",
      "5832000\n",
      "5833000\n",
      "5834000\n",
      "5835000\n"
     ]
    },
    {
     "name": "stdout",
     "output_type": "stream",
     "text": [
      "# writing subsets/living_9-063-000000.tar 0 0.0 GB 0\n"
     ]
    },
    {
     "name": "stderr",
     "output_type": "stream",
     "text": [
      "5836000\n",
      "5837000\n",
      "5838000\n",
      "5839000\n",
      "5840000\n",
      "5841000\n",
      "5842000\n"
     ]
    },
    {
     "name": "stdout",
     "output_type": "stream",
     "text": [
      "# writing subsets/living_9-063-000001.tar 6643 1.0 GB 6643\n"
     ]
    },
    {
     "name": "stderr",
     "output_type": "stream",
     "text": [
      "5843000\n",
      "5844000\n",
      "5845000\n",
      "5846000\n",
      "5847000\n",
      "5848000\n",
      "5849000\n"
     ]
    },
    {
     "name": "stdout",
     "output_type": "stream",
     "text": [
      "# writing subsets/living_9-063-000002.tar 6643 1.0 GB 13286\n"
     ]
    },
    {
     "name": "stderr",
     "output_type": "stream",
     "text": [
      "5850000\n",
      "5851000\n",
      "5852000\n",
      "5853000\n",
      "5854000\n",
      "5855000\n"
     ]
    },
    {
     "name": "stdout",
     "output_type": "stream",
     "text": [
      "# writing subsets/living_9-063-000003.tar 6643 1.0 GB 19929\n"
     ]
    },
    {
     "name": "stderr",
     "output_type": "stream",
     "text": [
      "5856000\n",
      "5857000\n",
      "5858000\n",
      "5859000\n",
      "5860000\n",
      "5861000\n",
      "5862000\n"
     ]
    },
    {
     "name": "stdout",
     "output_type": "stream",
     "text": [
      "# writing subsets/living_9-063-000004.tar 6643 1.0 GB 26572\n"
     ]
    },
    {
     "name": "stderr",
     "output_type": "stream",
     "text": [
      "5863000\n",
      "5864000\n",
      "5865000\n",
      "5866000\n",
      "5867000\n",
      "5868000\n",
      "5869000\n"
     ]
    },
    {
     "name": "stdout",
     "output_type": "stream",
     "text": [
      "# writing subsets/living_9-063-000005.tar 6643 1.0 GB 33215\n"
     ]
    },
    {
     "name": "stderr",
     "output_type": "stream",
     "text": [
      "5870000\n",
      "5871000\n",
      "5872000\n",
      "5873000\n",
      "5874000\n",
      "5875000\n"
     ]
    },
    {
     "name": "stdout",
     "output_type": "stream",
     "text": [
      "# writing subsets/living_9-063-000006.tar 6643 1.0 GB 39858\n"
     ]
    },
    {
     "name": "stderr",
     "output_type": "stream",
     "text": [
      "5876000\n",
      "5877000\n",
      "5878000\n",
      "5879000\n",
      "5880000\n",
      "5881000\n",
      "5882000\n"
     ]
    },
    {
     "name": "stdout",
     "output_type": "stream",
     "text": [
      "# writing subsets/living_9-063-000007.tar 6643 1.0 GB 46501\n"
     ]
    },
    {
     "name": "stderr",
     "output_type": "stream",
     "text": [
      "5883000\n",
      "5884000\n",
      "5885000\n",
      "5886000\n",
      "5887000\n",
      "5888000\n"
     ]
    },
    {
     "name": "stdout",
     "output_type": "stream",
     "text": [
      "# writing subsets/living_9-063-000008.tar 6643 1.0 GB 53144\n"
     ]
    },
    {
     "name": "stderr",
     "output_type": "stream",
     "text": [
      "5889000\n",
      "5890000\n",
      "5891000\n",
      "5892000\n",
      "5893000\n",
      "5894000\n",
      "5895000\n"
     ]
    },
    {
     "name": "stdout",
     "output_type": "stream",
     "text": [
      "# writing subsets/living_9-063-000009.tar 6643 1.0 GB 59787\n"
     ]
    },
    {
     "name": "stderr",
     "output_type": "stream",
     "text": [
      "5896000\n",
      "5897000\n",
      "5898000\n",
      "5899000\n",
      "5900000\n",
      "5901000\n",
      "5902000\n"
     ]
    },
    {
     "name": "stdout",
     "output_type": "stream",
     "text": [
      "# writing subsets/living_9-063-000010.tar 6643 1.0 GB 66430\n"
     ]
    },
    {
     "name": "stderr",
     "output_type": "stream",
     "text": [
      "5903000\n",
      "5904000\n",
      "5905000\n",
      "5906000\n",
      "5907000\n",
      "5908000\n"
     ]
    },
    {
     "name": "stdout",
     "output_type": "stream",
     "text": [
      "# writing subsets/living_9-063-000011.tar 6643 1.0 GB 73073\n"
     ]
    },
    {
     "name": "stderr",
     "output_type": "stream",
     "text": [
      "5909000\n",
      "5910000\n",
      "5911000\n",
      "5912000\n",
      "5913000\n",
      "5914000\n",
      "5915000\n"
     ]
    },
    {
     "name": "stdout",
     "output_type": "stream",
     "text": [
      "# writing subsets/living_9-063-000012.tar 6643 1.0 GB 79716\n"
     ]
    },
    {
     "name": "stderr",
     "output_type": "stream",
     "text": [
      "5916000\n",
      "5917000\n",
      "5918000\n",
      "5919000\n",
      "5920000\n",
      "5921000\n",
      "5922000\n"
     ]
    },
    {
     "name": "stdout",
     "output_type": "stream",
     "text": [
      "# writing subsets/living_9-063-000013.tar 6643 1.0 GB 86359\n"
     ]
    },
    {
     "name": "stderr",
     "output_type": "stream",
     "text": [
      "5923000\n",
      "5924000\n",
      "5925000\n",
      "5926000\n",
      "5927000\n",
      "5928000\n"
     ]
    },
    {
     "name": "stdout",
     "output_type": "stream",
     "text": [
      "# writing subsets/living_9-064-000000.tar 0 0.0 GB 0\n"
     ]
    },
    {
     "name": "stderr",
     "output_type": "stream",
     "text": [
      "5929000\n",
      "5930000\n",
      "5931000\n",
      "5932000\n",
      "5933000\n",
      "5934000\n",
      "5935000\n"
     ]
    },
    {
     "name": "stdout",
     "output_type": "stream",
     "text": [
      "# writing subsets/living_9-064-000001.tar 6643 1.0 GB 6643\n"
     ]
    },
    {
     "name": "stderr",
     "output_type": "stream",
     "text": [
      "5936000\n",
      "5937000\n",
      "5938000\n",
      "5939000\n",
      "5940000\n",
      "5941000\n"
     ]
    },
    {
     "name": "stdout",
     "output_type": "stream",
     "text": [
      "# writing subsets/living_9-064-000002.tar 6643 1.0 GB 13286\n"
     ]
    },
    {
     "name": "stderr",
     "output_type": "stream",
     "text": [
      "5942000\n",
      "5943000\n",
      "5944000\n",
      "5945000\n",
      "5946000\n",
      "5947000\n",
      "5948000\n"
     ]
    },
    {
     "name": "stdout",
     "output_type": "stream",
     "text": [
      "# writing subsets/living_9-064-000003.tar 6643 1.0 GB 19929\n"
     ]
    },
    {
     "name": "stderr",
     "output_type": "stream",
     "text": [
      "5949000\n",
      "5950000\n",
      "5951000\n",
      "5952000\n",
      "5953000\n",
      "5954000\n",
      "5955000\n"
     ]
    },
    {
     "name": "stdout",
     "output_type": "stream",
     "text": [
      "# writing subsets/living_9-064-000004.tar 6643 1.0 GB 26572\n"
     ]
    },
    {
     "name": "stderr",
     "output_type": "stream",
     "text": [
      "5956000\n",
      "5957000\n",
      "5958000\n",
      "5959000\n",
      "5960000\n",
      "5961000\n"
     ]
    },
    {
     "name": "stdout",
     "output_type": "stream",
     "text": [
      "# writing subsets/living_9-064-000005.tar 6643 1.0 GB 33215\n"
     ]
    },
    {
     "name": "stderr",
     "output_type": "stream",
     "text": [
      "5962000\n",
      "5963000\n",
      "5964000\n",
      "5965000\n",
      "5966000\n",
      "5967000\n",
      "5968000\n"
     ]
    },
    {
     "name": "stdout",
     "output_type": "stream",
     "text": [
      "# writing subsets/living_9-064-000006.tar 6643 1.0 GB 39858\n"
     ]
    },
    {
     "name": "stderr",
     "output_type": "stream",
     "text": [
      "5969000\n",
      "5970000\n",
      "5971000\n",
      "5972000\n",
      "5973000\n",
      "5974000\n"
     ]
    },
    {
     "name": "stdout",
     "output_type": "stream",
     "text": [
      "# writing subsets/living_9-064-000007.tar 6643 1.0 GB 46501\n"
     ]
    },
    {
     "name": "stderr",
     "output_type": "stream",
     "text": [
      "5975000\n",
      "5976000\n",
      "5977000\n",
      "5978000\n",
      "5979000\n",
      "5980000\n",
      "5981000\n"
     ]
    },
    {
     "name": "stdout",
     "output_type": "stream",
     "text": [
      "# writing subsets/living_9-064-000008.tar 6643 1.0 GB 53144\n"
     ]
    },
    {
     "name": "stderr",
     "output_type": "stream",
     "text": [
      "5982000\n",
      "5983000\n",
      "5984000\n",
      "5985000\n",
      "5986000\n",
      "5987000\n",
      "5988000\n"
     ]
    },
    {
     "name": "stdout",
     "output_type": "stream",
     "text": [
      "# writing subsets/living_9-064-000009.tar 6643 1.0 GB 59787\n"
     ]
    },
    {
     "name": "stderr",
     "output_type": "stream",
     "text": [
      "5989000\n",
      "5990000\n",
      "5991000\n",
      "5992000\n",
      "5993000\n",
      "5994000\n"
     ]
    },
    {
     "name": "stdout",
     "output_type": "stream",
     "text": [
      "# writing subsets/living_9-064-000010.tar 6643 1.0 GB 66430\n"
     ]
    },
    {
     "name": "stderr",
     "output_type": "stream",
     "text": [
      "5995000\n",
      "5996000\n",
      "5997000\n",
      "5998000\n",
      "5999000\n",
      "6000000\n",
      "6001000\n"
     ]
    },
    {
     "name": "stdout",
     "output_type": "stream",
     "text": [
      "# writing subsets/living_9-064-000011.tar 6643 1.0 GB 73073\n"
     ]
    },
    {
     "name": "stderr",
     "output_type": "stream",
     "text": [
      "6002000\n",
      "6003000\n",
      "6004000\n",
      "6005000\n",
      "6006000\n",
      "6007000\n",
      "6008000\n"
     ]
    },
    {
     "name": "stdout",
     "output_type": "stream",
     "text": [
      "# writing subsets/living_9-064-000012.tar 6643 1.0 GB 79716\n"
     ]
    },
    {
     "name": "stderr",
     "output_type": "stream",
     "text": [
      "6009000\n",
      "6010000\n",
      "6011000\n",
      "6012000\n",
      "6013000\n",
      "6014000\n"
     ]
    },
    {
     "name": "stdout",
     "output_type": "stream",
     "text": [
      "# writing subsets/living_9-064-000013.tar 6643 1.0 GB 86359\n"
     ]
    },
    {
     "name": "stderr",
     "output_type": "stream",
     "text": [
      "6015000\n",
      "6016000\n",
      "6017000\n",
      "6018000\n",
      "6019000\n",
      "6020000\n"
     ]
    },
    {
     "name": "stdout",
     "output_type": "stream",
     "text": [
      "# writing subsets/living_9-065-000000.tar 0 0.0 GB 0\n"
     ]
    },
    {
     "name": "stderr",
     "output_type": "stream",
     "text": [
      "6021000\n",
      "6022000\n",
      "6023000\n",
      "6024000\n",
      "6025000\n",
      "6026000\n",
      "6027000\n"
     ]
    },
    {
     "name": "stdout",
     "output_type": "stream",
     "text": [
      "# writing subsets/living_9-065-000001.tar 6643 1.0 GB 6643\n"
     ]
    },
    {
     "name": "stderr",
     "output_type": "stream",
     "text": [
      "6028000\n",
      "6029000\n",
      "6030000\n",
      "6031000\n",
      "6032000\n",
      "6033000\n",
      "6034000\n"
     ]
    },
    {
     "name": "stdout",
     "output_type": "stream",
     "text": [
      "# writing subsets/living_9-065-000002.tar 6643 1.0 GB 13286\n"
     ]
    },
    {
     "name": "stderr",
     "output_type": "stream",
     "text": [
      "6035000\n",
      "6036000\n",
      "6037000\n",
      "6038000\n",
      "6039000\n",
      "6040000\n",
      "6041000\n"
     ]
    },
    {
     "name": "stdout",
     "output_type": "stream",
     "text": [
      "# writing subsets/living_9-065-000003.tar 6643 1.0 GB 19929\n"
     ]
    },
    {
     "name": "stderr",
     "output_type": "stream",
     "text": [
      "6042000\n",
      "6043000\n",
      "6044000\n",
      "6045000\n",
      "6046000\n",
      "6047000\n"
     ]
    },
    {
     "name": "stdout",
     "output_type": "stream",
     "text": [
      "# writing subsets/living_9-065-000004.tar 6643 1.0 GB 26572\n"
     ]
    },
    {
     "name": "stderr",
     "output_type": "stream",
     "text": [
      "6048000\n",
      "6049000\n",
      "6050000\n",
      "6051000\n",
      "6052000\n",
      "6053000\n",
      "6054000\n"
     ]
    },
    {
     "name": "stdout",
     "output_type": "stream",
     "text": [
      "# writing subsets/living_9-065-000005.tar 6643 1.0 GB 33215\n"
     ]
    },
    {
     "name": "stderr",
     "output_type": "stream",
     "text": [
      "6055000\n",
      "6056000\n",
      "6057000\n",
      "6058000\n",
      "6059000\n",
      "6060000\n"
     ]
    },
    {
     "name": "stdout",
     "output_type": "stream",
     "text": [
      "# writing subsets/living_9-065-000006.tar 6643 1.0 GB 39858\n"
     ]
    },
    {
     "name": "stderr",
     "output_type": "stream",
     "text": [
      "6061000\n",
      "6062000\n",
      "6063000\n",
      "6064000\n",
      "6065000\n",
      "6066000\n",
      "6067000\n"
     ]
    },
    {
     "name": "stdout",
     "output_type": "stream",
     "text": [
      "# writing subsets/living_9-065-000007.tar 6643 1.0 GB 46501\n"
     ]
    },
    {
     "name": "stderr",
     "output_type": "stream",
     "text": [
      "6068000\n",
      "6069000\n",
      "6070000\n",
      "6071000\n",
      "6072000\n",
      "6073000\n",
      "6074000\n"
     ]
    },
    {
     "name": "stdout",
     "output_type": "stream",
     "text": [
      "# writing subsets/living_9-065-000008.tar 6643 1.0 GB 53144\n"
     ]
    },
    {
     "name": "stderr",
     "output_type": "stream",
     "text": [
      "6075000\n",
      "6076000\n",
      "6077000\n",
      "6078000\n",
      "6079000\n",
      "6080000\n"
     ]
    },
    {
     "name": "stdout",
     "output_type": "stream",
     "text": [
      "# writing subsets/living_9-065-000009.tar 6643 1.0 GB 59787\n"
     ]
    },
    {
     "name": "stderr",
     "output_type": "stream",
     "text": [
      "6081000\n",
      "6082000\n",
      "6083000\n",
      "6084000\n",
      "6085000\n",
      "6086000\n",
      "6087000\n"
     ]
    },
    {
     "name": "stdout",
     "output_type": "stream",
     "text": [
      "# writing subsets/living_9-065-000010.tar 6643 1.0 GB 66430\n"
     ]
    },
    {
     "name": "stderr",
     "output_type": "stream",
     "text": [
      "6088000\n",
      "6089000\n",
      "6090000\n",
      "6091000\n",
      "6092000\n",
      "6093000\n",
      "6094000\n"
     ]
    },
    {
     "name": "stdout",
     "output_type": "stream",
     "text": [
      "# writing subsets/living_9-065-000011.tar 6643 1.0 GB 73073\n"
     ]
    },
    {
     "name": "stderr",
     "output_type": "stream",
     "text": [
      "6095000\n",
      "6096000\n",
      "6097000\n",
      "6098000\n",
      "6099000\n",
      "6100000\n"
     ]
    },
    {
     "name": "stdout",
     "output_type": "stream",
     "text": [
      "# writing subsets/living_9-065-000012.tar 6643 1.0 GB 79716\n"
     ]
    },
    {
     "name": "stderr",
     "output_type": "stream",
     "text": [
      "6101000\n",
      "6102000\n",
      "6103000\n",
      "6104000\n",
      "6105000\n",
      "6106000\n",
      "6107000\n"
     ]
    },
    {
     "name": "stdout",
     "output_type": "stream",
     "text": [
      "# writing subsets/living_9-065-000013.tar 6643 1.0 GB 86359\n"
     ]
    },
    {
     "name": "stderr",
     "output_type": "stream",
     "text": [
      "6108000\n",
      "6109000\n",
      "6110000\n",
      "6111000\n",
      "6112000\n",
      "6113000\n"
     ]
    },
    {
     "name": "stdout",
     "output_type": "stream",
     "text": [
      "# writing subsets/living_9-066-000000.tar 0 0.0 GB 0\n"
     ]
    },
    {
     "name": "stderr",
     "output_type": "stream",
     "text": [
      "6114000\n",
      "6115000\n",
      "6116000\n",
      "6117000\n",
      "6118000\n",
      "6119000\n",
      "6120000\n"
     ]
    },
    {
     "name": "stdout",
     "output_type": "stream",
     "text": [
      "# writing subsets/living_9-066-000001.tar 6643 1.0 GB 6643\n"
     ]
    },
    {
     "name": "stderr",
     "output_type": "stream",
     "text": [
      "6121000\n",
      "6122000\n",
      "6123000\n",
      "6124000\n",
      "6125000\n",
      "6126000\n"
     ]
    },
    {
     "name": "stdout",
     "output_type": "stream",
     "text": [
      "# writing subsets/living_9-066-000002.tar 6643 1.0 GB 13286\n"
     ]
    },
    {
     "name": "stderr",
     "output_type": "stream",
     "text": [
      "6127000\n",
      "6128000\n",
      "6129000\n",
      "6130000\n",
      "6131000\n",
      "6132000\n",
      "6133000\n"
     ]
    },
    {
     "name": "stdout",
     "output_type": "stream",
     "text": [
      "# writing subsets/living_9-066-000003.tar 6643 1.0 GB 19929\n"
     ]
    },
    {
     "name": "stderr",
     "output_type": "stream",
     "text": [
      "6134000\n",
      "6135000\n",
      "6136000\n",
      "6137000\n",
      "6138000\n",
      "6139000\n",
      "6140000\n"
     ]
    },
    {
     "name": "stdout",
     "output_type": "stream",
     "text": [
      "# writing subsets/living_9-066-000004.tar 6643 1.0 GB 26572\n"
     ]
    },
    {
     "name": "stderr",
     "output_type": "stream",
     "text": [
      "6141000\n",
      "6142000\n",
      "6143000\n",
      "6144000\n",
      "6145000\n",
      "6146000\n"
     ]
    },
    {
     "name": "stdout",
     "output_type": "stream",
     "text": [
      "# writing subsets/living_9-066-000005.tar 6643 1.0 GB 33215\n"
     ]
    },
    {
     "name": "stderr",
     "output_type": "stream",
     "text": [
      "6147000\n",
      "6148000\n",
      "6149000\n",
      "6150000\n",
      "6151000\n",
      "6152000\n",
      "6153000\n"
     ]
    },
    {
     "name": "stdout",
     "output_type": "stream",
     "text": [
      "# writing subsets/living_9-066-000006.tar 6643 1.0 GB 39858\n"
     ]
    },
    {
     "name": "stderr",
     "output_type": "stream",
     "text": [
      "6154000\n",
      "6155000\n",
      "6156000\n",
      "6157000\n",
      "6158000\n",
      "6159000\n",
      "6160000\n"
     ]
    },
    {
     "name": "stdout",
     "output_type": "stream",
     "text": [
      "# writing subsets/living_9-066-000007.tar 6643 1.0 GB 46501\n"
     ]
    },
    {
     "name": "stderr",
     "output_type": "stream",
     "text": [
      "6161000\n",
      "6162000\n",
      "6163000\n",
      "6164000\n",
      "6165000\n",
      "6166000\n"
     ]
    },
    {
     "name": "stdout",
     "output_type": "stream",
     "text": [
      "# writing subsets/living_9-066-000008.tar 6643 1.0 GB 53144\n"
     ]
    },
    {
     "name": "stderr",
     "output_type": "stream",
     "text": [
      "6167000\n",
      "6168000\n",
      "6169000\n",
      "6170000\n",
      "6171000\n",
      "6172000\n",
      "6173000\n"
     ]
    },
    {
     "name": "stdout",
     "output_type": "stream",
     "text": [
      "# writing subsets/living_9-066-000009.tar 6643 1.0 GB 59787\n"
     ]
    },
    {
     "name": "stderr",
     "output_type": "stream",
     "text": [
      "6174000\n",
      "6175000\n",
      "6176000\n",
      "6177000\n",
      "6178000\n",
      "6179000\n",
      "6180000\n"
     ]
    },
    {
     "name": "stdout",
     "output_type": "stream",
     "text": [
      "# writing subsets/living_9-066-000010.tar 6643 1.0 GB 66430\n"
     ]
    },
    {
     "name": "stderr",
     "output_type": "stream",
     "text": [
      "6181000\n",
      "6182000\n",
      "6183000\n",
      "6184000\n",
      "6185000\n",
      "6186000\n"
     ]
    },
    {
     "name": "stdout",
     "output_type": "stream",
     "text": [
      "# writing subsets/living_9-066-000011.tar 6643 1.0 GB 73073\n"
     ]
    },
    {
     "name": "stderr",
     "output_type": "stream",
     "text": [
      "6187000\n",
      "6188000\n",
      "6189000\n",
      "6190000\n",
      "6191000\n",
      "6192000\n",
      "6193000\n"
     ]
    },
    {
     "name": "stdout",
     "output_type": "stream",
     "text": [
      "# writing subsets/living_9-066-000012.tar 6643 1.0 GB 79716\n"
     ]
    },
    {
     "name": "stderr",
     "output_type": "stream",
     "text": [
      "6194000\n",
      "6195000\n",
      "6196000\n",
      "6197000\n",
      "6198000\n",
      "6199000\n",
      "6200000\n"
     ]
    },
    {
     "name": "stdout",
     "output_type": "stream",
     "text": [
      "# writing subsets/living_9-066-000013.tar 6643 1.0 GB 86359\n"
     ]
    },
    {
     "name": "stderr",
     "output_type": "stream",
     "text": [
      "6201000\n",
      "6202000\n",
      "6203000\n",
      "6204000\n",
      "6205000\n",
      "6206000\n"
     ]
    },
    {
     "name": "stdout",
     "output_type": "stream",
     "text": [
      "# writing subsets/living_9-067-000000.tar 0 0.0 GB 0\n"
     ]
    },
    {
     "name": "stderr",
     "output_type": "stream",
     "text": [
      "6207000\n",
      "6208000\n",
      "6209000\n",
      "6210000\n",
      "6211000\n",
      "6212000\n"
     ]
    },
    {
     "name": "stdout",
     "output_type": "stream",
     "text": [
      "# writing subsets/living_9-067-000001.tar 6643 1.0 GB 6643\n"
     ]
    },
    {
     "name": "stderr",
     "output_type": "stream",
     "text": [
      "6213000\n",
      "6214000\n",
      "6215000\n",
      "6216000\n",
      "6217000\n",
      "6218000\n",
      "6219000\n"
     ]
    },
    {
     "name": "stdout",
     "output_type": "stream",
     "text": [
      "# writing subsets/living_9-067-000002.tar 6643 1.0 GB 13286\n"
     ]
    },
    {
     "name": "stderr",
     "output_type": "stream",
     "text": [
      "6220000\n",
      "6221000\n",
      "6222000\n",
      "6223000\n",
      "6224000\n",
      "6225000\n",
      "6226000\n"
     ]
    },
    {
     "name": "stdout",
     "output_type": "stream",
     "text": [
      "# writing subsets/living_9-067-000003.tar 6643 1.0 GB 19929\n"
     ]
    },
    {
     "name": "stderr",
     "output_type": "stream",
     "text": [
      "6227000\n",
      "6228000\n",
      "6229000\n",
      "6230000\n",
      "6231000\n",
      "6232000\n"
     ]
    },
    {
     "name": "stdout",
     "output_type": "stream",
     "text": [
      "# writing subsets/living_9-067-000004.tar 6643 1.0 GB 26572\n"
     ]
    },
    {
     "name": "stderr",
     "output_type": "stream",
     "text": [
      "6233000\n",
      "6234000\n",
      "6235000\n",
      "6236000\n",
      "6237000\n",
      "6238000\n",
      "6239000\n"
     ]
    },
    {
     "name": "stdout",
     "output_type": "stream",
     "text": [
      "# writing subsets/living_9-067-000005.tar 6643 1.0 GB 33215\n"
     ]
    },
    {
     "name": "stderr",
     "output_type": "stream",
     "text": [
      "6240000\n",
      "6241000\n",
      "6242000\n",
      "6243000\n",
      "6244000\n",
      "6245000\n",
      "6246000\n"
     ]
    },
    {
     "name": "stdout",
     "output_type": "stream",
     "text": [
      "# writing subsets/living_9-067-000006.tar 6643 1.0 GB 39858\n"
     ]
    },
    {
     "name": "stderr",
     "output_type": "stream",
     "text": [
      "6247000\n",
      "6248000\n",
      "6249000\n",
      "6250000\n",
      "6251000\n",
      "6252000\n"
     ]
    },
    {
     "name": "stdout",
     "output_type": "stream",
     "text": [
      "# writing subsets/living_9-067-000007.tar 6643 1.0 GB 46501\n"
     ]
    },
    {
     "name": "stderr",
     "output_type": "stream",
     "text": [
      "6253000\n",
      "6254000\n",
      "6255000\n",
      "6256000\n",
      "6257000\n",
      "6258000\n",
      "6259000\n"
     ]
    },
    {
     "name": "stdout",
     "output_type": "stream",
     "text": [
      "# writing subsets/living_9-067-000008.tar 6643 1.0 GB 53144\n"
     ]
    },
    {
     "name": "stderr",
     "output_type": "stream",
     "text": [
      "6260000\n",
      "6261000\n",
      "6262000\n",
      "6263000\n",
      "6264000\n",
      "6265000\n",
      "6266000\n"
     ]
    },
    {
     "name": "stdout",
     "output_type": "stream",
     "text": [
      "# writing subsets/living_9-067-000009.tar 6643 1.0 GB 59787\n"
     ]
    },
    {
     "name": "stderr",
     "output_type": "stream",
     "text": [
      "6267000\n",
      "6268000\n",
      "6269000\n",
      "6270000\n",
      "6271000\n",
      "6272000\n"
     ]
    },
    {
     "name": "stdout",
     "output_type": "stream",
     "text": [
      "# writing subsets/living_9-067-000010.tar 6643 1.0 GB 66430\n"
     ]
    },
    {
     "name": "stderr",
     "output_type": "stream",
     "text": [
      "6273000\n",
      "6274000\n",
      "6275000\n",
      "6276000\n",
      "6277000\n",
      "6278000\n",
      "6279000\n"
     ]
    },
    {
     "name": "stdout",
     "output_type": "stream",
     "text": [
      "# writing subsets/living_9-067-000011.tar 6643 1.0 GB 73073\n"
     ]
    },
    {
     "name": "stderr",
     "output_type": "stream",
     "text": [
      "6280000\n",
      "6281000\n",
      "6282000\n",
      "6283000\n",
      "6284000\n",
      "6285000\n",
      "6286000\n"
     ]
    },
    {
     "name": "stdout",
     "output_type": "stream",
     "text": [
      "# writing subsets/living_9-067-000012.tar 6643 1.0 GB 79716\n"
     ]
    },
    {
     "name": "stderr",
     "output_type": "stream",
     "text": [
      "6287000\n",
      "6288000\n",
      "6289000\n",
      "6290000\n",
      "6291000\n",
      "6292000\n"
     ]
    },
    {
     "name": "stdout",
     "output_type": "stream",
     "text": [
      "# writing subsets/living_9-067-000013.tar 6643 1.0 GB 86359\n"
     ]
    },
    {
     "name": "stderr",
     "output_type": "stream",
     "text": [
      "6293000\n",
      "6294000\n",
      "6295000\n",
      "6296000\n",
      "6297000\n",
      "6298000\n"
     ]
    },
    {
     "name": "stdout",
     "output_type": "stream",
     "text": [
      "# writing subsets/living_9-068-000000.tar 0 0.0 GB 0\n"
     ]
    },
    {
     "name": "stderr",
     "output_type": "stream",
     "text": [
      "6299000\n",
      "6300000\n",
      "6301000\n",
      "6302000\n",
      "6303000\n",
      "6304000\n",
      "6305000\n"
     ]
    },
    {
     "name": "stdout",
     "output_type": "stream",
     "text": [
      "# writing subsets/living_9-068-000001.tar 6643 1.0 GB 6643\n"
     ]
    },
    {
     "name": "stderr",
     "output_type": "stream",
     "text": [
      "6306000\n",
      "6307000\n",
      "6308000\n",
      "6309000\n",
      "6310000\n",
      "6311000\n",
      "6312000\n"
     ]
    },
    {
     "name": "stdout",
     "output_type": "stream",
     "text": [
      "# writing subsets/living_9-068-000002.tar 6643 1.0 GB 13286\n"
     ]
    },
    {
     "name": "stderr",
     "output_type": "stream",
     "text": [
      "6313000\n",
      "6314000\n",
      "6315000\n",
      "6316000\n",
      "6317000\n",
      "6318000\n"
     ]
    },
    {
     "name": "stdout",
     "output_type": "stream",
     "text": [
      "# writing subsets/living_9-068-000003.tar 6643 1.0 GB 19929\n"
     ]
    },
    {
     "name": "stderr",
     "output_type": "stream",
     "text": [
      "6319000\n",
      "6320000\n",
      "6321000\n",
      "6322000\n",
      "6323000\n",
      "6324000\n",
      "6325000\n"
     ]
    },
    {
     "name": "stdout",
     "output_type": "stream",
     "text": [
      "# writing subsets/living_9-068-000004.tar 6643 1.0 GB 26572\n"
     ]
    },
    {
     "name": "stderr",
     "output_type": "stream",
     "text": [
      "6326000\n",
      "6327000\n",
      "6328000\n",
      "6329000\n",
      "6330000\n",
      "6331000\n",
      "6332000\n"
     ]
    },
    {
     "name": "stdout",
     "output_type": "stream",
     "text": [
      "# writing subsets/living_9-068-000005.tar 6643 1.0 GB 33215\n"
     ]
    },
    {
     "name": "stderr",
     "output_type": "stream",
     "text": [
      "6333000\n",
      "6334000\n",
      "6335000\n",
      "6336000\n",
      "6337000\n",
      "6338000\n"
     ]
    },
    {
     "name": "stdout",
     "output_type": "stream",
     "text": [
      "# writing subsets/living_9-068-000006.tar 6643 1.0 GB 39858\n"
     ]
    },
    {
     "name": "stderr",
     "output_type": "stream",
     "text": [
      "6339000\n",
      "6340000\n",
      "6341000\n",
      "6342000\n",
      "6343000\n",
      "6344000\n",
      "6345000\n"
     ]
    },
    {
     "name": "stdout",
     "output_type": "stream",
     "text": [
      "# writing subsets/living_9-068-000007.tar 6643 1.0 GB 46501\n"
     ]
    },
    {
     "name": "stderr",
     "output_type": "stream",
     "text": [
      "6346000\n",
      "6347000\n",
      "6348000\n",
      "6349000\n",
      "6350000\n",
      "6351000\n",
      "6352000\n"
     ]
    },
    {
     "name": "stdout",
     "output_type": "stream",
     "text": [
      "# writing subsets/living_9-068-000008.tar 6643 1.0 GB 53144\n"
     ]
    },
    {
     "name": "stderr",
     "output_type": "stream",
     "text": [
      "6353000\n",
      "6354000\n",
      "6355000\n",
      "6356000\n",
      "6357000\n",
      "6358000\n"
     ]
    },
    {
     "name": "stdout",
     "output_type": "stream",
     "text": [
      "# writing subsets/living_9-068-000009.tar 6643 1.0 GB 59787\n"
     ]
    },
    {
     "name": "stderr",
     "output_type": "stream",
     "text": [
      "6359000\n",
      "6360000\n",
      "6361000\n",
      "6362000\n",
      "6363000\n",
      "6364000\n",
      "6365000\n"
     ]
    },
    {
     "name": "stdout",
     "output_type": "stream",
     "text": [
      "# writing subsets/living_9-068-000010.tar 6643 1.0 GB 66430\n"
     ]
    },
    {
     "name": "stderr",
     "output_type": "stream",
     "text": [
      "6366000\n",
      "6367000\n",
      "6368000\n",
      "6369000\n",
      "6370000\n",
      "6371000\n",
      "6372000\n"
     ]
    },
    {
     "name": "stdout",
     "output_type": "stream",
     "text": [
      "# writing subsets/living_9-068-000011.tar 6643 1.0 GB 73073\n"
     ]
    },
    {
     "name": "stderr",
     "output_type": "stream",
     "text": [
      "6373000\n",
      "6374000\n",
      "6375000\n",
      "6376000\n",
      "6377000\n",
      "6378000\n"
     ]
    },
    {
     "name": "stdout",
     "output_type": "stream",
     "text": [
      "# writing subsets/living_9-068-000012.tar 6643 1.0 GB 79716\n"
     ]
    },
    {
     "name": "stderr",
     "output_type": "stream",
     "text": [
      "6379000\n",
      "6380000\n",
      "6381000\n",
      "6382000\n",
      "6383000\n",
      "6384000\n",
      "6385000\n"
     ]
    },
    {
     "name": "stdout",
     "output_type": "stream",
     "text": [
      "# writing subsets/living_9-068-000013.tar 6643 1.0 GB 86359\n"
     ]
    },
    {
     "name": "stderr",
     "output_type": "stream",
     "text": [
      "6386000\n",
      "6387000\n",
      "6388000\n",
      "6389000\n",
      "6390000\n",
      "6391000\n"
     ]
    },
    {
     "name": "stdout",
     "output_type": "stream",
     "text": [
      "# writing subsets/living_9-069-000000.tar 0 0.0 GB 0\n"
     ]
    },
    {
     "name": "stderr",
     "output_type": "stream",
     "text": [
      "6392000\n",
      "6393000\n",
      "6394000\n",
      "6395000\n",
      "6396000\n",
      "6397000\n",
      "6398000\n"
     ]
    },
    {
     "name": "stdout",
     "output_type": "stream",
     "text": [
      "# writing subsets/living_9-069-000001.tar 6643 1.0 GB 6643\n"
     ]
    },
    {
     "name": "stderr",
     "output_type": "stream",
     "text": [
      "6399000\n",
      "6400000\n",
      "6401000\n",
      "6402000\n",
      "6403000\n",
      "6404000\n"
     ]
    },
    {
     "name": "stdout",
     "output_type": "stream",
     "text": [
      "# writing subsets/living_9-069-000002.tar 6643 1.0 GB 13286\n"
     ]
    },
    {
     "name": "stderr",
     "output_type": "stream",
     "text": [
      "6405000\n",
      "6406000\n",
      "6407000\n",
      "6408000\n",
      "6409000\n",
      "6410000\n",
      "6411000\n"
     ]
    },
    {
     "name": "stdout",
     "output_type": "stream",
     "text": [
      "# writing subsets/living_9-069-000003.tar 6643 1.0 GB 19929\n"
     ]
    },
    {
     "name": "stderr",
     "output_type": "stream",
     "text": [
      "6412000\n",
      "6413000\n",
      "6414000\n",
      "6415000\n",
      "6416000\n",
      "6417000\n",
      "6418000\n"
     ]
    },
    {
     "name": "stdout",
     "output_type": "stream",
     "text": [
      "# writing subsets/living_9-069-000004.tar 6643 1.0 GB 26572\n"
     ]
    },
    {
     "name": "stderr",
     "output_type": "stream",
     "text": [
      "6419000\n",
      "6420000\n",
      "6421000\n",
      "6422000\n",
      "6423000\n",
      "6424000\n"
     ]
    },
    {
     "name": "stdout",
     "output_type": "stream",
     "text": [
      "# writing subsets/living_9-069-000005.tar 6643 1.0 GB 33215\n"
     ]
    },
    {
     "name": "stderr",
     "output_type": "stream",
     "text": [
      "6425000\n",
      "6426000\n",
      "6427000\n",
      "6428000\n",
      "6429000\n",
      "6430000\n",
      "6431000\n"
     ]
    },
    {
     "name": "stdout",
     "output_type": "stream",
     "text": [
      "# writing subsets/living_9-069-000006.tar 6643 1.0 GB 39858\n"
     ]
    },
    {
     "name": "stderr",
     "output_type": "stream",
     "text": [
      "6432000\n",
      "6433000\n",
      "6434000\n",
      "6435000\n",
      "6436000\n",
      "6437000\n",
      "6438000\n"
     ]
    },
    {
     "name": "stdout",
     "output_type": "stream",
     "text": [
      "# writing subsets/living_9-069-000007.tar 6643 1.0 GB 46501\n"
     ]
    },
    {
     "name": "stderr",
     "output_type": "stream",
     "text": [
      "6439000\n",
      "6440000\n",
      "6441000\n",
      "6442000\n",
      "6443000\n",
      "6444000\n"
     ]
    },
    {
     "name": "stdout",
     "output_type": "stream",
     "text": [
      "# writing subsets/living_9-069-000008.tar 6643 1.0 GB 53144\n"
     ]
    },
    {
     "name": "stderr",
     "output_type": "stream",
     "text": [
      "6445000\n",
      "6446000\n",
      "6447000\n",
      "6448000\n",
      "6449000\n",
      "6450000\n",
      "6451000\n"
     ]
    },
    {
     "name": "stdout",
     "output_type": "stream",
     "text": [
      "# writing subsets/living_9-069-000009.tar 6643 1.0 GB 59787\n"
     ]
    },
    {
     "name": "stderr",
     "output_type": "stream",
     "text": [
      "6452000\n",
      "6453000\n",
      "6454000\n",
      "6455000\n",
      "6456000\n",
      "6457000\n",
      "6458000\n"
     ]
    },
    {
     "name": "stdout",
     "output_type": "stream",
     "text": [
      "# writing subsets/living_9-069-000010.tar 6643 1.0 GB 66430\n"
     ]
    },
    {
     "name": "stderr",
     "output_type": "stream",
     "text": [
      "6459000\n",
      "6460000\n",
      "6461000\n",
      "6462000\n",
      "6463000\n",
      "6464000\n"
     ]
    },
    {
     "name": "stdout",
     "output_type": "stream",
     "text": [
      "# writing subsets/living_9-069-000011.tar 6643 1.0 GB 73073\n"
     ]
    },
    {
     "name": "stderr",
     "output_type": "stream",
     "text": [
      "6465000\n",
      "6466000\n",
      "6467000\n",
      "6468000\n",
      "6469000\n",
      "6470000\n",
      "6471000\n"
     ]
    },
    {
     "name": "stdout",
     "output_type": "stream",
     "text": [
      "# writing subsets/living_9-069-000012.tar 6643 1.0 GB 79716\n"
     ]
    },
    {
     "name": "stderr",
     "output_type": "stream",
     "text": [
      "6472000\n",
      "6473000\n",
      "6474000\n",
      "6475000\n",
      "6476000\n",
      "6477000\n"
     ]
    },
    {
     "name": "stdout",
     "output_type": "stream",
     "text": [
      "# writing subsets/living_9-069-000013.tar 6643 1.0 GB 86359\n"
     ]
    },
    {
     "name": "stderr",
     "output_type": "stream",
     "text": [
      "6478000\n",
      "6479000\n",
      "6480000\n",
      "6481000\n",
      "6482000\n",
      "6483000\n",
      "6484000\n"
     ]
    },
    {
     "name": "stdout",
     "output_type": "stream",
     "text": [
      "# writing subsets/living_9-070-000000.tar 0 0.0 GB 0\n"
     ]
    },
    {
     "name": "stderr",
     "output_type": "stream",
     "text": [
      "6485000\n",
      "6486000\n",
      "6487000\n",
      "6488000\n",
      "6489000\n",
      "6490000\n"
     ]
    },
    {
     "name": "stdout",
     "output_type": "stream",
     "text": [
      "# writing subsets/living_9-070-000001.tar 6643 1.0 GB 6643\n"
     ]
    },
    {
     "name": "stderr",
     "output_type": "stream",
     "text": [
      "6491000\n",
      "6492000\n",
      "6493000\n",
      "6494000\n",
      "6495000\n",
      "6496000\n",
      "6497000\n"
     ]
    },
    {
     "name": "stdout",
     "output_type": "stream",
     "text": [
      "# writing subsets/living_9-070-000002.tar 6643 1.0 GB 13286\n"
     ]
    },
    {
     "name": "stderr",
     "output_type": "stream",
     "text": [
      "6498000\n",
      "6499000\n",
      "6500000\n",
      "6501000\n",
      "6502000\n",
      "6503000\n",
      "6504000\n"
     ]
    },
    {
     "name": "stdout",
     "output_type": "stream",
     "text": [
      "# writing subsets/living_9-070-000003.tar 6643 1.0 GB 19929\n"
     ]
    },
    {
     "name": "stderr",
     "output_type": "stream",
     "text": [
      "6505000\n",
      "6506000\n",
      "6507000\n",
      "6508000\n",
      "6509000\n",
      "6510000\n"
     ]
    },
    {
     "name": "stdout",
     "output_type": "stream",
     "text": [
      "# writing subsets/living_9-070-000004.tar 6643 1.0 GB 26572\n"
     ]
    },
    {
     "name": "stderr",
     "output_type": "stream",
     "text": [
      "6511000\n",
      "6512000\n",
      "6513000\n",
      "6514000\n",
      "6515000\n",
      "6516000\n",
      "6517000\n"
     ]
    },
    {
     "name": "stdout",
     "output_type": "stream",
     "text": [
      "# writing subsets/living_9-070-000005.tar 6643 1.0 GB 33215\n"
     ]
    },
    {
     "name": "stderr",
     "output_type": "stream",
     "text": [
      "6518000\n",
      "6519000\n",
      "6520000\n",
      "6521000\n",
      "6522000\n",
      "6523000\n",
      "6524000\n"
     ]
    },
    {
     "name": "stdout",
     "output_type": "stream",
     "text": [
      "# writing subsets/living_9-070-000006.tar 6643 1.0 GB 39858\n"
     ]
    },
    {
     "name": "stderr",
     "output_type": "stream",
     "text": [
      "6525000\n",
      "6526000\n",
      "6527000\n",
      "6528000\n",
      "6529000\n",
      "6530000\n"
     ]
    },
    {
     "name": "stdout",
     "output_type": "stream",
     "text": [
      "# writing subsets/living_9-070-000007.tar 6643 1.0 GB 46501\n"
     ]
    },
    {
     "name": "stderr",
     "output_type": "stream",
     "text": [
      "6531000\n",
      "6532000\n",
      "6533000\n",
      "6534000\n",
      "6535000\n",
      "6536000\n",
      "6537000\n"
     ]
    },
    {
     "name": "stdout",
     "output_type": "stream",
     "text": [
      "# writing subsets/living_9-070-000008.tar 6643 1.0 GB 53144\n"
     ]
    },
    {
     "name": "stderr",
     "output_type": "stream",
     "text": [
      "6538000\n",
      "6539000\n",
      "6540000\n",
      "6541000\n",
      "6542000\n",
      "6543000\n",
      "6544000\n"
     ]
    },
    {
     "name": "stdout",
     "output_type": "stream",
     "text": [
      "# writing subsets/living_9-070-000009.tar 6643 1.0 GB 59787\n"
     ]
    },
    {
     "name": "stderr",
     "output_type": "stream",
     "text": [
      "6545000\n",
      "6546000\n",
      "6547000\n",
      "6548000\n",
      "6549000\n",
      "6550000\n"
     ]
    },
    {
     "name": "stdout",
     "output_type": "stream",
     "text": [
      "# writing subsets/living_9-070-000010.tar 6643 1.0 GB 66430\n"
     ]
    },
    {
     "name": "stderr",
     "output_type": "stream",
     "text": [
      "6551000\n",
      "6552000\n",
      "6553000\n",
      "6554000\n",
      "6555000\n",
      "6556000\n",
      "6557000\n"
     ]
    },
    {
     "name": "stdout",
     "output_type": "stream",
     "text": [
      "# writing subsets/living_9-070-000011.tar 6643 1.0 GB 73073\n"
     ]
    },
    {
     "name": "stderr",
     "output_type": "stream",
     "text": [
      "6558000\n",
      "6559000\n",
      "6560000\n",
      "6561000\n",
      "6562000\n",
      "6563000\n"
     ]
    },
    {
     "name": "stdout",
     "output_type": "stream",
     "text": [
      "# writing subsets/living_9-070-000012.tar 6643 1.0 GB 79716\n"
     ]
    },
    {
     "name": "stderr",
     "output_type": "stream",
     "text": [
      "6564000\n",
      "6565000\n",
      "6566000\n",
      "6567000\n",
      "6568000\n",
      "6569000\n",
      "6570000\n"
     ]
    },
    {
     "name": "stdout",
     "output_type": "stream",
     "text": [
      "# writing subsets/living_9-070-000013.tar 6643 1.0 GB 86359\n"
     ]
    },
    {
     "name": "stderr",
     "output_type": "stream",
     "text": [
      "6571000\n",
      "6572000\n",
      "6573000\n",
      "6574000\n",
      "6575000\n",
      "6576000\n"
     ]
    },
    {
     "name": "stdout",
     "output_type": "stream",
     "text": [
      "# writing subsets/living_9-071-000000.tar 0 0.0 GB 0\n"
     ]
    },
    {
     "name": "stderr",
     "output_type": "stream",
     "text": [
      "6577000\n",
      "6578000\n",
      "6579000\n",
      "6580000\n",
      "6581000\n",
      "6582000\n",
      "6583000\n"
     ]
    },
    {
     "name": "stdout",
     "output_type": "stream",
     "text": [
      "# writing subsets/living_9-071-000001.tar 6643 1.0 GB 6643\n"
     ]
    },
    {
     "name": "stderr",
     "output_type": "stream",
     "text": [
      "6584000\n",
      "6585000\n",
      "6586000\n",
      "6587000\n",
      "6588000\n",
      "6589000\n",
      "6590000\n"
     ]
    },
    {
     "name": "stdout",
     "output_type": "stream",
     "text": [
      "# writing subsets/living_9-071-000002.tar 6643 1.0 GB 13286\n"
     ]
    },
    {
     "name": "stderr",
     "output_type": "stream",
     "text": [
      "6591000\n",
      "6592000\n",
      "6593000\n",
      "6594000\n",
      "6595000\n",
      "6596000\n"
     ]
    },
    {
     "name": "stdout",
     "output_type": "stream",
     "text": [
      "# writing subsets/living_9-071-000003.tar 6643 1.0 GB 19929\n"
     ]
    },
    {
     "name": "stderr",
     "output_type": "stream",
     "text": [
      "6597000\n",
      "6598000\n",
      "6599000\n",
      "6600000\n",
      "6601000\n",
      "6602000\n",
      "6603000\n"
     ]
    },
    {
     "name": "stdout",
     "output_type": "stream",
     "text": [
      "# writing subsets/living_9-071-000004.tar 6643 1.0 GB 26572\n"
     ]
    },
    {
     "name": "stderr",
     "output_type": "stream",
     "text": [
      "6604000\n",
      "6605000\n",
      "6606000\n",
      "6607000\n",
      "6608000\n",
      "6609000\n",
      "6610000\n"
     ]
    },
    {
     "name": "stdout",
     "output_type": "stream",
     "text": [
      "# writing subsets/living_9-071-000005.tar 6643 1.0 GB 33215\n"
     ]
    },
    {
     "name": "stderr",
     "output_type": "stream",
     "text": [
      "6611000\n",
      "6612000\n",
      "6613000\n",
      "6614000\n",
      "6615000\n",
      "6616000\n"
     ]
    },
    {
     "name": "stdout",
     "output_type": "stream",
     "text": [
      "# writing subsets/living_9-071-000006.tar 6643 1.0 GB 39858\n"
     ]
    },
    {
     "name": "stderr",
     "output_type": "stream",
     "text": [
      "6617000\n",
      "6618000\n",
      "6619000\n",
      "6620000\n",
      "6621000\n",
      "6622000\n",
      "6623000\n"
     ]
    },
    {
     "name": "stdout",
     "output_type": "stream",
     "text": [
      "# writing subsets/living_9-071-000007.tar 6643 1.0 GB 46501\n"
     ]
    },
    {
     "name": "stderr",
     "output_type": "stream",
     "text": [
      "6624000\n",
      "6625000\n",
      "6626000\n",
      "6627000\n",
      "6628000\n",
      "6629000\n",
      "6630000\n"
     ]
    },
    {
     "name": "stdout",
     "output_type": "stream",
     "text": [
      "# writing subsets/living_9-071-000008.tar 6643 1.0 GB 53144\n"
     ]
    },
    {
     "name": "stderr",
     "output_type": "stream",
     "text": [
      "6631000\n",
      "6632000\n",
      "6633000\n",
      "6634000\n",
      "6635000\n",
      "6636000\n"
     ]
    },
    {
     "name": "stdout",
     "output_type": "stream",
     "text": [
      "# writing subsets/living_9-071-000009.tar 6643 1.0 GB 59787\n"
     ]
    },
    {
     "name": "stderr",
     "output_type": "stream",
     "text": [
      "6637000\n",
      "6638000\n",
      "6639000\n",
      "6640000\n",
      "6641000\n",
      "6642000\n",
      "6643000\n"
     ]
    },
    {
     "name": "stdout",
     "output_type": "stream",
     "text": [
      "# writing subsets/living_9-071-000010.tar 6643 1.0 GB 66430\n"
     ]
    },
    {
     "name": "stderr",
     "output_type": "stream",
     "text": [
      "6644000\n",
      "6645000\n",
      "6646000\n",
      "6647000\n",
      "6648000\n",
      "6649000\n"
     ]
    },
    {
     "name": "stdout",
     "output_type": "stream",
     "text": [
      "# writing subsets/living_9-071-000011.tar 6643 1.0 GB 73073\n"
     ]
    },
    {
     "name": "stderr",
     "output_type": "stream",
     "text": [
      "6650000\n",
      "6651000\n",
      "6652000\n",
      "6653000\n",
      "6654000\n",
      "6655000\n",
      "6656000\n"
     ]
    },
    {
     "name": "stdout",
     "output_type": "stream",
     "text": [
      "# writing subsets/living_9-071-000012.tar 6643 1.0 GB 79716\n"
     ]
    },
    {
     "name": "stderr",
     "output_type": "stream",
     "text": [
      "6657000\n",
      "6658000\n",
      "6659000\n",
      "6660000\n",
      "6661000\n",
      "6662000\n",
      "6663000\n"
     ]
    },
    {
     "name": "stdout",
     "output_type": "stream",
     "text": [
      "# writing subsets/living_9-071-000013.tar 6643 1.0 GB 86359\n"
     ]
    },
    {
     "name": "stderr",
     "output_type": "stream",
     "text": [
      "6664000\n",
      "6665000\n",
      "6666000\n",
      "6667000\n",
      "6668000\n",
      "6669000\n"
     ]
    },
    {
     "name": "stdout",
     "output_type": "stream",
     "text": [
      "# writing subsets/living_9-072-000000.tar 0 0.0 GB 0\n"
     ]
    },
    {
     "name": "stderr",
     "output_type": "stream",
     "text": [
      "6670000\n",
      "6671000\n",
      "6672000\n",
      "6673000\n",
      "6674000\n",
      "6675000\n",
      "6676000\n"
     ]
    },
    {
     "name": "stdout",
     "output_type": "stream",
     "text": [
      "# writing subsets/living_9-072-000001.tar 6643 1.0 GB 6643\n"
     ]
    },
    {
     "name": "stderr",
     "output_type": "stream",
     "text": [
      "6677000\n",
      "6678000\n",
      "6679000\n",
      "6680000\n",
      "6681000\n",
      "6682000\n"
     ]
    },
    {
     "name": "stdout",
     "output_type": "stream",
     "text": [
      "# writing subsets/living_9-072-000002.tar 6643 1.0 GB 13286\n"
     ]
    },
    {
     "name": "stderr",
     "output_type": "stream",
     "text": [
      "6683000\n",
      "6684000\n",
      "6685000\n",
      "6686000\n",
      "6687000\n",
      "6688000\n",
      "6689000\n"
     ]
    },
    {
     "name": "stdout",
     "output_type": "stream",
     "text": [
      "# writing subsets/living_9-072-000003.tar 6643 1.0 GB 19929\n"
     ]
    },
    {
     "name": "stderr",
     "output_type": "stream",
     "text": [
      "6690000\n",
      "6691000\n",
      "6692000\n",
      "6693000\n",
      "6694000\n",
      "6695000\n",
      "6696000\n"
     ]
    },
    {
     "name": "stdout",
     "output_type": "stream",
     "text": [
      "# writing subsets/living_9-072-000004.tar 6643 1.0 GB 26572\n"
     ]
    },
    {
     "name": "stderr",
     "output_type": "stream",
     "text": [
      "6697000\n",
      "6698000\n",
      "6699000\n",
      "6700000\n",
      "6701000\n",
      "6702000\n"
     ]
    },
    {
     "name": "stdout",
     "output_type": "stream",
     "text": [
      "# writing subsets/living_9-072-000005.tar 6643 1.0 GB 33215\n"
     ]
    },
    {
     "name": "stderr",
     "output_type": "stream",
     "text": [
      "6703000\n",
      "6704000\n",
      "6705000\n",
      "6706000\n",
      "6707000\n",
      "6708000\n",
      "6709000\n"
     ]
    },
    {
     "name": "stdout",
     "output_type": "stream",
     "text": [
      "# writing subsets/living_9-072-000006.tar 6643 1.0 GB 39858\n"
     ]
    },
    {
     "name": "stderr",
     "output_type": "stream",
     "text": [
      "6710000\n",
      "6711000\n",
      "6712000\n",
      "6713000\n",
      "6714000\n",
      "6715000\n",
      "6716000\n"
     ]
    },
    {
     "name": "stdout",
     "output_type": "stream",
     "text": [
      "# writing subsets/living_9-072-000007.tar 6643 1.0 GB 46501\n"
     ]
    },
    {
     "name": "stderr",
     "output_type": "stream",
     "text": [
      "6717000\n",
      "6718000\n",
      "6719000\n",
      "6720000\n",
      "6721000\n",
      "6722000\n"
     ]
    },
    {
     "name": "stdout",
     "output_type": "stream",
     "text": [
      "# writing subsets/living_9-072-000008.tar 6643 1.0 GB 53144\n"
     ]
    },
    {
     "name": "stderr",
     "output_type": "stream",
     "text": [
      "6723000\n",
      "6724000\n",
      "6725000\n",
      "6726000\n",
      "6727000\n",
      "6728000\n",
      "6729000\n"
     ]
    },
    {
     "name": "stdout",
     "output_type": "stream",
     "text": [
      "# writing subsets/living_9-072-000009.tar 6643 1.0 GB 59787\n"
     ]
    },
    {
     "name": "stderr",
     "output_type": "stream",
     "text": [
      "6730000\n",
      "6731000\n",
      "6732000\n",
      "6733000\n",
      "6734000\n",
      "6735000\n"
     ]
    },
    {
     "name": "stdout",
     "output_type": "stream",
     "text": [
      "# writing subsets/living_9-072-000010.tar 6643 1.0 GB 66430\n"
     ]
    },
    {
     "name": "stderr",
     "output_type": "stream",
     "text": [
      "6736000\n",
      "6737000\n",
      "6738000\n",
      "6739000\n",
      "6740000\n",
      "6741000\n",
      "6742000\n"
     ]
    },
    {
     "name": "stdout",
     "output_type": "stream",
     "text": [
      "# writing subsets/living_9-072-000011.tar 6643 1.0 GB 73073\n"
     ]
    },
    {
     "name": "stderr",
     "output_type": "stream",
     "text": [
      "6743000\n",
      "6744000\n",
      "6745000\n",
      "6746000\n",
      "6747000\n",
      "6748000\n",
      "6749000\n"
     ]
    },
    {
     "name": "stdout",
     "output_type": "stream",
     "text": [
      "# writing subsets/living_9-072-000012.tar 6643 1.0 GB 79716\n"
     ]
    },
    {
     "name": "stderr",
     "output_type": "stream",
     "text": [
      "6750000\n",
      "6751000\n",
      "6752000\n",
      "6753000\n",
      "6754000\n",
      "6755000\n"
     ]
    },
    {
     "name": "stdout",
     "output_type": "stream",
     "text": [
      "# writing subsets/living_9-072-000013.tar 6643 1.0 GB 86359\n"
     ]
    },
    {
     "name": "stderr",
     "output_type": "stream",
     "text": [
      "6756000\n",
      "6757000\n",
      "6758000\n",
      "6759000\n",
      "6760000\n",
      "6761000\n",
      "6762000\n"
     ]
    },
    {
     "name": "stdout",
     "output_type": "stream",
     "text": [
      "# writing subsets/living_9-073-000000.tar 0 0.0 GB 0\n"
     ]
    },
    {
     "name": "stderr",
     "output_type": "stream",
     "text": [
      "6763000\n",
      "6764000\n",
      "6765000\n",
      "6766000\n",
      "6767000\n",
      "6768000\n"
     ]
    },
    {
     "name": "stdout",
     "output_type": "stream",
     "text": [
      "# writing subsets/living_9-073-000001.tar 6643 1.0 GB 6643\n"
     ]
    },
    {
     "name": "stderr",
     "output_type": "stream",
     "text": [
      "6769000\n",
      "6770000\n",
      "6771000\n",
      "6772000\n",
      "6773000\n",
      "6774000\n",
      "6775000\n"
     ]
    },
    {
     "name": "stdout",
     "output_type": "stream",
     "text": [
      "# writing subsets/living_9-073-000002.tar 6643 1.0 GB 13286\n"
     ]
    },
    {
     "name": "stderr",
     "output_type": "stream",
     "text": [
      "6776000\n",
      "6777000\n",
      "6778000\n",
      "6779000\n",
      "6780000\n",
      "6781000\n",
      "6782000\n"
     ]
    },
    {
     "name": "stdout",
     "output_type": "stream",
     "text": [
      "# writing subsets/living_9-073-000003.tar 6643 1.0 GB 19929\n"
     ]
    },
    {
     "name": "stderr",
     "output_type": "stream",
     "text": [
      "6783000\n",
      "6784000\n",
      "6785000\n",
      "6786000\n",
      "6787000\n",
      "6788000\n"
     ]
    },
    {
     "name": "stdout",
     "output_type": "stream",
     "text": [
      "# writing subsets/living_9-073-000004.tar 6643 1.0 GB 26572\n"
     ]
    },
    {
     "name": "stderr",
     "output_type": "stream",
     "text": [
      "6789000\n",
      "6790000\n",
      "6791000\n",
      "6792000\n",
      "6793000\n",
      "6794000\n",
      "6795000\n"
     ]
    },
    {
     "name": "stdout",
     "output_type": "stream",
     "text": [
      "# writing subsets/living_9-073-000005.tar 6643 1.0 GB 33215\n"
     ]
    },
    {
     "name": "stderr",
     "output_type": "stream",
     "text": [
      "6796000\n",
      "6797000\n",
      "6798000\n",
      "6799000\n",
      "6800000\n",
      "6801000\n"
     ]
    },
    {
     "name": "stdout",
     "output_type": "stream",
     "text": [
      "# writing subsets/living_9-073-000006.tar 6643 1.0 GB 39858\n"
     ]
    },
    {
     "name": "stderr",
     "output_type": "stream",
     "text": [
      "6802000\n",
      "6803000\n",
      "6804000\n",
      "6805000\n",
      "6806000\n",
      "6807000\n",
      "6808000\n"
     ]
    },
    {
     "name": "stdout",
     "output_type": "stream",
     "text": [
      "# writing subsets/living_9-073-000007.tar 6643 1.0 GB 46501\n"
     ]
    },
    {
     "name": "stderr",
     "output_type": "stream",
     "text": [
      "6809000\n",
      "6810000\n",
      "6811000\n",
      "6812000\n",
      "6813000\n",
      "6814000\n",
      "6815000\n"
     ]
    },
    {
     "name": "stdout",
     "output_type": "stream",
     "text": [
      "# writing subsets/living_9-073-000008.tar 6643 1.0 GB 53144\n"
     ]
    },
    {
     "name": "stderr",
     "output_type": "stream",
     "text": [
      "6816000\n",
      "6817000\n",
      "6818000\n",
      "6819000\n",
      "6820000\n",
      "6821000\n"
     ]
    },
    {
     "name": "stdout",
     "output_type": "stream",
     "text": [
      "# writing subsets/living_9-073-000009.tar 6643 1.0 GB 59787\n"
     ]
    },
    {
     "name": "stderr",
     "output_type": "stream",
     "text": [
      "6822000\n",
      "6823000\n",
      "6824000\n",
      "6825000\n",
      "6826000\n",
      "6827000\n",
      "6828000\n"
     ]
    },
    {
     "name": "stdout",
     "output_type": "stream",
     "text": [
      "# writing subsets/living_9-073-000010.tar 6643 1.0 GB 66430\n"
     ]
    },
    {
     "name": "stderr",
     "output_type": "stream",
     "text": [
      "6829000\n",
      "6830000\n",
      "6831000\n",
      "6832000\n",
      "6833000\n",
      "6834000\n",
      "6835000\n"
     ]
    },
    {
     "name": "stdout",
     "output_type": "stream",
     "text": [
      "# writing subsets/living_9-073-000011.tar 6643 1.0 GB 73073\n"
     ]
    },
    {
     "name": "stderr",
     "output_type": "stream",
     "text": [
      "6836000\n",
      "6837000\n",
      "6838000\n",
      "6839000\n",
      "6840000\n",
      "6841000\n"
     ]
    },
    {
     "name": "stdout",
     "output_type": "stream",
     "text": [
      "# writing subsets/living_9-073-000012.tar 6643 1.0 GB 79716\n"
     ]
    },
    {
     "name": "stderr",
     "output_type": "stream",
     "text": [
      "6842000\n",
      "6843000\n",
      "6844000\n",
      "6845000\n",
      "6846000\n",
      "6847000\n",
      "6848000\n"
     ]
    },
    {
     "name": "stdout",
     "output_type": "stream",
     "text": [
      "# writing subsets/living_9-073-000013.tar 6643 1.0 GB 86359\n"
     ]
    },
    {
     "name": "stderr",
     "output_type": "stream",
     "text": [
      "6849000\n",
      "6850000\n",
      "6851000\n",
      "6852000\n",
      "6853000\n",
      "6854000\n"
     ]
    },
    {
     "name": "stdout",
     "output_type": "stream",
     "text": [
      "# writing subsets/living_9-074-000000.tar 0 0.0 GB 0\n"
     ]
    },
    {
     "name": "stderr",
     "output_type": "stream",
     "text": [
      "6855000\n",
      "6856000\n",
      "6857000\n",
      "6858000\n",
      "6859000\n",
      "6860000\n",
      "6861000\n"
     ]
    },
    {
     "name": "stdout",
     "output_type": "stream",
     "text": [
      "# writing subsets/living_9-074-000001.tar 6643 1.0 GB 6643\n"
     ]
    },
    {
     "name": "stderr",
     "output_type": "stream",
     "text": [
      "6862000\n",
      "6863000\n",
      "6864000\n",
      "6865000\n",
      "6866000\n",
      "6867000\n",
      "6868000\n"
     ]
    },
    {
     "name": "stdout",
     "output_type": "stream",
     "text": [
      "# writing subsets/living_9-074-000002.tar 6643 1.0 GB 13286\n"
     ]
    },
    {
     "name": "stderr",
     "output_type": "stream",
     "text": [
      "6869000\n",
      "6870000\n",
      "6871000\n",
      "6872000\n",
      "6873000\n",
      "6874000\n"
     ]
    },
    {
     "name": "stdout",
     "output_type": "stream",
     "text": [
      "# writing subsets/living_9-074-000003.tar 6643 1.0 GB 19929\n"
     ]
    },
    {
     "name": "stderr",
     "output_type": "stream",
     "text": [
      "6875000\n",
      "6876000\n",
      "6877000\n",
      "6878000\n",
      "6879000\n",
      "6880000\n",
      "6881000\n"
     ]
    },
    {
     "name": "stdout",
     "output_type": "stream",
     "text": [
      "# writing subsets/living_9-074-000004.tar 6643 1.0 GB 26572\n"
     ]
    },
    {
     "name": "stderr",
     "output_type": "stream",
     "text": [
      "6882000\n",
      "6883000\n",
      "6884000\n",
      "6885000\n",
      "6886000\n",
      "6887000\n"
     ]
    },
    {
     "name": "stdout",
     "output_type": "stream",
     "text": [
      "# writing subsets/living_9-074-000005.tar 6643 1.0 GB 33215\n"
     ]
    },
    {
     "name": "stderr",
     "output_type": "stream",
     "text": [
      "6888000\n",
      "6889000\n",
      "6890000\n",
      "6891000\n",
      "6892000\n",
      "6893000\n",
      "6894000\n"
     ]
    },
    {
     "name": "stdout",
     "output_type": "stream",
     "text": [
      "# writing subsets/living_9-074-000006.tar 6643 1.0 GB 39858\n"
     ]
    },
    {
     "name": "stderr",
     "output_type": "stream",
     "text": [
      "6895000\n",
      "6896000\n",
      "6897000\n",
      "6898000\n",
      "6899000\n",
      "6900000\n",
      "6901000\n"
     ]
    },
    {
     "name": "stdout",
     "output_type": "stream",
     "text": [
      "# writing subsets/living_9-074-000007.tar 6643 1.0 GB 46501\n"
     ]
    },
    {
     "name": "stderr",
     "output_type": "stream",
     "text": [
      "6902000\n",
      "6903000\n",
      "6904000\n",
      "6905000\n",
      "6906000\n",
      "6907000\n"
     ]
    },
    {
     "name": "stdout",
     "output_type": "stream",
     "text": [
      "# writing subsets/living_9-074-000008.tar 6643 1.0 GB 53144\n"
     ]
    },
    {
     "name": "stderr",
     "output_type": "stream",
     "text": [
      "6908000\n",
      "6909000\n",
      "6910000\n",
      "6911000\n",
      "6912000\n",
      "6913000\n",
      "6914000\n"
     ]
    },
    {
     "name": "stdout",
     "output_type": "stream",
     "text": [
      "# writing subsets/living_9-074-000009.tar 6643 1.0 GB 59787\n"
     ]
    },
    {
     "name": "stderr",
     "output_type": "stream",
     "text": [
      "6915000\n",
      "6916000\n",
      "6917000\n",
      "6918000\n",
      "6919000\n",
      "6920000\n",
      "6921000\n"
     ]
    },
    {
     "name": "stdout",
     "output_type": "stream",
     "text": [
      "# writing subsets/living_9-074-000010.tar 6643 1.0 GB 66430\n"
     ]
    },
    {
     "name": "stderr",
     "output_type": "stream",
     "text": [
      "6922000\n",
      "6923000\n",
      "6924000\n",
      "6925000\n",
      "6926000\n",
      "6927000\n"
     ]
    },
    {
     "name": "stdout",
     "output_type": "stream",
     "text": [
      "# writing subsets/living_9-074-000011.tar 6643 1.0 GB 73073\n"
     ]
    },
    {
     "name": "stderr",
     "output_type": "stream",
     "text": [
      "6928000\n",
      "6929000\n",
      "6930000\n",
      "6931000\n",
      "6932000\n",
      "6933000\n",
      "6934000\n"
     ]
    },
    {
     "name": "stdout",
     "output_type": "stream",
     "text": [
      "# writing subsets/living_9-074-000012.tar 6643 1.0 GB 79716\n"
     ]
    },
    {
     "name": "stderr",
     "output_type": "stream",
     "text": [
      "6935000\n",
      "6936000\n",
      "6937000\n",
      "6938000\n",
      "6939000\n",
      "6940000\n",
      "6941000\n"
     ]
    },
    {
     "name": "stdout",
     "output_type": "stream",
     "text": [
      "# writing subsets/living_9-074-000013.tar 6643 1.0 GB 86359\n"
     ]
    },
    {
     "name": "stderr",
     "output_type": "stream",
     "text": [
      "6942000\n",
      "6943000\n",
      "6944000\n",
      "6945000\n",
      "6946000\n",
      "6947000\n"
     ]
    },
    {
     "name": "stdout",
     "output_type": "stream",
     "text": [
      "# writing subsets/living_9-075-000000.tar 0 0.0 GB 0\n"
     ]
    },
    {
     "name": "stderr",
     "output_type": "stream",
     "text": [
      "6948000\n",
      "6949000\n",
      "6950000\n",
      "6951000\n",
      "6952000\n",
      "6953000\n",
      "6954000\n"
     ]
    },
    {
     "name": "stdout",
     "output_type": "stream",
     "text": [
      "# writing subsets/living_9-075-000001.tar 6643 1.0 GB 6643\n"
     ]
    },
    {
     "name": "stderr",
     "output_type": "stream",
     "text": [
      "6955000\n",
      "6956000\n",
      "6957000\n",
      "6958000\n",
      "6959000\n",
      "6960000\n"
     ]
    },
    {
     "name": "stdout",
     "output_type": "stream",
     "text": [
      "# writing subsets/living_9-075-000002.tar 6643 1.0 GB 13286\n"
     ]
    },
    {
     "name": "stderr",
     "output_type": "stream",
     "text": [
      "6961000\n",
      "6962000\n",
      "6963000\n",
      "6964000\n",
      "6965000\n",
      "6966000\n",
      "6967000\n"
     ]
    },
    {
     "name": "stdout",
     "output_type": "stream",
     "text": [
      "# writing subsets/living_9-075-000003.tar 6643 1.0 GB 19929\n"
     ]
    },
    {
     "name": "stderr",
     "output_type": "stream",
     "text": [
      "6968000\n",
      "6969000\n",
      "6970000\n",
      "6971000\n",
      "6972000\n",
      "6973000\n"
     ]
    },
    {
     "name": "stdout",
     "output_type": "stream",
     "text": [
      "# writing subsets/living_9-075-000004.tar 6643 1.0 GB 26572\n"
     ]
    },
    {
     "name": "stderr",
     "output_type": "stream",
     "text": [
      "6974000\n",
      "6975000\n",
      "6976000\n",
      "6977000\n",
      "6978000\n",
      "6979000\n",
      "6980000\n"
     ]
    },
    {
     "name": "stdout",
     "output_type": "stream",
     "text": [
      "# writing subsets/living_9-075-000005.tar 6643 1.0 GB 33215\n"
     ]
    },
    {
     "name": "stderr",
     "output_type": "stream",
     "text": [
      "6981000\n",
      "6982000\n",
      "6983000\n",
      "6984000\n",
      "6985000\n",
      "6986000\n",
      "6987000\n"
     ]
    },
    {
     "name": "stdout",
     "output_type": "stream",
     "text": [
      "# writing subsets/living_9-075-000006.tar 6643 1.0 GB 39858\n"
     ]
    },
    {
     "name": "stderr",
     "output_type": "stream",
     "text": [
      "6988000\n",
      "6989000\n",
      "6990000\n",
      "6991000\n",
      "6992000\n",
      "6993000\n"
     ]
    },
    {
     "name": "stdout",
     "output_type": "stream",
     "text": [
      "# writing subsets/living_9-075-000007.tar 6643 1.0 GB 46501\n"
     ]
    },
    {
     "name": "stderr",
     "output_type": "stream",
     "text": [
      "6994000\n",
      "6995000\n",
      "6996000\n",
      "6997000\n",
      "6998000\n",
      "6999000\n",
      "7000000\n"
     ]
    },
    {
     "name": "stdout",
     "output_type": "stream",
     "text": [
      "# writing subsets/living_9-075-000008.tar 6643 1.0 GB 53144\n"
     ]
    },
    {
     "name": "stderr",
     "output_type": "stream",
     "text": [
      "7001000\n",
      "7002000\n",
      "7003000\n",
      "7004000\n",
      "7005000\n",
      "7006000\n",
      "7007000\n"
     ]
    },
    {
     "name": "stdout",
     "output_type": "stream",
     "text": [
      "# writing subsets/living_9-075-000009.tar 6643 1.0 GB 59787\n"
     ]
    },
    {
     "name": "stderr",
     "output_type": "stream",
     "text": [
      "7008000\n",
      "7009000\n",
      "7010000\n",
      "7011000\n",
      "7012000\n",
      "7013000\n"
     ]
    },
    {
     "name": "stdout",
     "output_type": "stream",
     "text": [
      "# writing subsets/living_9-075-000010.tar 6643 1.0 GB 66430\n"
     ]
    },
    {
     "name": "stderr",
     "output_type": "stream",
     "text": [
      "7014000\n",
      "7015000\n",
      "7016000\n",
      "7017000\n",
      "7018000\n",
      "7019000\n",
      "7020000\n"
     ]
    },
    {
     "name": "stdout",
     "output_type": "stream",
     "text": [
      "# writing subsets/living_9-075-000011.tar 6643 1.0 GB 73073\n"
     ]
    },
    {
     "name": "stderr",
     "output_type": "stream",
     "text": [
      "7021000\n",
      "7022000\n",
      "7023000\n",
      "7024000\n",
      "7025000\n",
      "7026000\n",
      "7027000\n"
     ]
    },
    {
     "name": "stdout",
     "output_type": "stream",
     "text": [
      "# writing subsets/living_9-075-000012.tar 6643 1.0 GB 79716\n"
     ]
    },
    {
     "name": "stderr",
     "output_type": "stream",
     "text": [
      "7028000\n",
      "7029000\n",
      "7030000\n",
      "7031000\n",
      "7032000\n",
      "7033000\n"
     ]
    },
    {
     "name": "stdout",
     "output_type": "stream",
     "text": [
      "# writing subsets/living_9-075-000013.tar 6643 1.0 GB 86359\n"
     ]
    },
    {
     "name": "stderr",
     "output_type": "stream",
     "text": [
      "7034000\n",
      "7035000\n",
      "7036000\n",
      "7037000\n",
      "7038000\n",
      "7039000\n"
     ]
    },
    {
     "name": "stdout",
     "output_type": "stream",
     "text": [
      "# writing subsets/living_9-076-000000.tar 0 0.0 GB 0\n"
     ]
    },
    {
     "name": "stderr",
     "output_type": "stream",
     "text": [
      "7040000\n",
      "7041000\n",
      "7042000\n",
      "7043000\n",
      "7044000\n",
      "7045000\n",
      "7046000\n"
     ]
    },
    {
     "name": "stdout",
     "output_type": "stream",
     "text": [
      "# writing subsets/living_9-076-000001.tar 6643 1.0 GB 6643\n"
     ]
    },
    {
     "name": "stderr",
     "output_type": "stream",
     "text": [
      "7047000\n",
      "7048000\n",
      "7049000\n",
      "7050000\n",
      "7051000\n",
      "7052000\n",
      "7053000\n"
     ]
    },
    {
     "name": "stdout",
     "output_type": "stream",
     "text": [
      "# writing subsets/living_9-076-000002.tar 6643 1.0 GB 13286\n"
     ]
    },
    {
     "name": "stderr",
     "output_type": "stream",
     "text": [
      "7054000\n",
      "7055000\n",
      "7056000\n",
      "7057000\n",
      "7058000\n",
      "7059000\n"
     ]
    },
    {
     "name": "stdout",
     "output_type": "stream",
     "text": [
      "# writing subsets/living_9-076-000003.tar 6643 1.0 GB 19929\n"
     ]
    },
    {
     "name": "stderr",
     "output_type": "stream",
     "text": [
      "7060000\n",
      "7061000\n",
      "7062000\n",
      "7063000\n",
      "7064000\n",
      "7065000\n",
      "7066000\n"
     ]
    },
    {
     "name": "stdout",
     "output_type": "stream",
     "text": [
      "# writing subsets/living_9-076-000004.tar 6643 1.0 GB 26572\n"
     ]
    },
    {
     "name": "stderr",
     "output_type": "stream",
     "text": [
      "7067000\n",
      "7068000\n",
      "7069000\n",
      "7070000\n",
      "7071000\n",
      "7072000\n",
      "7073000\n"
     ]
    },
    {
     "name": "stdout",
     "output_type": "stream",
     "text": [
      "# writing subsets/living_9-076-000005.tar 6643 1.0 GB 33215\n"
     ]
    },
    {
     "name": "stderr",
     "output_type": "stream",
     "text": [
      "7074000\n",
      "7075000\n",
      "7076000\n",
      "7077000\n",
      "7078000\n",
      "7079000\n"
     ]
    },
    {
     "name": "stdout",
     "output_type": "stream",
     "text": [
      "# writing subsets/living_9-076-000006.tar 6643 1.0 GB 39858\n"
     ]
    },
    {
     "name": "stderr",
     "output_type": "stream",
     "text": [
      "7080000\n",
      "7081000\n",
      "7082000\n",
      "7083000\n",
      "7084000\n",
      "7085000\n",
      "7086000\n"
     ]
    },
    {
     "name": "stdout",
     "output_type": "stream",
     "text": [
      "# writing subsets/living_9-076-000007.tar 6643 1.0 GB 46501\n"
     ]
    },
    {
     "name": "stderr",
     "output_type": "stream",
     "text": [
      "7087000\n",
      "7088000\n",
      "7089000\n",
      "7090000\n",
      "7091000\n",
      "7092000\n",
      "7093000\n"
     ]
    },
    {
     "name": "stdout",
     "output_type": "stream",
     "text": [
      "# writing subsets/living_9-076-000008.tar 6643 1.0 GB 53144\n"
     ]
    },
    {
     "name": "stderr",
     "output_type": "stream",
     "text": [
      "7094000\n",
      "7095000\n",
      "7096000\n",
      "7097000\n",
      "7098000\n",
      "7099000\n"
     ]
    },
    {
     "name": "stdout",
     "output_type": "stream",
     "text": [
      "# writing subsets/living_9-076-000009.tar 6643 1.0 GB 59787\n"
     ]
    },
    {
     "name": "stderr",
     "output_type": "stream",
     "text": [
      "7100000\n",
      "7101000\n",
      "7102000\n",
      "7103000\n",
      "7104000\n",
      "7105000\n",
      "7106000\n"
     ]
    },
    {
     "name": "stdout",
     "output_type": "stream",
     "text": [
      "# writing subsets/living_9-076-000010.tar 6643 1.0 GB 66430\n"
     ]
    },
    {
     "name": "stderr",
     "output_type": "stream",
     "text": [
      "7107000\n",
      "7108000\n",
      "7109000\n",
      "7110000\n",
      "7111000\n",
      "7112000\n",
      "7113000\n"
     ]
    },
    {
     "name": "stdout",
     "output_type": "stream",
     "text": [
      "# writing subsets/living_9-076-000011.tar 6643 1.0 GB 73073\n"
     ]
    },
    {
     "name": "stderr",
     "output_type": "stream",
     "text": [
      "7114000\n",
      "7115000\n",
      "7116000\n",
      "7117000\n",
      "7118000\n",
      "7119000\n"
     ]
    },
    {
     "name": "stdout",
     "output_type": "stream",
     "text": [
      "# writing subsets/living_9-076-000012.tar 6643 1.0 GB 79716\n"
     ]
    },
    {
     "name": "stderr",
     "output_type": "stream",
     "text": [
      "7120000\n",
      "7121000\n",
      "7122000\n",
      "7123000\n",
      "7124000\n",
      "7125000\n",
      "7126000\n"
     ]
    },
    {
     "name": "stdout",
     "output_type": "stream",
     "text": [
      "# writing subsets/living_9-076-000013.tar 6643 1.0 GB 86359\n"
     ]
    },
    {
     "name": "stderr",
     "output_type": "stream",
     "text": [
      "7127000\n",
      "7128000\n",
      "7129000\n",
      "7130000\n",
      "7131000\n",
      "7132000\n"
     ]
    },
    {
     "name": "stdout",
     "output_type": "stream",
     "text": [
      "# writing subsets/living_9-077-000000.tar 0 0.0 GB 0\n"
     ]
    },
    {
     "name": "stderr",
     "output_type": "stream",
     "text": [
      "7133000\n",
      "7134000\n",
      "7135000\n",
      "7136000\n",
      "7137000\n",
      "7138000\n",
      "7139000\n"
     ]
    },
    {
     "name": "stdout",
     "output_type": "stream",
     "text": [
      "# writing subsets/living_9-077-000001.tar 6643 1.0 GB 6643\n"
     ]
    },
    {
     "name": "stderr",
     "output_type": "stream",
     "text": [
      "7140000\n",
      "7141000\n",
      "7142000\n",
      "7143000\n",
      "7144000\n",
      "7145000\n"
     ]
    },
    {
     "name": "stdout",
     "output_type": "stream",
     "text": [
      "# writing subsets/living_9-077-000002.tar 6643 1.0 GB 13286\n"
     ]
    },
    {
     "name": "stderr",
     "output_type": "stream",
     "text": [
      "7146000\n",
      "7147000\n",
      "7148000\n",
      "7149000\n",
      "7150000\n",
      "7151000\n",
      "7152000\n"
     ]
    },
    {
     "name": "stdout",
     "output_type": "stream",
     "text": [
      "# writing subsets/living_9-077-000003.tar 6643 1.0 GB 19929\n"
     ]
    },
    {
     "name": "stderr",
     "output_type": "stream",
     "text": [
      "7153000\n",
      "7154000\n",
      "7155000\n",
      "7156000\n",
      "7157000\n",
      "7158000\n",
      "7159000\n"
     ]
    },
    {
     "name": "stdout",
     "output_type": "stream",
     "text": [
      "# writing subsets/living_9-077-000004.tar 6643 1.0 GB 26572\n"
     ]
    },
    {
     "name": "stderr",
     "output_type": "stream",
     "text": [
      "7160000\n",
      "7161000\n",
      "7162000\n",
      "7163000\n",
      "7164000\n",
      "7165000\n"
     ]
    },
    {
     "name": "stdout",
     "output_type": "stream",
     "text": [
      "# writing subsets/living_9-077-000005.tar 6643 1.0 GB 33215\n"
     ]
    },
    {
     "name": "stderr",
     "output_type": "stream",
     "text": [
      "7166000\n",
      "7167000\n",
      "7168000\n",
      "7169000\n",
      "7170000\n",
      "7171000\n",
      "7172000\n"
     ]
    },
    {
     "name": "stdout",
     "output_type": "stream",
     "text": [
      "# writing subsets/living_9-077-000006.tar 6643 1.0 GB 39858\n"
     ]
    },
    {
     "name": "stderr",
     "output_type": "stream",
     "text": [
      "7173000\n",
      "7174000\n",
      "7175000\n",
      "7176000\n",
      "7177000\n",
      "7178000\n",
      "7179000\n"
     ]
    },
    {
     "name": "stdout",
     "output_type": "stream",
     "text": [
      "# writing subsets/living_9-077-000007.tar 6643 1.0 GB 46501\n"
     ]
    },
    {
     "name": "stderr",
     "output_type": "stream",
     "text": [
      "7180000\n",
      "7181000\n",
      "7182000\n",
      "7183000\n",
      "7184000\n",
      "7185000\n"
     ]
    },
    {
     "name": "stdout",
     "output_type": "stream",
     "text": [
      "# writing subsets/living_9-077-000008.tar 6643 1.0 GB 53144\n"
     ]
    },
    {
     "name": "stderr",
     "output_type": "stream",
     "text": [
      "7186000\n",
      "7187000\n",
      "7188000\n",
      "7189000\n",
      "7190000\n",
      "7191000\n",
      "7192000\n"
     ]
    },
    {
     "name": "stdout",
     "output_type": "stream",
     "text": [
      "# writing subsets/living_9-077-000009.tar 6643 1.0 GB 59787\n"
     ]
    },
    {
     "name": "stderr",
     "output_type": "stream",
     "text": [
      "7193000\n",
      "7194000\n",
      "7195000\n",
      "7196000\n",
      "7197000\n",
      "7198000\n",
      "7199000\n"
     ]
    },
    {
     "name": "stdout",
     "output_type": "stream",
     "text": [
      "# writing subsets/living_9-077-000010.tar 6643 1.0 GB 66430\n"
     ]
    },
    {
     "name": "stderr",
     "output_type": "stream",
     "text": [
      "7200000\n",
      "7201000\n",
      "7202000\n",
      "7203000\n",
      "7204000\n",
      "7205000\n"
     ]
    },
    {
     "name": "stdout",
     "output_type": "stream",
     "text": [
      "# writing subsets/living_9-077-000011.tar 6643 1.0 GB 73073\n"
     ]
    },
    {
     "name": "stderr",
     "output_type": "stream",
     "text": [
      "7206000\n",
      "7207000\n",
      "7208000\n",
      "7209000\n",
      "7210000\n",
      "7211000\n",
      "7212000\n"
     ]
    },
    {
     "name": "stdout",
     "output_type": "stream",
     "text": [
      "# writing subsets/living_9-077-000012.tar 6643 1.0 GB 79716\n"
     ]
    },
    {
     "name": "stderr",
     "output_type": "stream",
     "text": [
      "7213000\n",
      "7214000\n",
      "7215000\n",
      "7216000\n",
      "7217000\n",
      "7218000\n",
      "7219000\n"
     ]
    },
    {
     "name": "stdout",
     "output_type": "stream",
     "text": [
      "# writing subsets/living_9-077-000013.tar 6643 1.0 GB 86359\n"
     ]
    },
    {
     "name": "stderr",
     "output_type": "stream",
     "text": [
      "7220000\n",
      "7221000\n",
      "7222000\n",
      "7223000\n",
      "7224000\n",
      "7225000\n"
     ]
    },
    {
     "name": "stdout",
     "output_type": "stream",
     "text": [
      "# writing subsets/living_9-078-000000.tar 0 0.0 GB 0\n"
     ]
    },
    {
     "name": "stderr",
     "output_type": "stream",
     "text": [
      "7226000\n",
      "7227000\n",
      "7228000\n",
      "7229000\n",
      "7230000\n",
      "7231000\n"
     ]
    },
    {
     "name": "stdout",
     "output_type": "stream",
     "text": [
      "# writing subsets/living_9-078-000001.tar 6643 1.0 GB 6643\n"
     ]
    },
    {
     "name": "stderr",
     "output_type": "stream",
     "text": [
      "7232000\n",
      "7233000\n",
      "7234000\n",
      "7235000\n",
      "7236000\n",
      "7237000\n",
      "7238000\n"
     ]
    },
    {
     "name": "stdout",
     "output_type": "stream",
     "text": [
      "# writing subsets/living_9-078-000002.tar 6643 1.0 GB 13286\n"
     ]
    },
    {
     "name": "stderr",
     "output_type": "stream",
     "text": [
      "7239000\n",
      "7240000\n",
      "7241000\n",
      "7242000\n",
      "7243000\n",
      "7244000\n",
      "7245000\n"
     ]
    },
    {
     "name": "stdout",
     "output_type": "stream",
     "text": [
      "# writing subsets/living_9-078-000003.tar 6643 1.0 GB 19929\n"
     ]
    },
    {
     "name": "stderr",
     "output_type": "stream",
     "text": [
      "7246000\n",
      "7247000\n",
      "7248000\n",
      "7249000\n",
      "7250000\n",
      "7251000\n"
     ]
    },
    {
     "name": "stdout",
     "output_type": "stream",
     "text": [
      "# writing subsets/living_9-078-000004.tar 6643 1.0 GB 26572\n"
     ]
    },
    {
     "name": "stderr",
     "output_type": "stream",
     "text": [
      "7252000\n",
      "7253000\n",
      "7254000\n",
      "7255000\n",
      "7256000\n",
      "7257000\n",
      "7258000\n"
     ]
    },
    {
     "name": "stdout",
     "output_type": "stream",
     "text": [
      "# writing subsets/living_9-078-000005.tar 6643 1.0 GB 33215\n"
     ]
    },
    {
     "name": "stderr",
     "output_type": "stream",
     "text": [
      "7259000\n",
      "7260000\n",
      "7261000\n",
      "7262000\n",
      "7263000\n",
      "7264000\n",
      "7265000\n"
     ]
    },
    {
     "name": "stdout",
     "output_type": "stream",
     "text": [
      "# writing subsets/living_9-078-000006.tar 6643 1.0 GB 39858\n"
     ]
    },
    {
     "name": "stderr",
     "output_type": "stream",
     "text": [
      "7266000\n",
      "7267000\n",
      "7268000\n",
      "7269000\n",
      "7270000\n",
      "7271000\n"
     ]
    },
    {
     "name": "stdout",
     "output_type": "stream",
     "text": [
      "# writing subsets/living_9-078-000007.tar 6643 1.0 GB 46501\n"
     ]
    },
    {
     "name": "stderr",
     "output_type": "stream",
     "text": [
      "7272000\n",
      "7273000\n",
      "7274000\n",
      "7275000\n",
      "7276000\n",
      "7277000\n",
      "7278000\n"
     ]
    },
    {
     "name": "stdout",
     "output_type": "stream",
     "text": [
      "# writing subsets/living_9-078-000008.tar 6643 1.0 GB 53144\n"
     ]
    },
    {
     "name": "stderr",
     "output_type": "stream",
     "text": [
      "7279000\n",
      "7280000\n",
      "7281000\n",
      "7282000\n",
      "7283000\n",
      "7284000\n",
      "7285000\n"
     ]
    },
    {
     "name": "stdout",
     "output_type": "stream",
     "text": [
      "# writing subsets/living_9-078-000009.tar 6643 1.0 GB 59787\n"
     ]
    },
    {
     "name": "stderr",
     "output_type": "stream",
     "text": [
      "7286000\n",
      "7287000\n",
      "7288000\n",
      "7289000\n",
      "7290000\n",
      "7291000\n"
     ]
    },
    {
     "name": "stdout",
     "output_type": "stream",
     "text": [
      "# writing subsets/living_9-078-000010.tar 6643 1.0 GB 66430\n"
     ]
    },
    {
     "name": "stderr",
     "output_type": "stream",
     "text": [
      "7292000\n",
      "7293000\n",
      "7294000\n",
      "7295000\n",
      "7296000\n",
      "7297000\n",
      "7298000\n"
     ]
    },
    {
     "name": "stdout",
     "output_type": "stream",
     "text": [
      "# writing subsets/living_9-078-000011.tar 6643 1.0 GB 73073\n"
     ]
    },
    {
     "name": "stderr",
     "output_type": "stream",
     "text": [
      "7299000\n",
      "7300000\n",
      "7301000\n",
      "7302000\n",
      "7303000\n",
      "7304000\n",
      "7305000\n"
     ]
    },
    {
     "name": "stdout",
     "output_type": "stream",
     "text": [
      "# writing subsets/living_9-078-000012.tar 6643 1.0 GB 79716\n"
     ]
    },
    {
     "name": "stderr",
     "output_type": "stream",
     "text": [
      "7306000\n",
      "7307000\n",
      "7308000\n",
      "7309000\n",
      "7310000\n",
      "7311000\n"
     ]
    },
    {
     "name": "stdout",
     "output_type": "stream",
     "text": [
      "# writing subsets/living_9-078-000013.tar 6643 1.0 GB 86359\n"
     ]
    },
    {
     "name": "stderr",
     "output_type": "stream",
     "text": [
      "7312000\n",
      "7313000\n",
      "7314000\n",
      "7315000\n",
      "7316000\n",
      "7317000\n"
     ]
    },
    {
     "name": "stdout",
     "output_type": "stream",
     "text": [
      "# writing subsets/living_9-079-000000.tar 0 0.0 GB 0\n"
     ]
    },
    {
     "name": "stderr",
     "output_type": "stream",
     "text": [
      "7318000\n",
      "7319000\n",
      "7320000\n",
      "7321000\n",
      "7322000\n",
      "7323000\n",
      "7324000\n"
     ]
    },
    {
     "name": "stdout",
     "output_type": "stream",
     "text": [
      "# writing subsets/living_9-079-000001.tar 6643 1.0 GB 6643\n"
     ]
    },
    {
     "name": "stderr",
     "output_type": "stream",
     "text": [
      "7325000\n",
      "7326000\n",
      "7327000\n",
      "7328000\n",
      "7329000\n",
      "7330000\n",
      "7331000\n"
     ]
    },
    {
     "name": "stdout",
     "output_type": "stream",
     "text": [
      "# writing subsets/living_9-079-000002.tar 6643 1.0 GB 13286\n"
     ]
    },
    {
     "name": "stderr",
     "output_type": "stream",
     "text": [
      "7332000\n",
      "7333000\n",
      "7334000\n",
      "7335000\n",
      "7336000\n",
      "7337000\n"
     ]
    },
    {
     "name": "stdout",
     "output_type": "stream",
     "text": [
      "# writing subsets/living_9-079-000003.tar 6643 1.0 GB 19929\n"
     ]
    },
    {
     "name": "stderr",
     "output_type": "stream",
     "text": [
      "7338000\n",
      "7339000\n",
      "7340000\n",
      "7341000\n",
      "7342000\n",
      "7343000\n",
      "7344000\n"
     ]
    },
    {
     "name": "stdout",
     "output_type": "stream",
     "text": [
      "# writing subsets/living_9-079-000004.tar 6643 1.0 GB 26572\n"
     ]
    },
    {
     "name": "stderr",
     "output_type": "stream",
     "text": [
      "7345000\n",
      "7346000\n",
      "7347000\n",
      "7348000\n",
      "7349000\n",
      "7350000\n",
      "7351000\n"
     ]
    },
    {
     "name": "stdout",
     "output_type": "stream",
     "text": [
      "# writing subsets/living_9-079-000005.tar 6643 1.0 GB 33215\n"
     ]
    },
    {
     "name": "stderr",
     "output_type": "stream",
     "text": [
      "7352000\n",
      "7353000\n",
      "7354000\n",
      "7355000\n",
      "7356000\n",
      "7357000\n"
     ]
    },
    {
     "name": "stdout",
     "output_type": "stream",
     "text": [
      "# writing subsets/living_9-079-000006.tar 6643 1.0 GB 39858\n"
     ]
    },
    {
     "name": "stderr",
     "output_type": "stream",
     "text": [
      "7358000\n",
      "7359000\n",
      "7360000\n",
      "7361000\n",
      "7362000\n",
      "7363000\n",
      "7364000\n"
     ]
    },
    {
     "name": "stdout",
     "output_type": "stream",
     "text": [
      "# writing subsets/living_9-079-000007.tar 6643 1.0 GB 46501\n"
     ]
    },
    {
     "name": "stderr",
     "output_type": "stream",
     "text": [
      "7365000\n",
      "7366000\n",
      "7367000\n",
      "7368000\n",
      "7369000\n",
      "7370000\n",
      "7371000\n"
     ]
    },
    {
     "name": "stdout",
     "output_type": "stream",
     "text": [
      "# writing subsets/living_9-079-000008.tar 6643 1.0 GB 53144\n"
     ]
    },
    {
     "name": "stderr",
     "output_type": "stream",
     "text": [
      "7372000\n",
      "7373000\n",
      "7374000\n",
      "7375000\n",
      "7376000\n",
      "7377000\n"
     ]
    },
    {
     "name": "stdout",
     "output_type": "stream",
     "text": [
      "# writing subsets/living_9-079-000009.tar 6643 1.0 GB 59787\n"
     ]
    },
    {
     "name": "stderr",
     "output_type": "stream",
     "text": [
      "7378000\n",
      "7379000\n",
      "7380000\n",
      "7381000\n",
      "7382000\n",
      "7383000\n",
      "7384000\n"
     ]
    },
    {
     "name": "stdout",
     "output_type": "stream",
     "text": [
      "# writing subsets/living_9-079-000010.tar 6643 1.0 GB 66430\n"
     ]
    },
    {
     "name": "stderr",
     "output_type": "stream",
     "text": [
      "7385000\n",
      "7386000\n",
      "7387000\n",
      "7388000\n",
      "7389000\n",
      "7390000\n",
      "7391000\n"
     ]
    },
    {
     "name": "stdout",
     "output_type": "stream",
     "text": [
      "# writing subsets/living_9-079-000011.tar 6643 1.0 GB 73073\n"
     ]
    },
    {
     "name": "stderr",
     "output_type": "stream",
     "text": [
      "7392000\n",
      "7393000\n",
      "7394000\n",
      "7395000\n",
      "7396000\n",
      "7397000\n"
     ]
    },
    {
     "name": "stdout",
     "output_type": "stream",
     "text": [
      "# writing subsets/living_9-079-000012.tar 6643 1.0 GB 79716\n"
     ]
    },
    {
     "name": "stderr",
     "output_type": "stream",
     "text": [
      "7398000\n",
      "7399000\n",
      "7400000\n",
      "7401000\n",
      "7402000\n",
      "7403000\n",
      "7404000\n"
     ]
    },
    {
     "name": "stdout",
     "output_type": "stream",
     "text": [
      "# writing subsets/living_9-079-000013.tar 6643 1.0 GB 86359\n"
     ]
    },
    {
     "name": "stderr",
     "output_type": "stream",
     "text": [
      "7405000\n",
      "7406000\n",
      "7407000\n",
      "7408000\n",
      "7409000\n",
      "7410000\n"
     ]
    },
    {
     "name": "stdout",
     "output_type": "stream",
     "text": [
      "# writing subsets/living_9-080-000000.tar 0 0.0 GB 0\n"
     ]
    },
    {
     "name": "stderr",
     "output_type": "stream",
     "text": [
      "7411000\n",
      "7412000\n",
      "7413000\n",
      "7414000\n",
      "7415000\n",
      "7416000\n",
      "7417000\n"
     ]
    },
    {
     "name": "stdout",
     "output_type": "stream",
     "text": [
      "# writing subsets/living_9-080-000001.tar 6643 1.0 GB 6643\n"
     ]
    },
    {
     "name": "stderr",
     "output_type": "stream",
     "text": [
      "7418000\n",
      "7419000\n",
      "7420000\n",
      "7421000\n",
      "7422000\n",
      "7423000\n"
     ]
    },
    {
     "name": "stdout",
     "output_type": "stream",
     "text": [
      "# writing subsets/living_9-080-000002.tar 6643 1.0 GB 13286\n"
     ]
    },
    {
     "name": "stderr",
     "output_type": "stream",
     "text": [
      "7424000\n",
      "7425000\n",
      "7426000\n",
      "7427000\n",
      "7428000\n",
      "7429000\n",
      "7430000\n"
     ]
    },
    {
     "name": "stdout",
     "output_type": "stream",
     "text": [
      "# writing subsets/living_9-080-000003.tar 6643 1.0 GB 19929\n"
     ]
    },
    {
     "name": "stderr",
     "output_type": "stream",
     "text": [
      "7431000\n",
      "7432000\n",
      "7433000\n",
      "7434000\n",
      "7435000\n",
      "7436000\n",
      "7437000\n"
     ]
    },
    {
     "name": "stdout",
     "output_type": "stream",
     "text": [
      "# writing subsets/living_9-080-000004.tar 6643 1.0 GB 26572\n"
     ]
    },
    {
     "name": "stderr",
     "output_type": "stream",
     "text": [
      "7438000\n",
      "7439000\n",
      "7440000\n",
      "7441000\n",
      "7442000\n",
      "7443000\n"
     ]
    },
    {
     "name": "stdout",
     "output_type": "stream",
     "text": [
      "# writing subsets/living_9-080-000005.tar 6643 1.0 GB 33215\n"
     ]
    },
    {
     "name": "stderr",
     "output_type": "stream",
     "text": [
      "7444000\n",
      "7445000\n",
      "7446000\n",
      "7447000\n",
      "7448000\n",
      "7449000\n",
      "7450000\n"
     ]
    },
    {
     "name": "stdout",
     "output_type": "stream",
     "text": [
      "# writing subsets/living_9-080-000006.tar 6643 1.0 GB 39858\n"
     ]
    },
    {
     "name": "stderr",
     "output_type": "stream",
     "text": [
      "7451000\n",
      "7452000\n",
      "7453000\n",
      "7454000\n",
      "7455000\n",
      "7456000\n",
      "7457000\n"
     ]
    },
    {
     "name": "stdout",
     "output_type": "stream",
     "text": [
      "# writing subsets/living_9-080-000007.tar 6643 1.0 GB 46501\n"
     ]
    },
    {
     "name": "stderr",
     "output_type": "stream",
     "text": [
      "7458000\n",
      "7459000\n",
      "7460000\n",
      "7461000\n",
      "7462000\n",
      "7463000\n"
     ]
    },
    {
     "name": "stdout",
     "output_type": "stream",
     "text": [
      "# writing subsets/living_9-080-000008.tar 6643 1.0 GB 53144\n"
     ]
    },
    {
     "name": "stderr",
     "output_type": "stream",
     "text": [
      "7464000\n",
      "7465000\n",
      "7466000\n",
      "7467000\n",
      "7468000\n",
      "7469000\n",
      "7470000\n"
     ]
    },
    {
     "name": "stdout",
     "output_type": "stream",
     "text": [
      "# writing subsets/living_9-080-000009.tar 6643 1.0 GB 59787\n"
     ]
    },
    {
     "name": "stderr",
     "output_type": "stream",
     "text": [
      "7471000\n",
      "7472000\n",
      "7473000\n",
      "7474000\n",
      "7475000\n",
      "7476000\n"
     ]
    },
    {
     "name": "stdout",
     "output_type": "stream",
     "text": [
      "# writing subsets/living_9-080-000010.tar 6643 1.0 GB 66430\n"
     ]
    },
    {
     "name": "stderr",
     "output_type": "stream",
     "text": [
      "7477000\n",
      "7478000\n",
      "7479000\n",
      "7480000\n",
      "7481000\n",
      "7482000\n",
      "7483000\n"
     ]
    },
    {
     "name": "stdout",
     "output_type": "stream",
     "text": [
      "# writing subsets/living_9-080-000011.tar 6643 1.0 GB 73073\n"
     ]
    },
    {
     "name": "stderr",
     "output_type": "stream",
     "text": [
      "7484000\n",
      "7485000\n",
      "7486000\n",
      "7487000\n",
      "7488000\n",
      "7489000\n",
      "7490000\n"
     ]
    },
    {
     "name": "stdout",
     "output_type": "stream",
     "text": [
      "# writing subsets/living_9-080-000012.tar 6643 1.0 GB 79716\n"
     ]
    },
    {
     "name": "stderr",
     "output_type": "stream",
     "text": [
      "7491000\n",
      "7492000\n",
      "7493000\n",
      "7494000\n",
      "7495000\n",
      "7496000\n"
     ]
    },
    {
     "name": "stdout",
     "output_type": "stream",
     "text": [
      "# writing subsets/living_9-080-000013.tar 6643 1.0 GB 86359\n"
     ]
    },
    {
     "name": "stderr",
     "output_type": "stream",
     "text": [
      "7497000\n",
      "7498000\n",
      "7499000\n",
      "7500000\n",
      "7501000\n",
      "7502000\n",
      "7503000\n"
     ]
    },
    {
     "name": "stdout",
     "output_type": "stream",
     "text": [
      "# writing subsets/living_9-081-000000.tar 0 0.0 GB 0\n"
     ]
    },
    {
     "name": "stderr",
     "output_type": "stream",
     "text": [
      "7504000\n",
      "7505000\n",
      "7506000\n",
      "7507000\n",
      "7508000\n",
      "7509000\n"
     ]
    },
    {
     "name": "stdout",
     "output_type": "stream",
     "text": [
      "# writing subsets/living_9-081-000001.tar 6643 1.0 GB 6643\n"
     ]
    },
    {
     "name": "stderr",
     "output_type": "stream",
     "text": [
      "7510000\n",
      "7511000\n",
      "7512000\n",
      "7513000\n",
      "7514000\n",
      "7515000\n",
      "7516000\n"
     ]
    },
    {
     "name": "stdout",
     "output_type": "stream",
     "text": [
      "# writing subsets/living_9-081-000002.tar 6643 1.0 GB 13286\n"
     ]
    },
    {
     "name": "stderr",
     "output_type": "stream",
     "text": [
      "7517000\n",
      "7518000\n",
      "7519000\n",
      "7520000\n",
      "7521000\n",
      "7522000\n",
      "7523000\n"
     ]
    },
    {
     "name": "stdout",
     "output_type": "stream",
     "text": [
      "# writing subsets/living_9-081-000003.tar 6643 1.0 GB 19929\n"
     ]
    },
    {
     "name": "stderr",
     "output_type": "stream",
     "text": [
      "7524000\n",
      "7525000\n",
      "7526000\n",
      "7527000\n",
      "7528000\n",
      "7529000\n"
     ]
    },
    {
     "name": "stdout",
     "output_type": "stream",
     "text": [
      "# writing subsets/living_9-081-000004.tar 6643 1.0 GB 26572\n"
     ]
    },
    {
     "name": "stderr",
     "output_type": "stream",
     "text": [
      "7530000\n",
      "7531000\n",
      "7532000\n",
      "7533000\n",
      "7534000\n",
      "7535000\n",
      "7536000\n"
     ]
    },
    {
     "name": "stdout",
     "output_type": "stream",
     "text": [
      "# writing subsets/living_9-081-000005.tar 6643 1.0 GB 33215\n"
     ]
    },
    {
     "name": "stderr",
     "output_type": "stream",
     "text": [
      "7537000\n",
      "7538000\n",
      "7539000\n",
      "7540000\n",
      "7541000\n",
      "7542000\n",
      "7543000\n"
     ]
    },
    {
     "name": "stdout",
     "output_type": "stream",
     "text": [
      "# writing subsets/living_9-081-000006.tar 6643 1.0 GB 39858\n"
     ]
    },
    {
     "name": "stderr",
     "output_type": "stream",
     "text": [
      "7544000\n",
      "7545000\n",
      "7546000\n",
      "7547000\n",
      "7548000\n",
      "7549000\n"
     ]
    },
    {
     "name": "stdout",
     "output_type": "stream",
     "text": [
      "# writing subsets/living_9-081-000007.tar 6643 1.0 GB 46501\n"
     ]
    },
    {
     "name": "stderr",
     "output_type": "stream",
     "text": [
      "7550000\n",
      "7551000\n",
      "7552000\n",
      "7553000\n",
      "7554000\n",
      "7555000\n",
      "7556000\n"
     ]
    },
    {
     "name": "stdout",
     "output_type": "stream",
     "text": [
      "# writing subsets/living_9-081-000008.tar 6643 1.0 GB 53144\n"
     ]
    },
    {
     "name": "stderr",
     "output_type": "stream",
     "text": [
      "7557000\n",
      "7558000\n",
      "7559000\n",
      "7560000\n",
      "7561000\n",
      "7562000\n"
     ]
    },
    {
     "name": "stdout",
     "output_type": "stream",
     "text": [
      "# writing subsets/living_9-081-000009.tar 6643 1.0 GB 59787\n"
     ]
    },
    {
     "name": "stderr",
     "output_type": "stream",
     "text": [
      "7563000\n",
      "7564000\n",
      "7565000\n",
      "7566000\n",
      "7567000\n",
      "7568000\n",
      "7569000\n"
     ]
    },
    {
     "name": "stdout",
     "output_type": "stream",
     "text": [
      "# writing subsets/living_9-081-000010.tar 6643 1.0 GB 66430\n"
     ]
    },
    {
     "name": "stderr",
     "output_type": "stream",
     "text": [
      "7570000\n",
      "7571000\n",
      "7572000\n",
      "7573000\n",
      "7574000\n",
      "7575000\n",
      "7576000\n"
     ]
    },
    {
     "name": "stdout",
     "output_type": "stream",
     "text": [
      "# writing subsets/living_9-081-000011.tar 6643 1.0 GB 73073\n"
     ]
    },
    {
     "name": "stderr",
     "output_type": "stream",
     "text": [
      "7577000\n",
      "7578000\n",
      "7579000\n",
      "7580000\n",
      "7581000\n",
      "7582000\n"
     ]
    },
    {
     "name": "stdout",
     "output_type": "stream",
     "text": [
      "# writing subsets/living_9-081-000012.tar 6643 1.0 GB 79716\n"
     ]
    },
    {
     "name": "stderr",
     "output_type": "stream",
     "text": [
      "7583000\n",
      "7584000\n",
      "7585000\n",
      "7586000\n",
      "7587000\n",
      "7588000\n",
      "7589000\n"
     ]
    },
    {
     "name": "stdout",
     "output_type": "stream",
     "text": [
      "# writing subsets/living_9-081-000013.tar 6643 1.0 GB 86359\n"
     ]
    },
    {
     "name": "stderr",
     "output_type": "stream",
     "text": [
      "7590000\n",
      "7591000\n",
      "7592000\n",
      "7593000\n",
      "7594000\n",
      "7595000\n"
     ]
    },
    {
     "name": "stdout",
     "output_type": "stream",
     "text": [
      "# writing subsets/living_9-082-000000.tar 0 0.0 GB 0\n"
     ]
    },
    {
     "name": "stderr",
     "output_type": "stream",
     "text": [
      "7596000\n",
      "7597000\n",
      "7598000\n",
      "7599000\n",
      "7600000\n",
      "7601000\n",
      "7602000\n"
     ]
    },
    {
     "name": "stdout",
     "output_type": "stream",
     "text": [
      "# writing subsets/living_9-082-000001.tar 6643 1.0 GB 6643\n"
     ]
    },
    {
     "name": "stderr",
     "output_type": "stream",
     "text": [
      "7603000\n",
      "7604000\n",
      "7605000\n",
      "7606000\n",
      "7607000\n",
      "7608000\n",
      "7609000\n"
     ]
    },
    {
     "name": "stdout",
     "output_type": "stream",
     "text": [
      "# writing subsets/living_9-082-000002.tar 6643 1.0 GB 13286\n"
     ]
    },
    {
     "name": "stderr",
     "output_type": "stream",
     "text": [
      "7610000\n",
      "7611000\n",
      "7612000\n",
      "7613000\n",
      "7614000\n",
      "7615000\n"
     ]
    },
    {
     "name": "stdout",
     "output_type": "stream",
     "text": [
      "# writing subsets/living_9-082-000003.tar 6643 1.0 GB 19929\n"
     ]
    },
    {
     "name": "stderr",
     "output_type": "stream",
     "text": [
      "7616000\n",
      "7617000\n",
      "7618000\n",
      "7619000\n",
      "7620000\n",
      "7621000\n",
      "7622000\n"
     ]
    },
    {
     "name": "stdout",
     "output_type": "stream",
     "text": [
      "# writing subsets/living_9-082-000004.tar 6643 1.0 GB 26572\n"
     ]
    },
    {
     "name": "stderr",
     "output_type": "stream",
     "text": [
      "7623000\n",
      "7624000\n",
      "7625000\n",
      "7626000\n",
      "7627000\n",
      "7628000\n",
      "7629000\n"
     ]
    },
    {
     "name": "stdout",
     "output_type": "stream",
     "text": [
      "# writing subsets/living_9-082-000005.tar 6643 1.0 GB 33215\n"
     ]
    },
    {
     "name": "stderr",
     "output_type": "stream",
     "text": [
      "7630000\n",
      "7631000\n",
      "7632000\n",
      "7633000\n",
      "7634000\n",
      "7635000\n"
     ]
    },
    {
     "name": "stdout",
     "output_type": "stream",
     "text": [
      "# writing subsets/living_9-082-000006.tar 6643 1.0 GB 39858\n"
     ]
    },
    {
     "name": "stderr",
     "output_type": "stream",
     "text": [
      "7636000\n",
      "7637000\n",
      "7638000\n",
      "7639000\n",
      "7640000\n",
      "7641000\n",
      "7642000\n"
     ]
    },
    {
     "name": "stdout",
     "output_type": "stream",
     "text": [
      "# writing subsets/living_9-082-000007.tar 6643 1.0 GB 46501\n"
     ]
    },
    {
     "name": "stderr",
     "output_type": "stream",
     "text": [
      "7643000\n",
      "7644000\n",
      "7645000\n",
      "7646000\n",
      "7647000\n",
      "7648000\n"
     ]
    },
    {
     "name": "stdout",
     "output_type": "stream",
     "text": [
      "# writing subsets/living_9-082-000008.tar 6643 1.0 GB 53144\n"
     ]
    },
    {
     "name": "stderr",
     "output_type": "stream",
     "text": [
      "7649000\n",
      "7650000\n",
      "7651000\n",
      "7652000\n",
      "7653000\n",
      "7654000\n",
      "7655000\n"
     ]
    },
    {
     "name": "stdout",
     "output_type": "stream",
     "text": [
      "# writing subsets/living_9-082-000009.tar 6643 1.0 GB 59787\n"
     ]
    },
    {
     "name": "stderr",
     "output_type": "stream",
     "text": [
      "7656000\n",
      "7657000\n",
      "7658000\n",
      "7659000\n",
      "7660000\n",
      "7661000\n",
      "7662000\n"
     ]
    },
    {
     "name": "stdout",
     "output_type": "stream",
     "text": [
      "# writing subsets/living_9-082-000010.tar 6643 1.0 GB 66430\n"
     ]
    },
    {
     "name": "stderr",
     "output_type": "stream",
     "text": [
      "7663000\n",
      "7664000\n",
      "7665000\n",
      "7666000\n",
      "7667000\n",
      "7668000\n"
     ]
    },
    {
     "name": "stdout",
     "output_type": "stream",
     "text": [
      "# writing subsets/living_9-082-000011.tar 6643 1.0 GB 73073\n"
     ]
    },
    {
     "name": "stderr",
     "output_type": "stream",
     "text": [
      "7669000\n",
      "7670000\n",
      "7671000\n",
      "7672000\n",
      "7673000\n",
      "7674000\n",
      "7675000\n"
     ]
    },
    {
     "name": "stdout",
     "output_type": "stream",
     "text": [
      "# writing subsets/living_9-082-000012.tar 6643 1.0 GB 79716\n"
     ]
    },
    {
     "name": "stderr",
     "output_type": "stream",
     "text": [
      "7676000\n",
      "7677000\n",
      "7678000\n",
      "7679000\n",
      "7680000\n",
      "7681000\n",
      "7682000\n"
     ]
    },
    {
     "name": "stdout",
     "output_type": "stream",
     "text": [
      "# writing subsets/living_9-082-000013.tar 6643 1.0 GB 86359\n"
     ]
    },
    {
     "name": "stderr",
     "output_type": "stream",
     "text": [
      "7683000\n",
      "7684000\n",
      "7685000\n",
      "7686000\n",
      "7687000\n",
      "7688000\n"
     ]
    },
    {
     "name": "stdout",
     "output_type": "stream",
     "text": [
      "# writing subsets/living_9-083-000000.tar 0 0.0 GB 0\n"
     ]
    },
    {
     "name": "stderr",
     "output_type": "stream",
     "text": [
      "7689000\n",
      "7690000\n",
      "7691000\n",
      "7692000\n",
      "7693000\n",
      "7694000\n",
      "7695000\n"
     ]
    },
    {
     "name": "stdout",
     "output_type": "stream",
     "text": [
      "# writing subsets/living_9-083-000001.tar 6643 1.0 GB 6643\n"
     ]
    },
    {
     "name": "stderr",
     "output_type": "stream",
     "text": [
      "7696000\n",
      "7697000\n",
      "7698000\n",
      "7699000\n",
      "7700000\n",
      "7701000\n"
     ]
    },
    {
     "name": "stdout",
     "output_type": "stream",
     "text": [
      "# writing subsets/living_9-083-000002.tar 6643 1.0 GB 13286\n"
     ]
    },
    {
     "name": "stderr",
     "output_type": "stream",
     "text": [
      "7702000\n",
      "7703000\n",
      "7704000\n",
      "7705000\n",
      "7706000\n",
      "7707000\n",
      "7708000\n"
     ]
    },
    {
     "name": "stdout",
     "output_type": "stream",
     "text": [
      "# writing subsets/living_9-083-000003.tar 6643 1.0 GB 19929\n"
     ]
    },
    {
     "name": "stderr",
     "output_type": "stream",
     "text": [
      "7709000\n",
      "7710000\n",
      "7711000\n",
      "7712000\n",
      "7713000\n",
      "7714000\n",
      "7715000\n"
     ]
    },
    {
     "name": "stdout",
     "output_type": "stream",
     "text": [
      "# writing subsets/living_9-083-000004.tar 6643 1.0 GB 26572\n"
     ]
    },
    {
     "name": "stderr",
     "output_type": "stream",
     "text": [
      "7716000\n",
      "7717000\n",
      "7718000\n",
      "7719000\n",
      "7720000\n",
      "7721000\n"
     ]
    },
    {
     "name": "stdout",
     "output_type": "stream",
     "text": [
      "# writing subsets/living_9-083-000005.tar 6643 1.0 GB 33215\n"
     ]
    },
    {
     "name": "stderr",
     "output_type": "stream",
     "text": [
      "7722000\n",
      "7723000\n",
      "7724000\n",
      "7725000\n",
      "7726000\n",
      "7727000\n",
      "7728000\n"
     ]
    },
    {
     "name": "stdout",
     "output_type": "stream",
     "text": [
      "# writing subsets/living_9-083-000006.tar 6643 1.0 GB 39858\n"
     ]
    },
    {
     "name": "stderr",
     "output_type": "stream",
     "text": [
      "7729000\n",
      "7730000\n",
      "7731000\n",
      "7732000\n",
      "7733000\n",
      "7734000\n"
     ]
    },
    {
     "name": "stdout",
     "output_type": "stream",
     "text": [
      "# writing subsets/living_9-083-000007.tar 6643 1.0 GB 46501\n"
     ]
    },
    {
     "name": "stderr",
     "output_type": "stream",
     "text": [
      "7735000\n",
      "7736000\n",
      "7737000\n",
      "7738000\n",
      "7739000\n",
      "7740000\n",
      "7741000\n"
     ]
    },
    {
     "name": "stdout",
     "output_type": "stream",
     "text": [
      "# writing subsets/living_9-083-000008.tar 6643 1.0 GB 53144\n"
     ]
    },
    {
     "name": "stderr",
     "output_type": "stream",
     "text": [
      "7742000\n",
      "7743000\n",
      "7744000\n",
      "7745000\n",
      "7746000\n",
      "7747000\n",
      "7748000\n"
     ]
    },
    {
     "name": "stdout",
     "output_type": "stream",
     "text": [
      "# writing subsets/living_9-083-000009.tar 6643 1.0 GB 59787\n"
     ]
    },
    {
     "name": "stderr",
     "output_type": "stream",
     "text": [
      "7749000\n",
      "7750000\n",
      "7751000\n",
      "7752000\n",
      "7753000\n",
      "7754000\n"
     ]
    },
    {
     "name": "stdout",
     "output_type": "stream",
     "text": [
      "# writing subsets/living_9-083-000010.tar 6643 1.0 GB 66430\n"
     ]
    },
    {
     "name": "stderr",
     "output_type": "stream",
     "text": [
      "7755000\n",
      "7756000\n",
      "7757000\n",
      "7758000\n",
      "7759000\n",
      "7760000\n",
      "7761000\n"
     ]
    },
    {
     "name": "stdout",
     "output_type": "stream",
     "text": [
      "# writing subsets/living_9-083-000011.tar 6643 1.0 GB 73073\n"
     ]
    },
    {
     "name": "stderr",
     "output_type": "stream",
     "text": [
      "7762000\n",
      "7763000\n",
      "7764000\n",
      "7765000\n",
      "7766000\n",
      "7767000\n",
      "7768000\n"
     ]
    },
    {
     "name": "stdout",
     "output_type": "stream",
     "text": [
      "# writing subsets/living_9-083-000012.tar 6643 1.0 GB 79716\n"
     ]
    },
    {
     "name": "stderr",
     "output_type": "stream",
     "text": [
      "7769000\n",
      "7770000\n",
      "7771000\n",
      "7772000\n",
      "7773000\n",
      "7774000\n"
     ]
    },
    {
     "name": "stdout",
     "output_type": "stream",
     "text": [
      "# writing subsets/living_9-083-000013.tar 6643 1.0 GB 86359\n"
     ]
    },
    {
     "name": "stderr",
     "output_type": "stream",
     "text": [
      "7775000\n",
      "7776000\n",
      "7777000\n",
      "7778000\n",
      "7779000\n",
      "7780000\n",
      "7781000\n"
     ]
    },
    {
     "name": "stdout",
     "output_type": "stream",
     "text": [
      "# writing subsets/living_9-084-000000.tar 0 0.0 GB 0\n"
     ]
    },
    {
     "name": "stderr",
     "output_type": "stream",
     "text": [
      "7782000\n",
      "7783000\n",
      "7784000\n",
      "7785000\n",
      "7786000\n",
      "7787000\n"
     ]
    },
    {
     "name": "stdout",
     "output_type": "stream",
     "text": [
      "# writing subsets/living_9-084-000001.tar 6643 1.0 GB 6643\n"
     ]
    },
    {
     "name": "stderr",
     "output_type": "stream",
     "text": [
      "7788000\n",
      "7789000\n",
      "7790000\n",
      "7791000\n",
      "7792000\n",
      "7793000\n",
      "7794000\n"
     ]
    },
    {
     "name": "stdout",
     "output_type": "stream",
     "text": [
      "# writing subsets/living_9-084-000002.tar 6643 1.0 GB 13286\n"
     ]
    },
    {
     "name": "stderr",
     "output_type": "stream",
     "text": [
      "7795000\n",
      "7796000\n",
      "7797000\n",
      "7798000\n",
      "7799000\n",
      "7800000\n",
      "7801000\n"
     ]
    },
    {
     "name": "stdout",
     "output_type": "stream",
     "text": [
      "# writing subsets/living_9-084-000003.tar 6643 1.0 GB 19929\n"
     ]
    },
    {
     "name": "stderr",
     "output_type": "stream",
     "text": [
      "7802000\n",
      "7803000\n",
      "7804000\n",
      "7805000\n",
      "7806000\n",
      "7807000\n"
     ]
    },
    {
     "name": "stdout",
     "output_type": "stream",
     "text": [
      "# writing subsets/living_9-084-000004.tar 6643 1.0 GB 26572\n"
     ]
    },
    {
     "name": "stderr",
     "output_type": "stream",
     "text": [
      "7808000\n",
      "7809000\n",
      "7810000\n",
      "7811000\n",
      "7812000\n",
      "7813000\n",
      "7814000\n"
     ]
    },
    {
     "name": "stdout",
     "output_type": "stream",
     "text": [
      "# writing subsets/living_9-084-000005.tar 6643 1.0 GB 33215\n"
     ]
    },
    {
     "name": "stderr",
     "output_type": "stream",
     "text": [
      "7815000\n",
      "7816000\n",
      "7817000\n",
      "7818000\n",
      "7819000\n",
      "7820000\n"
     ]
    },
    {
     "name": "stdout",
     "output_type": "stream",
     "text": [
      "# writing subsets/living_9-084-000006.tar 6643 1.0 GB 39858\n"
     ]
    },
    {
     "name": "stderr",
     "output_type": "stream",
     "text": [
      "7821000\n",
      "7822000\n",
      "7823000\n",
      "7824000\n",
      "7825000\n",
      "7826000\n",
      "7827000\n"
     ]
    },
    {
     "name": "stdout",
     "output_type": "stream",
     "text": [
      "# writing subsets/living_9-084-000007.tar 6643 1.0 GB 46501\n"
     ]
    },
    {
     "name": "stderr",
     "output_type": "stream",
     "text": [
      "7828000\n",
      "7829000\n",
      "7830000\n",
      "7831000\n",
      "7832000\n",
      "7833000\n",
      "7834000\n"
     ]
    },
    {
     "name": "stdout",
     "output_type": "stream",
     "text": [
      "# writing subsets/living_9-084-000008.tar 6643 1.0 GB 53144\n"
     ]
    },
    {
     "name": "stderr",
     "output_type": "stream",
     "text": [
      "7835000\n",
      "7836000\n",
      "7837000\n",
      "7838000\n",
      "7839000\n",
      "7840000\n"
     ]
    },
    {
     "name": "stdout",
     "output_type": "stream",
     "text": [
      "# writing subsets/living_9-084-000009.tar 6643 1.0 GB 59787\n"
     ]
    },
    {
     "name": "stderr",
     "output_type": "stream",
     "text": [
      "7841000\n",
      "7842000\n",
      "7843000\n",
      "7844000\n",
      "7845000\n",
      "7846000\n",
      "7847000\n"
     ]
    },
    {
     "name": "stdout",
     "output_type": "stream",
     "text": [
      "# writing subsets/living_9-084-000010.tar 6643 1.0 GB 66430\n"
     ]
    },
    {
     "name": "stderr",
     "output_type": "stream",
     "text": [
      "7848000\n",
      "7849000\n",
      "7850000\n",
      "7851000\n",
      "7852000\n",
      "7853000\n",
      "7854000\n"
     ]
    },
    {
     "name": "stdout",
     "output_type": "stream",
     "text": [
      "# writing subsets/living_9-084-000011.tar 6643 1.0 GB 73073\n"
     ]
    },
    {
     "name": "stderr",
     "output_type": "stream",
     "text": [
      "7855000\n",
      "7856000\n",
      "7857000\n",
      "7858000\n",
      "7859000\n",
      "7860000\n"
     ]
    },
    {
     "name": "stdout",
     "output_type": "stream",
     "text": [
      "# writing subsets/living_9-084-000012.tar 6643 1.0 GB 79716\n"
     ]
    },
    {
     "name": "stderr",
     "output_type": "stream",
     "text": [
      "7861000\n",
      "7862000\n",
      "7863000\n",
      "7864000\n",
      "7865000\n",
      "7866000\n",
      "7867000\n"
     ]
    },
    {
     "name": "stdout",
     "output_type": "stream",
     "text": [
      "# writing subsets/living_9-084-000013.tar 6643 1.0 GB 86359\n"
     ]
    },
    {
     "name": "stderr",
     "output_type": "stream",
     "text": [
      "7868000\n",
      "7869000\n",
      "7870000\n",
      "7871000\n",
      "7872000\n",
      "7873000\n"
     ]
    },
    {
     "name": "stdout",
     "output_type": "stream",
     "text": [
      "# writing subsets/living_9-085-000000.tar 0 0.0 GB 0\n"
     ]
    },
    {
     "name": "stderr",
     "output_type": "stream",
     "text": [
      "7874000\n",
      "7875000\n",
      "7876000\n",
      "7877000\n",
      "7878000\n",
      "7879000\n",
      "7880000\n"
     ]
    },
    {
     "name": "stdout",
     "output_type": "stream",
     "text": [
      "# writing subsets/living_9-085-000001.tar 6643 1.0 GB 6643\n"
     ]
    },
    {
     "name": "stderr",
     "output_type": "stream",
     "text": [
      "7881000\n",
      "7882000\n",
      "7883000\n",
      "7884000\n",
      "7885000\n",
      "7886000\n",
      "7887000\n"
     ]
    },
    {
     "name": "stdout",
     "output_type": "stream",
     "text": [
      "# writing subsets/living_9-085-000002.tar 6643 1.0 GB 13286\n"
     ]
    },
    {
     "name": "stderr",
     "output_type": "stream",
     "text": [
      "7888000\n",
      "7889000\n",
      "7890000\n",
      "7891000\n",
      "7892000\n",
      "7893000\n"
     ]
    },
    {
     "name": "stdout",
     "output_type": "stream",
     "text": [
      "# writing subsets/living_9-085-000003.tar 6643 1.0 GB 19929\n"
     ]
    },
    {
     "name": "stderr",
     "output_type": "stream",
     "text": [
      "7894000\n",
      "7895000\n",
      "7896000\n",
      "7897000\n",
      "7898000\n",
      "7899000\n",
      "7900000\n"
     ]
    },
    {
     "name": "stdout",
     "output_type": "stream",
     "text": [
      "# writing subsets/living_9-085-000004.tar 6643 1.0 GB 26572\n"
     ]
    },
    {
     "name": "stderr",
     "output_type": "stream",
     "text": [
      "7901000\n",
      "7902000\n",
      "7903000\n",
      "7904000\n",
      "7905000\n",
      "7906000\n"
     ]
    },
    {
     "name": "stdout",
     "output_type": "stream",
     "text": [
      "# writing subsets/living_9-085-000005.tar 6643 1.0 GB 33215\n"
     ]
    },
    {
     "name": "stderr",
     "output_type": "stream",
     "text": [
      "7907000\n",
      "7908000\n",
      "7909000\n",
      "7910000\n",
      "7911000\n",
      "7912000\n",
      "7913000\n"
     ]
    },
    {
     "name": "stdout",
     "output_type": "stream",
     "text": [
      "# writing subsets/living_9-085-000006.tar 6643 1.0 GB 39858\n"
     ]
    },
    {
     "name": "stderr",
     "output_type": "stream",
     "text": [
      "7914000\n",
      "7915000\n",
      "7916000\n",
      "7917000\n",
      "7918000\n",
      "7919000\n",
      "7920000\n"
     ]
    },
    {
     "name": "stdout",
     "output_type": "stream",
     "text": [
      "# writing subsets/living_9-085-000007.tar 6643 1.0 GB 46501\n"
     ]
    },
    {
     "name": "stderr",
     "output_type": "stream",
     "text": [
      "7921000\n",
      "7922000\n",
      "7923000\n",
      "7924000\n",
      "7925000\n",
      "7926000\n"
     ]
    },
    {
     "name": "stdout",
     "output_type": "stream",
     "text": [
      "# writing subsets/living_9-085-000008.tar 6643 1.0 GB 53144\n"
     ]
    },
    {
     "name": "stderr",
     "output_type": "stream",
     "text": [
      "7927000\n",
      "7928000\n",
      "7929000\n",
      "7930000\n",
      "7931000\n",
      "7932000\n",
      "7933000\n"
     ]
    },
    {
     "name": "stdout",
     "output_type": "stream",
     "text": [
      "# writing subsets/living_9-085-000009.tar 6643 1.0 GB 59787\n"
     ]
    },
    {
     "name": "stderr",
     "output_type": "stream",
     "text": [
      "7934000\n",
      "7935000\n",
      "7936000\n",
      "7937000\n",
      "7938000\n",
      "7939000\n",
      "7940000\n"
     ]
    },
    {
     "name": "stdout",
     "output_type": "stream",
     "text": [
      "# writing subsets/living_9-085-000010.tar 6643 1.0 GB 66430\n"
     ]
    },
    {
     "name": "stderr",
     "output_type": "stream",
     "text": [
      "7941000\n",
      "7942000\n",
      "7943000\n",
      "7944000\n",
      "7945000\n",
      "7946000\n"
     ]
    },
    {
     "name": "stdout",
     "output_type": "stream",
     "text": [
      "# writing subsets/living_9-085-000011.tar 6643 1.0 GB 73073\n"
     ]
    },
    {
     "name": "stderr",
     "output_type": "stream",
     "text": [
      "7947000\n",
      "7948000\n",
      "7949000\n",
      "7950000\n",
      "7951000\n",
      "7952000\n",
      "7953000\n"
     ]
    },
    {
     "name": "stdout",
     "output_type": "stream",
     "text": [
      "# writing subsets/living_9-085-000012.tar 6643 1.0 GB 79716\n"
     ]
    },
    {
     "name": "stderr",
     "output_type": "stream",
     "text": [
      "7954000\n",
      "7955000\n",
      "7956000\n",
      "7957000\n",
      "7958000\n",
      "7959000\n",
      "7960000\n"
     ]
    },
    {
     "name": "stdout",
     "output_type": "stream",
     "text": [
      "# writing subsets/living_9-085-000013.tar 6643 1.0 GB 86359\n"
     ]
    },
    {
     "name": "stderr",
     "output_type": "stream",
     "text": [
      "7961000\n",
      "7962000\n",
      "7963000\n",
      "7964000\n",
      "7965000\n",
      "7966000\n"
     ]
    },
    {
     "name": "stdout",
     "output_type": "stream",
     "text": [
      "# writing subsets/living_9-086-000000.tar 0 0.0 GB 0\n"
     ]
    },
    {
     "name": "stderr",
     "output_type": "stream",
     "text": [
      "7967000\n",
      "7968000\n",
      "7969000\n",
      "7970000\n",
      "7971000\n",
      "7972000\n"
     ]
    },
    {
     "name": "stdout",
     "output_type": "stream",
     "text": [
      "# writing subsets/living_9-086-000001.tar 6643 1.0 GB 6643\n"
     ]
    },
    {
     "name": "stderr",
     "output_type": "stream",
     "text": [
      "7973000\n",
      "7974000\n",
      "7975000\n",
      "7976000\n",
      "7977000\n",
      "7978000\n",
      "7979000\n"
     ]
    },
    {
     "name": "stdout",
     "output_type": "stream",
     "text": [
      "# writing subsets/living_9-086-000002.tar 6643 1.0 GB 13286\n"
     ]
    },
    {
     "name": "stderr",
     "output_type": "stream",
     "text": [
      "7980000\n",
      "7981000\n",
      "7982000\n",
      "7983000\n",
      "7984000\n",
      "7985000\n",
      "7986000\n"
     ]
    },
    {
     "name": "stdout",
     "output_type": "stream",
     "text": [
      "# writing subsets/living_9-086-000003.tar 6643 1.0 GB 19929\n"
     ]
    },
    {
     "name": "stderr",
     "output_type": "stream",
     "text": [
      "7987000\n",
      "7988000\n",
      "7989000\n",
      "7990000\n",
      "7991000\n",
      "7992000\n"
     ]
    },
    {
     "name": "stdout",
     "output_type": "stream",
     "text": [
      "# writing subsets/living_9-086-000004.tar 6643 1.0 GB 26572\n"
     ]
    },
    {
     "name": "stderr",
     "output_type": "stream",
     "text": [
      "7993000\n",
      "7994000\n",
      "7995000\n",
      "7996000\n",
      "7997000\n",
      "7998000\n",
      "7999000\n"
     ]
    },
    {
     "name": "stdout",
     "output_type": "stream",
     "text": [
      "# writing subsets/living_9-086-000005.tar 6643 1.0 GB 33215\n"
     ]
    },
    {
     "name": "stderr",
     "output_type": "stream",
     "text": [
      "8000000\n",
      "8001000\n",
      "8002000\n",
      "8003000\n",
      "8004000\n",
      "8005000\n",
      "8006000\n"
     ]
    },
    {
     "name": "stdout",
     "output_type": "stream",
     "text": [
      "# writing subsets/living_9-086-000006.tar 6643 1.0 GB 39858\n"
     ]
    },
    {
     "name": "stderr",
     "output_type": "stream",
     "text": [
      "8007000\n",
      "8008000\n",
      "8009000\n",
      "8010000\n",
      "8011000\n",
      "8012000\n"
     ]
    },
    {
     "name": "stdout",
     "output_type": "stream",
     "text": [
      "# writing subsets/living_9-086-000007.tar 6643 1.0 GB 46501\n"
     ]
    },
    {
     "name": "stderr",
     "output_type": "stream",
     "text": [
      "8013000\n",
      "8014000\n",
      "8015000\n",
      "8016000\n",
      "8017000\n",
      "8018000\n",
      "8019000\n"
     ]
    },
    {
     "name": "stdout",
     "output_type": "stream",
     "text": [
      "# writing subsets/living_9-086-000008.tar 6643 1.0 GB 53144\n"
     ]
    },
    {
     "name": "stderr",
     "output_type": "stream",
     "text": [
      "8020000\n",
      "8021000\n",
      "8022000\n",
      "8023000\n",
      "8024000\n",
      "8025000\n",
      "8026000\n"
     ]
    },
    {
     "name": "stdout",
     "output_type": "stream",
     "text": [
      "# writing subsets/living_9-086-000009.tar 6643 1.0 GB 59787\n"
     ]
    },
    {
     "name": "stderr",
     "output_type": "stream",
     "text": [
      "8027000\n",
      "8028000\n",
      "8029000\n",
      "8030000\n",
      "8031000\n",
      "8032000\n"
     ]
    },
    {
     "name": "stdout",
     "output_type": "stream",
     "text": [
      "# writing subsets/living_9-086-000010.tar 6643 1.0 GB 66430\n"
     ]
    },
    {
     "name": "stderr",
     "output_type": "stream",
     "text": [
      "8033000\n",
      "8034000\n",
      "8035000\n",
      "8036000\n",
      "8037000\n",
      "8038000\n",
      "8039000\n"
     ]
    },
    {
     "name": "stdout",
     "output_type": "stream",
     "text": [
      "# writing subsets/living_9-086-000011.tar 6643 1.0 GB 73073\n"
     ]
    },
    {
     "name": "stderr",
     "output_type": "stream",
     "text": [
      "8040000\n",
      "8041000\n",
      "8042000\n",
      "8043000\n",
      "8044000\n",
      "8045000\n",
      "8046000\n"
     ]
    },
    {
     "name": "stdout",
     "output_type": "stream",
     "text": [
      "# writing subsets/living_9-086-000012.tar 6643 1.0 GB 79716\n"
     ]
    },
    {
     "name": "stderr",
     "output_type": "stream",
     "text": [
      "8047000\n",
      "8048000\n",
      "8049000\n",
      "8050000\n",
      "8051000\n",
      "8052000\n"
     ]
    },
    {
     "name": "stdout",
     "output_type": "stream",
     "text": [
      "# writing subsets/living_9-086-000013.tar 6643 1.0 GB 86359\n"
     ]
    },
    {
     "name": "stderr",
     "output_type": "stream",
     "text": [
      "8053000\n",
      "8054000\n",
      "8055000\n",
      "8056000\n",
      "8057000\n",
      "8058000\n"
     ]
    },
    {
     "name": "stdout",
     "output_type": "stream",
     "text": [
      "# writing subsets/living_9-087-000000.tar 0 0.0 GB 0\n"
     ]
    },
    {
     "name": "stderr",
     "output_type": "stream",
     "text": [
      "8059000\n",
      "8060000\n",
      "8061000\n",
      "8062000\n",
      "8063000\n",
      "8064000\n",
      "8065000\n"
     ]
    },
    {
     "name": "stdout",
     "output_type": "stream",
     "text": [
      "# writing subsets/living_9-087-000001.tar 6643 1.0 GB 6643\n"
     ]
    },
    {
     "name": "stderr",
     "output_type": "stream",
     "text": [
      "8066000\n",
      "8067000\n",
      "8068000\n",
      "8069000\n",
      "8070000\n",
      "8071000\n",
      "8072000\n"
     ]
    },
    {
     "name": "stdout",
     "output_type": "stream",
     "text": [
      "# writing subsets/living_9-087-000002.tar 6643 1.0 GB 13286\n"
     ]
    },
    {
     "name": "stderr",
     "output_type": "stream",
     "text": [
      "8073000\n",
      "8074000\n",
      "8075000\n",
      "8076000\n",
      "8077000\n",
      "8078000\n"
     ]
    },
    {
     "name": "stdout",
     "output_type": "stream",
     "text": [
      "# writing subsets/living_9-087-000003.tar 6643 1.0 GB 19929\n"
     ]
    },
    {
     "name": "stderr",
     "output_type": "stream",
     "text": [
      "8079000\n",
      "8080000\n",
      "8081000\n",
      "8082000\n",
      "8083000\n",
      "8084000\n",
      "8085000\n"
     ]
    },
    {
     "name": "stdout",
     "output_type": "stream",
     "text": [
      "# writing subsets/living_9-087-000004.tar 6643 1.0 GB 26572\n"
     ]
    },
    {
     "name": "stderr",
     "output_type": "stream",
     "text": [
      "8086000\n",
      "8087000\n",
      "8088000\n",
      "8089000\n",
      "8090000\n",
      "8091000\n",
      "8092000\n"
     ]
    },
    {
     "name": "stdout",
     "output_type": "stream",
     "text": [
      "# writing subsets/living_9-087-000005.tar 6643 1.0 GB 33215\n"
     ]
    },
    {
     "name": "stderr",
     "output_type": "stream",
     "text": [
      "8093000\n",
      "8094000\n",
      "8095000\n",
      "8096000\n",
      "8097000\n",
      "8098000\n"
     ]
    },
    {
     "name": "stdout",
     "output_type": "stream",
     "text": [
      "# writing subsets/living_9-087-000006.tar 6643 1.0 GB 39858\n"
     ]
    },
    {
     "name": "stderr",
     "output_type": "stream",
     "text": [
      "8099000\n",
      "8100000\n",
      "8101000\n",
      "8102000\n",
      "8103000\n",
      "8104000\n",
      "8105000\n"
     ]
    },
    {
     "name": "stdout",
     "output_type": "stream",
     "text": [
      "# writing subsets/living_9-087-000007.tar 6643 1.0 GB 46501\n"
     ]
    },
    {
     "name": "stderr",
     "output_type": "stream",
     "text": [
      "8106000\n",
      "8107000\n",
      "8108000\n",
      "8109000\n",
      "8110000\n",
      "8111000\n",
      "8112000\n"
     ]
    },
    {
     "name": "stdout",
     "output_type": "stream",
     "text": [
      "# writing subsets/living_9-087-000008.tar 6643 1.0 GB 53144\n"
     ]
    },
    {
     "name": "stderr",
     "output_type": "stream",
     "text": [
      "8113000\n",
      "8114000\n",
      "8115000\n",
      "8116000\n",
      "8117000\n",
      "8118000\n"
     ]
    },
    {
     "name": "stdout",
     "output_type": "stream",
     "text": [
      "# writing subsets/living_9-087-000009.tar 6643 1.0 GB 59787\n"
     ]
    },
    {
     "name": "stderr",
     "output_type": "stream",
     "text": [
      "8119000\n",
      "8120000\n",
      "8121000\n",
      "8122000\n",
      "8123000\n",
      "8124000\n",
      "8125000\n"
     ]
    },
    {
     "name": "stdout",
     "output_type": "stream",
     "text": [
      "# writing subsets/living_9-087-000010.tar 6643 1.0 GB 66430\n"
     ]
    },
    {
     "name": "stderr",
     "output_type": "stream",
     "text": [
      "8126000\n",
      "8127000\n",
      "8128000\n",
      "8129000\n",
      "8130000\n",
      "8131000\n",
      "8132000\n"
     ]
    },
    {
     "name": "stdout",
     "output_type": "stream",
     "text": [
      "# writing subsets/living_9-087-000011.tar 6643 1.0 GB 73073\n"
     ]
    },
    {
     "name": "stderr",
     "output_type": "stream",
     "text": [
      "8133000\n",
      "8134000\n",
      "8135000\n",
      "8136000\n",
      "8137000\n",
      "8138000\n"
     ]
    },
    {
     "name": "stdout",
     "output_type": "stream",
     "text": [
      "# writing subsets/living_9-087-000012.tar 6643 1.0 GB 79716\n"
     ]
    },
    {
     "name": "stderr",
     "output_type": "stream",
     "text": [
      "8139000\n",
      "8140000\n",
      "8141000\n",
      "8142000\n",
      "8143000\n",
      "8144000\n",
      "8145000\n"
     ]
    },
    {
     "name": "stdout",
     "output_type": "stream",
     "text": [
      "# writing subsets/living_9-087-000013.tar 6643 1.0 GB 86359\n"
     ]
    },
    {
     "name": "stderr",
     "output_type": "stream",
     "text": [
      "8146000\n",
      "8147000\n",
      "8148000\n",
      "8149000\n",
      "8150000\n",
      "8151000\n"
     ]
    },
    {
     "name": "stdout",
     "output_type": "stream",
     "text": [
      "# writing subsets/living_9-088-000000.tar 0 0.0 GB 0\n"
     ]
    },
    {
     "name": "stderr",
     "output_type": "stream",
     "text": [
      "8152000\n",
      "8153000\n",
      "8154000\n",
      "8155000\n",
      "8156000\n",
      "8157000\n",
      "8158000\n"
     ]
    },
    {
     "name": "stdout",
     "output_type": "stream",
     "text": [
      "# writing subsets/living_9-088-000001.tar 6643 1.0 GB 6643\n"
     ]
    },
    {
     "name": "stderr",
     "output_type": "stream",
     "text": [
      "8159000\n",
      "8160000\n",
      "8161000\n",
      "8162000\n",
      "8163000\n",
      "8164000\n"
     ]
    },
    {
     "name": "stdout",
     "output_type": "stream",
     "text": [
      "# writing subsets/living_9-088-000002.tar 6643 1.0 GB 13286\n"
     ]
    },
    {
     "name": "stderr",
     "output_type": "stream",
     "text": [
      "8165000\n",
      "8166000\n",
      "8167000\n",
      "8168000\n",
      "8169000\n",
      "8170000\n",
      "8171000\n"
     ]
    },
    {
     "name": "stdout",
     "output_type": "stream",
     "text": [
      "# writing subsets/living_9-088-000003.tar 6643 1.0 GB 19929\n"
     ]
    },
    {
     "name": "stderr",
     "output_type": "stream",
     "text": [
      "8172000\n",
      "8173000\n",
      "8174000\n",
      "8175000\n",
      "8176000\n",
      "8177000\n",
      "8178000\n"
     ]
    },
    {
     "name": "stdout",
     "output_type": "stream",
     "text": [
      "# writing subsets/living_9-088-000004.tar 6643 1.0 GB 26572\n"
     ]
    },
    {
     "name": "stderr",
     "output_type": "stream",
     "text": [
      "8179000\n",
      "8180000\n",
      "8181000\n",
      "8182000\n",
      "8183000\n",
      "8184000\n"
     ]
    },
    {
     "name": "stdout",
     "output_type": "stream",
     "text": [
      "# writing subsets/living_9-088-000005.tar 6643 1.0 GB 33215\n"
     ]
    },
    {
     "name": "stderr",
     "output_type": "stream",
     "text": [
      "8185000\n",
      "8186000\n",
      "8187000\n",
      "8188000\n",
      "8189000\n",
      "8190000\n",
      "8191000\n"
     ]
    },
    {
     "name": "stdout",
     "output_type": "stream",
     "text": [
      "# writing subsets/living_9-088-000006.tar 6643 1.0 GB 39858\n"
     ]
    },
    {
     "name": "stderr",
     "output_type": "stream",
     "text": [
      "8192000\n",
      "8193000\n",
      "8194000\n",
      "8195000\n",
      "8196000\n",
      "8197000\n",
      "8198000\n"
     ]
    },
    {
     "name": "stdout",
     "output_type": "stream",
     "text": [
      "# writing subsets/living_9-088-000007.tar 6643 1.0 GB 46501\n"
     ]
    },
    {
     "name": "stderr",
     "output_type": "stream",
     "text": [
      "8199000\n",
      "8200000\n",
      "8201000\n",
      "8202000\n",
      "8203000\n",
      "8204000\n"
     ]
    },
    {
     "name": "stdout",
     "output_type": "stream",
     "text": [
      "# writing subsets/living_9-088-000008.tar 6643 1.0 GB 53144\n"
     ]
    },
    {
     "name": "stderr",
     "output_type": "stream",
     "text": [
      "8205000\n",
      "8206000\n",
      "8207000\n",
      "8208000\n",
      "8209000\n",
      "8210000\n",
      "8211000\n"
     ]
    },
    {
     "name": "stdout",
     "output_type": "stream",
     "text": [
      "# writing subsets/living_9-088-000009.tar 6643 1.0 GB 59787\n"
     ]
    },
    {
     "name": "stderr",
     "output_type": "stream",
     "text": [
      "8212000\n",
      "8213000\n",
      "8214000\n",
      "8215000\n",
      "8216000\n",
      "8217000\n",
      "8218000\n"
     ]
    },
    {
     "name": "stdout",
     "output_type": "stream",
     "text": [
      "# writing subsets/living_9-088-000010.tar 6643 1.0 GB 66430\n"
     ]
    },
    {
     "name": "stderr",
     "output_type": "stream",
     "text": [
      "8219000\n",
      "8220000\n",
      "8221000\n",
      "8222000\n",
      "8223000\n",
      "8224000\n"
     ]
    },
    {
     "name": "stdout",
     "output_type": "stream",
     "text": [
      "# writing subsets/living_9-088-000011.tar 6643 1.0 GB 73073\n"
     ]
    },
    {
     "name": "stderr",
     "output_type": "stream",
     "text": [
      "8225000\n",
      "8226000\n",
      "8227000\n",
      "8228000\n",
      "8229000\n",
      "8230000\n",
      "8231000\n"
     ]
    },
    {
     "name": "stdout",
     "output_type": "stream",
     "text": [
      "# writing subsets/living_9-088-000012.tar 6643 1.0 GB 79716\n"
     ]
    },
    {
     "name": "stderr",
     "output_type": "stream",
     "text": [
      "8232000\n",
      "8233000\n",
      "8234000\n",
      "8235000\n",
      "8236000\n",
      "8237000\n"
     ]
    },
    {
     "name": "stdout",
     "output_type": "stream",
     "text": [
      "# writing subsets/living_9-088-000013.tar 6643 1.0 GB 86359\n"
     ]
    },
    {
     "name": "stderr",
     "output_type": "stream",
     "text": [
      "8238000\n",
      "8239000\n",
      "8240000\n",
      "8241000\n",
      "8242000\n",
      "8243000\n",
      "8244000\n"
     ]
    },
    {
     "name": "stdout",
     "output_type": "stream",
     "text": [
      "# writing subsets/living_9-089-000000.tar 0 0.0 GB 0\n"
     ]
    },
    {
     "name": "stderr",
     "output_type": "stream",
     "text": [
      "8245000\n",
      "8246000\n",
      "8247000\n",
      "8248000\n",
      "8249000\n",
      "8250000\n"
     ]
    },
    {
     "name": "stdout",
     "output_type": "stream",
     "text": [
      "# writing subsets/living_9-089-000001.tar 6643 1.0 GB 6643\n"
     ]
    },
    {
     "name": "stderr",
     "output_type": "stream",
     "text": [
      "8251000\n",
      "8252000\n",
      "8253000\n",
      "8254000\n",
      "8255000\n",
      "8256000\n",
      "8257000\n"
     ]
    },
    {
     "name": "stdout",
     "output_type": "stream",
     "text": [
      "# writing subsets/living_9-089-000002.tar 6643 1.0 GB 13286\n"
     ]
    },
    {
     "name": "stderr",
     "output_type": "stream",
     "text": [
      "8258000\n",
      "8259000\n",
      "8260000\n",
      "8261000\n",
      "8262000\n",
      "8263000\n",
      "8264000\n"
     ]
    },
    {
     "name": "stdout",
     "output_type": "stream",
     "text": [
      "# writing subsets/living_9-089-000003.tar 6643 1.0 GB 19929\n"
     ]
    },
    {
     "name": "stderr",
     "output_type": "stream",
     "text": [
      "8265000\n",
      "8266000\n",
      "8267000\n",
      "8268000\n",
      "8269000\n",
      "8270000\n"
     ]
    },
    {
     "name": "stdout",
     "output_type": "stream",
     "text": [
      "# writing subsets/living_9-089-000004.tar 6643 1.0 GB 26572\n"
     ]
    },
    {
     "name": "stderr",
     "output_type": "stream",
     "text": [
      "8271000\n",
      "8272000\n",
      "8273000\n",
      "8274000\n",
      "8275000\n",
      "8276000\n",
      "8277000\n"
     ]
    },
    {
     "name": "stdout",
     "output_type": "stream",
     "text": [
      "# writing subsets/living_9-089-000005.tar 6643 1.0 GB 33215\n"
     ]
    },
    {
     "name": "stderr",
     "output_type": "stream",
     "text": [
      "8278000\n",
      "8279000\n",
      "8280000\n",
      "8281000\n",
      "8282000\n",
      "8283000\n",
      "8284000\n"
     ]
    },
    {
     "name": "stdout",
     "output_type": "stream",
     "text": [
      "# writing subsets/living_9-089-000006.tar 6643 1.0 GB 39858\n"
     ]
    },
    {
     "name": "stderr",
     "output_type": "stream",
     "text": [
      "8285000\n",
      "8286000\n",
      "8287000\n",
      "8288000\n",
      "8289000\n",
      "8290000\n"
     ]
    },
    {
     "name": "stdout",
     "output_type": "stream",
     "text": [
      "# writing subsets/living_9-089-000007.tar 6643 1.0 GB 46501\n"
     ]
    },
    {
     "name": "stderr",
     "output_type": "stream",
     "text": [
      "8291000\n",
      "8292000\n",
      "8293000\n",
      "8294000\n",
      "8295000\n",
      "8296000\n",
      "8297000\n"
     ]
    },
    {
     "name": "stdout",
     "output_type": "stream",
     "text": [
      "# writing subsets/living_9-089-000008.tar 6643 1.0 GB 53144\n"
     ]
    },
    {
     "name": "stderr",
     "output_type": "stream",
     "text": [
      "8298000\n",
      "8299000\n",
      "8300000\n",
      "8301000\n",
      "8302000\n",
      "8303000\n",
      "8304000\n"
     ]
    },
    {
     "name": "stdout",
     "output_type": "stream",
     "text": [
      "# writing subsets/living_9-089-000009.tar 6643 1.0 GB 59787\n"
     ]
    },
    {
     "name": "stderr",
     "output_type": "stream",
     "text": [
      "8305000\n",
      "8306000\n",
      "8307000\n",
      "8308000\n",
      "8309000\n",
      "8310000\n"
     ]
    },
    {
     "name": "stdout",
     "output_type": "stream",
     "text": [
      "# writing subsets/living_9-089-000010.tar 6643 1.0 GB 66430\n"
     ]
    },
    {
     "name": "stderr",
     "output_type": "stream",
     "text": [
      "8311000\n",
      "8312000\n",
      "8313000\n",
      "8314000\n",
      "8315000\n",
      "8316000\n",
      "8317000\n"
     ]
    },
    {
     "name": "stdout",
     "output_type": "stream",
     "text": [
      "# writing subsets/living_9-089-000011.tar 6643 1.0 GB 73073\n"
     ]
    },
    {
     "name": "stderr",
     "output_type": "stream",
     "text": [
      "8318000\n",
      "8319000\n",
      "8320000\n",
      "8321000\n",
      "8322000\n",
      "8323000\n"
     ]
    },
    {
     "name": "stdout",
     "output_type": "stream",
     "text": [
      "# writing subsets/living_9-089-000012.tar 6643 1.0 GB 79716\n"
     ]
    },
    {
     "name": "stderr",
     "output_type": "stream",
     "text": [
      "8324000\n",
      "8325000\n",
      "8326000\n",
      "8327000\n",
      "8328000\n",
      "8329000\n",
      "8330000\n"
     ]
    },
    {
     "name": "stdout",
     "output_type": "stream",
     "text": [
      "# writing subsets/living_9-089-000013.tar 6643 1.0 GB 86359\n"
     ]
    },
    {
     "name": "stderr",
     "output_type": "stream",
     "text": [
      "8331000\n",
      "8332000\n",
      "8333000\n",
      "8334000\n",
      "8335000\n",
      "8336000\n"
     ]
    },
    {
     "name": "stdout",
     "output_type": "stream",
     "text": [
      "# writing subsets/living_9-090-000000.tar 0 0.0 GB 0\n"
     ]
    },
    {
     "name": "stderr",
     "output_type": "stream",
     "text": [
      "8337000\n",
      "8338000\n",
      "8339000\n",
      "8340000\n",
      "8341000\n",
      "8342000\n",
      "8343000\n"
     ]
    },
    {
     "name": "stdout",
     "output_type": "stream",
     "text": [
      "# writing subsets/living_9-090-000001.tar 6643 1.0 GB 6643\n"
     ]
    },
    {
     "name": "stderr",
     "output_type": "stream",
     "text": [
      "8344000\n",
      "8345000\n",
      "8346000\n",
      "8347000\n",
      "8348000\n",
      "8349000\n",
      "8350000\n"
     ]
    },
    {
     "name": "stdout",
     "output_type": "stream",
     "text": [
      "# writing subsets/living_9-090-000002.tar 6643 1.0 GB 13286\n"
     ]
    },
    {
     "name": "stderr",
     "output_type": "stream",
     "text": [
      "8351000\n",
      "8352000\n",
      "8353000\n",
      "8354000\n",
      "8355000\n",
      "8356000\n"
     ]
    },
    {
     "name": "stdout",
     "output_type": "stream",
     "text": [
      "# writing subsets/living_9-090-000003.tar 6643 1.0 GB 19929\n"
     ]
    },
    {
     "name": "stderr",
     "output_type": "stream",
     "text": [
      "8357000\n",
      "8358000\n",
      "8359000\n",
      "8360000\n",
      "8361000\n",
      "8362000\n",
      "8363000\n"
     ]
    },
    {
     "name": "stdout",
     "output_type": "stream",
     "text": [
      "# writing subsets/living_9-090-000004.tar 6643 1.0 GB 26572\n"
     ]
    },
    {
     "name": "stderr",
     "output_type": "stream",
     "text": [
      "8364000\n",
      "8365000\n",
      "8366000\n",
      "8367000\n",
      "8368000\n",
      "8369000\n",
      "8370000\n"
     ]
    },
    {
     "name": "stdout",
     "output_type": "stream",
     "text": [
      "# writing subsets/living_9-090-000005.tar 6643 1.0 GB 33215\n"
     ]
    },
    {
     "name": "stderr",
     "output_type": "stream",
     "text": [
      "8371000\n",
      "8372000\n",
      "8373000\n",
      "8374000\n",
      "8375000\n",
      "8376000\n"
     ]
    },
    {
     "name": "stdout",
     "output_type": "stream",
     "text": [
      "# writing subsets/living_9-090-000006.tar 6643 1.0 GB 39858\n"
     ]
    },
    {
     "name": "stderr",
     "output_type": "stream",
     "text": [
      "8377000\n",
      "8378000\n",
      "8379000\n",
      "8380000\n",
      "8381000\n",
      "8382000\n",
      "8383000\n"
     ]
    },
    {
     "name": "stdout",
     "output_type": "stream",
     "text": [
      "# writing subsets/living_9-090-000007.tar 6643 1.0 GB 46501\n"
     ]
    },
    {
     "name": "stderr",
     "output_type": "stream",
     "text": [
      "8384000\n",
      "8385000\n",
      "8386000\n",
      "8387000\n",
      "8388000\n",
      "8389000\n",
      "8390000\n"
     ]
    },
    {
     "name": "stdout",
     "output_type": "stream",
     "text": [
      "# writing subsets/living_9-090-000008.tar 6643 1.0 GB 53144\n"
     ]
    },
    {
     "name": "stderr",
     "output_type": "stream",
     "text": [
      "8391000\n",
      "8392000\n",
      "8393000\n",
      "8394000\n",
      "8395000\n",
      "8396000\n"
     ]
    },
    {
     "name": "stdout",
     "output_type": "stream",
     "text": [
      "# writing subsets/living_9-090-000009.tar 6643 1.0 GB 59787\n"
     ]
    },
    {
     "name": "stderr",
     "output_type": "stream",
     "text": [
      "8397000\n",
      "8398000\n",
      "8399000\n",
      "8400000\n",
      "8401000\n",
      "8402000\n",
      "8403000\n"
     ]
    },
    {
     "name": "stdout",
     "output_type": "stream",
     "text": [
      "# writing subsets/living_9-090-000010.tar 6643 1.0 GB 66430\n"
     ]
    },
    {
     "name": "stderr",
     "output_type": "stream",
     "text": [
      "8404000\n",
      "8405000\n",
      "8406000\n",
      "8407000\n",
      "8408000\n",
      "8409000\n"
     ]
    },
    {
     "name": "stdout",
     "output_type": "stream",
     "text": [
      "# writing subsets/living_9-090-000011.tar 6643 1.0 GB 73073\n"
     ]
    },
    {
     "name": "stderr",
     "output_type": "stream",
     "text": [
      "8410000\n",
      "8411000\n",
      "8412000\n",
      "8413000\n",
      "8414000\n",
      "8415000\n",
      "8416000\n"
     ]
    },
    {
     "name": "stdout",
     "output_type": "stream",
     "text": [
      "# writing subsets/living_9-090-000012.tar 6643 1.0 GB 79716\n"
     ]
    },
    {
     "name": "stderr",
     "output_type": "stream",
     "text": [
      "8417000\n",
      "8418000\n",
      "8419000\n",
      "8420000\n",
      "8421000\n",
      "8422000\n",
      "8423000\n"
     ]
    },
    {
     "name": "stdout",
     "output_type": "stream",
     "text": [
      "# writing subsets/living_9-090-000013.tar 6643 1.0 GB 86359\n"
     ]
    },
    {
     "name": "stderr",
     "output_type": "stream",
     "text": [
      "8424000\n",
      "8425000\n",
      "8426000\n",
      "8427000\n",
      "8428000\n",
      "8429000\n"
     ]
    },
    {
     "name": "stdout",
     "output_type": "stream",
     "text": [
      "# writing subsets/living_9-091-000000.tar 0 0.0 GB 0\n"
     ]
    },
    {
     "name": "stderr",
     "output_type": "stream",
     "text": [
      "8430000\n",
      "8431000\n",
      "8432000\n",
      "8433000\n",
      "8434000\n",
      "8435000\n",
      "8436000\n"
     ]
    },
    {
     "name": "stdout",
     "output_type": "stream",
     "text": [
      "# writing subsets/living_9-091-000001.tar 6643 1.0 GB 6643\n"
     ]
    },
    {
     "name": "stderr",
     "output_type": "stream",
     "text": [
      "8437000\n",
      "8438000\n",
      "8439000\n",
      "8440000\n",
      "8441000\n",
      "8442000\n"
     ]
    },
    {
     "name": "stdout",
     "output_type": "stream",
     "text": [
      "# writing subsets/living_9-091-000002.tar 6643 1.0 GB 13286\n"
     ]
    },
    {
     "name": "stderr",
     "output_type": "stream",
     "text": [
      "8443000\n",
      "8444000\n",
      "8445000\n",
      "8446000\n",
      "8447000\n",
      "8448000\n",
      "8449000\n"
     ]
    },
    {
     "name": "stdout",
     "output_type": "stream",
     "text": [
      "# writing subsets/living_9-091-000003.tar 6643 1.0 GB 19929\n"
     ]
    },
    {
     "name": "stderr",
     "output_type": "stream",
     "text": [
      "8450000\n",
      "8451000\n",
      "8452000\n",
      "8453000\n",
      "8454000\n",
      "8455000\n",
      "8456000\n"
     ]
    },
    {
     "name": "stdout",
     "output_type": "stream",
     "text": [
      "# writing subsets/living_9-091-000004.tar 6643 1.0 GB 26572\n"
     ]
    },
    {
     "name": "stderr",
     "output_type": "stream",
     "text": [
      "8457000\n",
      "8458000\n",
      "8459000\n",
      "8460000\n",
      "8461000\n",
      "8462000\n"
     ]
    },
    {
     "name": "stdout",
     "output_type": "stream",
     "text": [
      "# writing subsets/living_9-091-000005.tar 6643 1.0 GB 33215\n"
     ]
    },
    {
     "name": "stderr",
     "output_type": "stream",
     "text": [
      "8463000\n",
      "8464000\n",
      "8465000\n",
      "8466000\n",
      "8467000\n",
      "8468000\n",
      "8469000\n"
     ]
    },
    {
     "name": "stdout",
     "output_type": "stream",
     "text": [
      "# writing subsets/living_9-091-000006.tar 6643 1.0 GB 39858\n"
     ]
    },
    {
     "name": "stderr",
     "output_type": "stream",
     "text": [
      "8470000\n",
      "8471000\n",
      "8472000\n",
      "8473000\n",
      "8474000\n",
      "8475000\n",
      "8476000\n"
     ]
    },
    {
     "name": "stdout",
     "output_type": "stream",
     "text": [
      "# writing subsets/living_9-091-000007.tar 6643 1.0 GB 46501\n"
     ]
    },
    {
     "name": "stderr",
     "output_type": "stream",
     "text": [
      "8477000\n",
      "8478000\n",
      "8479000\n",
      "8480000\n",
      "8481000\n",
      "8482000\n"
     ]
    },
    {
     "name": "stdout",
     "output_type": "stream",
     "text": [
      "# writing subsets/living_9-091-000008.tar 6643 1.0 GB 53144\n"
     ]
    },
    {
     "name": "stderr",
     "output_type": "stream",
     "text": [
      "8483000\n",
      "8484000\n",
      "8485000\n",
      "8486000\n",
      "8487000\n",
      "8488000\n",
      "8489000\n"
     ]
    },
    {
     "name": "stdout",
     "output_type": "stream",
     "text": [
      "# writing subsets/living_9-091-000009.tar 6643 1.0 GB 59787\n"
     ]
    },
    {
     "name": "stderr",
     "output_type": "stream",
     "text": [
      "8490000\n",
      "8491000\n",
      "8492000\n",
      "8493000\n",
      "8494000\n",
      "8495000\n"
     ]
    },
    {
     "name": "stdout",
     "output_type": "stream",
     "text": [
      "# writing subsets/living_9-091-000010.tar 6643 1.0 GB 66430\n"
     ]
    },
    {
     "name": "stderr",
     "output_type": "stream",
     "text": [
      "8496000\n",
      "8497000\n",
      "8498000\n",
      "8499000\n",
      "8500000\n",
      "8501000\n",
      "8502000\n"
     ]
    },
    {
     "name": "stdout",
     "output_type": "stream",
     "text": [
      "# writing subsets/living_9-091-000011.tar 6643 1.0 GB 73073\n"
     ]
    },
    {
     "name": "stderr",
     "output_type": "stream",
     "text": [
      "8503000\n",
      "8504000\n",
      "8505000\n",
      "8506000\n",
      "8507000\n",
      "8508000\n",
      "8509000\n"
     ]
    },
    {
     "name": "stdout",
     "output_type": "stream",
     "text": [
      "# writing subsets/living_9-091-000012.tar 6643 1.0 GB 79716\n"
     ]
    },
    {
     "name": "stderr",
     "output_type": "stream",
     "text": [
      "8510000\n",
      "8511000\n",
      "8512000\n",
      "8513000\n",
      "8514000\n",
      "8515000\n"
     ]
    },
    {
     "name": "stdout",
     "output_type": "stream",
     "text": [
      "# writing subsets/living_9-091-000013.tar 6643 1.0 GB 86359\n"
     ]
    },
    {
     "name": "stderr",
     "output_type": "stream",
     "text": [
      "8516000\n",
      "8517000\n",
      "8518000\n",
      "8519000\n",
      "8520000\n",
      "8521000\n",
      "8522000\n"
     ]
    },
    {
     "name": "stdout",
     "output_type": "stream",
     "text": [
      "# writing subsets/living_9-092-000000.tar 0 0.0 GB 0\n"
     ]
    },
    {
     "name": "stderr",
     "output_type": "stream",
     "text": [
      "8523000\n",
      "8524000\n",
      "8525000\n",
      "8526000\n",
      "8527000\n",
      "8528000\n"
     ]
    },
    {
     "name": "stdout",
     "output_type": "stream",
     "text": [
      "# writing subsets/living_9-092-000001.tar 6643 1.0 GB 6643\n"
     ]
    },
    {
     "name": "stderr",
     "output_type": "stream",
     "text": [
      "8529000\n",
      "8530000\n",
      "8531000\n",
      "8532000\n",
      "8533000\n",
      "8534000\n",
      "8535000\n"
     ]
    },
    {
     "name": "stdout",
     "output_type": "stream",
     "text": [
      "# writing subsets/living_9-092-000002.tar 6643 1.0 GB 13286\n"
     ]
    },
    {
     "name": "stderr",
     "output_type": "stream",
     "text": [
      "8536000\n",
      "8537000\n",
      "8538000\n",
      "8539000\n",
      "8540000\n",
      "8541000\n",
      "8542000\n"
     ]
    },
    {
     "name": "stdout",
     "output_type": "stream",
     "text": [
      "# writing subsets/living_9-092-000003.tar 6643 1.0 GB 19929\n"
     ]
    },
    {
     "name": "stderr",
     "output_type": "stream",
     "text": [
      "8543000\n",
      "8544000\n",
      "8545000\n",
      "8546000\n",
      "8547000\n",
      "8548000\n"
     ]
    },
    {
     "name": "stdout",
     "output_type": "stream",
     "text": [
      "# writing subsets/living_9-092-000004.tar 6643 1.0 GB 26572\n"
     ]
    },
    {
     "name": "stderr",
     "output_type": "stream",
     "text": [
      "8549000\n",
      "8550000\n",
      "8551000\n",
      "8552000\n",
      "8553000\n",
      "8554000\n",
      "8555000\n"
     ]
    },
    {
     "name": "stdout",
     "output_type": "stream",
     "text": [
      "# writing subsets/living_9-092-000005.tar 6643 1.0 GB 33215\n"
     ]
    },
    {
     "name": "stderr",
     "output_type": "stream",
     "text": [
      "8556000\n",
      "8557000\n",
      "8558000\n",
      "8559000\n",
      "8560000\n",
      "8561000\n",
      "8562000\n"
     ]
    },
    {
     "name": "stdout",
     "output_type": "stream",
     "text": [
      "# writing subsets/living_9-092-000006.tar 6643 1.0 GB 39858\n"
     ]
    },
    {
     "name": "stderr",
     "output_type": "stream",
     "text": [
      "8563000\n",
      "8564000\n",
      "8565000\n",
      "8566000\n",
      "8567000\n",
      "8568000\n"
     ]
    },
    {
     "name": "stdout",
     "output_type": "stream",
     "text": [
      "# writing subsets/living_9-092-000007.tar 6643 1.0 GB 46501\n"
     ]
    },
    {
     "name": "stderr",
     "output_type": "stream",
     "text": [
      "8569000\n",
      "8570000\n",
      "8571000\n",
      "8572000\n",
      "8573000\n",
      "8574000\n",
      "8575000\n"
     ]
    },
    {
     "name": "stdout",
     "output_type": "stream",
     "text": [
      "# writing subsets/living_9-092-000008.tar 6643 1.0 GB 53144\n"
     ]
    },
    {
     "name": "stderr",
     "output_type": "stream",
     "text": [
      "8576000\n",
      "8577000\n",
      "8578000\n",
      "8579000\n",
      "8580000\n",
      "8581000\n"
     ]
    },
    {
     "name": "stdout",
     "output_type": "stream",
     "text": [
      "# writing subsets/living_9-092-000009.tar 6643 1.0 GB 59787\n"
     ]
    },
    {
     "name": "stderr",
     "output_type": "stream",
     "text": [
      "8582000\n",
      "8583000\n",
      "8584000\n",
      "8585000\n",
      "8586000\n",
      "8587000\n",
      "8588000\n"
     ]
    },
    {
     "name": "stdout",
     "output_type": "stream",
     "text": [
      "# writing subsets/living_9-092-000010.tar 6643 1.0 GB 66430\n"
     ]
    },
    {
     "name": "stderr",
     "output_type": "stream",
     "text": [
      "8589000\n",
      "8590000\n",
      "8591000\n",
      "8592000\n",
      "8593000\n",
      "8594000\n",
      "8595000\n"
     ]
    },
    {
     "name": "stdout",
     "output_type": "stream",
     "text": [
      "# writing subsets/living_9-092-000011.tar 6643 1.0 GB 73073\n"
     ]
    },
    {
     "name": "stderr",
     "output_type": "stream",
     "text": [
      "8596000\n",
      "8597000\n",
      "8598000\n",
      "8599000\n",
      "8600000\n",
      "8601000\n"
     ]
    },
    {
     "name": "stdout",
     "output_type": "stream",
     "text": [
      "# writing subsets/living_9-092-000012.tar 6643 1.0 GB 79716\n"
     ]
    },
    {
     "name": "stderr",
     "output_type": "stream",
     "text": [
      "8602000\n",
      "8603000\n",
      "8604000\n",
      "8605000\n",
      "8606000\n",
      "8607000\n",
      "8608000\n"
     ]
    },
    {
     "name": "stdout",
     "output_type": "stream",
     "text": [
      "# writing subsets/living_9-092-000013.tar 6643 1.0 GB 86359\n"
     ]
    },
    {
     "name": "stderr",
     "output_type": "stream",
     "text": [
      "8609000\n",
      "8610000\n",
      "8611000\n",
      "8612000\n",
      "8613000\n",
      "8614000\n"
     ]
    },
    {
     "name": "stdout",
     "output_type": "stream",
     "text": [
      "# writing subsets/living_9-093-000000.tar 0 0.0 GB 0\n"
     ]
    },
    {
     "name": "stderr",
     "output_type": "stream",
     "text": [
      "8615000\n",
      "8616000\n",
      "8617000\n",
      "8618000\n",
      "8619000\n",
      "8620000\n",
      "8621000\n"
     ]
    },
    {
     "name": "stdout",
     "output_type": "stream",
     "text": [
      "# writing subsets/living_9-093-000001.tar 6643 1.0 GB 6643\n"
     ]
    },
    {
     "name": "stderr",
     "output_type": "stream",
     "text": [
      "8622000\n",
      "8623000\n",
      "8624000\n",
      "8625000\n",
      "8626000\n",
      "8627000\n",
      "8628000\n"
     ]
    },
    {
     "name": "stdout",
     "output_type": "stream",
     "text": [
      "# writing subsets/living_9-093-000002.tar 6643 1.0 GB 13286\n"
     ]
    },
    {
     "name": "stderr",
     "output_type": "stream",
     "text": [
      "8629000\n",
      "8630000\n",
      "8631000\n",
      "8632000\n",
      "8633000\n",
      "8634000\n"
     ]
    },
    {
     "name": "stdout",
     "output_type": "stream",
     "text": [
      "# writing subsets/living_9-093-000003.tar 6643 1.0 GB 19929\n"
     ]
    },
    {
     "name": "stderr",
     "output_type": "stream",
     "text": [
      "8635000\n",
      "8636000\n",
      "8637000\n",
      "8638000\n",
      "8639000\n",
      "8640000\n",
      "8641000\n"
     ]
    },
    {
     "name": "stdout",
     "output_type": "stream",
     "text": [
      "# writing subsets/living_9-093-000004.tar 6643 1.0 GB 26572\n"
     ]
    },
    {
     "name": "stderr",
     "output_type": "stream",
     "text": [
      "8642000\n",
      "8643000\n",
      "8644000\n",
      "8645000\n",
      "8646000\n",
      "8647000\n"
     ]
    },
    {
     "name": "stdout",
     "output_type": "stream",
     "text": [
      "# writing subsets/living_9-093-000005.tar 6643 1.0 GB 33215\n"
     ]
    },
    {
     "name": "stderr",
     "output_type": "stream",
     "text": [
      "8648000\n",
      "8649000\n",
      "8650000\n",
      "8651000\n",
      "8652000\n",
      "8653000\n",
      "8654000\n"
     ]
    },
    {
     "name": "stdout",
     "output_type": "stream",
     "text": [
      "# writing subsets/living_9-093-000006.tar 6643 1.0 GB 39858\n"
     ]
    },
    {
     "name": "stderr",
     "output_type": "stream",
     "text": [
      "8655000\n",
      "8656000\n",
      "8657000\n",
      "8658000\n",
      "8659000\n",
      "8660000\n",
      "8661000\n"
     ]
    },
    {
     "name": "stdout",
     "output_type": "stream",
     "text": [
      "# writing subsets/living_9-093-000007.tar 6643 1.0 GB 46501\n"
     ]
    },
    {
     "name": "stderr",
     "output_type": "stream",
     "text": [
      "8662000\n",
      "8663000\n",
      "8664000\n",
      "8665000\n",
      "8666000\n",
      "8667000\n"
     ]
    },
    {
     "name": "stdout",
     "output_type": "stream",
     "text": [
      "# writing subsets/living_9-093-000008.tar 6643 1.0 GB 53144\n"
     ]
    },
    {
     "name": "stderr",
     "output_type": "stream",
     "text": [
      "8668000\n",
      "8669000\n",
      "8670000\n",
      "8671000\n",
      "8672000\n",
      "8673000\n",
      "8674000\n"
     ]
    },
    {
     "name": "stdout",
     "output_type": "stream",
     "text": [
      "# writing subsets/living_9-093-000009.tar 6643 1.0 GB 59787\n"
     ]
    },
    {
     "name": "stderr",
     "output_type": "stream",
     "text": [
      "8675000\n",
      "8676000\n",
      "8677000\n",
      "8678000\n",
      "8679000\n",
      "8680000\n",
      "8681000\n"
     ]
    },
    {
     "name": "stdout",
     "output_type": "stream",
     "text": [
      "# writing subsets/living_9-093-000010.tar 6643 1.0 GB 66430\n"
     ]
    },
    {
     "name": "stderr",
     "output_type": "stream",
     "text": [
      "8682000\n",
      "8683000\n",
      "8684000\n",
      "8685000\n",
      "8686000\n",
      "8687000\n"
     ]
    },
    {
     "name": "stdout",
     "output_type": "stream",
     "text": [
      "# writing subsets/living_9-093-000011.tar 6643 1.0 GB 73073\n"
     ]
    },
    {
     "name": "stderr",
     "output_type": "stream",
     "text": [
      "8688000\n",
      "8689000\n",
      "8690000\n",
      "8691000\n",
      "8692000\n",
      "8693000\n",
      "8694000\n"
     ]
    },
    {
     "name": "stdout",
     "output_type": "stream",
     "text": [
      "# writing subsets/living_9-093-000012.tar 6643 1.0 GB 79716\n"
     ]
    },
    {
     "name": "stderr",
     "output_type": "stream",
     "text": [
      "8695000\n",
      "8696000\n",
      "8697000\n",
      "8698000\n",
      "8699000\n",
      "8700000\n",
      "8701000\n"
     ]
    },
    {
     "name": "stdout",
     "output_type": "stream",
     "text": [
      "# writing subsets/living_9-093-000013.tar 6643 1.0 GB 86359\n"
     ]
    },
    {
     "name": "stderr",
     "output_type": "stream",
     "text": [
      "8702000\n",
      "8703000\n",
      "8704000\n",
      "8705000\n",
      "8706000\n",
      "8707000\n"
     ]
    },
    {
     "name": "stdout",
     "output_type": "stream",
     "text": [
      "# writing subsets/living_9-094-000000.tar 0 0.0 GB 0\n"
     ]
    },
    {
     "name": "stderr",
     "output_type": "stream",
     "text": [
      "8708000\n",
      "8709000\n",
      "8710000\n",
      "8711000\n",
      "8712000\n",
      "8713000\n",
      "8714000\n"
     ]
    },
    {
     "name": "stdout",
     "output_type": "stream",
     "text": [
      "# writing subsets/living_9-094-000001.tar 6643 1.0 GB 6643\n"
     ]
    },
    {
     "name": "stderr",
     "output_type": "stream",
     "text": [
      "8715000\n",
      "8716000\n",
      "8717000\n",
      "8718000\n",
      "8719000\n",
      "8720000\n"
     ]
    },
    {
     "name": "stdout",
     "output_type": "stream",
     "text": [
      "# writing subsets/living_9-094-000002.tar 6643 1.0 GB 13286\n"
     ]
    },
    {
     "name": "stderr",
     "output_type": "stream",
     "text": [
      "8721000\n",
      "8722000\n",
      "8723000\n",
      "8724000\n",
      "8725000\n",
      "8726000\n",
      "8727000\n"
     ]
    },
    {
     "name": "stdout",
     "output_type": "stream",
     "text": [
      "# writing subsets/living_9-094-000003.tar 6643 1.0 GB 19929\n"
     ]
    },
    {
     "name": "stderr",
     "output_type": "stream",
     "text": [
      "8728000\n",
      "8729000\n",
      "8730000\n",
      "8731000\n",
      "8732000\n",
      "8733000\n"
     ]
    },
    {
     "name": "stdout",
     "output_type": "stream",
     "text": [
      "# writing subsets/living_9-094-000004.tar 6643 1.0 GB 26572\n"
     ]
    },
    {
     "name": "stderr",
     "output_type": "stream",
     "text": [
      "8734000\n",
      "8735000\n",
      "8736000\n",
      "8737000\n",
      "8738000\n",
      "8739000\n",
      "8740000\n"
     ]
    },
    {
     "name": "stdout",
     "output_type": "stream",
     "text": [
      "# writing subsets/living_9-094-000005.tar 6643 1.0 GB 33215\n"
     ]
    },
    {
     "name": "stderr",
     "output_type": "stream",
     "text": [
      "8741000\n",
      "8742000\n",
      "8743000\n",
      "8744000\n",
      "8745000\n",
      "8746000\n",
      "8747000\n"
     ]
    },
    {
     "name": "stdout",
     "output_type": "stream",
     "text": [
      "# writing subsets/living_9-094-000006.tar 6643 1.0 GB 39858\n"
     ]
    },
    {
     "name": "stderr",
     "output_type": "stream",
     "text": [
      "8748000\n",
      "8749000\n",
      "8750000\n",
      "8751000\n",
      "8752000\n",
      "8753000\n"
     ]
    },
    {
     "name": "stdout",
     "output_type": "stream",
     "text": [
      "# writing subsets/living_9-094-000007.tar 6643 1.0 GB 46501\n"
     ]
    },
    {
     "name": "stderr",
     "output_type": "stream",
     "text": [
      "8754000\n",
      "8755000\n",
      "8756000\n",
      "8757000\n",
      "8758000\n",
      "8759000\n",
      "8760000\n"
     ]
    },
    {
     "name": "stdout",
     "output_type": "stream",
     "text": [
      "# writing subsets/living_9-094-000008.tar 6643 1.0 GB 53144\n"
     ]
    },
    {
     "name": "stderr",
     "output_type": "stream",
     "text": [
      "8761000\n",
      "8762000\n",
      "8763000\n",
      "8764000\n",
      "8765000\n",
      "8766000\n",
      "8767000\n"
     ]
    },
    {
     "name": "stdout",
     "output_type": "stream",
     "text": [
      "# writing subsets/living_9-094-000009.tar 6643 1.0 GB 59787\n"
     ]
    },
    {
     "name": "stderr",
     "output_type": "stream",
     "text": [
      "8768000\n",
      "8769000\n",
      "8770000\n",
      "8771000\n",
      "8772000\n",
      "8773000\n"
     ]
    },
    {
     "name": "stdout",
     "output_type": "stream",
     "text": [
      "# writing subsets/living_9-094-000010.tar 6643 1.0 GB 66430\n"
     ]
    },
    {
     "name": "stderr",
     "output_type": "stream",
     "text": [
      "8774000\n",
      "8775000\n",
      "8776000\n",
      "8777000\n",
      "8778000\n",
      "8779000\n",
      "8780000\n"
     ]
    },
    {
     "name": "stdout",
     "output_type": "stream",
     "text": [
      "# writing subsets/living_9-094-000011.tar 6643 1.0 GB 73073\n"
     ]
    },
    {
     "name": "stderr",
     "output_type": "stream",
     "text": [
      "8781000\n",
      "8782000\n",
      "8783000\n",
      "8784000\n",
      "8785000\n",
      "8786000\n",
      "8787000\n"
     ]
    },
    {
     "name": "stdout",
     "output_type": "stream",
     "text": [
      "# writing subsets/living_9-094-000012.tar 6643 1.0 GB 79716\n"
     ]
    },
    {
     "name": "stderr",
     "output_type": "stream",
     "text": [
      "8788000\n",
      "8789000\n",
      "8790000\n",
      "8791000\n",
      "8792000\n",
      "8793000\n"
     ]
    },
    {
     "name": "stdout",
     "output_type": "stream",
     "text": [
      "# writing subsets/living_9-094-000013.tar 6643 1.0 GB 86359\n"
     ]
    },
    {
     "name": "stderr",
     "output_type": "stream",
     "text": [
      "8794000\n",
      "8795000\n",
      "8796000\n",
      "8797000\n",
      "8798000\n",
      "8799000\n"
     ]
    },
    {
     "name": "stdout",
     "output_type": "stream",
     "text": [
      "# writing subsets/living_9-095-000000.tar 0 0.0 GB 0\n"
     ]
    },
    {
     "name": "stderr",
     "output_type": "stream",
     "text": [
      "8800000\n",
      "8801000\n",
      "8802000\n",
      "8803000\n",
      "8804000\n",
      "8805000\n",
      "8806000\n"
     ]
    },
    {
     "name": "stdout",
     "output_type": "stream",
     "text": [
      "# writing subsets/living_9-095-000001.tar 6643 1.0 GB 6643\n"
     ]
    },
    {
     "name": "stderr",
     "output_type": "stream",
     "text": [
      "8807000\n",
      "8808000\n",
      "8809000\n",
      "8810000\n",
      "8811000\n",
      "8812000\n",
      "8813000\n"
     ]
    },
    {
     "name": "stdout",
     "output_type": "stream",
     "text": [
      "# writing subsets/living_9-095-000002.tar 6643 1.0 GB 13286\n"
     ]
    },
    {
     "name": "stderr",
     "output_type": "stream",
     "text": [
      "8814000\n",
      "8815000\n",
      "8816000\n",
      "8817000\n",
      "8818000\n",
      "8819000\n"
     ]
    },
    {
     "name": "stdout",
     "output_type": "stream",
     "text": [
      "# writing subsets/living_9-095-000003.tar 6643 1.0 GB 19929\n"
     ]
    },
    {
     "name": "stderr",
     "output_type": "stream",
     "text": [
      "8820000\n",
      "8821000\n",
      "8822000\n",
      "8823000\n",
      "8824000\n",
      "8825000\n",
      "8826000\n"
     ]
    },
    {
     "name": "stdout",
     "output_type": "stream",
     "text": [
      "# writing subsets/living_9-095-000004.tar 6643 1.0 GB 26572\n"
     ]
    },
    {
     "name": "stderr",
     "output_type": "stream",
     "text": [
      "8827000\n",
      "8828000\n",
      "8829000\n",
      "8830000\n",
      "8831000\n",
      "8832000\n",
      "8833000\n"
     ]
    },
    {
     "name": "stdout",
     "output_type": "stream",
     "text": [
      "# writing subsets/living_9-095-000005.tar 6643 1.0 GB 33215\n"
     ]
    },
    {
     "name": "stderr",
     "output_type": "stream",
     "text": [
      "8834000\n",
      "8835000\n",
      "8836000\n",
      "8837000\n",
      "8838000\n",
      "8839000\n"
     ]
    },
    {
     "name": "stdout",
     "output_type": "stream",
     "text": [
      "# writing subsets/living_9-095-000006.tar 6643 1.0 GB 39858\n"
     ]
    },
    {
     "name": "stderr",
     "output_type": "stream",
     "text": [
      "8840000\n",
      "8841000\n",
      "8842000\n",
      "8843000\n",
      "8844000\n",
      "8845000\n",
      "8846000\n"
     ]
    },
    {
     "name": "stdout",
     "output_type": "stream",
     "text": [
      "# writing subsets/living_9-095-000007.tar 6643 1.0 GB 46501\n"
     ]
    },
    {
     "name": "stderr",
     "output_type": "stream",
     "text": [
      "8847000\n",
      "8848000\n",
      "8849000\n",
      "8850000\n",
      "8851000\n",
      "8852000\n",
      "8853000\n"
     ]
    },
    {
     "name": "stdout",
     "output_type": "stream",
     "text": [
      "# writing subsets/living_9-095-000008.tar 6643 1.0 GB 53144\n"
     ]
    },
    {
     "name": "stderr",
     "output_type": "stream",
     "text": [
      "8854000\n",
      "8855000\n",
      "8856000\n",
      "8857000\n",
      "8858000\n",
      "8859000\n"
     ]
    },
    {
     "name": "stdout",
     "output_type": "stream",
     "text": [
      "# writing subsets/living_9-095-000009.tar 6643 1.0 GB 59787\n"
     ]
    },
    {
     "name": "stderr",
     "output_type": "stream",
     "text": [
      "8860000\n",
      "8861000\n",
      "8862000\n",
      "8863000\n",
      "8864000\n",
      "8865000\n",
      "8866000\n"
     ]
    },
    {
     "name": "stdout",
     "output_type": "stream",
     "text": [
      "# writing subsets/living_9-095-000010.tar 6643 1.0 GB 66430\n"
     ]
    },
    {
     "name": "stderr",
     "output_type": "stream",
     "text": [
      "8867000\n",
      "8868000\n",
      "8869000\n",
      "8870000\n",
      "8871000\n",
      "8872000\n",
      "8873000\n"
     ]
    },
    {
     "name": "stdout",
     "output_type": "stream",
     "text": [
      "# writing subsets/living_9-095-000011.tar 6643 1.0 GB 73073\n"
     ]
    },
    {
     "name": "stderr",
     "output_type": "stream",
     "text": [
      "8874000\n",
      "8875000\n",
      "8876000\n",
      "8877000\n",
      "8878000\n",
      "8879000\n"
     ]
    },
    {
     "name": "stdout",
     "output_type": "stream",
     "text": [
      "# writing subsets/living_9-095-000012.tar 6643 1.0 GB 79716\n"
     ]
    },
    {
     "name": "stderr",
     "output_type": "stream",
     "text": [
      "8880000\n",
      "8881000\n",
      "8882000\n",
      "8883000\n",
      "8884000\n",
      "8885000\n",
      "8886000\n"
     ]
    },
    {
     "name": "stdout",
     "output_type": "stream",
     "text": [
      "# writing subsets/living_9-095-000013.tar 6643 1.0 GB 86359\n"
     ]
    },
    {
     "name": "stderr",
     "output_type": "stream",
     "text": [
      "8887000\n",
      "8888000\n",
      "8889000\n",
      "8890000\n",
      "8891000\n",
      "8892000\n"
     ]
    },
    {
     "name": "stdout",
     "output_type": "stream",
     "text": [
      "# writing subsets/living_9-096-000000.tar 0 0.0 GB 0\n"
     ]
    },
    {
     "name": "stderr",
     "output_type": "stream",
     "text": [
      "8893000\n",
      "8894000\n",
      "8895000\n",
      "8896000\n",
      "8897000\n",
      "8898000\n",
      "8899000\n"
     ]
    },
    {
     "name": "stdout",
     "output_type": "stream",
     "text": [
      "# writing subsets/living_9-096-000001.tar 6643 1.0 GB 6643\n"
     ]
    },
    {
     "name": "stderr",
     "output_type": "stream",
     "text": [
      "8900000\n",
      "8901000\n",
      "8902000\n",
      "8903000\n",
      "8904000\n",
      "8905000\n"
     ]
    },
    {
     "name": "stdout",
     "output_type": "stream",
     "text": [
      "# writing subsets/living_9-096-000002.tar 6643 1.0 GB 13286\n"
     ]
    },
    {
     "name": "stderr",
     "output_type": "stream",
     "text": [
      "8906000\n",
      "8907000\n",
      "8908000\n",
      "8909000\n",
      "8910000\n",
      "8911000\n",
      "8912000\n"
     ]
    },
    {
     "name": "stdout",
     "output_type": "stream",
     "text": [
      "# writing subsets/living_9-096-000003.tar 6643 1.0 GB 19929\n"
     ]
    },
    {
     "name": "stderr",
     "output_type": "stream",
     "text": [
      "8913000\n",
      "8914000\n",
      "8915000\n",
      "8916000\n",
      "8917000\n",
      "8918000\n",
      "8919000\n"
     ]
    },
    {
     "name": "stdout",
     "output_type": "stream",
     "text": [
      "# writing subsets/living_9-096-000004.tar 6643 1.0 GB 26572\n"
     ]
    },
    {
     "name": "stderr",
     "output_type": "stream",
     "text": [
      "8920000\n",
      "8921000\n",
      "8922000\n",
      "8923000\n",
      "8924000\n",
      "8925000\n"
     ]
    },
    {
     "name": "stdout",
     "output_type": "stream",
     "text": [
      "# writing subsets/living_9-096-000005.tar 6643 1.0 GB 33215\n"
     ]
    },
    {
     "name": "stderr",
     "output_type": "stream",
     "text": [
      "8926000\n",
      "8927000\n",
      "8928000\n",
      "8929000\n",
      "8930000\n",
      "8931000\n",
      "8932000\n"
     ]
    },
    {
     "name": "stdout",
     "output_type": "stream",
     "text": [
      "# writing subsets/living_9-096-000006.tar 6643 1.0 GB 39858\n"
     ]
    },
    {
     "name": "stderr",
     "output_type": "stream",
     "text": [
      "8933000\n",
      "8934000\n",
      "8935000\n",
      "8936000\n",
      "8937000\n",
      "8938000\n",
      "8939000\n"
     ]
    },
    {
     "name": "stdout",
     "output_type": "stream",
     "text": [
      "# writing subsets/living_9-096-000007.tar 6643 1.0 GB 46501\n"
     ]
    },
    {
     "name": "stderr",
     "output_type": "stream",
     "text": [
      "8940000\n",
      "8941000\n",
      "8942000\n",
      "8943000\n",
      "8944000\n",
      "8945000\n"
     ]
    },
    {
     "name": "stdout",
     "output_type": "stream",
     "text": [
      "# writing subsets/living_9-096-000008.tar 6643 1.0 GB 53144\n"
     ]
    },
    {
     "name": "stderr",
     "output_type": "stream",
     "text": [
      "8946000\n",
      "8947000\n",
      "8948000\n",
      "8949000\n",
      "8950000\n",
      "8951000\n",
      "8952000\n"
     ]
    },
    {
     "name": "stdout",
     "output_type": "stream",
     "text": [
      "# writing subsets/living_9-096-000009.tar 6643 1.0 GB 59787\n"
     ]
    },
    {
     "name": "stderr",
     "output_type": "stream",
     "text": [
      "8953000\n",
      "8954000\n",
      "8955000\n",
      "8956000\n",
      "8957000\n",
      "8958000\n",
      "8959000\n"
     ]
    },
    {
     "name": "stdout",
     "output_type": "stream",
     "text": [
      "# writing subsets/living_9-096-000010.tar 6643 1.0 GB 66430\n"
     ]
    },
    {
     "name": "stderr",
     "output_type": "stream",
     "text": [
      "8960000\n",
      "8961000\n",
      "8962000\n",
      "8963000\n",
      "8964000\n",
      "8965000\n"
     ]
    },
    {
     "name": "stdout",
     "output_type": "stream",
     "text": [
      "# writing subsets/living_9-096-000011.tar 6643 1.0 GB 73073\n"
     ]
    },
    {
     "name": "stderr",
     "output_type": "stream",
     "text": [
      "8966000\n",
      "8967000\n",
      "8968000\n",
      "8969000\n",
      "8970000\n",
      "8971000\n",
      "8972000\n"
     ]
    },
    {
     "name": "stdout",
     "output_type": "stream",
     "text": [
      "# writing subsets/living_9-096-000012.tar 6643 1.0 GB 79716\n"
     ]
    },
    {
     "name": "stderr",
     "output_type": "stream",
     "text": [
      "8973000\n",
      "8974000\n",
      "8975000\n",
      "8976000\n",
      "8977000\n",
      "8978000\n",
      "8979000\n"
     ]
    },
    {
     "name": "stdout",
     "output_type": "stream",
     "text": [
      "# writing subsets/living_9-096-000013.tar 6643 1.0 GB 86359\n"
     ]
    },
    {
     "name": "stderr",
     "output_type": "stream",
     "text": [
      "8980000\n",
      "8981000\n",
      "8982000\n",
      "8983000\n",
      "8984000\n",
      "8985000\n"
     ]
    },
    {
     "name": "stdout",
     "output_type": "stream",
     "text": [
      "# writing subsets/living_9-097-000000.tar 0 0.0 GB 0\n"
     ]
    },
    {
     "name": "stderr",
     "output_type": "stream",
     "text": [
      "8986000\n",
      "8987000\n",
      "8988000\n",
      "8989000\n",
      "8990000\n",
      "8991000\n"
     ]
    },
    {
     "name": "stdout",
     "output_type": "stream",
     "text": [
      "# writing subsets/living_9-097-000001.tar 6643 1.0 GB 6643\n"
     ]
    },
    {
     "name": "stderr",
     "output_type": "stream",
     "text": [
      "8992000\n",
      "8993000\n",
      "8994000\n",
      "8995000\n",
      "8996000\n",
      "8997000\n",
      "8998000\n"
     ]
    },
    {
     "name": "stdout",
     "output_type": "stream",
     "text": [
      "# writing subsets/living_9-097-000002.tar 6643 1.0 GB 13286\n"
     ]
    },
    {
     "name": "stderr",
     "output_type": "stream",
     "text": [
      "8999000\n",
      "9000000\n",
      "9001000\n",
      "9002000\n",
      "9003000\n",
      "9004000\n",
      "9005000\n"
     ]
    },
    {
     "name": "stdout",
     "output_type": "stream",
     "text": [
      "# writing subsets/living_9-097-000003.tar 6643 1.0 GB 19929\n"
     ]
    },
    {
     "name": "stderr",
     "output_type": "stream",
     "text": [
      "9006000\n",
      "9007000\n",
      "9008000\n",
      "9009000\n",
      "9010000\n",
      "9011000\n"
     ]
    },
    {
     "name": "stdout",
     "output_type": "stream",
     "text": [
      "# writing subsets/living_9-097-000004.tar 6643 1.0 GB 26572\n"
     ]
    },
    {
     "name": "stderr",
     "output_type": "stream",
     "text": [
      "9012000\n",
      "9013000\n",
      "9014000\n",
      "9015000\n",
      "9016000\n",
      "9017000\n",
      "9018000\n"
     ]
    },
    {
     "name": "stdout",
     "output_type": "stream",
     "text": [
      "# writing subsets/living_9-097-000005.tar 6643 1.0 GB 33215\n"
     ]
    },
    {
     "name": "stderr",
     "output_type": "stream",
     "text": [
      "9019000\n",
      "9020000\n",
      "9021000\n",
      "9022000\n",
      "9023000\n",
      "9024000\n",
      "9025000\n"
     ]
    },
    {
     "name": "stdout",
     "output_type": "stream",
     "text": [
      "# writing subsets/living_9-097-000006.tar 6643 1.0 GB 39858\n"
     ]
    },
    {
     "name": "stderr",
     "output_type": "stream",
     "text": [
      "9026000\n",
      "9027000\n",
      "9028000\n",
      "9029000\n",
      "9030000\n",
      "9031000\n"
     ]
    },
    {
     "name": "stdout",
     "output_type": "stream",
     "text": [
      "# writing subsets/living_9-097-000007.tar 6643 1.0 GB 46501\n"
     ]
    },
    {
     "name": "stderr",
     "output_type": "stream",
     "text": [
      "9032000\n",
      "9033000\n",
      "9034000\n",
      "9035000\n",
      "9036000\n",
      "9037000\n",
      "9038000\n"
     ]
    },
    {
     "name": "stdout",
     "output_type": "stream",
     "text": [
      "# writing subsets/living_9-097-000008.tar 6643 1.0 GB 53144\n"
     ]
    },
    {
     "name": "stderr",
     "output_type": "stream",
     "text": [
      "9039000\n",
      "9040000\n",
      "9041000\n",
      "9042000\n",
      "9043000\n",
      "9044000\n",
      "9045000\n"
     ]
    },
    {
     "name": "stdout",
     "output_type": "stream",
     "text": [
      "# writing subsets/living_9-097-000009.tar 6643 1.0 GB 59787\n"
     ]
    },
    {
     "name": "stderr",
     "output_type": "stream",
     "text": [
      "9046000\n",
      "9047000\n",
      "9048000\n",
      "9049000\n",
      "9050000\n",
      "9051000\n"
     ]
    },
    {
     "name": "stdout",
     "output_type": "stream",
     "text": [
      "# writing subsets/living_9-097-000010.tar 6643 1.0 GB 66430\n"
     ]
    },
    {
     "name": "stderr",
     "output_type": "stream",
     "text": [
      "9052000\n",
      "9053000\n",
      "9054000\n",
      "9055000\n",
      "9056000\n",
      "9057000\n",
      "9058000\n"
     ]
    },
    {
     "name": "stdout",
     "output_type": "stream",
     "text": [
      "# writing subsets/living_9-097-000011.tar 6643 1.0 GB 73073\n"
     ]
    },
    {
     "name": "stderr",
     "output_type": "stream",
     "text": [
      "9059000\n",
      "9060000\n",
      "9061000\n",
      "9062000\n",
      "9063000\n",
      "9064000\n",
      "9065000\n"
     ]
    },
    {
     "name": "stdout",
     "output_type": "stream",
     "text": [
      "# writing subsets/living_9-097-000012.tar 6643 1.0 GB 79716\n"
     ]
    },
    {
     "name": "stderr",
     "output_type": "stream",
     "text": [
      "9066000\n",
      "9067000\n",
      "9068000\n",
      "9069000\n",
      "9070000\n",
      "9071000\n"
     ]
    },
    {
     "name": "stdout",
     "output_type": "stream",
     "text": [
      "# writing subsets/living_9-097-000013.tar 6643 1.0 GB 86359\n"
     ]
    },
    {
     "name": "stderr",
     "output_type": "stream",
     "text": [
      "9072000\n",
      "9073000\n",
      "9074000\n",
      "9075000\n",
      "9076000\n",
      "9077000\n"
     ]
    },
    {
     "name": "stdout",
     "output_type": "stream",
     "text": [
      "# writing subsets/living_9-098-000000.tar 0 0.0 GB 0\n"
     ]
    },
    {
     "name": "stderr",
     "output_type": "stream",
     "text": [
      "9078000\n",
      "9079000\n",
      "9080000\n",
      "9081000\n",
      "9082000\n",
      "9083000\n",
      "9084000\n"
     ]
    },
    {
     "name": "stdout",
     "output_type": "stream",
     "text": [
      "# writing subsets/living_9-098-000001.tar 6643 1.0 GB 6643\n"
     ]
    },
    {
     "name": "stderr",
     "output_type": "stream",
     "text": [
      "9085000\n",
      "9086000\n",
      "9087000\n",
      "9088000\n",
      "9089000\n",
      "9090000\n",
      "9091000\n"
     ]
    },
    {
     "name": "stdout",
     "output_type": "stream",
     "text": [
      "# writing subsets/living_9-098-000002.tar 6643 1.0 GB 13286\n"
     ]
    },
    {
     "name": "stderr",
     "output_type": "stream",
     "text": [
      "9092000\n",
      "9093000\n",
      "9094000\n",
      "9095000\n",
      "9096000\n",
      "9097000\n"
     ]
    },
    {
     "name": "stdout",
     "output_type": "stream",
     "text": [
      "# writing subsets/living_9-098-000003.tar 6643 1.0 GB 19929\n"
     ]
    },
    {
     "name": "stderr",
     "output_type": "stream",
     "text": [
      "9098000\n",
      "9099000\n",
      "9100000\n",
      "9101000\n",
      "9102000\n",
      "9103000\n",
      "9104000\n"
     ]
    },
    {
     "name": "stdout",
     "output_type": "stream",
     "text": [
      "# writing subsets/living_9-098-000004.tar 6643 1.0 GB 26572\n"
     ]
    },
    {
     "name": "stderr",
     "output_type": "stream",
     "text": [
      "9105000\n",
      "9106000\n",
      "9107000\n",
      "9108000\n",
      "9109000\n",
      "9110000\n",
      "9111000\n"
     ]
    },
    {
     "name": "stdout",
     "output_type": "stream",
     "text": [
      "# writing subsets/living_9-098-000005.tar 6643 1.0 GB 33215\n"
     ]
    },
    {
     "name": "stderr",
     "output_type": "stream",
     "text": [
      "9112000\n",
      "9113000\n",
      "9114000\n",
      "9115000\n",
      "9116000\n",
      "9117000\n"
     ]
    },
    {
     "name": "stdout",
     "output_type": "stream",
     "text": [
      "# writing subsets/living_9-098-000006.tar 6643 1.0 GB 39858\n"
     ]
    },
    {
     "name": "stderr",
     "output_type": "stream",
     "text": [
      "9118000\n",
      "9119000\n",
      "9120000\n",
      "9121000\n",
      "9122000\n",
      "9123000\n",
      "9124000\n"
     ]
    },
    {
     "name": "stdout",
     "output_type": "stream",
     "text": [
      "# writing subsets/living_9-098-000007.tar 6643 1.0 GB 46501\n"
     ]
    },
    {
     "name": "stderr",
     "output_type": "stream",
     "text": [
      "9125000\n",
      "9126000\n",
      "9127000\n",
      "9128000\n",
      "9129000\n",
      "9130000\n",
      "9131000\n"
     ]
    },
    {
     "name": "stdout",
     "output_type": "stream",
     "text": [
      "# writing subsets/living_9-098-000008.tar 6643 1.0 GB 53144\n"
     ]
    },
    {
     "name": "stderr",
     "output_type": "stream",
     "text": [
      "9132000\n",
      "9133000\n",
      "9134000\n",
      "9135000\n",
      "9136000\n",
      "9137000\n"
     ]
    },
    {
     "name": "stdout",
     "output_type": "stream",
     "text": [
      "# writing subsets/living_9-098-000009.tar 6643 1.0 GB 59787\n"
     ]
    },
    {
     "name": "stderr",
     "output_type": "stream",
     "text": [
      "9138000\n",
      "9139000\n",
      "9140000\n",
      "9141000\n",
      "9142000\n",
      "9143000\n",
      "9144000\n"
     ]
    },
    {
     "name": "stdout",
     "output_type": "stream",
     "text": [
      "# writing subsets/living_9-098-000010.tar 6643 1.0 GB 66430\n"
     ]
    },
    {
     "name": "stderr",
     "output_type": "stream",
     "text": [
      "9145000\n",
      "9146000\n",
      "9147000\n",
      "9148000\n",
      "9149000\n",
      "9150000\n",
      "9151000\n"
     ]
    },
    {
     "name": "stdout",
     "output_type": "stream",
     "text": [
      "# writing subsets/living_9-098-000011.tar 6643 1.0 GB 73073\n"
     ]
    },
    {
     "name": "stderr",
     "output_type": "stream",
     "text": [
      "9152000\n",
      "9153000\n",
      "9154000\n",
      "9155000\n",
      "9156000\n",
      "9157000\n"
     ]
    },
    {
     "name": "stdout",
     "output_type": "stream",
     "text": [
      "# writing subsets/living_9-098-000012.tar 6643 1.0 GB 79716\n"
     ]
    },
    {
     "name": "stderr",
     "output_type": "stream",
     "text": [
      "9158000\n",
      "9159000\n",
      "9160000\n",
      "9161000\n",
      "9162000\n",
      "9163000\n",
      "9164000\n"
     ]
    },
    {
     "name": "stdout",
     "output_type": "stream",
     "text": [
      "# writing subsets/living_9-098-000013.tar 6643 1.0 GB 86359\n"
     ]
    },
    {
     "name": "stderr",
     "output_type": "stream",
     "text": [
      "9165000\n",
      "9166000\n",
      "9167000\n",
      "9168000\n",
      "9169000\n",
      "9170000\n"
     ]
    },
    {
     "name": "stdout",
     "output_type": "stream",
     "text": [
      "# writing subsets/living_9-099-000000.tar 0 0.0 GB 0\n"
     ]
    },
    {
     "name": "stderr",
     "output_type": "stream",
     "text": [
      "9171000\n",
      "9172000\n",
      "9173000\n",
      "9174000\n",
      "9175000\n",
      "9176000\n",
      "9177000\n"
     ]
    },
    {
     "name": "stdout",
     "output_type": "stream",
     "text": [
      "# writing subsets/living_9-099-000001.tar 6643 1.0 GB 6643\n"
     ]
    },
    {
     "name": "stderr",
     "output_type": "stream",
     "text": [
      "9178000\n",
      "9179000\n",
      "9180000\n",
      "9181000\n",
      "9182000\n",
      "9183000\n"
     ]
    },
    {
     "name": "stdout",
     "output_type": "stream",
     "text": [
      "# writing subsets/living_9-099-000002.tar 6643 1.0 GB 13286\n"
     ]
    },
    {
     "name": "stderr",
     "output_type": "stream",
     "text": [
      "9184000\n",
      "9185000\n",
      "9186000\n",
      "9187000\n",
      "9188000\n",
      "9189000\n",
      "9190000\n"
     ]
    },
    {
     "name": "stdout",
     "output_type": "stream",
     "text": [
      "# writing subsets/living_9-099-000003.tar 6643 1.0 GB 19929\n"
     ]
    },
    {
     "name": "stderr",
     "output_type": "stream",
     "text": [
      "9191000\n",
      "9192000\n",
      "9193000\n",
      "9194000\n",
      "9195000\n",
      "9196000\n",
      "9197000\n"
     ]
    },
    {
     "name": "stdout",
     "output_type": "stream",
     "text": [
      "# writing subsets/living_9-099-000004.tar 6643 1.0 GB 26572\n"
     ]
    },
    {
     "name": "stderr",
     "output_type": "stream",
     "text": [
      "9198000\n",
      "9199000\n",
      "9200000\n",
      "9201000\n",
      "9202000\n",
      "9203000\n"
     ]
    },
    {
     "name": "stdout",
     "output_type": "stream",
     "text": [
      "# writing subsets/living_9-099-000005.tar 6643 1.0 GB 33215\n"
     ]
    },
    {
     "name": "stderr",
     "output_type": "stream",
     "text": [
      "9204000\n",
      "9205000\n",
      "9206000\n",
      "9207000\n",
      "9208000\n",
      "9209000\n",
      "9210000\n"
     ]
    },
    {
     "name": "stdout",
     "output_type": "stream",
     "text": [
      "# writing subsets/living_9-099-000006.tar 6643 1.0 GB 39858\n"
     ]
    },
    {
     "name": "stderr",
     "output_type": "stream",
     "text": [
      "9211000\n",
      "9212000\n",
      "9213000\n",
      "9214000\n",
      "9215000\n",
      "9216000\n",
      "9217000\n"
     ]
    },
    {
     "name": "stdout",
     "output_type": "stream",
     "text": [
      "# writing subsets/living_9-099-000007.tar 6643 1.0 GB 46501\n"
     ]
    },
    {
     "name": "stderr",
     "output_type": "stream",
     "text": [
      "9218000\n",
      "9219000\n",
      "9220000\n",
      "9221000\n",
      "9222000\n",
      "9223000\n"
     ]
    },
    {
     "name": "stdout",
     "output_type": "stream",
     "text": [
      "# writing subsets/living_9-099-000008.tar 6643 1.0 GB 53144\n"
     ]
    },
    {
     "name": "stderr",
     "output_type": "stream",
     "text": [
      "9224000\n",
      "9225000\n",
      "9226000\n",
      "9227000\n",
      "9228000\n",
      "9229000\n",
      "9230000\n"
     ]
    },
    {
     "name": "stdout",
     "output_type": "stream",
     "text": [
      "# writing subsets/living_9-099-000009.tar 6643 1.0 GB 59787\n"
     ]
    },
    {
     "name": "stderr",
     "output_type": "stream",
     "text": [
      "9231000\n",
      "9232000\n",
      "9233000\n",
      "9234000\n",
      "9235000\n",
      "9236000\n"
     ]
    },
    {
     "name": "stdout",
     "output_type": "stream",
     "text": [
      "# writing subsets/living_9-099-000010.tar 6643 1.0 GB 66430\n"
     ]
    },
    {
     "name": "stderr",
     "output_type": "stream",
     "text": [
      "9237000\n",
      "9238000\n",
      "9239000\n",
      "9240000\n",
      "9241000\n",
      "9242000\n",
      "9243000\n"
     ]
    },
    {
     "name": "stdout",
     "output_type": "stream",
     "text": [
      "# writing subsets/living_9-099-000011.tar 6643 1.0 GB 73073\n"
     ]
    },
    {
     "name": "stderr",
     "output_type": "stream",
     "text": [
      "9244000\n",
      "9245000\n",
      "9246000\n",
      "9247000\n",
      "9248000\n",
      "9249000\n",
      "9250000\n"
     ]
    },
    {
     "name": "stdout",
     "output_type": "stream",
     "text": [
      "# writing subsets/living_9-099-000012.tar 6643 1.0 GB 79716\n"
     ]
    },
    {
     "name": "stderr",
     "output_type": "stream",
     "text": [
      "9251000\n",
      "9252000\n",
      "9253000\n",
      "9254000\n",
      "9255000\n",
      "9256000\n"
     ]
    },
    {
     "name": "stdout",
     "output_type": "stream",
     "text": [
      "# writing subsets/living_9-099-000013.tar 6643 1.0 GB 86359\n"
     ]
    },
    {
     "name": "stderr",
     "output_type": "stream",
     "text": [
      "9257000\n",
      "9258000\n",
      "9259000\n",
      "9260000\n",
      "9261000\n",
      "9262000\n",
      "9263000\n"
     ]
    }
   ],
   "source": [
    "write_subset_aug(\"living_9\", augments=100)"
   ]
  },
  {
   "cell_type": "code",
   "execution_count": null,
   "metadata": {},
   "outputs": [],
   "source": []
  }
 ],
 "metadata": {
  "kernelspec": {
   "display_name": "Python 3",
   "language": "python",
   "name": "python3"
  },
  "language_info": {
   "codemirror_mode": {
    "name": "ipython",
    "version": 3
   },
   "file_extension": ".py",
   "mimetype": "text/x-python",
   "name": "python",
   "nbconvert_exporter": "python",
   "pygments_lexer": "ipython3",
   "version": "3.6.9"
  }
 },
 "nbformat": 4,
 "nbformat_minor": 4
}
